{
  "nbformat": 4,
  "nbformat_minor": 0,
  "metadata": {
    "colab": {
      "name": "competitive_data_science_predict_future_sales.ipynb",
      "provenance": [],
      "collapsed_sections": [],
      "include_colab_link": true
    },
    "kernelspec": {
      "display_name": "Python 3",
      "name": "python3"
    },
    "language_info": {
      "name": "python"
    }
  },
  "cells": [
    {
      "cell_type": "markdown",
      "metadata": {
        "id": "view-in-github",
        "colab_type": "text"
      },
      "source": [
        "<a href=\"https://colab.research.google.com/github/aksha1234/akshay-/blob/master/competitive_data_science_predict_future_sales.ipynb\" target=\"_parent\"><img src=\"https://colab.research.google.com/assets/colab-badge.svg\" alt=\"Open In Colab\"/></a>"
      ]
    },
    {
      "cell_type": "code",
      "metadata": {
        "id": "uXadRdOaQHG1"
      },
      "source": [
        "# Jovian Commit Essentials\n",
        "# Please retain and execute this cell without modifying the contents for `jovian.commit` to work\n",
        "!pip install jovian --upgrade -q\n",
        "import jovian\n",
        "jovian.set_project('competitive-data-science-predict-future-sales')\n",
        "jovian.set_colab_id('12A9ZpIPYJBn4VX0y2KGscyn9ZFgTKnT1')"
      ],
      "execution_count": null,
      "outputs": []
    },
    {
      "cell_type": "markdown",
      "metadata": {
        "id": "BsVZAX1kMnya"
      },
      "source": [
        "We are asking you to predict total sales for every product and store in the next month. By solving this competition you will be able to apply and enhance your data science skills.\n",
        "\n",
        "You are provided with daily historical sales data. The task is to forecast the total amount of products sold in every shop for the test set. Note that the list of shops and products slightly changes every month. Creating a robust model that can handle such situations is part of the challenge."
      ]
    },
    {
      "cell_type": "markdown",
      "metadata": {
        "id": "IbX4_kVxMuZ2"
      },
      "source": [
        "**Data fields description:**\n",
        "- ID - an Id that represents a (Shop, Item) tuple within the test set\n",
        "- shop_id - unique identifier of a shop\n",
        "- item_id - unique identifier of a product\n",
        "- item_category_id - unique identifier of item category\n",
        "- date_block_num - a consecutive month number, used for convenience. January 2013 is 0, February 2013 is 1,..., October 2015 is 33\n",
        "- date - date in format dd/mm/yyyy\n",
        "- item_cnt_day - number of products sold. You are predicting a monthly amount of this measure\n",
        "- item_price - current price of an item\n",
        "- item_name - name of item\n",
        "- shop_name - name of shop\n",
        "- item_category_name - name of item category"
      ]
    },
    {
      "cell_type": "markdown",
      "metadata": {
        "id": "CZYYGCYEM4R1"
      },
      "source": [
        "## Dependencies"
      ]
    },
    {
      "cell_type": "code",
      "metadata": {
        "id": "tyFeeGLKMfSf"
      },
      "source": [
        "import datetime\n",
        "import numpy as np\n",
        "import pandas as pd\n",
        "import matplotlib.pyplot as plt\n",
        "import matplotlib\n",
        "import plotly.express as px\n",
        "!pip install opendatasets --upgrade --q\n",
        "import opendatasets as od\n",
        "import os\n",
        "import seaborn as sns\n",
        "\n",
        "%matplotlib inline\n",
        "sns.set_style('darkgrid')"
      ],
      "execution_count": null,
      "outputs": []
    },
    {
      "cell_type": "code",
      "metadata": {
        "id": "dcvoywFoM9x1"
      },
      "source": [
        "import warnings"
      ],
      "execution_count": null,
      "outputs": []
    },
    {
      "cell_type": "code",
      "metadata": {
        "id": "lfSLeE36N_yC"
      },
      "source": [
        "warnings.filterwarnings('ignore')"
      ],
      "execution_count": null,
      "outputs": []
    },
    {
      "cell_type": "markdown",
      "metadata": {
        "id": "oFjFr232OL6p"
      },
      "source": [
        "## Loading the data"
      ]
    },
    {
      "cell_type": "code",
      "metadata": {
        "id": "ck8xv7uvOHc1"
      },
      "source": [
        "url='https://www.kaggle.com/c/competitive-data-science-predict-future-sales/data'"
      ],
      "execution_count": null,
      "outputs": []
    },
    {
      "cell_type": "code",
      "metadata": {
        "colab": {
          "base_uri": "https://localhost:8080/"
        },
        "id": "_T_PgLTEOZuL",
        "outputId": "8954f83e-d2b8-4933-9a7a-0f726fbce40a"
      },
      "source": [
        "od.download(url)"
      ],
      "execution_count": null,
      "outputs": [
        {
          "output_type": "stream",
          "text": [
            "Please provide your Kaggle credentials to download this dataset. Learn more: http://bit.ly/kaggle-creds\n",
            "Your Kaggle username: akshaykadwe\n",
            "Your Kaggle Key: ··········\n"
          ],
          "name": "stdout"
        },
        {
          "output_type": "stream",
          "text": [
            "\r  0%|          | 0.00/15.1M [00:00<?, ?B/s]"
          ],
          "name": "stderr"
        },
        {
          "output_type": "stream",
          "text": [
            "Downloading competitive-data-science-predict-future-sales.zip to ./competitive-data-science-predict-future-sales\n"
          ],
          "name": "stdout"
        },
        {
          "output_type": "stream",
          "text": [
            "100%|██████████| 15.1M/15.1M [00:00<00:00, 22.5MB/s]\n"
          ],
          "name": "stderr"
        },
        {
          "output_type": "stream",
          "text": [
            "\n",
            "Extracting archive ./competitive-data-science-predict-future-sales/competitive-data-science-predict-future-sales.zip to ./competitive-data-science-predict-future-sales\n"
          ],
          "name": "stdout"
        }
      ]
    },
    {
      "cell_type": "code",
      "metadata": {
        "colab": {
          "base_uri": "https://localhost:8080/"
        },
        "id": "J0Mtyh6GOcAo",
        "outputId": "0b32bd25-057a-4035-cbb9-11791eb5cad5"
      },
      "source": [
        "os.listdir('competitive-data-science-predict-future-sales')"
      ],
      "execution_count": null,
      "outputs": [
        {
          "output_type": "execute_result",
          "data": {
            "text/plain": [
              "['sample_submission.csv',\n",
              " 'sales_train.csv',\n",
              " 'test.csv',\n",
              " 'shops.csv',\n",
              " 'item_categories.csv',\n",
              " 'items.csv']"
            ]
          },
          "metadata": {
            "tags": []
          },
          "execution_count": 8
        }
      ]
    },
    {
      "cell_type": "code",
      "metadata": {
        "id": "Qh2WCZe0OkmV"
      },
      "source": [
        "test=pd.read_csv('competitive-data-science-predict-future-sales/test.csv')\n",
        "shops=pd.read_csv('competitive-data-science-predict-future-sales/shops.csv')\n",
        "items=pd.read_csv('competitive-data-science-predict-future-sales/items.csv')\n",
        "item_categories=pd.read_csv('competitive-data-science-predict-future-sales/item_categories.csv')\n",
        "sales=pd.read_csv('competitive-data-science-predict-future-sales/sales_train.csv')"
      ],
      "execution_count": null,
      "outputs": []
    },
    {
      "cell_type": "code",
      "metadata": {
        "colab": {
          "base_uri": "https://localhost:8080/",
          "height": 408
        },
        "id": "fTdD1Bg1QMJI",
        "outputId": "a9104729-185b-4c25-fc4d-48b271ca9027"
      },
      "source": [
        "items"
      ],
      "execution_count": null,
      "outputs": [
        {
          "output_type": "execute_result",
          "data": {
            "text/html": [
              "<div>\n",
              "<style scoped>\n",
              "    .dataframe tbody tr th:only-of-type {\n",
              "        vertical-align: middle;\n",
              "    }\n",
              "\n",
              "    .dataframe tbody tr th {\n",
              "        vertical-align: top;\n",
              "    }\n",
              "\n",
              "    .dataframe thead th {\n",
              "        text-align: right;\n",
              "    }\n",
              "</style>\n",
              "<table border=\"1\" class=\"dataframe\">\n",
              "  <thead>\n",
              "    <tr style=\"text-align: right;\">\n",
              "      <th></th>\n",
              "      <th>item_name</th>\n",
              "      <th>item_id</th>\n",
              "      <th>item_category_id</th>\n",
              "    </tr>\n",
              "  </thead>\n",
              "  <tbody>\n",
              "    <tr>\n",
              "      <th>0</th>\n",
              "      <td>! ВО ВЛАСТИ НАВАЖДЕНИЯ (ПЛАСТ.)         D</td>\n",
              "      <td>0</td>\n",
              "      <td>40</td>\n",
              "    </tr>\n",
              "    <tr>\n",
              "      <th>1</th>\n",
              "      <td>!ABBYY FineReader 12 Professional Edition Full...</td>\n",
              "      <td>1</td>\n",
              "      <td>76</td>\n",
              "    </tr>\n",
              "    <tr>\n",
              "      <th>2</th>\n",
              "      <td>***В ЛУЧАХ СЛАВЫ   (UNV)                    D</td>\n",
              "      <td>2</td>\n",
              "      <td>40</td>\n",
              "    </tr>\n",
              "    <tr>\n",
              "      <th>3</th>\n",
              "      <td>***ГОЛУБАЯ ВОЛНА  (Univ)                      D</td>\n",
              "      <td>3</td>\n",
              "      <td>40</td>\n",
              "    </tr>\n",
              "    <tr>\n",
              "      <th>4</th>\n",
              "      <td>***КОРОБКА (СТЕКЛО)                       D</td>\n",
              "      <td>4</td>\n",
              "      <td>40</td>\n",
              "    </tr>\n",
              "    <tr>\n",
              "      <th>...</th>\n",
              "      <td>...</td>\n",
              "      <td>...</td>\n",
              "      <td>...</td>\n",
              "    </tr>\n",
              "    <tr>\n",
              "      <th>22165</th>\n",
              "      <td>Ядерный титбит 2 [PC, Цифровая версия]</td>\n",
              "      <td>22165</td>\n",
              "      <td>31</td>\n",
              "    </tr>\n",
              "    <tr>\n",
              "      <th>22166</th>\n",
              "      <td>Язык запросов 1С:Предприятия  [Цифровая версия]</td>\n",
              "      <td>22166</td>\n",
              "      <td>54</td>\n",
              "    </tr>\n",
              "    <tr>\n",
              "      <th>22167</th>\n",
              "      <td>Язык запросов 1С:Предприятия 8 (+CD). Хрустале...</td>\n",
              "      <td>22167</td>\n",
              "      <td>49</td>\n",
              "    </tr>\n",
              "    <tr>\n",
              "      <th>22168</th>\n",
              "      <td>Яйцо для Little Inu</td>\n",
              "      <td>22168</td>\n",
              "      <td>62</td>\n",
              "    </tr>\n",
              "    <tr>\n",
              "      <th>22169</th>\n",
              "      <td>Яйцо дракона (Игра престолов)</td>\n",
              "      <td>22169</td>\n",
              "      <td>69</td>\n",
              "    </tr>\n",
              "  </tbody>\n",
              "</table>\n",
              "<p>22170 rows × 3 columns</p>\n",
              "</div>"
            ],
            "text/plain": [
              "                                               item_name  ...  item_category_id\n",
              "0              ! ВО ВЛАСТИ НАВАЖДЕНИЯ (ПЛАСТ.)         D  ...                40\n",
              "1      !ABBYY FineReader 12 Professional Edition Full...  ...                76\n",
              "2          ***В ЛУЧАХ СЛАВЫ   (UNV)                    D  ...                40\n",
              "3        ***ГОЛУБАЯ ВОЛНА  (Univ)                      D  ...                40\n",
              "4            ***КОРОБКА (СТЕКЛО)                       D  ...                40\n",
              "...                                                  ...  ...               ...\n",
              "22165             Ядерный титбит 2 [PC, Цифровая версия]  ...                31\n",
              "22166    Язык запросов 1С:Предприятия  [Цифровая версия]  ...                54\n",
              "22167  Язык запросов 1С:Предприятия 8 (+CD). Хрустале...  ...                49\n",
              "22168                                Яйцо для Little Inu  ...                62\n",
              "22169                      Яйцо дракона (Игра престолов)  ...                69\n",
              "\n",
              "[22170 rows x 3 columns]"
            ]
          },
          "metadata": {
            "tags": []
          },
          "execution_count": 10
        }
      ]
    },
    {
      "cell_type": "code",
      "metadata": {
        "colab": {
          "base_uri": "https://localhost:8080/",
          "height": 408
        },
        "id": "52a5uPowQQ7c",
        "outputId": "c459e887-a3ef-421d-eeca-1d19adebfd46"
      },
      "source": [
        "item_categories"
      ],
      "execution_count": null,
      "outputs": [
        {
          "output_type": "execute_result",
          "data": {
            "text/html": [
              "<div>\n",
              "<style scoped>\n",
              "    .dataframe tbody tr th:only-of-type {\n",
              "        vertical-align: middle;\n",
              "    }\n",
              "\n",
              "    .dataframe tbody tr th {\n",
              "        vertical-align: top;\n",
              "    }\n",
              "\n",
              "    .dataframe thead th {\n",
              "        text-align: right;\n",
              "    }\n",
              "</style>\n",
              "<table border=\"1\" class=\"dataframe\">\n",
              "  <thead>\n",
              "    <tr style=\"text-align: right;\">\n",
              "      <th></th>\n",
              "      <th>item_category_name</th>\n",
              "      <th>item_category_id</th>\n",
              "    </tr>\n",
              "  </thead>\n",
              "  <tbody>\n",
              "    <tr>\n",
              "      <th>0</th>\n",
              "      <td>PC - Гарнитуры/Наушники</td>\n",
              "      <td>0</td>\n",
              "    </tr>\n",
              "    <tr>\n",
              "      <th>1</th>\n",
              "      <td>Аксессуары - PS2</td>\n",
              "      <td>1</td>\n",
              "    </tr>\n",
              "    <tr>\n",
              "      <th>2</th>\n",
              "      <td>Аксессуары - PS3</td>\n",
              "      <td>2</td>\n",
              "    </tr>\n",
              "    <tr>\n",
              "      <th>3</th>\n",
              "      <td>Аксессуары - PS4</td>\n",
              "      <td>3</td>\n",
              "    </tr>\n",
              "    <tr>\n",
              "      <th>4</th>\n",
              "      <td>Аксессуары - PSP</td>\n",
              "      <td>4</td>\n",
              "    </tr>\n",
              "    <tr>\n",
              "      <th>...</th>\n",
              "      <td>...</td>\n",
              "      <td>...</td>\n",
              "    </tr>\n",
              "    <tr>\n",
              "      <th>79</th>\n",
              "      <td>Служебные</td>\n",
              "      <td>79</td>\n",
              "    </tr>\n",
              "    <tr>\n",
              "      <th>80</th>\n",
              "      <td>Служебные - Билеты</td>\n",
              "      <td>80</td>\n",
              "    </tr>\n",
              "    <tr>\n",
              "      <th>81</th>\n",
              "      <td>Чистые носители (шпиль)</td>\n",
              "      <td>81</td>\n",
              "    </tr>\n",
              "    <tr>\n",
              "      <th>82</th>\n",
              "      <td>Чистые носители (штучные)</td>\n",
              "      <td>82</td>\n",
              "    </tr>\n",
              "    <tr>\n",
              "      <th>83</th>\n",
              "      <td>Элементы питания</td>\n",
              "      <td>83</td>\n",
              "    </tr>\n",
              "  </tbody>\n",
              "</table>\n",
              "<p>84 rows × 2 columns</p>\n",
              "</div>"
            ],
            "text/plain": [
              "           item_category_name  item_category_id\n",
              "0     PC - Гарнитуры/Наушники                 0\n",
              "1            Аксессуары - PS2                 1\n",
              "2            Аксессуары - PS3                 2\n",
              "3            Аксессуары - PS4                 3\n",
              "4            Аксессуары - PSP                 4\n",
              "..                        ...               ...\n",
              "79                  Служебные                79\n",
              "80         Служебные - Билеты                80\n",
              "81    Чистые носители (шпиль)                81\n",
              "82  Чистые носители (штучные)                82\n",
              "83           Элементы питания                83\n",
              "\n",
              "[84 rows x 2 columns]"
            ]
          },
          "metadata": {
            "tags": []
          },
          "execution_count": 11
        }
      ]
    },
    {
      "cell_type": "markdown",
      "metadata": {
        "id": "nFm2qThjPZr1"
      },
      "source": [
        "## Join the datasets"
      ]
    },
    {
      "cell_type": "code",
      "metadata": {
        "id": "fUyEFdcpPVCr"
      },
      "source": [
        "train=sales.join(items,on='item_id',rsuffix='_').join(shops,on='shop_id',rsuffix='_').join(item_categories,on='item_category_id',rsuffix='_').drop(columns=['shop_id_','item_id_','item_category_id_'],axis=1)"
      ],
      "execution_count": null,
      "outputs": []
    },
    {
      "cell_type": "code",
      "metadata": {
        "colab": {
          "base_uri": "https://localhost:8080/",
          "height": 408
        },
        "id": "5FL3ytFDTFfv",
        "outputId": "62c57225-7a5e-434a-8b68-ad03a1ae2a19"
      },
      "source": [
        "train"
      ],
      "execution_count": null,
      "outputs": [
        {
          "output_type": "execute_result",
          "data": {
            "text/html": [
              "<div>\n",
              "<style scoped>\n",
              "    .dataframe tbody tr th:only-of-type {\n",
              "        vertical-align: middle;\n",
              "    }\n",
              "\n",
              "    .dataframe tbody tr th {\n",
              "        vertical-align: top;\n",
              "    }\n",
              "\n",
              "    .dataframe thead th {\n",
              "        text-align: right;\n",
              "    }\n",
              "</style>\n",
              "<table border=\"1\" class=\"dataframe\">\n",
              "  <thead>\n",
              "    <tr style=\"text-align: right;\">\n",
              "      <th></th>\n",
              "      <th>date</th>\n",
              "      <th>date_block_num</th>\n",
              "      <th>shop_id</th>\n",
              "      <th>item_id</th>\n",
              "      <th>item_price</th>\n",
              "      <th>item_cnt_day</th>\n",
              "      <th>item_name</th>\n",
              "      <th>item_category_id</th>\n",
              "      <th>shop_name</th>\n",
              "      <th>item_category_name</th>\n",
              "    </tr>\n",
              "  </thead>\n",
              "  <tbody>\n",
              "    <tr>\n",
              "      <th>0</th>\n",
              "      <td>02.01.2013</td>\n",
              "      <td>0</td>\n",
              "      <td>59</td>\n",
              "      <td>22154</td>\n",
              "      <td>999.00</td>\n",
              "      <td>1.0</td>\n",
              "      <td>ЯВЛЕНИЕ 2012 (BD)</td>\n",
              "      <td>37</td>\n",
              "      <td>Ярославль ТЦ \"Альтаир\"</td>\n",
              "      <td>Кино - Blu-Ray</td>\n",
              "    </tr>\n",
              "    <tr>\n",
              "      <th>1</th>\n",
              "      <td>03.01.2013</td>\n",
              "      <td>0</td>\n",
              "      <td>25</td>\n",
              "      <td>2552</td>\n",
              "      <td>899.00</td>\n",
              "      <td>1.0</td>\n",
              "      <td>DEEP PURPLE  The House Of Blue Light  LP</td>\n",
              "      <td>58</td>\n",
              "      <td>Москва ТРК \"Атриум\"</td>\n",
              "      <td>Музыка - Винил</td>\n",
              "    </tr>\n",
              "    <tr>\n",
              "      <th>2</th>\n",
              "      <td>05.01.2013</td>\n",
              "      <td>0</td>\n",
              "      <td>25</td>\n",
              "      <td>2552</td>\n",
              "      <td>899.00</td>\n",
              "      <td>-1.0</td>\n",
              "      <td>DEEP PURPLE  The House Of Blue Light  LP</td>\n",
              "      <td>58</td>\n",
              "      <td>Москва ТРК \"Атриум\"</td>\n",
              "      <td>Музыка - Винил</td>\n",
              "    </tr>\n",
              "    <tr>\n",
              "      <th>3</th>\n",
              "      <td>06.01.2013</td>\n",
              "      <td>0</td>\n",
              "      <td>25</td>\n",
              "      <td>2554</td>\n",
              "      <td>1709.05</td>\n",
              "      <td>1.0</td>\n",
              "      <td>DEEP PURPLE  Who Do You Think We Are  LP</td>\n",
              "      <td>58</td>\n",
              "      <td>Москва ТРК \"Атриум\"</td>\n",
              "      <td>Музыка - Винил</td>\n",
              "    </tr>\n",
              "    <tr>\n",
              "      <th>4</th>\n",
              "      <td>15.01.2013</td>\n",
              "      <td>0</td>\n",
              "      <td>25</td>\n",
              "      <td>2555</td>\n",
              "      <td>1099.00</td>\n",
              "      <td>1.0</td>\n",
              "      <td>DEEP PURPLE 30 Very Best Of 2CD (Фирм.)</td>\n",
              "      <td>56</td>\n",
              "      <td>Москва ТРК \"Атриум\"</td>\n",
              "      <td>Музыка - CD фирменного производства</td>\n",
              "    </tr>\n",
              "    <tr>\n",
              "      <th>...</th>\n",
              "      <td>...</td>\n",
              "      <td>...</td>\n",
              "      <td>...</td>\n",
              "      <td>...</td>\n",
              "      <td>...</td>\n",
              "      <td>...</td>\n",
              "      <td>...</td>\n",
              "      <td>...</td>\n",
              "      <td>...</td>\n",
              "      <td>...</td>\n",
              "    </tr>\n",
              "    <tr>\n",
              "      <th>2935844</th>\n",
              "      <td>10.10.2015</td>\n",
              "      <td>33</td>\n",
              "      <td>25</td>\n",
              "      <td>7409</td>\n",
              "      <td>299.00</td>\n",
              "      <td>1.0</td>\n",
              "      <td>V/A Nu Jazz Selection (digipack)</td>\n",
              "      <td>55</td>\n",
              "      <td>Москва ТРК \"Атриум\"</td>\n",
              "      <td>Музыка - CD локального производства</td>\n",
              "    </tr>\n",
              "    <tr>\n",
              "      <th>2935845</th>\n",
              "      <td>09.10.2015</td>\n",
              "      <td>33</td>\n",
              "      <td>25</td>\n",
              "      <td>7460</td>\n",
              "      <td>299.00</td>\n",
              "      <td>1.0</td>\n",
              "      <td>V/A The Golden Jazz Collection  1  2CD</td>\n",
              "      <td>55</td>\n",
              "      <td>Москва ТРК \"Атриум\"</td>\n",
              "      <td>Музыка - CD локального производства</td>\n",
              "    </tr>\n",
              "    <tr>\n",
              "      <th>2935846</th>\n",
              "      <td>14.10.2015</td>\n",
              "      <td>33</td>\n",
              "      <td>25</td>\n",
              "      <td>7459</td>\n",
              "      <td>349.00</td>\n",
              "      <td>1.0</td>\n",
              "      <td>V/A The Best Of The 3 Tenors</td>\n",
              "      <td>55</td>\n",
              "      <td>Москва ТРК \"Атриум\"</td>\n",
              "      <td>Музыка - CD локального производства</td>\n",
              "    </tr>\n",
              "    <tr>\n",
              "      <th>2935847</th>\n",
              "      <td>22.10.2015</td>\n",
              "      <td>33</td>\n",
              "      <td>25</td>\n",
              "      <td>7440</td>\n",
              "      <td>299.00</td>\n",
              "      <td>1.0</td>\n",
              "      <td>V/A Relax Collection  Planet MP3 (mp3-CD) (jewel)</td>\n",
              "      <td>57</td>\n",
              "      <td>Москва ТРК \"Атриум\"</td>\n",
              "      <td>Музыка - MP3</td>\n",
              "    </tr>\n",
              "    <tr>\n",
              "      <th>2935848</th>\n",
              "      <td>03.10.2015</td>\n",
              "      <td>33</td>\n",
              "      <td>25</td>\n",
              "      <td>7460</td>\n",
              "      <td>299.00</td>\n",
              "      <td>1.0</td>\n",
              "      <td>V/A The Golden Jazz Collection  1  2CD</td>\n",
              "      <td>55</td>\n",
              "      <td>Москва ТРК \"Атриум\"</td>\n",
              "      <td>Музыка - CD локального производства</td>\n",
              "    </tr>\n",
              "  </tbody>\n",
              "</table>\n",
              "<p>2935849 rows × 10 columns</p>\n",
              "</div>"
            ],
            "text/plain": [
              "               date  ...                   item_category_name\n",
              "0        02.01.2013  ...                       Кино - Blu-Ray\n",
              "1        03.01.2013  ...                       Музыка - Винил\n",
              "2        05.01.2013  ...                       Музыка - Винил\n",
              "3        06.01.2013  ...                       Музыка - Винил\n",
              "4        15.01.2013  ...  Музыка - CD фирменного производства\n",
              "...             ...  ...                                  ...\n",
              "2935844  10.10.2015  ...  Музыка - CD локального производства\n",
              "2935845  09.10.2015  ...  Музыка - CD локального производства\n",
              "2935846  14.10.2015  ...  Музыка - CD локального производства\n",
              "2935847  22.10.2015  ...                         Музыка - MP3\n",
              "2935848  03.10.2015  ...  Музыка - CD локального производства\n",
              "\n",
              "[2935849 rows x 10 columns]"
            ]
          },
          "metadata": {
            "tags": []
          },
          "execution_count": 13
        }
      ]
    },
    {
      "cell_type": "markdown",
      "metadata": {
        "id": "DfO2yoXEXDYW"
      },
      "source": [
        "## Let's take a look at the raw data"
      ]
    },
    {
      "cell_type": "code",
      "metadata": {
        "colab": {
          "base_uri": "https://localhost:8080/"
        },
        "id": "dufWbrLXXDHI",
        "outputId": "658b2d39-61db-4a31-8c4d-e4c00f414c9c"
      },
      "source": [
        "print(' The Train rows : {} \\n Train columns :{}'.format(train.shape[0],train.shape[1]))"
      ],
      "execution_count": null,
      "outputs": [
        {
          "output_type": "stream",
          "text": [
            " The Train rows : 2935849 \n",
            " Train columns :10\n"
          ],
          "name": "stdout"
        }
      ]
    },
    {
      "cell_type": "code",
      "metadata": {
        "colab": {
          "base_uri": "https://localhost:8080/",
          "height": 290
        },
        "id": "QdLUwzRDUUMQ",
        "outputId": "d9fac9f3-d043-4fd7-d4e0-027e00c5a3a5"
      },
      "source": [
        "train.describe([0.25,0.5,0.75])"
      ],
      "execution_count": null,
      "outputs": [
        {
          "output_type": "execute_result",
          "data": {
            "text/html": [
              "<div>\n",
              "<style scoped>\n",
              "    .dataframe tbody tr th:only-of-type {\n",
              "        vertical-align: middle;\n",
              "    }\n",
              "\n",
              "    .dataframe tbody tr th {\n",
              "        vertical-align: top;\n",
              "    }\n",
              "\n",
              "    .dataframe thead th {\n",
              "        text-align: right;\n",
              "    }\n",
              "</style>\n",
              "<table border=\"1\" class=\"dataframe\">\n",
              "  <thead>\n",
              "    <tr style=\"text-align: right;\">\n",
              "      <th></th>\n",
              "      <th>date_block_num</th>\n",
              "      <th>shop_id</th>\n",
              "      <th>item_id</th>\n",
              "      <th>item_price</th>\n",
              "      <th>item_cnt_day</th>\n",
              "      <th>item_category_id</th>\n",
              "    </tr>\n",
              "  </thead>\n",
              "  <tbody>\n",
              "    <tr>\n",
              "      <th>count</th>\n",
              "      <td>2.935849e+06</td>\n",
              "      <td>2.935849e+06</td>\n",
              "      <td>2.935849e+06</td>\n",
              "      <td>2.935849e+06</td>\n",
              "      <td>2.935849e+06</td>\n",
              "      <td>2.935849e+06</td>\n",
              "    </tr>\n",
              "    <tr>\n",
              "      <th>mean</th>\n",
              "      <td>1.456991e+01</td>\n",
              "      <td>3.300173e+01</td>\n",
              "      <td>1.019723e+04</td>\n",
              "      <td>8.908532e+02</td>\n",
              "      <td>1.242641e+00</td>\n",
              "      <td>4.000138e+01</td>\n",
              "    </tr>\n",
              "    <tr>\n",
              "      <th>std</th>\n",
              "      <td>9.422988e+00</td>\n",
              "      <td>1.622697e+01</td>\n",
              "      <td>6.324297e+03</td>\n",
              "      <td>1.729800e+03</td>\n",
              "      <td>2.618834e+00</td>\n",
              "      <td>1.710076e+01</td>\n",
              "    </tr>\n",
              "    <tr>\n",
              "      <th>min</th>\n",
              "      <td>0.000000e+00</td>\n",
              "      <td>0.000000e+00</td>\n",
              "      <td>0.000000e+00</td>\n",
              "      <td>-1.000000e+00</td>\n",
              "      <td>-2.200000e+01</td>\n",
              "      <td>0.000000e+00</td>\n",
              "    </tr>\n",
              "    <tr>\n",
              "      <th>25%</th>\n",
              "      <td>7.000000e+00</td>\n",
              "      <td>2.200000e+01</td>\n",
              "      <td>4.476000e+03</td>\n",
              "      <td>2.490000e+02</td>\n",
              "      <td>1.000000e+00</td>\n",
              "      <td>2.800000e+01</td>\n",
              "    </tr>\n",
              "    <tr>\n",
              "      <th>50%</th>\n",
              "      <td>1.400000e+01</td>\n",
              "      <td>3.100000e+01</td>\n",
              "      <td>9.343000e+03</td>\n",
              "      <td>3.990000e+02</td>\n",
              "      <td>1.000000e+00</td>\n",
              "      <td>4.000000e+01</td>\n",
              "    </tr>\n",
              "    <tr>\n",
              "      <th>75%</th>\n",
              "      <td>2.300000e+01</td>\n",
              "      <td>4.700000e+01</td>\n",
              "      <td>1.568400e+04</td>\n",
              "      <td>9.990000e+02</td>\n",
              "      <td>1.000000e+00</td>\n",
              "      <td>5.500000e+01</td>\n",
              "    </tr>\n",
              "    <tr>\n",
              "      <th>max</th>\n",
              "      <td>3.300000e+01</td>\n",
              "      <td>5.900000e+01</td>\n",
              "      <td>2.216900e+04</td>\n",
              "      <td>3.079800e+05</td>\n",
              "      <td>2.169000e+03</td>\n",
              "      <td>8.300000e+01</td>\n",
              "    </tr>\n",
              "  </tbody>\n",
              "</table>\n",
              "</div>"
            ],
            "text/plain": [
              "       date_block_num       shop_id  ...  item_cnt_day  item_category_id\n",
              "count    2.935849e+06  2.935849e+06  ...  2.935849e+06      2.935849e+06\n",
              "mean     1.456991e+01  3.300173e+01  ...  1.242641e+00      4.000138e+01\n",
              "std      9.422988e+00  1.622697e+01  ...  2.618834e+00      1.710076e+01\n",
              "min      0.000000e+00  0.000000e+00  ... -2.200000e+01      0.000000e+00\n",
              "25%      7.000000e+00  2.200000e+01  ...  1.000000e+00      2.800000e+01\n",
              "50%      1.400000e+01  3.100000e+01  ...  1.000000e+00      4.000000e+01\n",
              "75%      2.300000e+01  4.700000e+01  ...  1.000000e+00      5.500000e+01\n",
              "max      3.300000e+01  5.900000e+01  ...  2.169000e+03      8.300000e+01\n",
              "\n",
              "[8 rows x 6 columns]"
            ]
          },
          "metadata": {
            "tags": []
          },
          "execution_count": 15
        }
      ]
    },
    {
      "cell_type": "markdown",
      "metadata": {
        "id": "VJGH_l0UXmOZ"
      },
      "source": [
        "## Time period of the dataset"
      ]
    },
    {
      "cell_type": "code",
      "metadata": {
        "colab": {
          "base_uri": "https://localhost:8080/"
        },
        "id": "zlFlvsN_Zzqx",
        "outputId": "4eac6b50-49b9-46cd-dcf2-de5393a15c28"
      },
      "source": [
        "print('Min date from train set: %s' % train['date'].min())\n",
        "print('Max date from train set: %s' % train['date'].max())"
      ],
      "execution_count": null,
      "outputs": [
        {
          "output_type": "stream",
          "text": [
            "Min date from train set: 01.01.2013\n",
            "Max date from train set: 31.12.2014\n"
          ],
          "name": "stdout"
        }
      ]
    },
    {
      "cell_type": "markdown",
      "metadata": {
        "id": "-ML5-V5zaWYQ"
      },
      "source": [
        "## Data leakages\n",
        "\n",
        "About data leakages I'll only be using only the \"shop_id\" and \"item_id\" that appear on the test set."
      ]
    },
    {
      "cell_type": "code",
      "metadata": {
        "id": "i6bFvjcwlvsK"
      },
      "source": [
        "test_shop_ids=test.shop_id.unique()\n",
        "test_item_ids=test.item_id.unique()"
      ],
      "execution_count": null,
      "outputs": []
    },
    {
      "cell_type": "code",
      "metadata": {
        "id": "fv4qeWrgZ66p"
      },
      "source": [
        "# Only shops that exist in test set.\n",
        "lk_train = train[train['shop_id'].isin(test_shop_ids)]## isin() function defines the dataframe each element whetehr contained in the list values\n",
        "# Only items that exist in test set.\n",
        "lk_train = lk_train[lk_train['item_id'].isin(test_item_ids)]"
      ],
      "execution_count": null,
      "outputs": []
    },
    {
      "cell_type": "code",
      "metadata": {
        "colab": {
          "base_uri": "https://localhost:8080/"
        },
        "id": "5t7OlUE8dOjQ",
        "outputId": "2d784a02-4349-4efe-ad07-3c7ade336b8b"
      },
      "source": [
        "print('Data set size before leaking :',train.shape[0])\n",
        "print('Data set size after leaking :',lk_train.shape[0])"
      ],
      "execution_count": null,
      "outputs": [
        {
          "output_type": "stream",
          "text": [
            "Data set size before leaking : 2935849\n",
            "Data set size after leaking : 1224439\n"
          ],
          "name": "stdout"
        }
      ]
    },
    {
      "cell_type": "markdown",
      "metadata": {
        "id": "axsSfr5lnawr"
      },
      "source": [
        "## Data cleaning "
      ]
    },
    {
      "cell_type": "markdown",
      "metadata": {
        "id": "v2H03MqHnc4c"
      },
      "source": [
        "Only records with \"item_price\" > 0."
      ]
    },
    {
      "cell_type": "markdown",
      "metadata": {
        "id": "wb4FOpAzoayJ"
      },
      "source": [
        "`query()` option is used for we can find which row is satisfying the expression . also remember to use full expression with in the quotes including string and logical character."
      ]
    },
    {
      "cell_type": "code",
      "metadata": {
        "id": "yE3ngycJmuL2"
      },
      "source": [
        "train=train.query('item_price>0')"
      ],
      "execution_count": null,
      "outputs": []
    },
    {
      "cell_type": "markdown",
      "metadata": {
        "id": "-G_Uc9IuovvQ"
      },
      "source": [
        "## Data preprocessing\n",
        "- I'm dropping the text features since I won't be doing anything with them.\n",
        "- We are asked to predict total sales for every product and store in the next month, and our data is given by day, so let's remove unwanted columns and aggregate the data by month"
      ]
    },
    {
      "cell_type": "code",
      "metadata": {
        "id": "2F-zNlRMnswE"
      },
      "source": [
        "# Select only useful features.\n",
        "train_monthly=lk_train[['date','date_block_num','shop_id','item_category_id','item_id','item_price','item_cnt_day']]"
      ],
      "execution_count": null,
      "outputs": []
    },
    {
      "cell_type": "code",
      "metadata": {
        "colab": {
          "base_uri": "https://localhost:8080/",
          "height": 408
        },
        "id": "J8yIBTXWpPQS",
        "outputId": "71f2f2d8-d62c-4b52-b1ab-aac4d3daa2ca"
      },
      "source": [
        "train_monthly"
      ],
      "execution_count": null,
      "outputs": [
        {
          "output_type": "execute_result",
          "data": {
            "text/html": [
              "<div>\n",
              "<style scoped>\n",
              "    .dataframe tbody tr th:only-of-type {\n",
              "        vertical-align: middle;\n",
              "    }\n",
              "\n",
              "    .dataframe tbody tr th {\n",
              "        vertical-align: top;\n",
              "    }\n",
              "\n",
              "    .dataframe thead th {\n",
              "        text-align: right;\n",
              "    }\n",
              "</style>\n",
              "<table border=\"1\" class=\"dataframe\">\n",
              "  <thead>\n",
              "    <tr style=\"text-align: right;\">\n",
              "      <th></th>\n",
              "      <th>date</th>\n",
              "      <th>date_block_num</th>\n",
              "      <th>shop_id</th>\n",
              "      <th>item_category_id</th>\n",
              "      <th>item_id</th>\n",
              "      <th>item_price</th>\n",
              "      <th>item_cnt_day</th>\n",
              "    </tr>\n",
              "  </thead>\n",
              "  <tbody>\n",
              "    <tr>\n",
              "      <th>0</th>\n",
              "      <td>02.01.2013</td>\n",
              "      <td>0</td>\n",
              "      <td>59</td>\n",
              "      <td>37</td>\n",
              "      <td>22154</td>\n",
              "      <td>999.0</td>\n",
              "      <td>1.0</td>\n",
              "    </tr>\n",
              "    <tr>\n",
              "      <th>10</th>\n",
              "      <td>03.01.2013</td>\n",
              "      <td>0</td>\n",
              "      <td>25</td>\n",
              "      <td>55</td>\n",
              "      <td>2574</td>\n",
              "      <td>399.0</td>\n",
              "      <td>2.0</td>\n",
              "    </tr>\n",
              "    <tr>\n",
              "      <th>11</th>\n",
              "      <td>05.01.2013</td>\n",
              "      <td>0</td>\n",
              "      <td>25</td>\n",
              "      <td>55</td>\n",
              "      <td>2574</td>\n",
              "      <td>399.0</td>\n",
              "      <td>1.0</td>\n",
              "    </tr>\n",
              "    <tr>\n",
              "      <th>12</th>\n",
              "      <td>07.01.2013</td>\n",
              "      <td>0</td>\n",
              "      <td>25</td>\n",
              "      <td>55</td>\n",
              "      <td>2574</td>\n",
              "      <td>399.0</td>\n",
              "      <td>1.0</td>\n",
              "    </tr>\n",
              "    <tr>\n",
              "      <th>13</th>\n",
              "      <td>08.01.2013</td>\n",
              "      <td>0</td>\n",
              "      <td>25</td>\n",
              "      <td>55</td>\n",
              "      <td>2574</td>\n",
              "      <td>399.0</td>\n",
              "      <td>2.0</td>\n",
              "    </tr>\n",
              "    <tr>\n",
              "      <th>...</th>\n",
              "      <td>...</td>\n",
              "      <td>...</td>\n",
              "      <td>...</td>\n",
              "      <td>...</td>\n",
              "      <td>...</td>\n",
              "      <td>...</td>\n",
              "      <td>...</td>\n",
              "    </tr>\n",
              "    <tr>\n",
              "      <th>2935844</th>\n",
              "      <td>10.10.2015</td>\n",
              "      <td>33</td>\n",
              "      <td>25</td>\n",
              "      <td>55</td>\n",
              "      <td>7409</td>\n",
              "      <td>299.0</td>\n",
              "      <td>1.0</td>\n",
              "    </tr>\n",
              "    <tr>\n",
              "      <th>2935845</th>\n",
              "      <td>09.10.2015</td>\n",
              "      <td>33</td>\n",
              "      <td>25</td>\n",
              "      <td>55</td>\n",
              "      <td>7460</td>\n",
              "      <td>299.0</td>\n",
              "      <td>1.0</td>\n",
              "    </tr>\n",
              "    <tr>\n",
              "      <th>2935846</th>\n",
              "      <td>14.10.2015</td>\n",
              "      <td>33</td>\n",
              "      <td>25</td>\n",
              "      <td>55</td>\n",
              "      <td>7459</td>\n",
              "      <td>349.0</td>\n",
              "      <td>1.0</td>\n",
              "    </tr>\n",
              "    <tr>\n",
              "      <th>2935847</th>\n",
              "      <td>22.10.2015</td>\n",
              "      <td>33</td>\n",
              "      <td>25</td>\n",
              "      <td>57</td>\n",
              "      <td>7440</td>\n",
              "      <td>299.0</td>\n",
              "      <td>1.0</td>\n",
              "    </tr>\n",
              "    <tr>\n",
              "      <th>2935848</th>\n",
              "      <td>03.10.2015</td>\n",
              "      <td>33</td>\n",
              "      <td>25</td>\n",
              "      <td>55</td>\n",
              "      <td>7460</td>\n",
              "      <td>299.0</td>\n",
              "      <td>1.0</td>\n",
              "    </tr>\n",
              "  </tbody>\n",
              "</table>\n",
              "<p>1224439 rows × 7 columns</p>\n",
              "</div>"
            ],
            "text/plain": [
              "               date  date_block_num  shop_id  ...  item_id  item_price  item_cnt_day\n",
              "0        02.01.2013               0       59  ...    22154       999.0           1.0\n",
              "10       03.01.2013               0       25  ...     2574       399.0           2.0\n",
              "11       05.01.2013               0       25  ...     2574       399.0           1.0\n",
              "12       07.01.2013               0       25  ...     2574       399.0           1.0\n",
              "13       08.01.2013               0       25  ...     2574       399.0           2.0\n",
              "...             ...             ...      ...  ...      ...         ...           ...\n",
              "2935844  10.10.2015              33       25  ...     7409       299.0           1.0\n",
              "2935845  09.10.2015              33       25  ...     7460       299.0           1.0\n",
              "2935846  14.10.2015              33       25  ...     7459       349.0           1.0\n",
              "2935847  22.10.2015              33       25  ...     7440       299.0           1.0\n",
              "2935848  03.10.2015              33       25  ...     7460       299.0           1.0\n",
              "\n",
              "[1224439 rows x 7 columns]"
            ]
          },
          "metadata": {
            "tags": []
          },
          "execution_count": 27
        }
      ]
    },
    {
      "cell_type": "code",
      "metadata": {
        "id": "tCW9YWYUpQh-"
      },
      "source": [
        "# Group by month in this case \"date_block_num\" and aggregate features.\n",
        "train_monthly=train_monthly.sort_values('date').groupby(['date_block_num', 'shop_id', 'item_category_id', 'item_id'],as_index=False)"
      ],
      "execution_count": null,
      "outputs": []
    },
    {
      "cell_type": "code",
      "metadata": {
        "colab": {
          "base_uri": "https://localhost:8080/"
        },
        "id": "2aVyvyf5qAQo",
        "outputId": "eeac3f25-767a-4e40-c824-32ab7d69bd6f"
      },
      "source": [
        "train_monthly"
      ],
      "execution_count": null,
      "outputs": [
        {
          "output_type": "execute_result",
          "data": {
            "text/plain": [
              "<pandas.core.groupby.generic.DataFrameGroupBy object at 0x7f6b2b8c6d90>"
            ]
          },
          "metadata": {
            "tags": []
          },
          "execution_count": 29
        }
      ]
    },
    {
      "cell_type": "code",
      "metadata": {
        "id": "iadoVP36qB7n"
      },
      "source": [
        "train_monthly=train_monthly.agg({'item_price':['sum','mean'],'item_cnt_day':['sum','mean','count']})"
      ],
      "execution_count": null,
      "outputs": []
    },
    {
      "cell_type": "code",
      "metadata": {
        "colab": {
          "base_uri": "https://localhost:8080/",
          "height": 440
        },
        "id": "JeYDtLtMq-zb",
        "outputId": "7a7307e8-f169-49b1-bfa7-24a079e9793a"
      },
      "source": [
        "train_monthly"
      ],
      "execution_count": null,
      "outputs": [
        {
          "output_type": "execute_result",
          "data": {
            "text/html": [
              "<div>\n",
              "<style scoped>\n",
              "    .dataframe tbody tr th:only-of-type {\n",
              "        vertical-align: middle;\n",
              "    }\n",
              "\n",
              "    .dataframe tbody tr th {\n",
              "        vertical-align: top;\n",
              "    }\n",
              "\n",
              "    .dataframe thead tr th {\n",
              "        text-align: left;\n",
              "    }\n",
              "</style>\n",
              "<table border=\"1\" class=\"dataframe\">\n",
              "  <thead>\n",
              "    <tr>\n",
              "      <th></th>\n",
              "      <th>date_block_num</th>\n",
              "      <th>shop_id</th>\n",
              "      <th>item_category_id</th>\n",
              "      <th>item_id</th>\n",
              "      <th colspan=\"2\" halign=\"left\">item_price</th>\n",
              "      <th colspan=\"3\" halign=\"left\">item_cnt_day</th>\n",
              "    </tr>\n",
              "    <tr>\n",
              "      <th></th>\n",
              "      <th></th>\n",
              "      <th></th>\n",
              "      <th></th>\n",
              "      <th></th>\n",
              "      <th>sum</th>\n",
              "      <th>mean</th>\n",
              "      <th>sum</th>\n",
              "      <th>mean</th>\n",
              "      <th>count</th>\n",
              "    </tr>\n",
              "  </thead>\n",
              "  <tbody>\n",
              "    <tr>\n",
              "      <th>0</th>\n",
              "      <td>0</td>\n",
              "      <td>2</td>\n",
              "      <td>2</td>\n",
              "      <td>5572</td>\n",
              "      <td>10730.00</td>\n",
              "      <td>1532.857143</td>\n",
              "      <td>9.0</td>\n",
              "      <td>1.285714</td>\n",
              "      <td>7</td>\n",
              "    </tr>\n",
              "    <tr>\n",
              "      <th>1</th>\n",
              "      <td>0</td>\n",
              "      <td>2</td>\n",
              "      <td>2</td>\n",
              "      <td>5643</td>\n",
              "      <td>4775.21</td>\n",
              "      <td>2387.605000</td>\n",
              "      <td>0.0</td>\n",
              "      <td>0.000000</td>\n",
              "      <td>2</td>\n",
              "    </tr>\n",
              "    <tr>\n",
              "      <th>2</th>\n",
              "      <td>0</td>\n",
              "      <td>2</td>\n",
              "      <td>5</td>\n",
              "      <td>5583</td>\n",
              "      <td>1188.30</td>\n",
              "      <td>594.150000</td>\n",
              "      <td>2.0</td>\n",
              "      <td>1.000000</td>\n",
              "      <td>2</td>\n",
              "    </tr>\n",
              "    <tr>\n",
              "      <th>3</th>\n",
              "      <td>0</td>\n",
              "      <td>2</td>\n",
              "      <td>6</td>\n",
              "      <td>7893</td>\n",
              "      <td>5970.00</td>\n",
              "      <td>1990.000000</td>\n",
              "      <td>3.0</td>\n",
              "      <td>1.000000</td>\n",
              "      <td>3</td>\n",
              "    </tr>\n",
              "    <tr>\n",
              "      <th>4</th>\n",
              "      <td>0</td>\n",
              "      <td>2</td>\n",
              "      <td>6</td>\n",
              "      <td>7894</td>\n",
              "      <td>1490.00</td>\n",
              "      <td>1490.000000</td>\n",
              "      <td>1.0</td>\n",
              "      <td>1.000000</td>\n",
              "      <td>1</td>\n",
              "    </tr>\n",
              "    <tr>\n",
              "      <th>...</th>\n",
              "      <td>...</td>\n",
              "      <td>...</td>\n",
              "      <td>...</td>\n",
              "      <td>...</td>\n",
              "      <td>...</td>\n",
              "      <td>...</td>\n",
              "      <td>...</td>\n",
              "      <td>...</td>\n",
              "      <td>...</td>\n",
              "    </tr>\n",
              "    <tr>\n",
              "      <th>600154</th>\n",
              "      <td>33</td>\n",
              "      <td>59</td>\n",
              "      <td>75</td>\n",
              "      <td>5383</td>\n",
              "      <td>4390.00</td>\n",
              "      <td>4390.000000</td>\n",
              "      <td>1.0</td>\n",
              "      <td>1.000000</td>\n",
              "      <td>1</td>\n",
              "    </tr>\n",
              "    <tr>\n",
              "      <th>600155</th>\n",
              "      <td>33</td>\n",
              "      <td>59</td>\n",
              "      <td>79</td>\n",
              "      <td>17717</td>\n",
              "      <td>8025.50</td>\n",
              "      <td>802.550000</td>\n",
              "      <td>13.0</td>\n",
              "      <td>1.300000</td>\n",
              "      <td>10</td>\n",
              "    </tr>\n",
              "    <tr>\n",
              "      <th>600156</th>\n",
              "      <td>33</td>\n",
              "      <td>59</td>\n",
              "      <td>83</td>\n",
              "      <td>22087</td>\n",
              "      <td>357.00</td>\n",
              "      <td>119.000000</td>\n",
              "      <td>6.0</td>\n",
              "      <td>2.000000</td>\n",
              "      <td>3</td>\n",
              "    </tr>\n",
              "    <tr>\n",
              "      <th>600157</th>\n",
              "      <td>33</td>\n",
              "      <td>59</td>\n",
              "      <td>83</td>\n",
              "      <td>22088</td>\n",
              "      <td>238.00</td>\n",
              "      <td>119.000000</td>\n",
              "      <td>2.0</td>\n",
              "      <td>1.000000</td>\n",
              "      <td>2</td>\n",
              "    </tr>\n",
              "    <tr>\n",
              "      <th>600158</th>\n",
              "      <td>33</td>\n",
              "      <td>59</td>\n",
              "      <td>83</td>\n",
              "      <td>22091</td>\n",
              "      <td>179.00</td>\n",
              "      <td>179.000000</td>\n",
              "      <td>1.0</td>\n",
              "      <td>1.000000</td>\n",
              "      <td>1</td>\n",
              "    </tr>\n",
              "  </tbody>\n",
              "</table>\n",
              "<p>600159 rows × 9 columns</p>\n",
              "</div>"
            ],
            "text/plain": [
              "       date_block_num shop_id item_category_id  ... item_cnt_day                \n",
              "                                                ...          sum      mean count\n",
              "0                   0       2                2  ...          9.0  1.285714     7\n",
              "1                   0       2                2  ...          0.0  0.000000     2\n",
              "2                   0       2                5  ...          2.0  1.000000     2\n",
              "3                   0       2                6  ...          3.0  1.000000     3\n",
              "4                   0       2                6  ...          1.0  1.000000     1\n",
              "...               ...     ...              ...  ...          ...       ...   ...\n",
              "600154             33      59               75  ...          1.0  1.000000     1\n",
              "600155             33      59               79  ...         13.0  1.300000    10\n",
              "600156             33      59               83  ...          6.0  2.000000     3\n",
              "600157             33      59               83  ...          2.0  1.000000     2\n",
              "600158             33      59               83  ...          1.0  1.000000     1\n",
              "\n",
              "[600159 rows x 9 columns]"
            ]
          },
          "metadata": {
            "tags": []
          },
          "execution_count": 31
        }
      ]
    },
    {
      "cell_type": "code",
      "metadata": {
        "colab": {
          "base_uri": "https://localhost:8080/"
        },
        "id": "sCmoCJHIrrLW",
        "outputId": "e24359ca-8d0b-4aad-c536-bac5235f9dad"
      },
      "source": [
        "train_monthly.columns"
      ],
      "execution_count": null,
      "outputs": [
        {
          "output_type": "execute_result",
          "data": {
            "text/plain": [
              "MultiIndex([(  'date_block_num',      ''),\n",
              "            (         'shop_id',      ''),\n",
              "            ('item_category_id',      ''),\n",
              "            (         'item_id',      ''),\n",
              "            (      'item_price',   'sum'),\n",
              "            (      'item_price',  'mean'),\n",
              "            (    'item_cnt_day',   'sum'),\n",
              "            (    'item_cnt_day',  'mean'),\n",
              "            (    'item_cnt_day', 'count')],\n",
              "           )"
            ]
          },
          "metadata": {
            "tags": []
          },
          "execution_count": 32
        }
      ]
    },
    {
      "cell_type": "code",
      "metadata": {
        "id": "B7pnb8qgr3T0"
      },
      "source": [
        "# Rename features.\n",
        "train_monthly.columns=['date_block_num','shop_id','item_category_id', 'item_id','item_price','mean_item_price','item_cnt','mean_item_cnt','transactions']"
      ],
      "execution_count": null,
      "outputs": []
    },
    {
      "cell_type": "markdown",
      "metadata": {
        "id": "Ekrz5DGtrkHf"
      },
      "source": [
        "**To mimic the real behavior of the data we have to create the missing records from the loaded dataset, so for each month we need to create the missing records for each shop and item, since we don't have data for them I'll replace them with 0.**"
      ]
    },
    {
      "cell_type": "code",
      "metadata": {
        "colab": {
          "base_uri": "https://localhost:8080/",
          "height": 408
        },
        "id": "ZyZyLwDTrAUT",
        "outputId": "c9de45ac-637b-4679-9dab-081e4fd2fcf4"
      },
      "source": [
        "\n",
        "train_monthly"
      ],
      "execution_count": null,
      "outputs": [
        {
          "output_type": "execute_result",
          "data": {
            "text/html": [
              "<div>\n",
              "<style scoped>\n",
              "    .dataframe tbody tr th:only-of-type {\n",
              "        vertical-align: middle;\n",
              "    }\n",
              "\n",
              "    .dataframe tbody tr th {\n",
              "        vertical-align: top;\n",
              "    }\n",
              "\n",
              "    .dataframe thead th {\n",
              "        text-align: right;\n",
              "    }\n",
              "</style>\n",
              "<table border=\"1\" class=\"dataframe\">\n",
              "  <thead>\n",
              "    <tr style=\"text-align: right;\">\n",
              "      <th></th>\n",
              "      <th>date_block_num</th>\n",
              "      <th>shop_id</th>\n",
              "      <th>item_category_id</th>\n",
              "      <th>item_id</th>\n",
              "      <th>item_price</th>\n",
              "      <th>mean_item_price</th>\n",
              "      <th>item_cnt</th>\n",
              "      <th>mean_item_cnt</th>\n",
              "      <th>transactions</th>\n",
              "    </tr>\n",
              "  </thead>\n",
              "  <tbody>\n",
              "    <tr>\n",
              "      <th>0</th>\n",
              "      <td>0</td>\n",
              "      <td>2</td>\n",
              "      <td>2</td>\n",
              "      <td>5572</td>\n",
              "      <td>10730.00</td>\n",
              "      <td>1532.857143</td>\n",
              "      <td>9.0</td>\n",
              "      <td>1.285714</td>\n",
              "      <td>7</td>\n",
              "    </tr>\n",
              "    <tr>\n",
              "      <th>1</th>\n",
              "      <td>0</td>\n",
              "      <td>2</td>\n",
              "      <td>2</td>\n",
              "      <td>5643</td>\n",
              "      <td>4775.21</td>\n",
              "      <td>2387.605000</td>\n",
              "      <td>0.0</td>\n",
              "      <td>0.000000</td>\n",
              "      <td>2</td>\n",
              "    </tr>\n",
              "    <tr>\n",
              "      <th>2</th>\n",
              "      <td>0</td>\n",
              "      <td>2</td>\n",
              "      <td>5</td>\n",
              "      <td>5583</td>\n",
              "      <td>1188.30</td>\n",
              "      <td>594.150000</td>\n",
              "      <td>2.0</td>\n",
              "      <td>1.000000</td>\n",
              "      <td>2</td>\n",
              "    </tr>\n",
              "    <tr>\n",
              "      <th>3</th>\n",
              "      <td>0</td>\n",
              "      <td>2</td>\n",
              "      <td>6</td>\n",
              "      <td>7893</td>\n",
              "      <td>5970.00</td>\n",
              "      <td>1990.000000</td>\n",
              "      <td>3.0</td>\n",
              "      <td>1.000000</td>\n",
              "      <td>3</td>\n",
              "    </tr>\n",
              "    <tr>\n",
              "      <th>4</th>\n",
              "      <td>0</td>\n",
              "      <td>2</td>\n",
              "      <td>6</td>\n",
              "      <td>7894</td>\n",
              "      <td>1490.00</td>\n",
              "      <td>1490.000000</td>\n",
              "      <td>1.0</td>\n",
              "      <td>1.000000</td>\n",
              "      <td>1</td>\n",
              "    </tr>\n",
              "    <tr>\n",
              "      <th>...</th>\n",
              "      <td>...</td>\n",
              "      <td>...</td>\n",
              "      <td>...</td>\n",
              "      <td>...</td>\n",
              "      <td>...</td>\n",
              "      <td>...</td>\n",
              "      <td>...</td>\n",
              "      <td>...</td>\n",
              "      <td>...</td>\n",
              "    </tr>\n",
              "    <tr>\n",
              "      <th>600154</th>\n",
              "      <td>33</td>\n",
              "      <td>59</td>\n",
              "      <td>75</td>\n",
              "      <td>5383</td>\n",
              "      <td>4390.00</td>\n",
              "      <td>4390.000000</td>\n",
              "      <td>1.0</td>\n",
              "      <td>1.000000</td>\n",
              "      <td>1</td>\n",
              "    </tr>\n",
              "    <tr>\n",
              "      <th>600155</th>\n",
              "      <td>33</td>\n",
              "      <td>59</td>\n",
              "      <td>79</td>\n",
              "      <td>17717</td>\n",
              "      <td>8025.50</td>\n",
              "      <td>802.550000</td>\n",
              "      <td>13.0</td>\n",
              "      <td>1.300000</td>\n",
              "      <td>10</td>\n",
              "    </tr>\n",
              "    <tr>\n",
              "      <th>600156</th>\n",
              "      <td>33</td>\n",
              "      <td>59</td>\n",
              "      <td>83</td>\n",
              "      <td>22087</td>\n",
              "      <td>357.00</td>\n",
              "      <td>119.000000</td>\n",
              "      <td>6.0</td>\n",
              "      <td>2.000000</td>\n",
              "      <td>3</td>\n",
              "    </tr>\n",
              "    <tr>\n",
              "      <th>600157</th>\n",
              "      <td>33</td>\n",
              "      <td>59</td>\n",
              "      <td>83</td>\n",
              "      <td>22088</td>\n",
              "      <td>238.00</td>\n",
              "      <td>119.000000</td>\n",
              "      <td>2.0</td>\n",
              "      <td>1.000000</td>\n",
              "      <td>2</td>\n",
              "    </tr>\n",
              "    <tr>\n",
              "      <th>600158</th>\n",
              "      <td>33</td>\n",
              "      <td>59</td>\n",
              "      <td>83</td>\n",
              "      <td>22091</td>\n",
              "      <td>179.00</td>\n",
              "      <td>179.000000</td>\n",
              "      <td>1.0</td>\n",
              "      <td>1.000000</td>\n",
              "      <td>1</td>\n",
              "    </tr>\n",
              "  </tbody>\n",
              "</table>\n",
              "<p>600159 rows × 9 columns</p>\n",
              "</div>"
            ],
            "text/plain": [
              "        date_block_num  shop_id  ...  mean_item_cnt  transactions\n",
              "0                    0        2  ...       1.285714             7\n",
              "1                    0        2  ...       0.000000             2\n",
              "2                    0        2  ...       1.000000             2\n",
              "3                    0        2  ...       1.000000             3\n",
              "4                    0        2  ...       1.000000             1\n",
              "...                ...      ...  ...            ...           ...\n",
              "600154              33       59  ...       1.000000             1\n",
              "600155              33       59  ...       1.300000            10\n",
              "600156              33       59  ...       2.000000             3\n",
              "600157              33       59  ...       1.000000             2\n",
              "600158              33       59  ...       1.000000             1\n",
              "\n",
              "[600159 rows x 9 columns]"
            ]
          },
          "metadata": {
            "tags": []
          },
          "execution_count": 34
        }
      ]
    },
    {
      "cell_type": "code",
      "metadata": {
        "id": "oDo3f8r1spS5"
      },
      "source": [
        "# Build a data set with all the possible combinations of ['date_block_num','shop_id','item_id'] so we won't have missing records.\n",
        "shop_ids=train_monthly['shop_id'].unique()\n",
        "item_ids=train_monthly['item_id'].unique()\n",
        "empty_df=[]\n",
        "for i in range(34):\n",
        "  for shop in shop_ids:\n",
        "    for item in item_ids:\n",
        "      empty_df.append([i,shop,item])"
      ],
      "execution_count": null,
      "outputs": []
    },
    {
      "cell_type": "code",
      "metadata": {
        "id": "1kkVT93iuRv3"
      },
      "source": [
        "empty_df=pd.DataFrame(empty_df,columns=['date_block_num','shop_id','item_id'])"
      ],
      "execution_count": null,
      "outputs": []
    },
    {
      "cell_type": "code",
      "metadata": {
        "colab": {
          "base_uri": "https://localhost:8080/",
          "height": 408
        },
        "id": "A-mXqnhSvBy4",
        "outputId": "843df990-0513-4e10-fb6f-34706c4b7e3d"
      },
      "source": [
        "empty_df"
      ],
      "execution_count": null,
      "outputs": [
        {
          "output_type": "execute_result",
          "data": {
            "text/html": [
              "<div>\n",
              "<style scoped>\n",
              "    .dataframe tbody tr th:only-of-type {\n",
              "        vertical-align: middle;\n",
              "    }\n",
              "\n",
              "    .dataframe tbody tr th {\n",
              "        vertical-align: top;\n",
              "    }\n",
              "\n",
              "    .dataframe thead th {\n",
              "        text-align: right;\n",
              "    }\n",
              "</style>\n",
              "<table border=\"1\" class=\"dataframe\">\n",
              "  <thead>\n",
              "    <tr style=\"text-align: right;\">\n",
              "      <th></th>\n",
              "      <th>date_block_num</th>\n",
              "      <th>shop_id</th>\n",
              "      <th>item_id</th>\n",
              "    </tr>\n",
              "  </thead>\n",
              "  <tbody>\n",
              "    <tr>\n",
              "      <th>0</th>\n",
              "      <td>0</td>\n",
              "      <td>2</td>\n",
              "      <td>5572</td>\n",
              "    </tr>\n",
              "    <tr>\n",
              "      <th>1</th>\n",
              "      <td>0</td>\n",
              "      <td>2</td>\n",
              "      <td>5643</td>\n",
              "    </tr>\n",
              "    <tr>\n",
              "      <th>2</th>\n",
              "      <td>0</td>\n",
              "      <td>2</td>\n",
              "      <td>5583</td>\n",
              "    </tr>\n",
              "    <tr>\n",
              "      <th>3</th>\n",
              "      <td>0</td>\n",
              "      <td>2</td>\n",
              "      <td>7893</td>\n",
              "    </tr>\n",
              "    <tr>\n",
              "      <th>4</th>\n",
              "      <td>0</td>\n",
              "      <td>2</td>\n",
              "      <td>7894</td>\n",
              "    </tr>\n",
              "    <tr>\n",
              "      <th>...</th>\n",
              "      <td>...</td>\n",
              "      <td>...</td>\n",
              "      <td>...</td>\n",
              "    </tr>\n",
              "    <tr>\n",
              "      <th>6734443</th>\n",
              "      <td>33</td>\n",
              "      <td>36</td>\n",
              "      <td>9103</td>\n",
              "    </tr>\n",
              "    <tr>\n",
              "      <th>6734444</th>\n",
              "      <td>33</td>\n",
              "      <td>36</td>\n",
              "      <td>9107</td>\n",
              "    </tr>\n",
              "    <tr>\n",
              "      <th>6734445</th>\n",
              "      <td>33</td>\n",
              "      <td>36</td>\n",
              "      <td>5704</td>\n",
              "    </tr>\n",
              "    <tr>\n",
              "      <th>6734446</th>\n",
              "      <td>33</td>\n",
              "      <td>36</td>\n",
              "      <td>12733</td>\n",
              "    </tr>\n",
              "    <tr>\n",
              "      <th>6734447</th>\n",
              "      <td>33</td>\n",
              "      <td>36</td>\n",
              "      <td>15925</td>\n",
              "    </tr>\n",
              "  </tbody>\n",
              "</table>\n",
              "<p>6734448 rows × 3 columns</p>\n",
              "</div>"
            ],
            "text/plain": [
              "         date_block_num  shop_id  item_id\n",
              "0                     0        2     5572\n",
              "1                     0        2     5643\n",
              "2                     0        2     5583\n",
              "3                     0        2     7893\n",
              "4                     0        2     7894\n",
              "...                 ...      ...      ...\n",
              "6734443              33       36     9103\n",
              "6734444              33       36     9107\n",
              "6734445              33       36     5704\n",
              "6734446              33       36    12733\n",
              "6734447              33       36    15925\n",
              "\n",
              "[6734448 rows x 3 columns]"
            ]
          },
          "metadata": {
            "tags": []
          },
          "execution_count": 37
        }
      ]
    },
    {
      "cell_type": "markdown",
      "metadata": {
        "id": "q97I5nQRvPMm"
      },
      "source": [
        "Merge the train set with the complete set (missing records will be filled with 0)."
      ]
    },
    {
      "cell_type": "code",
      "metadata": {
        "id": "O_o2bjsrvEeZ"
      },
      "source": [
        "train_monthly=pd.merge(empty_df,train_monthly, on=['date_block_num','shop_id','item_id'],how='left')"
      ],
      "execution_count": null,
      "outputs": []
    },
    {
      "cell_type": "code",
      "metadata": {
        "colab": {
          "base_uri": "https://localhost:8080/",
          "height": 408
        },
        "id": "0jmkcpMawBwF",
        "outputId": "b5ce0bf3-063b-471c-8192-6747ac674b44"
      },
      "source": [
        "train_monthly"
      ],
      "execution_count": null,
      "outputs": [
        {
          "output_type": "execute_result",
          "data": {
            "text/html": [
              "<div>\n",
              "<style scoped>\n",
              "    .dataframe tbody tr th:only-of-type {\n",
              "        vertical-align: middle;\n",
              "    }\n",
              "\n",
              "    .dataframe tbody tr th {\n",
              "        vertical-align: top;\n",
              "    }\n",
              "\n",
              "    .dataframe thead th {\n",
              "        text-align: right;\n",
              "    }\n",
              "</style>\n",
              "<table border=\"1\" class=\"dataframe\">\n",
              "  <thead>\n",
              "    <tr style=\"text-align: right;\">\n",
              "      <th></th>\n",
              "      <th>date_block_num</th>\n",
              "      <th>shop_id</th>\n",
              "      <th>item_id</th>\n",
              "      <th>item_category_id</th>\n",
              "      <th>item_price</th>\n",
              "      <th>mean_item_price</th>\n",
              "      <th>item_cnt</th>\n",
              "      <th>mean_item_cnt</th>\n",
              "      <th>transactions</th>\n",
              "    </tr>\n",
              "  </thead>\n",
              "  <tbody>\n",
              "    <tr>\n",
              "      <th>0</th>\n",
              "      <td>0</td>\n",
              "      <td>2</td>\n",
              "      <td>5572</td>\n",
              "      <td>2.0</td>\n",
              "      <td>10730.00</td>\n",
              "      <td>1532.857143</td>\n",
              "      <td>9.0</td>\n",
              "      <td>1.285714</td>\n",
              "      <td>7.0</td>\n",
              "    </tr>\n",
              "    <tr>\n",
              "      <th>1</th>\n",
              "      <td>0</td>\n",
              "      <td>2</td>\n",
              "      <td>5643</td>\n",
              "      <td>2.0</td>\n",
              "      <td>4775.21</td>\n",
              "      <td>2387.605000</td>\n",
              "      <td>0.0</td>\n",
              "      <td>0.000000</td>\n",
              "      <td>2.0</td>\n",
              "    </tr>\n",
              "    <tr>\n",
              "      <th>2</th>\n",
              "      <td>0</td>\n",
              "      <td>2</td>\n",
              "      <td>5583</td>\n",
              "      <td>5.0</td>\n",
              "      <td>1188.30</td>\n",
              "      <td>594.150000</td>\n",
              "      <td>2.0</td>\n",
              "      <td>1.000000</td>\n",
              "      <td>2.0</td>\n",
              "    </tr>\n",
              "    <tr>\n",
              "      <th>3</th>\n",
              "      <td>0</td>\n",
              "      <td>2</td>\n",
              "      <td>7893</td>\n",
              "      <td>6.0</td>\n",
              "      <td>5970.00</td>\n",
              "      <td>1990.000000</td>\n",
              "      <td>3.0</td>\n",
              "      <td>1.000000</td>\n",
              "      <td>3.0</td>\n",
              "    </tr>\n",
              "    <tr>\n",
              "      <th>4</th>\n",
              "      <td>0</td>\n",
              "      <td>2</td>\n",
              "      <td>7894</td>\n",
              "      <td>6.0</td>\n",
              "      <td>1490.00</td>\n",
              "      <td>1490.000000</td>\n",
              "      <td>1.0</td>\n",
              "      <td>1.000000</td>\n",
              "      <td>1.0</td>\n",
              "    </tr>\n",
              "    <tr>\n",
              "      <th>...</th>\n",
              "      <td>...</td>\n",
              "      <td>...</td>\n",
              "      <td>...</td>\n",
              "      <td>...</td>\n",
              "      <td>...</td>\n",
              "      <td>...</td>\n",
              "      <td>...</td>\n",
              "      <td>...</td>\n",
              "      <td>...</td>\n",
              "    </tr>\n",
              "    <tr>\n",
              "      <th>6734443</th>\n",
              "      <td>33</td>\n",
              "      <td>36</td>\n",
              "      <td>9103</td>\n",
              "      <td>NaN</td>\n",
              "      <td>NaN</td>\n",
              "      <td>NaN</td>\n",
              "      <td>NaN</td>\n",
              "      <td>NaN</td>\n",
              "      <td>NaN</td>\n",
              "    </tr>\n",
              "    <tr>\n",
              "      <th>6734444</th>\n",
              "      <td>33</td>\n",
              "      <td>36</td>\n",
              "      <td>9107</td>\n",
              "      <td>NaN</td>\n",
              "      <td>NaN</td>\n",
              "      <td>NaN</td>\n",
              "      <td>NaN</td>\n",
              "      <td>NaN</td>\n",
              "      <td>NaN</td>\n",
              "    </tr>\n",
              "    <tr>\n",
              "      <th>6734445</th>\n",
              "      <td>33</td>\n",
              "      <td>36</td>\n",
              "      <td>5704</td>\n",
              "      <td>NaN</td>\n",
              "      <td>NaN</td>\n",
              "      <td>NaN</td>\n",
              "      <td>NaN</td>\n",
              "      <td>NaN</td>\n",
              "      <td>NaN</td>\n",
              "    </tr>\n",
              "    <tr>\n",
              "      <th>6734446</th>\n",
              "      <td>33</td>\n",
              "      <td>36</td>\n",
              "      <td>12733</td>\n",
              "      <td>NaN</td>\n",
              "      <td>NaN</td>\n",
              "      <td>NaN</td>\n",
              "      <td>NaN</td>\n",
              "      <td>NaN</td>\n",
              "      <td>NaN</td>\n",
              "    </tr>\n",
              "    <tr>\n",
              "      <th>6734447</th>\n",
              "      <td>33</td>\n",
              "      <td>36</td>\n",
              "      <td>15925</td>\n",
              "      <td>NaN</td>\n",
              "      <td>NaN</td>\n",
              "      <td>NaN</td>\n",
              "      <td>NaN</td>\n",
              "      <td>NaN</td>\n",
              "      <td>NaN</td>\n",
              "    </tr>\n",
              "  </tbody>\n",
              "</table>\n",
              "<p>6734448 rows × 9 columns</p>\n",
              "</div>"
            ],
            "text/plain": [
              "         date_block_num  shop_id  ...  mean_item_cnt  transactions\n",
              "0                     0        2  ...       1.285714           7.0\n",
              "1                     0        2  ...       0.000000           2.0\n",
              "2                     0        2  ...       1.000000           2.0\n",
              "3                     0        2  ...       1.000000           3.0\n",
              "4                     0        2  ...       1.000000           1.0\n",
              "...                 ...      ...  ...            ...           ...\n",
              "6734443              33       36  ...            NaN           NaN\n",
              "6734444              33       36  ...            NaN           NaN\n",
              "6734445              33       36  ...            NaN           NaN\n",
              "6734446              33       36  ...            NaN           NaN\n",
              "6734447              33       36  ...            NaN           NaN\n",
              "\n",
              "[6734448 rows x 9 columns]"
            ]
          },
          "metadata": {
            "tags": []
          },
          "execution_count": 39
        }
      ]
    },
    {
      "cell_type": "code",
      "metadata": {
        "colab": {
          "base_uri": "https://localhost:8080/",
          "height": 320
        },
        "id": "o84hl4u7wTxE",
        "outputId": "78f5baf5-3aa6-4d36-bd5e-e2d8105f8a49"
      },
      "source": [
        "train_monthly.head().T"
      ],
      "execution_count": null,
      "outputs": [
        {
          "output_type": "execute_result",
          "data": {
            "text/html": [
              "<div>\n",
              "<style scoped>\n",
              "    .dataframe tbody tr th:only-of-type {\n",
              "        vertical-align: middle;\n",
              "    }\n",
              "\n",
              "    .dataframe tbody tr th {\n",
              "        vertical-align: top;\n",
              "    }\n",
              "\n",
              "    .dataframe thead th {\n",
              "        text-align: right;\n",
              "    }\n",
              "</style>\n",
              "<table border=\"1\" class=\"dataframe\">\n",
              "  <thead>\n",
              "    <tr style=\"text-align: right;\">\n",
              "      <th></th>\n",
              "      <th>0</th>\n",
              "      <th>1</th>\n",
              "      <th>2</th>\n",
              "      <th>3</th>\n",
              "      <th>4</th>\n",
              "    </tr>\n",
              "  </thead>\n",
              "  <tbody>\n",
              "    <tr>\n",
              "      <th>date_block_num</th>\n",
              "      <td>0.000000</td>\n",
              "      <td>0.000</td>\n",
              "      <td>0.00</td>\n",
              "      <td>0.0</td>\n",
              "      <td>0.0</td>\n",
              "    </tr>\n",
              "    <tr>\n",
              "      <th>shop_id</th>\n",
              "      <td>2.000000</td>\n",
              "      <td>2.000</td>\n",
              "      <td>2.00</td>\n",
              "      <td>2.0</td>\n",
              "      <td>2.0</td>\n",
              "    </tr>\n",
              "    <tr>\n",
              "      <th>item_id</th>\n",
              "      <td>5572.000000</td>\n",
              "      <td>5643.000</td>\n",
              "      <td>5583.00</td>\n",
              "      <td>7893.0</td>\n",
              "      <td>7894.0</td>\n",
              "    </tr>\n",
              "    <tr>\n",
              "      <th>item_category_id</th>\n",
              "      <td>2.000000</td>\n",
              "      <td>2.000</td>\n",
              "      <td>5.00</td>\n",
              "      <td>6.0</td>\n",
              "      <td>6.0</td>\n",
              "    </tr>\n",
              "    <tr>\n",
              "      <th>item_price</th>\n",
              "      <td>10730.000000</td>\n",
              "      <td>4775.210</td>\n",
              "      <td>1188.30</td>\n",
              "      <td>5970.0</td>\n",
              "      <td>1490.0</td>\n",
              "    </tr>\n",
              "    <tr>\n",
              "      <th>mean_item_price</th>\n",
              "      <td>1532.857143</td>\n",
              "      <td>2387.605</td>\n",
              "      <td>594.15</td>\n",
              "      <td>1990.0</td>\n",
              "      <td>1490.0</td>\n",
              "    </tr>\n",
              "    <tr>\n",
              "      <th>item_cnt</th>\n",
              "      <td>9.000000</td>\n",
              "      <td>0.000</td>\n",
              "      <td>2.00</td>\n",
              "      <td>3.0</td>\n",
              "      <td>1.0</td>\n",
              "    </tr>\n",
              "    <tr>\n",
              "      <th>mean_item_cnt</th>\n",
              "      <td>1.285714</td>\n",
              "      <td>0.000</td>\n",
              "      <td>1.00</td>\n",
              "      <td>1.0</td>\n",
              "      <td>1.0</td>\n",
              "    </tr>\n",
              "    <tr>\n",
              "      <th>transactions</th>\n",
              "      <td>7.000000</td>\n",
              "      <td>2.000</td>\n",
              "      <td>2.00</td>\n",
              "      <td>3.0</td>\n",
              "      <td>1.0</td>\n",
              "    </tr>\n",
              "  </tbody>\n",
              "</table>\n",
              "</div>"
            ],
            "text/plain": [
              "                             0         1        2       3       4\n",
              "date_block_num        0.000000     0.000     0.00     0.0     0.0\n",
              "shop_id               2.000000     2.000     2.00     2.0     2.0\n",
              "item_id            5572.000000  5643.000  5583.00  7893.0  7894.0\n",
              "item_category_id      2.000000     2.000     5.00     6.0     6.0\n",
              "item_price        10730.000000  4775.210  1188.30  5970.0  1490.0\n",
              "mean_item_price    1532.857143  2387.605   594.15  1990.0  1490.0\n",
              "item_cnt              9.000000     0.000     2.00     3.0     1.0\n",
              "mean_item_cnt         1.285714     0.000     1.00     1.0     1.0\n",
              "transactions          7.000000     2.000     2.00     3.0     1.0"
            ]
          },
          "metadata": {
            "tags": []
          },
          "execution_count": 40
        }
      ]
    },
    {
      "cell_type": "code",
      "metadata": {
        "colab": {
          "base_uri": "https://localhost:8080/",
          "height": 320
        },
        "id": "NMtbhmt3w0_o",
        "outputId": "83e2be24-10ca-4177-9eee-ebee8fc9cb4f"
      },
      "source": [
        "train_monthly.describe().T"
      ],
      "execution_count": null,
      "outputs": [
        {
          "output_type": "execute_result",
          "data": {
            "text/html": [
              "<div>\n",
              "<style scoped>\n",
              "    .dataframe tbody tr th:only-of-type {\n",
              "        vertical-align: middle;\n",
              "    }\n",
              "\n",
              "    .dataframe tbody tr th {\n",
              "        vertical-align: top;\n",
              "    }\n",
              "\n",
              "    .dataframe thead th {\n",
              "        text-align: right;\n",
              "    }\n",
              "</style>\n",
              "<table border=\"1\" class=\"dataframe\">\n",
              "  <thead>\n",
              "    <tr style=\"text-align: right;\">\n",
              "      <th></th>\n",
              "      <th>count</th>\n",
              "      <th>mean</th>\n",
              "      <th>std</th>\n",
              "      <th>min</th>\n",
              "      <th>25%</th>\n",
              "      <th>50%</th>\n",
              "      <th>75%</th>\n",
              "      <th>max</th>\n",
              "    </tr>\n",
              "  </thead>\n",
              "  <tbody>\n",
              "    <tr>\n",
              "      <th>date_block_num</th>\n",
              "      <td>6734448.0</td>\n",
              "      <td>16.500000</td>\n",
              "      <td>9.810709</td>\n",
              "      <td>0.0</td>\n",
              "      <td>8.00</td>\n",
              "      <td>16.5</td>\n",
              "      <td>25.00</td>\n",
              "      <td>33.000000</td>\n",
              "    </tr>\n",
              "    <tr>\n",
              "      <th>shop_id</th>\n",
              "      <td>6734448.0</td>\n",
              "      <td>31.642857</td>\n",
              "      <td>17.561894</td>\n",
              "      <td>2.0</td>\n",
              "      <td>16.00</td>\n",
              "      <td>34.5</td>\n",
              "      <td>47.00</td>\n",
              "      <td>59.000000</td>\n",
              "    </tr>\n",
              "    <tr>\n",
              "      <th>item_id</th>\n",
              "      <td>6734448.0</td>\n",
              "      <td>11041.890161</td>\n",
              "      <td>6210.744436</td>\n",
              "      <td>30.0</td>\n",
              "      <td>5385.25</td>\n",
              "      <td>11265.5</td>\n",
              "      <td>16068.25</td>\n",
              "      <td>22167.000000</td>\n",
              "    </tr>\n",
              "    <tr>\n",
              "      <th>item_category_id</th>\n",
              "      <td>600159.0</td>\n",
              "      <td>42.486151</td>\n",
              "      <td>17.742514</td>\n",
              "      <td>2.0</td>\n",
              "      <td>30.00</td>\n",
              "      <td>40.0</td>\n",
              "      <td>55.00</td>\n",
              "      <td>83.000000</td>\n",
              "    </tr>\n",
              "    <tr>\n",
              "      <th>item_price</th>\n",
              "      <td>600159.0</td>\n",
              "      <td>2102.755495</td>\n",
              "      <td>7012.469713</td>\n",
              "      <td>0.5</td>\n",
              "      <td>299.00</td>\n",
              "      <td>747.0</td>\n",
              "      <td>1849.00</td>\n",
              "      <td>515573.589744</td>\n",
              "    </tr>\n",
              "    <tr>\n",
              "      <th>mean_item_price</th>\n",
              "      <td>600159.0</td>\n",
              "      <td>911.491721</td>\n",
              "      <td>1565.815779</td>\n",
              "      <td>0.5</td>\n",
              "      <td>299.00</td>\n",
              "      <td>477.0</td>\n",
              "      <td>1099.00</td>\n",
              "      <td>42990.000000</td>\n",
              "    </tr>\n",
              "    <tr>\n",
              "      <th>item_cnt</th>\n",
              "      <td>600159.0</td>\n",
              "      <td>2.695571</td>\n",
              "      <td>11.289615</td>\n",
              "      <td>-4.0</td>\n",
              "      <td>1.00</td>\n",
              "      <td>1.0</td>\n",
              "      <td>2.00</td>\n",
              "      <td>2253.000000</td>\n",
              "    </tr>\n",
              "    <tr>\n",
              "      <th>mean_item_cnt</th>\n",
              "      <td>600159.0</td>\n",
              "      <td>1.091804</td>\n",
              "      <td>1.766292</td>\n",
              "      <td>-2.0</td>\n",
              "      <td>1.00</td>\n",
              "      <td>1.0</td>\n",
              "      <td>1.00</td>\n",
              "      <td>1000.000000</td>\n",
              "    </tr>\n",
              "    <tr>\n",
              "      <th>transactions</th>\n",
              "      <td>600159.0</td>\n",
              "      <td>2.040191</td>\n",
              "      <td>2.322403</td>\n",
              "      <td>1.0</td>\n",
              "      <td>1.00</td>\n",
              "      <td>1.0</td>\n",
              "      <td>2.00</td>\n",
              "      <td>31.000000</td>\n",
              "    </tr>\n",
              "  </tbody>\n",
              "</table>\n",
              "</div>"
            ],
            "text/plain": [
              "                      count          mean  ...       75%            max\n",
              "date_block_num    6734448.0     16.500000  ...     25.00      33.000000\n",
              "shop_id           6734448.0     31.642857  ...     47.00      59.000000\n",
              "item_id           6734448.0  11041.890161  ...  16068.25   22167.000000\n",
              "item_category_id   600159.0     42.486151  ...     55.00      83.000000\n",
              "item_price         600159.0   2102.755495  ...   1849.00  515573.589744\n",
              "mean_item_price    600159.0    911.491721  ...   1099.00   42990.000000\n",
              "item_cnt           600159.0      2.695571  ...      2.00    2253.000000\n",
              "mean_item_cnt      600159.0      1.091804  ...      1.00    1000.000000\n",
              "transactions       600159.0      2.040191  ...      2.00      31.000000\n",
              "\n",
              "[9 rows x 8 columns]"
            ]
          },
          "metadata": {
            "tags": []
          },
          "execution_count": 41
        }
      ]
    },
    {
      "cell_type": "code",
      "metadata": {
        "id": "m9xPrKfYw6zC"
      },
      "source": [
        "# Extract time based features\n",
        "train_monthly=train_monthly.assign(year=lambda x: x.date_block_num//12+2013)"
      ],
      "execution_count": null,
      "outputs": []
    },
    {
      "cell_type": "code",
      "metadata": {
        "id": "8Ff0Gffv4AJQ"
      },
      "source": [
        "train_monthly=train_monthly.assign(month=lambda x: x.date_block_num%12)"
      ],
      "execution_count": null,
      "outputs": []
    },
    {
      "cell_type": "code",
      "metadata": {
        "colab": {
          "base_uri": "https://localhost:8080/",
          "height": 408
        },
        "id": "f0FRmMxC3YKQ",
        "outputId": "06b7b3ee-1276-4ea3-9e1f-d7418bd9c0a6"
      },
      "source": [
        "train_monthly"
      ],
      "execution_count": null,
      "outputs": [
        {
          "output_type": "execute_result",
          "data": {
            "text/html": [
              "<div>\n",
              "<style scoped>\n",
              "    .dataframe tbody tr th:only-of-type {\n",
              "        vertical-align: middle;\n",
              "    }\n",
              "\n",
              "    .dataframe tbody tr th {\n",
              "        vertical-align: top;\n",
              "    }\n",
              "\n",
              "    .dataframe thead th {\n",
              "        text-align: right;\n",
              "    }\n",
              "</style>\n",
              "<table border=\"1\" class=\"dataframe\">\n",
              "  <thead>\n",
              "    <tr style=\"text-align: right;\">\n",
              "      <th></th>\n",
              "      <th>date_block_num</th>\n",
              "      <th>shop_id</th>\n",
              "      <th>item_id</th>\n",
              "      <th>item_category_id</th>\n",
              "      <th>item_price</th>\n",
              "      <th>mean_item_price</th>\n",
              "      <th>item_cnt</th>\n",
              "      <th>mean_item_cnt</th>\n",
              "      <th>transactions</th>\n",
              "      <th>year</th>\n",
              "      <th>month</th>\n",
              "    </tr>\n",
              "  </thead>\n",
              "  <tbody>\n",
              "    <tr>\n",
              "      <th>0</th>\n",
              "      <td>0</td>\n",
              "      <td>2</td>\n",
              "      <td>5572</td>\n",
              "      <td>2.0</td>\n",
              "      <td>10730.00</td>\n",
              "      <td>1532.857143</td>\n",
              "      <td>9.0</td>\n",
              "      <td>1.285714</td>\n",
              "      <td>7.0</td>\n",
              "      <td>2013</td>\n",
              "      <td>0</td>\n",
              "    </tr>\n",
              "    <tr>\n",
              "      <th>1</th>\n",
              "      <td>0</td>\n",
              "      <td>2</td>\n",
              "      <td>5643</td>\n",
              "      <td>2.0</td>\n",
              "      <td>4775.21</td>\n",
              "      <td>2387.605000</td>\n",
              "      <td>0.0</td>\n",
              "      <td>0.000000</td>\n",
              "      <td>2.0</td>\n",
              "      <td>2013</td>\n",
              "      <td>0</td>\n",
              "    </tr>\n",
              "    <tr>\n",
              "      <th>2</th>\n",
              "      <td>0</td>\n",
              "      <td>2</td>\n",
              "      <td>5583</td>\n",
              "      <td>5.0</td>\n",
              "      <td>1188.30</td>\n",
              "      <td>594.150000</td>\n",
              "      <td>2.0</td>\n",
              "      <td>1.000000</td>\n",
              "      <td>2.0</td>\n",
              "      <td>2013</td>\n",
              "      <td>0</td>\n",
              "    </tr>\n",
              "    <tr>\n",
              "      <th>3</th>\n",
              "      <td>0</td>\n",
              "      <td>2</td>\n",
              "      <td>7893</td>\n",
              "      <td>6.0</td>\n",
              "      <td>5970.00</td>\n",
              "      <td>1990.000000</td>\n",
              "      <td>3.0</td>\n",
              "      <td>1.000000</td>\n",
              "      <td>3.0</td>\n",
              "      <td>2013</td>\n",
              "      <td>0</td>\n",
              "    </tr>\n",
              "    <tr>\n",
              "      <th>4</th>\n",
              "      <td>0</td>\n",
              "      <td>2</td>\n",
              "      <td>7894</td>\n",
              "      <td>6.0</td>\n",
              "      <td>1490.00</td>\n",
              "      <td>1490.000000</td>\n",
              "      <td>1.0</td>\n",
              "      <td>1.000000</td>\n",
              "      <td>1.0</td>\n",
              "      <td>2013</td>\n",
              "      <td>0</td>\n",
              "    </tr>\n",
              "    <tr>\n",
              "      <th>...</th>\n",
              "      <td>...</td>\n",
              "      <td>...</td>\n",
              "      <td>...</td>\n",
              "      <td>...</td>\n",
              "      <td>...</td>\n",
              "      <td>...</td>\n",
              "      <td>...</td>\n",
              "      <td>...</td>\n",
              "      <td>...</td>\n",
              "      <td>...</td>\n",
              "      <td>...</td>\n",
              "    </tr>\n",
              "    <tr>\n",
              "      <th>6734443</th>\n",
              "      <td>33</td>\n",
              "      <td>36</td>\n",
              "      <td>9103</td>\n",
              "      <td>NaN</td>\n",
              "      <td>NaN</td>\n",
              "      <td>NaN</td>\n",
              "      <td>NaN</td>\n",
              "      <td>NaN</td>\n",
              "      <td>NaN</td>\n",
              "      <td>2015</td>\n",
              "      <td>9</td>\n",
              "    </tr>\n",
              "    <tr>\n",
              "      <th>6734444</th>\n",
              "      <td>33</td>\n",
              "      <td>36</td>\n",
              "      <td>9107</td>\n",
              "      <td>NaN</td>\n",
              "      <td>NaN</td>\n",
              "      <td>NaN</td>\n",
              "      <td>NaN</td>\n",
              "      <td>NaN</td>\n",
              "      <td>NaN</td>\n",
              "      <td>2015</td>\n",
              "      <td>9</td>\n",
              "    </tr>\n",
              "    <tr>\n",
              "      <th>6734445</th>\n",
              "      <td>33</td>\n",
              "      <td>36</td>\n",
              "      <td>5704</td>\n",
              "      <td>NaN</td>\n",
              "      <td>NaN</td>\n",
              "      <td>NaN</td>\n",
              "      <td>NaN</td>\n",
              "      <td>NaN</td>\n",
              "      <td>NaN</td>\n",
              "      <td>2015</td>\n",
              "      <td>9</td>\n",
              "    </tr>\n",
              "    <tr>\n",
              "      <th>6734446</th>\n",
              "      <td>33</td>\n",
              "      <td>36</td>\n",
              "      <td>12733</td>\n",
              "      <td>NaN</td>\n",
              "      <td>NaN</td>\n",
              "      <td>NaN</td>\n",
              "      <td>NaN</td>\n",
              "      <td>NaN</td>\n",
              "      <td>NaN</td>\n",
              "      <td>2015</td>\n",
              "      <td>9</td>\n",
              "    </tr>\n",
              "    <tr>\n",
              "      <th>6734447</th>\n",
              "      <td>33</td>\n",
              "      <td>36</td>\n",
              "      <td>15925</td>\n",
              "      <td>NaN</td>\n",
              "      <td>NaN</td>\n",
              "      <td>NaN</td>\n",
              "      <td>NaN</td>\n",
              "      <td>NaN</td>\n",
              "      <td>NaN</td>\n",
              "      <td>2015</td>\n",
              "      <td>9</td>\n",
              "    </tr>\n",
              "  </tbody>\n",
              "</table>\n",
              "<p>6734448 rows × 11 columns</p>\n",
              "</div>"
            ],
            "text/plain": [
              "         date_block_num  shop_id  item_id  ...  transactions  year  month\n",
              "0                     0        2     5572  ...           7.0  2013      0\n",
              "1                     0        2     5643  ...           2.0  2013      0\n",
              "2                     0        2     5583  ...           2.0  2013      0\n",
              "3                     0        2     7893  ...           3.0  2013      0\n",
              "4                     0        2     7894  ...           1.0  2013      0\n",
              "...                 ...      ...      ...  ...           ...   ...    ...\n",
              "6734443              33       36     9103  ...           NaN  2015      9\n",
              "6734444              33       36     9107  ...           NaN  2015      9\n",
              "6734445              33       36     5704  ...           NaN  2015      9\n",
              "6734446              33       36    12733  ...           NaN  2015      9\n",
              "6734447              33       36    15925  ...           NaN  2015      9\n",
              "\n",
              "[6734448 rows x 11 columns]"
            ]
          },
          "metadata": {
            "tags": []
          },
          "execution_count": 44
        }
      ]
    },
    {
      "cell_type": "markdown",
      "metadata": {
        "id": "HhFkKGHs3xel"
      },
      "source": [
        "## EDA"
      ]
    },
    {
      "cell_type": "code",
      "metadata": {
        "colab": {
          "base_uri": "https://localhost:8080/"
        },
        "id": "FWsNrsB73Zsx",
        "outputId": "025086d1-65ae-4157-ea2a-45e85d21afbf"
      },
      "source": [
        "# Grouping data for EDA.\n",
        "gp_month_mean=train_monthly.groupby(['month'])['item_cnt'].mean()\n",
        "gp_month_mean"
      ],
      "execution_count": null,
      "outputs": [
        {
          "output_type": "execute_result",
          "data": {
            "text/plain": [
              "month\n",
              "0     2.719528\n",
              "1     2.580119\n",
              "2     2.697572\n",
              "3     2.549022\n",
              "4     2.566507\n",
              "5     2.544360\n",
              "6     2.318931\n",
              "7     2.427736\n",
              "8     2.751702\n",
              "9     2.609906\n",
              "10    3.274681\n",
              "11    3.593816\n",
              "Name: item_cnt, dtype: float64"
            ]
          },
          "metadata": {
            "tags": []
          },
          "execution_count": 45
        }
      ]
    },
    {
      "cell_type": "code",
      "metadata": {
        "id": "P1zMJxRo4lG0"
      },
      "source": [
        "## using group by it takes group by column as index now to dismiised it we need to use the as_index=False drefault is True\n",
        "gp_month_mean=train_monthly.groupby(['month'],as_index=False)['item_cnt'].mean()\n",
        "gp_month_sum=train_monthly.groupby(['month'],as_index=False)['item_cnt'].sum()\n",
        "gp_category_mean=train_monthly.groupby('item_category_id',as_index=False)['item_cnt'].mean()\n",
        "gp_category_sum=train_monthly.groupby('item_category_id',as_index=False)['item_cnt'].sum()\n",
        "gp_shop_mean=train_monthly.groupby('shop_id',as_index=False)['item_cnt'].mean()\n",
        "gp_shop_sum=train_monthly.groupby('shop_id',as_index=False)['item_cnt'].sum()"
      ],
      "execution_count": null,
      "outputs": []
    },
    {
      "cell_type": "markdown",
      "metadata": {
        "id": "A1xUIi0E7ela"
      },
      "source": [
        "### How sales behave along the year ?\n"
      ]
    },
    {
      "cell_type": "code",
      "metadata": {
        "colab": {
          "base_uri": "https://localhost:8080/",
          "height": 637
        },
        "id": "1BwuWCFz5TYn",
        "outputId": "d3f5a6b5-e837-4bab-bf06-62249be3dbe4"
      },
      "source": [
        "f,axes=plt.subplots(2,1,figsize=(15,10),sharex=True)\n",
        "sns.lineplot(data=gp_month_mean,x='month',y='item_cnt',ax=axes[0],markers='o').set_title('Monthly Mean')\n",
        "sns.lineplot(data=gp_month_sum,x='month',y='item_cnt',ax=axes[1]).set_title('Monthly Sum')\n",
        "#share_x mean the axes will not be shown individual it will be hsare between the "
      ],
      "execution_count": null,
      "outputs": [
        {
          "output_type": "execute_result",
          "data": {
            "text/plain": [
              "Text(0.5, 1.0, 'Monthly Sum')"
            ]
          },
          "metadata": {
            "tags": []
          },
          "execution_count": 47
        },
        {
          "output_type": "display_data",
          "data": {
            "image/png": "[encoded data removed]",
            "text/plain": [
              "<Figure size 1080x720 with 2 Axes>"
            ]
          },
          "metadata": {
            "tags": []
          }
        }
      ]
    },
    {
      "cell_type": "markdown",
      "metadata": {
        "id": "nWyaU_lb9r_W"
      },
      "source": [
        "**As we can see we have a trending increase of item sales count (mean) towards the ending of the year.**"
      ]
    },
    {
      "cell_type": "markdown",
      "metadata": {
        "id": "se-8aHUR90WN"
      },
      "source": [
        "**What category sells more?**"
      ]
    },
    {
      "cell_type": "code",
      "metadata": {
        "colab": {
          "base_uri": "https://localhost:8080/",
          "height": 580
        },
        "id": "h5gKlhL98xvT",
        "outputId": "f4c78845-dfe2-42d4-9f87-b5ce688c122d"
      },
      "source": [
        "f,axes=plt.subplots(2,1,sharex=True,figsize=(18,9))\n",
        "sns.barplot(data=gp_category_mean,x='item_category_id',y='item_cnt',ax=axes[0]).set_title(' Itemwise monthly mean')\n",
        "sns.barplot(data=gp_category_sum,x='item_category_id',y='item_cnt',ax=axes[1]).set_title(' Itemwise monthly sum')\n",
        "plt.xticks(rotation=90)\n",
        "plt.show()"
      ],
      "execution_count": null,
      "outputs": [
        {
          "output_type": "display_data",
          "data": {
            "image/png": "[encoded data removed]",
            "text/plain": [
              "<Figure size 1296x648 with 2 Axes>"
            ]
          },
          "metadata": {
            "tags": []
          }
        }
      ]
    },
    {
      "cell_type": "markdown",
      "metadata": {
        "id": "ed9xMEuUDOuK"
      },
      "source": [
        "Also only few of the categories seems to hold most of the sell count."
      ]
    },
    {
      "cell_type": "markdown",
      "metadata": {
        "id": "Kd5CJdnDDQ6N"
      },
      "source": [
        "**Waht shops sells more?**"
      ]
    },
    {
      "cell_type": "code",
      "metadata": {
        "colab": {
          "base_uri": "https://localhost:8080/",
          "height": 571
        },
        "id": "OzXVXMNZ-Inz",
        "outputId": "a7ffd34d-66f2-4ac5-acc1-843b23f50b98"
      },
      "source": [
        "f,axes=plt.subplots(2,1,sharex=True,figsize=(18,9))\n",
        "sns.barplot(data=gp_shop_mean,x='shop_id',y='item_cnt',ax=axes[0]).set_title(' Shop wise monthly mean')\n",
        "sns.barplot(data=gp_shop_sum,x='shop_id',y='item_cnt',ax=axes[1]).set_title(' Shop wise monthly sum')\n",
        "plt.xticks(rotation=90)\n",
        "plt.show()"
      ],
      "execution_count": null,
      "outputs": [
        {
          "output_type": "display_data",
          "data": {
            "image/png": "[encoded data removed]",
            "text/plain": [
              "<Figure size 1296x648 with 2 Axes>"
            ]
          },
          "metadata": {
            "tags": []
          }
        }
      ]
    },
    {
      "cell_type": "markdown",
      "metadata": {
        "id": "_7-yiNPNDumj"
      },
      "source": [
        "Most of the shops have a similar sell rate, but 3 of them have a much higher rate, this may be a indicative of the shop size."
      ]
    },
    {
      "cell_type": "markdown",
      "metadata": {
        "id": "YLoSf4CzD686"
      },
      "source": [
        "### Checking for teh outliers"
      ]
    },
    {
      "cell_type": "code",
      "metadata": {
        "colab": {
          "base_uri": "https://localhost:8080/",
          "height": 408
        },
        "id": "LcburgN-EiIG",
        "outputId": "faf8ea37-89cd-49d0-8ac0-02569069646a"
      },
      "source": [
        "train_monthly"
      ],
      "execution_count": null,
      "outputs": [
        {
          "output_type": "execute_result",
          "data": {
            "text/html": [
              "<div>\n",
              "<style scoped>\n",
              "    .dataframe tbody tr th:only-of-type {\n",
              "        vertical-align: middle;\n",
              "    }\n",
              "\n",
              "    .dataframe tbody tr th {\n",
              "        vertical-align: top;\n",
              "    }\n",
              "\n",
              "    .dataframe thead th {\n",
              "        text-align: right;\n",
              "    }\n",
              "</style>\n",
              "<table border=\"1\" class=\"dataframe\">\n",
              "  <thead>\n",
              "    <tr style=\"text-align: right;\">\n",
              "      <th></th>\n",
              "      <th>date_block_num</th>\n",
              "      <th>shop_id</th>\n",
              "      <th>item_id</th>\n",
              "      <th>item_category_id</th>\n",
              "      <th>item_price</th>\n",
              "      <th>mean_item_price</th>\n",
              "      <th>item_cnt</th>\n",
              "      <th>mean_item_cnt</th>\n",
              "      <th>transactions</th>\n",
              "      <th>year</th>\n",
              "      <th>month</th>\n",
              "    </tr>\n",
              "  </thead>\n",
              "  <tbody>\n",
              "    <tr>\n",
              "      <th>0</th>\n",
              "      <td>0</td>\n",
              "      <td>2</td>\n",
              "      <td>5572</td>\n",
              "      <td>2.0</td>\n",
              "      <td>10730.00</td>\n",
              "      <td>1532.857143</td>\n",
              "      <td>9.0</td>\n",
              "      <td>1.285714</td>\n",
              "      <td>7.0</td>\n",
              "      <td>2013</td>\n",
              "      <td>0</td>\n",
              "    </tr>\n",
              "    <tr>\n",
              "      <th>1</th>\n",
              "      <td>0</td>\n",
              "      <td>2</td>\n",
              "      <td>5643</td>\n",
              "      <td>2.0</td>\n",
              "      <td>4775.21</td>\n",
              "      <td>2387.605000</td>\n",
              "      <td>0.0</td>\n",
              "      <td>0.000000</td>\n",
              "      <td>2.0</td>\n",
              "      <td>2013</td>\n",
              "      <td>0</td>\n",
              "    </tr>\n",
              "    <tr>\n",
              "      <th>2</th>\n",
              "      <td>0</td>\n",
              "      <td>2</td>\n",
              "      <td>5583</td>\n",
              "      <td>5.0</td>\n",
              "      <td>1188.30</td>\n",
              "      <td>594.150000</td>\n",
              "      <td>2.0</td>\n",
              "      <td>1.000000</td>\n",
              "      <td>2.0</td>\n",
              "      <td>2013</td>\n",
              "      <td>0</td>\n",
              "    </tr>\n",
              "    <tr>\n",
              "      <th>3</th>\n",
              "      <td>0</td>\n",
              "      <td>2</td>\n",
              "      <td>7893</td>\n",
              "      <td>6.0</td>\n",
              "      <td>5970.00</td>\n",
              "      <td>1990.000000</td>\n",
              "      <td>3.0</td>\n",
              "      <td>1.000000</td>\n",
              "      <td>3.0</td>\n",
              "      <td>2013</td>\n",
              "      <td>0</td>\n",
              "    </tr>\n",
              "    <tr>\n",
              "      <th>4</th>\n",
              "      <td>0</td>\n",
              "      <td>2</td>\n",
              "      <td>7894</td>\n",
              "      <td>6.0</td>\n",
              "      <td>1490.00</td>\n",
              "      <td>1490.000000</td>\n",
              "      <td>1.0</td>\n",
              "      <td>1.000000</td>\n",
              "      <td>1.0</td>\n",
              "      <td>2013</td>\n",
              "      <td>0</td>\n",
              "    </tr>\n",
              "    <tr>\n",
              "      <th>...</th>\n",
              "      <td>...</td>\n",
              "      <td>...</td>\n",
              "      <td>...</td>\n",
              "      <td>...</td>\n",
              "      <td>...</td>\n",
              "      <td>...</td>\n",
              "      <td>...</td>\n",
              "      <td>...</td>\n",
              "      <td>...</td>\n",
              "      <td>...</td>\n",
              "      <td>...</td>\n",
              "    </tr>\n",
              "    <tr>\n",
              "      <th>6734443</th>\n",
              "      <td>33</td>\n",
              "      <td>36</td>\n",
              "      <td>9103</td>\n",
              "      <td>NaN</td>\n",
              "      <td>NaN</td>\n",
              "      <td>NaN</td>\n",
              "      <td>NaN</td>\n",
              "      <td>NaN</td>\n",
              "      <td>NaN</td>\n",
              "      <td>2015</td>\n",
              "      <td>9</td>\n",
              "    </tr>\n",
              "    <tr>\n",
              "      <th>6734444</th>\n",
              "      <td>33</td>\n",
              "      <td>36</td>\n",
              "      <td>9107</td>\n",
              "      <td>NaN</td>\n",
              "      <td>NaN</td>\n",
              "      <td>NaN</td>\n",
              "      <td>NaN</td>\n",
              "      <td>NaN</td>\n",
              "      <td>NaN</td>\n",
              "      <td>2015</td>\n",
              "      <td>9</td>\n",
              "    </tr>\n",
              "    <tr>\n",
              "      <th>6734445</th>\n",
              "      <td>33</td>\n",
              "      <td>36</td>\n",
              "      <td>5704</td>\n",
              "      <td>NaN</td>\n",
              "      <td>NaN</td>\n",
              "      <td>NaN</td>\n",
              "      <td>NaN</td>\n",
              "      <td>NaN</td>\n",
              "      <td>NaN</td>\n",
              "      <td>2015</td>\n",
              "      <td>9</td>\n",
              "    </tr>\n",
              "    <tr>\n",
              "      <th>6734446</th>\n",
              "      <td>33</td>\n",
              "      <td>36</td>\n",
              "      <td>12733</td>\n",
              "      <td>NaN</td>\n",
              "      <td>NaN</td>\n",
              "      <td>NaN</td>\n",
              "      <td>NaN</td>\n",
              "      <td>NaN</td>\n",
              "      <td>NaN</td>\n",
              "      <td>2015</td>\n",
              "      <td>9</td>\n",
              "    </tr>\n",
              "    <tr>\n",
              "      <th>6734447</th>\n",
              "      <td>33</td>\n",
              "      <td>36</td>\n",
              "      <td>15925</td>\n",
              "      <td>NaN</td>\n",
              "      <td>NaN</td>\n",
              "      <td>NaN</td>\n",
              "      <td>NaN</td>\n",
              "      <td>NaN</td>\n",
              "      <td>NaN</td>\n",
              "      <td>2015</td>\n",
              "      <td>9</td>\n",
              "    </tr>\n",
              "  </tbody>\n",
              "</table>\n",
              "<p>6734448 rows × 11 columns</p>\n",
              "</div>"
            ],
            "text/plain": [
              "         date_block_num  shop_id  item_id  ...  transactions  year  month\n",
              "0                     0        2     5572  ...           7.0  2013      0\n",
              "1                     0        2     5643  ...           2.0  2013      0\n",
              "2                     0        2     5583  ...           2.0  2013      0\n",
              "3                     0        2     7893  ...           3.0  2013      0\n",
              "4                     0        2     7894  ...           1.0  2013      0\n",
              "...                 ...      ...      ...  ...           ...   ...    ...\n",
              "6734443              33       36     9103  ...           NaN  2015      9\n",
              "6734444              33       36     9107  ...           NaN  2015      9\n",
              "6734445              33       36     5704  ...           NaN  2015      9\n",
              "6734446              33       36    12733  ...           NaN  2015      9\n",
              "6734447              33       36    15925  ...           NaN  2015      9\n",
              "\n",
              "[6734448 rows x 11 columns]"
            ]
          },
          "metadata": {
            "tags": []
          },
          "execution_count": 56
        }
      ]
    },
    {
      "cell_type": "code",
      "metadata": {
        "colab": {
          "base_uri": "https://localhost:8080/",
          "height": 457
        },
        "id": "LzgQGXfDDk-L",
        "outputId": "51133730-1333-4010-ca7b-013f9d5af1e8"
      },
      "source": [
        "\n",
        "sns.jointplot(x='item_cnt',y='item_price',data=train_monthly)"
      ],
      "execution_count": null,
      "outputs": [
        {
          "output_type": "execute_result",
          "data": {
            "text/plain": [
              "<seaborn.axisgrid.JointGrid at 0x7f6b296f0dd0>"
            ]
          },
          "metadata": {
            "tags": []
          },
          "execution_count": 57
        },
        {
          "output_type": "display_data",
          "data": {
            "image/png": "[encoded data removed]",
            "text/plain": [
              "<Figure size 432x432 with 3 Axes>"
            ]
          },
          "metadata": {
            "tags": []
          }
        }
      ]
    },
    {
      "cell_type": "code",
      "metadata": {
        "colab": {
          "base_uri": "https://localhost:8080/",
          "height": 408
        },
        "id": "PpL6Kb3XKu8u",
        "outputId": "89c7b41a-6e0b-4b85-9d2d-ddcd1c60e53e"
      },
      "source": [
        "train_monthly"
      ],
      "execution_count": null,
      "outputs": [
        {
          "output_type": "execute_result",
          "data": {
            "text/html": [
              "<div>\n",
              "<style scoped>\n",
              "    .dataframe tbody tr th:only-of-type {\n",
              "        vertical-align: middle;\n",
              "    }\n",
              "\n",
              "    .dataframe tbody tr th {\n",
              "        vertical-align: top;\n",
              "    }\n",
              "\n",
              "    .dataframe thead th {\n",
              "        text-align: right;\n",
              "    }\n",
              "</style>\n",
              "<table border=\"1\" class=\"dataframe\">\n",
              "  <thead>\n",
              "    <tr style=\"text-align: right;\">\n",
              "      <th></th>\n",
              "      <th>date_block_num</th>\n",
              "      <th>shop_id</th>\n",
              "      <th>item_id</th>\n",
              "      <th>item_category_id</th>\n",
              "      <th>item_price</th>\n",
              "      <th>mean_item_price</th>\n",
              "      <th>item_cnt</th>\n",
              "      <th>mean_item_cnt</th>\n",
              "      <th>transactions</th>\n",
              "      <th>year</th>\n",
              "      <th>month</th>\n",
              "    </tr>\n",
              "  </thead>\n",
              "  <tbody>\n",
              "    <tr>\n",
              "      <th>0</th>\n",
              "      <td>0</td>\n",
              "      <td>2</td>\n",
              "      <td>5572</td>\n",
              "      <td>2.0</td>\n",
              "      <td>10730.00</td>\n",
              "      <td>1532.857143</td>\n",
              "      <td>9.0</td>\n",
              "      <td>1.285714</td>\n",
              "      <td>7.0</td>\n",
              "      <td>2013</td>\n",
              "      <td>0</td>\n",
              "    </tr>\n",
              "    <tr>\n",
              "      <th>1</th>\n",
              "      <td>0</td>\n",
              "      <td>2</td>\n",
              "      <td>5643</td>\n",
              "      <td>2.0</td>\n",
              "      <td>4775.21</td>\n",
              "      <td>2387.605000</td>\n",
              "      <td>0.0</td>\n",
              "      <td>0.000000</td>\n",
              "      <td>2.0</td>\n",
              "      <td>2013</td>\n",
              "      <td>0</td>\n",
              "    </tr>\n",
              "    <tr>\n",
              "      <th>2</th>\n",
              "      <td>0</td>\n",
              "      <td>2</td>\n",
              "      <td>5583</td>\n",
              "      <td>5.0</td>\n",
              "      <td>1188.30</td>\n",
              "      <td>594.150000</td>\n",
              "      <td>2.0</td>\n",
              "      <td>1.000000</td>\n",
              "      <td>2.0</td>\n",
              "      <td>2013</td>\n",
              "      <td>0</td>\n",
              "    </tr>\n",
              "    <tr>\n",
              "      <th>3</th>\n",
              "      <td>0</td>\n",
              "      <td>2</td>\n",
              "      <td>7893</td>\n",
              "      <td>6.0</td>\n",
              "      <td>5970.00</td>\n",
              "      <td>1990.000000</td>\n",
              "      <td>3.0</td>\n",
              "      <td>1.000000</td>\n",
              "      <td>3.0</td>\n",
              "      <td>2013</td>\n",
              "      <td>0</td>\n",
              "    </tr>\n",
              "    <tr>\n",
              "      <th>4</th>\n",
              "      <td>0</td>\n",
              "      <td>2</td>\n",
              "      <td>7894</td>\n",
              "      <td>6.0</td>\n",
              "      <td>1490.00</td>\n",
              "      <td>1490.000000</td>\n",
              "      <td>1.0</td>\n",
              "      <td>1.000000</td>\n",
              "      <td>1.0</td>\n",
              "      <td>2013</td>\n",
              "      <td>0</td>\n",
              "    </tr>\n",
              "    <tr>\n",
              "      <th>...</th>\n",
              "      <td>...</td>\n",
              "      <td>...</td>\n",
              "      <td>...</td>\n",
              "      <td>...</td>\n",
              "      <td>...</td>\n",
              "      <td>...</td>\n",
              "      <td>...</td>\n",
              "      <td>...</td>\n",
              "      <td>...</td>\n",
              "      <td>...</td>\n",
              "      <td>...</td>\n",
              "    </tr>\n",
              "    <tr>\n",
              "      <th>6734443</th>\n",
              "      <td>33</td>\n",
              "      <td>36</td>\n",
              "      <td>9103</td>\n",
              "      <td>NaN</td>\n",
              "      <td>NaN</td>\n",
              "      <td>NaN</td>\n",
              "      <td>NaN</td>\n",
              "      <td>NaN</td>\n",
              "      <td>NaN</td>\n",
              "      <td>2015</td>\n",
              "      <td>9</td>\n",
              "    </tr>\n",
              "    <tr>\n",
              "      <th>6734444</th>\n",
              "      <td>33</td>\n",
              "      <td>36</td>\n",
              "      <td>9107</td>\n",
              "      <td>NaN</td>\n",
              "      <td>NaN</td>\n",
              "      <td>NaN</td>\n",
              "      <td>NaN</td>\n",
              "      <td>NaN</td>\n",
              "      <td>NaN</td>\n",
              "      <td>2015</td>\n",
              "      <td>9</td>\n",
              "    </tr>\n",
              "    <tr>\n",
              "      <th>6734445</th>\n",
              "      <td>33</td>\n",
              "      <td>36</td>\n",
              "      <td>5704</td>\n",
              "      <td>NaN</td>\n",
              "      <td>NaN</td>\n",
              "      <td>NaN</td>\n",
              "      <td>NaN</td>\n",
              "      <td>NaN</td>\n",
              "      <td>NaN</td>\n",
              "      <td>2015</td>\n",
              "      <td>9</td>\n",
              "    </tr>\n",
              "    <tr>\n",
              "      <th>6734446</th>\n",
              "      <td>33</td>\n",
              "      <td>36</td>\n",
              "      <td>12733</td>\n",
              "      <td>NaN</td>\n",
              "      <td>NaN</td>\n",
              "      <td>NaN</td>\n",
              "      <td>NaN</td>\n",
              "      <td>NaN</td>\n",
              "      <td>NaN</td>\n",
              "      <td>2015</td>\n",
              "      <td>9</td>\n",
              "    </tr>\n",
              "    <tr>\n",
              "      <th>6734447</th>\n",
              "      <td>33</td>\n",
              "      <td>36</td>\n",
              "      <td>15925</td>\n",
              "      <td>NaN</td>\n",
              "      <td>NaN</td>\n",
              "      <td>NaN</td>\n",
              "      <td>NaN</td>\n",
              "      <td>NaN</td>\n",
              "      <td>NaN</td>\n",
              "      <td>2015</td>\n",
              "      <td>9</td>\n",
              "    </tr>\n",
              "  </tbody>\n",
              "</table>\n",
              "<p>6734448 rows × 11 columns</p>\n",
              "</div>"
            ],
            "text/plain": [
              "         date_block_num  shop_id  item_id  ...  transactions  year  month\n",
              "0                     0        2     5572  ...           7.0  2013      0\n",
              "1                     0        2     5643  ...           2.0  2013      0\n",
              "2                     0        2     5583  ...           2.0  2013      0\n",
              "3                     0        2     7893  ...           3.0  2013      0\n",
              "4                     0        2     7894  ...           1.0  2013      0\n",
              "...                 ...      ...      ...  ...           ...   ...    ...\n",
              "6734443              33       36     9103  ...           NaN  2015      9\n",
              "6734444              33       36     9107  ...           NaN  2015      9\n",
              "6734445              33       36     5704  ...           NaN  2015      9\n",
              "6734446              33       36    12733  ...           NaN  2015      9\n",
              "6734447              33       36    15925  ...           NaN  2015      9\n",
              "\n",
              "[6734448 rows x 11 columns]"
            ]
          },
          "metadata": {
            "tags": []
          },
          "execution_count": 59
        }
      ]
    },
    {
      "cell_type": "code",
      "metadata": {
        "colab": {
          "base_uri": "https://localhost:8080/",
          "height": 457
        },
        "id": "gPtiUy_DEei2",
        "outputId": "ac4f0b23-cb90-4383-d46c-a312a2df5bff"
      },
      "source": [
        "sns.jointplot(data=train_monthly,x='transactions',y='item_cnt')"
      ],
      "execution_count": null,
      "outputs": [
        {
          "output_type": "execute_result",
          "data": {
            "text/plain": [
              "<seaborn.axisgrid.JointGrid at 0x7f6b28117f10>"
            ]
          },
          "metadata": {
            "tags": []
          },
          "execution_count": 60
        },
        {
          "output_type": "display_data",
          "data": {
            "image/png": "[encoded data removed]",
            "text/plain": [
              "<Figure size 432x432 with 3 Axes>"
            ]
          },
          "metadata": {
            "tags": []
          }
        }
      ]
    },
    {
      "cell_type": "code",
      "metadata": {
        "id": "H5WyC7YQJYql"
      },
      "source": [
        "jovian.commit()"
      ],
      "execution_count": null,
      "outputs": []
    },
    {
      "cell_type": "code",
      "metadata": {
        "id": "QBy6fzhbL-Zx"
      },
      "source": [
        ""
      ],
      "execution_count": null,
      "outputs": []
    }
  ]
}