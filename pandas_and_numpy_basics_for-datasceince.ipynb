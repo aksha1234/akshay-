{
  "nbformat": 4,
  "nbformat_minor": 0,
  "metadata": {
    "kernelspec": {
      "display_name": "Python 3",
      "language": "python",
      "name": "python3"
    },
    "language_info": {
      "codemirror_mode": {
        "name": "ipython",
        "version": 3
      },
      "file_extension": ".py",
      "mimetype": "text/x-python",
      "name": "python",
      "nbconvert_exporter": "python",
      "pygments_lexer": "ipython3",
      "version": "3.7.6"
    },
    "colab": {
      "name": "pandas-basics.ipynb",
      "provenance": [],
      "include_colab_link": true
    }
  },
  "cells": [
    {
      "cell_type": "markdown",
      "metadata": {
        "id": "view-in-github",
        "colab_type": "text"
      },
      "source": [
        "<a href=\"https://colab.research.google.com/github/aksha1234/akshay-/blob/master/pandas_and_numpy_basics_for-datasceince.ipynb\" target=\"_parent\"><img src=\"https://colab.research.google.com/assets/colab-badge.svg\" alt=\"Open In Colab\"/></a>"
      ]
    },
    {
      "cell_type": "markdown",
      "metadata": {
        "id": "gL2V1fXW7mzu"
      },
      "source": [
        "# In this notebook you can learn best of Pandas and Numpy Library which can be use for data science works.\n",
        "\n",
        "<img align=\"left\" width=\"500\" height=\"500\" src=\"https://financialtribune.com/sites/default/files/field/image/17january/13_panda_267.jpg\">\n",
        "\n",
        "<img align=\"left\" width=\"500\" height=\"500\" src=\"https://www.freecodecamp.org/news/content/images/2020/09/numpy-1.png\">\n",
        "\n"
      ]
    },
    {
      "cell_type": "code",
      "metadata": {
        "colab": {
          "base_uri": "https://localhost:8080/"
        },
        "id": "4hzlWwXO4hot",
        "outputId": "886157dd-3114-4592-e785-23e9608f809c"
      },
      "source": [
        "# Jovian Commit Essentials\n",
        "# Please retain and execute this cell without modifying the contents for `jovian.commit` to work\n",
        "!pip install jovian --upgrade -q\n",
        "import jovian\n",
        "jovian.set_project('pandas-basics')\n",
        "jovian.set_colab_id('1kzVMQfbiaKAk-ZofK3_pmB2KjSAt2RaT')"
      ],
      "execution_count": 2,
      "outputs": [
        {
          "output_type": "stream",
          "text": [
            "\u001b[?25l\r\u001b[K     |████▊                           | 10 kB 21.8 MB/s eta 0:00:01\r\u001b[K     |█████████▌                      | 20 kB 9.9 MB/s eta 0:00:01\r\u001b[K     |██████████████▎                 | 30 kB 7.8 MB/s eta 0:00:01\r\u001b[K     |███████████████████             | 40 kB 7.4 MB/s eta 0:00:01\r\u001b[K     |███████████████████████▉        | 51 kB 4.1 MB/s eta 0:00:01\r\u001b[K     |████████████████████████████▋   | 61 kB 4.3 MB/s eta 0:00:01\r\u001b[K     |████████████████████████████████| 68 kB 2.5 MB/s \n",
            "\u001b[?25h  Building wheel for uuid (setup.py) ... \u001b[?25l\u001b[?25hdone\n"
          ],
          "name": "stdout"
        }
      ]
    },
    {
      "cell_type": "markdown",
      "metadata": {
        "id": "Q9WRbRbN4hoz"
      },
      "source": [
        "# Pandas-Basics\n",
        "\n"
      ]
    },
    {
      "cell_type": "code",
      "metadata": {
        "id": "KJ3kkhin4ho0"
      },
      "source": [
        "!pip install jovian --upgrade --quiet"
      ],
      "execution_count": 3,
      "outputs": []
    },
    {
      "cell_type": "code",
      "metadata": {
        "id": "abDD1_e34ho1"
      },
      "source": [
        "import jovian"
      ],
      "execution_count": 4,
      "outputs": []
    },
    {
      "cell_type": "code",
      "metadata": {
        "colab": {
          "base_uri": "https://localhost:8080/",
          "height": 121
        },
        "id": "QvCohG7Z4ho2",
        "outputId": "311786e1-722a-4168-9390-141c8b96c2ac"
      },
      "source": [
        "# Execute this to save new versions of the notebook\n",
        "jovian.commit(project=\"pandas-basics\")"
      ],
      "execution_count": 5,
      "outputs": [
        {
          "output_type": "stream",
          "text": [
            "[jovian] Detected Colab notebook...\u001b[0m\n",
            "[jovian] Please enter your API key ( from https://jovian.ai/ ):\u001b[0m\n",
            "API KEY: ··········\n",
            "[jovian] Uploading colab notebook to Jovian...\u001b[0m\n",
            "Committed successfully! https://jovian.ai/akkikadwe/pandas-basics\n"
          ],
          "name": "stdout"
        },
        {
          "output_type": "execute_result",
          "data": {
            "application/vnd.google.colaboratory.intrinsic+json": {
              "type": "string"
            },
            "text/plain": [
              "'https://jovian.ai/akkikadwe/pandas-basics'"
            ]
          },
          "metadata": {},
          "execution_count": 5
        }
      ]
    },
    {
      "cell_type": "code",
      "metadata": {
        "id": "Q5SUvb234ho3"
      },
      "source": [
        "import pandas as pd"
      ],
      "execution_count": 6,
      "outputs": []
    },
    {
      "cell_type": "code",
      "metadata": {
        "id": "NMm3Lrt25eUe"
      },
      "source": [
        "df=pd.read_csv('/content/Literacy Data 2011.csv')"
      ],
      "execution_count": 8,
      "outputs": []
    },
    {
      "cell_type": "code",
      "metadata": {
        "colab": {
          "base_uri": "https://localhost:8080/",
          "height": 424
        },
        "id": "7LEmSW9J5vKj",
        "outputId": "3fc10696-5d9e-4ecf-adfe-9ec3ad469f9a"
      },
      "source": [
        "df"
      ],
      "execution_count": 9,
      "outputs": [
        {
          "output_type": "execute_result",
          "data": {
            "text/html": [
              "<div>\n",
              "<style scoped>\n",
              "    .dataframe tbody tr th:only-of-type {\n",
              "        vertical-align: middle;\n",
              "    }\n",
              "\n",
              "    .dataframe tbody tr th {\n",
              "        vertical-align: top;\n",
              "    }\n",
              "\n",
              "    .dataframe thead th {\n",
              "        text-align: right;\n",
              "    }\n",
              "</style>\n",
              "<table border=\"1\" class=\"dataframe\">\n",
              "  <thead>\n",
              "    <tr style=\"text-align: right;\">\n",
              "      <th></th>\n",
              "      <th>Unnamed: 0</th>\n",
              "      <th>District</th>\n",
              "      <th>State</th>\n",
              "      <th>Literacy</th>\n",
              "    </tr>\n",
              "  </thead>\n",
              "  <tbody>\n",
              "    <tr>\n",
              "      <th>0</th>\n",
              "      <td>1</td>\n",
              "      <td>Thane</td>\n",
              "      <td>Maharashtra</td>\n",
              "      <td>84.53</td>\n",
              "    </tr>\n",
              "    <tr>\n",
              "      <th>1</th>\n",
              "      <td>2</td>\n",
              "      <td>North Twenty Four Parganas</td>\n",
              "      <td>West Bengal</td>\n",
              "      <td>84.06</td>\n",
              "    </tr>\n",
              "    <tr>\n",
              "      <th>2</th>\n",
              "      <td>3</td>\n",
              "      <td>Bangalore</td>\n",
              "      <td>Karnataka</td>\n",
              "      <td>87.67</td>\n",
              "    </tr>\n",
              "    <tr>\n",
              "      <th>3</th>\n",
              "      <td>4</td>\n",
              "      <td>Pune</td>\n",
              "      <td>Maharashtra</td>\n",
              "      <td>86.15</td>\n",
              "    </tr>\n",
              "    <tr>\n",
              "      <th>4</th>\n",
              "      <td>5</td>\n",
              "      <td>Mumbai Suburban</td>\n",
              "      <td>Maharashtra</td>\n",
              "      <td>89.91</td>\n",
              "    </tr>\n",
              "    <tr>\n",
              "      <th>...</th>\n",
              "      <td>...</td>\n",
              "      <td>...</td>\n",
              "      <td>...</td>\n",
              "      <td>...</td>\n",
              "    </tr>\n",
              "    <tr>\n",
              "      <th>635</th>\n",
              "      <td>636</td>\n",
              "      <td>Nicobars</td>\n",
              "      <td>Andaman And Nicobar Islands</td>\n",
              "      <td>78.06</td>\n",
              "    </tr>\n",
              "    <tr>\n",
              "      <th>636</th>\n",
              "      <td>637</td>\n",
              "      <td>Upper Siang</td>\n",
              "      <td>Arunachal Pradesh</td>\n",
              "      <td>59.99</td>\n",
              "    </tr>\n",
              "    <tr>\n",
              "      <th>637</th>\n",
              "      <td>638</td>\n",
              "      <td>Lahul and Spiti</td>\n",
              "      <td>Himachal Pradesh</td>\n",
              "      <td>76.81</td>\n",
              "    </tr>\n",
              "    <tr>\n",
              "      <th>638</th>\n",
              "      <td>639</td>\n",
              "      <td>Anjaw</td>\n",
              "      <td>Arunachal Pradesh</td>\n",
              "      <td>56.46</td>\n",
              "    </tr>\n",
              "    <tr>\n",
              "      <th>639</th>\n",
              "      <td>640</td>\n",
              "      <td>Dibang Valley</td>\n",
              "      <td>Arunachal Pradesh</td>\n",
              "      <td>64.10</td>\n",
              "    </tr>\n",
              "  </tbody>\n",
              "</table>\n",
              "<p>640 rows × 4 columns</p>\n",
              "</div>"
            ],
            "text/plain": [
              "     Unnamed: 0  ... Literacy\n",
              "0             1  ...    84.53\n",
              "1             2  ...    84.06\n",
              "2             3  ...    87.67\n",
              "3             4  ...    86.15\n",
              "4             5  ...    89.91\n",
              "..          ...  ...      ...\n",
              "635         636  ...    78.06\n",
              "636         637  ...    59.99\n",
              "637         638  ...    76.81\n",
              "638         639  ...    56.46\n",
              "639         640  ...    64.10\n",
              "\n",
              "[640 rows x 4 columns]"
            ]
          },
          "metadata": {},
          "execution_count": 9
        }
      ]
    },
    {
      "cell_type": "code",
      "metadata": {
        "colab": {
          "base_uri": "https://localhost:8080/",
          "height": 424
        },
        "id": "VCBFSjbM5v_m",
        "outputId": "3ce5f976-1d4d-4cda-985b-acdac0354ff4"
      },
      "source": [
        "df.head(100)"
      ],
      "execution_count": 10,
      "outputs": [
        {
          "output_type": "execute_result",
          "data": {
            "text/html": [
              "<div>\n",
              "<style scoped>\n",
              "    .dataframe tbody tr th:only-of-type {\n",
              "        vertical-align: middle;\n",
              "    }\n",
              "\n",
              "    .dataframe tbody tr th {\n",
              "        vertical-align: top;\n",
              "    }\n",
              "\n",
              "    .dataframe thead th {\n",
              "        text-align: right;\n",
              "    }\n",
              "</style>\n",
              "<table border=\"1\" class=\"dataframe\">\n",
              "  <thead>\n",
              "    <tr style=\"text-align: right;\">\n",
              "      <th></th>\n",
              "      <th>Unnamed: 0</th>\n",
              "      <th>District</th>\n",
              "      <th>State</th>\n",
              "      <th>Literacy</th>\n",
              "    </tr>\n",
              "  </thead>\n",
              "  <tbody>\n",
              "    <tr>\n",
              "      <th>0</th>\n",
              "      <td>1</td>\n",
              "      <td>Thane</td>\n",
              "      <td>Maharashtra</td>\n",
              "      <td>84.53</td>\n",
              "    </tr>\n",
              "    <tr>\n",
              "      <th>1</th>\n",
              "      <td>2</td>\n",
              "      <td>North Twenty Four Parganas</td>\n",
              "      <td>West Bengal</td>\n",
              "      <td>84.06</td>\n",
              "    </tr>\n",
              "    <tr>\n",
              "      <th>2</th>\n",
              "      <td>3</td>\n",
              "      <td>Bangalore</td>\n",
              "      <td>Karnataka</td>\n",
              "      <td>87.67</td>\n",
              "    </tr>\n",
              "    <tr>\n",
              "      <th>3</th>\n",
              "      <td>4</td>\n",
              "      <td>Pune</td>\n",
              "      <td>Maharashtra</td>\n",
              "      <td>86.15</td>\n",
              "    </tr>\n",
              "    <tr>\n",
              "      <th>4</th>\n",
              "      <td>5</td>\n",
              "      <td>Mumbai Suburban</td>\n",
              "      <td>Maharashtra</td>\n",
              "      <td>89.91</td>\n",
              "    </tr>\n",
              "    <tr>\n",
              "      <th>...</th>\n",
              "      <td>...</td>\n",
              "      <td>...</td>\n",
              "      <td>...</td>\n",
              "      <td>...</td>\n",
              "    </tr>\n",
              "    <tr>\n",
              "      <th>95</th>\n",
              "      <td>96</td>\n",
              "      <td>Sitamarhi</td>\n",
              "      <td>Bihar</td>\n",
              "      <td>52.05</td>\n",
              "    </tr>\n",
              "    <tr>\n",
              "      <th>96</th>\n",
              "      <td>97</td>\n",
              "      <td>Rae Bareli</td>\n",
              "      <td>Uttar Pradesh</td>\n",
              "      <td>67.25</td>\n",
              "    </tr>\n",
              "    <tr>\n",
              "      <th>97</th>\n",
              "      <td>98</td>\n",
              "      <td>Prakasam</td>\n",
              "      <td>Andhra Pradesh</td>\n",
              "      <td>63.08</td>\n",
              "    </tr>\n",
              "    <tr>\n",
              "      <th>98</th>\n",
              "      <td>99</td>\n",
              "      <td>Nanded</td>\n",
              "      <td>Maharashtra</td>\n",
              "      <td>75.45</td>\n",
              "    </tr>\n",
              "    <tr>\n",
              "      <th>99</th>\n",
              "      <td>100</td>\n",
              "      <td>Durg</td>\n",
              "      <td>Chhattisgarh</td>\n",
              "      <td>79.06</td>\n",
              "    </tr>\n",
              "  </tbody>\n",
              "</table>\n",
              "<p>100 rows × 4 columns</p>\n",
              "</div>"
            ],
            "text/plain": [
              "    Unnamed: 0                     District            State  Literacy\n",
              "0            1                        Thane      Maharashtra     84.53\n",
              "1            2   North Twenty Four Parganas      West Bengal     84.06\n",
              "2            3                    Bangalore        Karnataka     87.67\n",
              "3            4                         Pune      Maharashtra     86.15\n",
              "4            5              Mumbai Suburban      Maharashtra     89.91\n",
              "..         ...                          ...              ...       ...\n",
              "95          96                    Sitamarhi            Bihar     52.05\n",
              "96          97                   Rae Bareli    Uttar Pradesh     67.25\n",
              "97          98                     Prakasam   Andhra Pradesh     63.08\n",
              "98          99                       Nanded      Maharashtra     75.45\n",
              "99         100                         Durg     Chhattisgarh     79.06\n",
              "\n",
              "[100 rows x 4 columns]"
            ]
          },
          "metadata": {},
          "execution_count": 10
        }
      ]
    },
    {
      "cell_type": "markdown",
      "metadata": {
        "id": "X1h103aR55P7"
      },
      "source": [
        "## 1.2 Create from dictionary "
      ]
    },
    {
      "cell_type": "code",
      "metadata": {
        "id": "MyB-P1NJ529G"
      },
      "source": [
        "tempdict={'feature':['a','b','b','c','d'],'number':[1,2,3,4,5]}"
      ],
      "execution_count": 11,
      "outputs": []
    },
    {
      "cell_type": "code",
      "metadata": {
        "colab": {
          "base_uri": "https://localhost:8080/",
          "height": 206
        },
        "id": "8q3H-iTE6K_b",
        "outputId": "bd0774ac-673b-4508-dec6-d75f18b59cbf"
      },
      "source": [
        "pd.DataFrame.from_dict(tempdict)"
      ],
      "execution_count": 12,
      "outputs": [
        {
          "output_type": "execute_result",
          "data": {
            "text/html": [
              "<div>\n",
              "<style scoped>\n",
              "    .dataframe tbody tr th:only-of-type {\n",
              "        vertical-align: middle;\n",
              "    }\n",
              "\n",
              "    .dataframe tbody tr th {\n",
              "        vertical-align: top;\n",
              "    }\n",
              "\n",
              "    .dataframe thead th {\n",
              "        text-align: right;\n",
              "    }\n",
              "</style>\n",
              "<table border=\"1\" class=\"dataframe\">\n",
              "  <thead>\n",
              "    <tr style=\"text-align: right;\">\n",
              "      <th></th>\n",
              "      <th>feature</th>\n",
              "      <th>number</th>\n",
              "    </tr>\n",
              "  </thead>\n",
              "  <tbody>\n",
              "    <tr>\n",
              "      <th>0</th>\n",
              "      <td>a</td>\n",
              "      <td>1</td>\n",
              "    </tr>\n",
              "    <tr>\n",
              "      <th>1</th>\n",
              "      <td>b</td>\n",
              "      <td>2</td>\n",
              "    </tr>\n",
              "    <tr>\n",
              "      <th>2</th>\n",
              "      <td>b</td>\n",
              "      <td>3</td>\n",
              "    </tr>\n",
              "    <tr>\n",
              "      <th>3</th>\n",
              "      <td>c</td>\n",
              "      <td>4</td>\n",
              "    </tr>\n",
              "    <tr>\n",
              "      <th>4</th>\n",
              "      <td>d</td>\n",
              "      <td>5</td>\n",
              "    </tr>\n",
              "  </tbody>\n",
              "</table>\n",
              "</div>"
            ],
            "text/plain": [
              "  feature  number\n",
              "0       a       1\n",
              "1       b       2\n",
              "2       b       3\n",
              "3       c       4\n",
              "4       d       5"
            ]
          },
          "metadata": {},
          "execution_count": 12
        }
      ]
    },
    {
      "cell_type": "markdown",
      "metadata": {
        "id": "PF2of--C6R7i"
      },
      "source": [
        "## 2. Read"
      ]
    },
    {
      "cell_type": "code",
      "metadata": {
        "colab": {
          "base_uri": "https://localhost:8080/",
          "height": 362
        },
        "id": "zRvtQxMK6PZH",
        "outputId": "c80fcfc1-a315-4da1-9484-42c0a14074d7"
      },
      "source": [
        "df.tail(10)"
      ],
      "execution_count": 13,
      "outputs": [
        {
          "output_type": "execute_result",
          "data": {
            "text/html": [
              "<div>\n",
              "<style scoped>\n",
              "    .dataframe tbody tr th:only-of-type {\n",
              "        vertical-align: middle;\n",
              "    }\n",
              "\n",
              "    .dataframe tbody tr th {\n",
              "        vertical-align: top;\n",
              "    }\n",
              "\n",
              "    .dataframe thead th {\n",
              "        text-align: right;\n",
              "    }\n",
              "</style>\n",
              "<table border=\"1\" class=\"dataframe\">\n",
              "  <thead>\n",
              "    <tr style=\"text-align: right;\">\n",
              "      <th></th>\n",
              "      <th>Unnamed: 0</th>\n",
              "      <th>District</th>\n",
              "      <th>State</th>\n",
              "      <th>Literacy</th>\n",
              "    </tr>\n",
              "  </thead>\n",
              "  <tbody>\n",
              "    <tr>\n",
              "      <th>630</th>\n",
              "      <td>631</td>\n",
              "      <td>Diu</td>\n",
              "      <td>Daman and Diu</td>\n",
              "      <td>83.46</td>\n",
              "    </tr>\n",
              "    <tr>\n",
              "      <th>631</th>\n",
              "      <td>632</td>\n",
              "      <td>Longleng</td>\n",
              "      <td>Nagaland</td>\n",
              "      <td>72.17</td>\n",
              "    </tr>\n",
              "    <tr>\n",
              "      <th>632</th>\n",
              "      <td>633</td>\n",
              "      <td>Tawang</td>\n",
              "      <td>Arunachal Pradesh</td>\n",
              "      <td>59.00</td>\n",
              "    </tr>\n",
              "    <tr>\n",
              "      <th>633</th>\n",
              "      <td>634</td>\n",
              "      <td>North Sikkim</td>\n",
              "      <td>Sikkim</td>\n",
              "      <td>78.01</td>\n",
              "    </tr>\n",
              "    <tr>\n",
              "      <th>634</th>\n",
              "      <td>635</td>\n",
              "      <td>Mahe</td>\n",
              "      <td>Puducherry</td>\n",
              "      <td>97.87</td>\n",
              "    </tr>\n",
              "    <tr>\n",
              "      <th>635</th>\n",
              "      <td>636</td>\n",
              "      <td>Nicobars</td>\n",
              "      <td>Andaman And Nicobar Islands</td>\n",
              "      <td>78.06</td>\n",
              "    </tr>\n",
              "    <tr>\n",
              "      <th>636</th>\n",
              "      <td>637</td>\n",
              "      <td>Upper Siang</td>\n",
              "      <td>Arunachal Pradesh</td>\n",
              "      <td>59.99</td>\n",
              "    </tr>\n",
              "    <tr>\n",
              "      <th>637</th>\n",
              "      <td>638</td>\n",
              "      <td>Lahul and Spiti</td>\n",
              "      <td>Himachal Pradesh</td>\n",
              "      <td>76.81</td>\n",
              "    </tr>\n",
              "    <tr>\n",
              "      <th>638</th>\n",
              "      <td>639</td>\n",
              "      <td>Anjaw</td>\n",
              "      <td>Arunachal Pradesh</td>\n",
              "      <td>56.46</td>\n",
              "    </tr>\n",
              "    <tr>\n",
              "      <th>639</th>\n",
              "      <td>640</td>\n",
              "      <td>Dibang Valley</td>\n",
              "      <td>Arunachal Pradesh</td>\n",
              "      <td>64.10</td>\n",
              "    </tr>\n",
              "  </tbody>\n",
              "</table>\n",
              "</div>"
            ],
            "text/plain": [
              "     Unnamed: 0          District                         State  Literacy\n",
              "630         631               Diu                 Daman and Diu     83.46\n",
              "631         632          Longleng                      Nagaland     72.17\n",
              "632         633            Tawang             Arunachal Pradesh     59.00\n",
              "633         634      North Sikkim                        Sikkim     78.01\n",
              "634         635              Mahe                    Puducherry     97.87\n",
              "635         636          Nicobars   Andaman And Nicobar Islands     78.06\n",
              "636         637       Upper Siang             Arunachal Pradesh     59.99\n",
              "637         638   Lahul and Spiti              Himachal Pradesh     76.81\n",
              "638         639             Anjaw             Arunachal Pradesh     56.46\n",
              "639         640     Dibang Valley             Arunachal Pradesh     64.10"
            ]
          },
          "metadata": {},
          "execution_count": 13
        }
      ]
    },
    {
      "cell_type": "markdown",
      "metadata": {
        "id": "ceQZi9q56kYV"
      },
      "source": [
        "## show columns and datatype"
      ]
    },
    {
      "cell_type": "code",
      "metadata": {
        "colab": {
          "base_uri": "https://localhost:8080/"
        },
        "id": "DOeVEr_a6eul",
        "outputId": "497007b4-36b2-434d-8fa7-c802740d8550"
      },
      "source": [
        "df.columns.tolist()"
      ],
      "execution_count": 14,
      "outputs": [
        {
          "output_type": "execute_result",
          "data": {
            "text/plain": [
              "['Unnamed: 0', 'District', 'State', 'Literacy']"
            ]
          },
          "metadata": {},
          "execution_count": 14
        }
      ]
    },
    {
      "cell_type": "code",
      "metadata": {
        "colab": {
          "base_uri": "https://localhost:8080/"
        },
        "id": "tb2ukS106pan",
        "outputId": "a2776546-b1d4-40fa-9ba4-b4f931da2583"
      },
      "source": [
        "df.dtypes"
      ],
      "execution_count": 15,
      "outputs": [
        {
          "output_type": "execute_result",
          "data": {
            "text/plain": [
              "Unnamed: 0      int64\n",
              "District       object\n",
              "State          object\n",
              "Literacy      float64\n",
              "dtype: object"
            ]
          },
          "metadata": {},
          "execution_count": 15
        }
      ]
    },
    {
      "cell_type": "markdown",
      "metadata": {
        "id": "cP6YIqq36xgU"
      },
      "source": [
        "## Summary statistics"
      ]
    },
    {
      "cell_type": "code",
      "metadata": {
        "colab": {
          "base_uri": "https://localhost:8080/",
          "height": 300
        },
        "id": "RnbhqeID6tsy",
        "outputId": "110dae94-cde0-4520-c814-8654ac0d05c4"
      },
      "source": [
        "df.describe()"
      ],
      "execution_count": 16,
      "outputs": [
        {
          "output_type": "execute_result",
          "data": {
            "text/html": [
              "<div>\n",
              "<style scoped>\n",
              "    .dataframe tbody tr th:only-of-type {\n",
              "        vertical-align: middle;\n",
              "    }\n",
              "\n",
              "    .dataframe tbody tr th {\n",
              "        vertical-align: top;\n",
              "    }\n",
              "\n",
              "    .dataframe thead th {\n",
              "        text-align: right;\n",
              "    }\n",
              "</style>\n",
              "<table border=\"1\" class=\"dataframe\">\n",
              "  <thead>\n",
              "    <tr style=\"text-align: right;\">\n",
              "      <th></th>\n",
              "      <th>Unnamed: 0</th>\n",
              "      <th>Literacy</th>\n",
              "    </tr>\n",
              "  </thead>\n",
              "  <tbody>\n",
              "    <tr>\n",
              "      <th>count</th>\n",
              "      <td>640.000000</td>\n",
              "      <td>640.000000</td>\n",
              "    </tr>\n",
              "    <tr>\n",
              "      <th>mean</th>\n",
              "      <td>320.500000</td>\n",
              "      <td>72.308422</td>\n",
              "    </tr>\n",
              "    <tr>\n",
              "      <th>std</th>\n",
              "      <td>184.896367</td>\n",
              "      <td>10.488816</td>\n",
              "    </tr>\n",
              "    <tr>\n",
              "      <th>min</th>\n",
              "      <td>1.000000</td>\n",
              "      <td>36.100000</td>\n",
              "    </tr>\n",
              "    <tr>\n",
              "      <th>25%</th>\n",
              "      <td>160.750000</td>\n",
              "      <td>65.095000</td>\n",
              "    </tr>\n",
              "    <tr>\n",
              "      <th>50%</th>\n",
              "      <td>320.500000</td>\n",
              "      <td>72.170000</td>\n",
              "    </tr>\n",
              "    <tr>\n",
              "      <th>75%</th>\n",
              "      <td>480.250000</td>\n",
              "      <td>79.962500</td>\n",
              "    </tr>\n",
              "    <tr>\n",
              "      <th>max</th>\n",
              "      <td>640.000000</td>\n",
              "      <td>97.910000</td>\n",
              "    </tr>\n",
              "  </tbody>\n",
              "</table>\n",
              "</div>"
            ],
            "text/plain": [
              "       Unnamed: 0    Literacy\n",
              "count  640.000000  640.000000\n",
              "mean   320.500000   72.308422\n",
              "std    184.896367   10.488816\n",
              "min      1.000000   36.100000\n",
              "25%    160.750000   65.095000\n",
              "50%    320.500000   72.170000\n",
              "75%    480.250000   79.962500\n",
              "max    640.000000   97.910000"
            ]
          },
          "metadata": {},
          "execution_count": 16
        }
      ]
    },
    {
      "cell_type": "code",
      "metadata": {
        "colab": {
          "base_uri": "https://localhost:8080/",
          "height": 300
        },
        "id": "hq3TzZIk60Qv",
        "outputId": "47cc580a-5dc1-4bd8-a2a7-49927dbc017a"
      },
      "source": [
        "df.describe([0.5,0.6,0.7])"
      ],
      "execution_count": 17,
      "outputs": [
        {
          "output_type": "execute_result",
          "data": {
            "text/html": [
              "<div>\n",
              "<style scoped>\n",
              "    .dataframe tbody tr th:only-of-type {\n",
              "        vertical-align: middle;\n",
              "    }\n",
              "\n",
              "    .dataframe tbody tr th {\n",
              "        vertical-align: top;\n",
              "    }\n",
              "\n",
              "    .dataframe thead th {\n",
              "        text-align: right;\n",
              "    }\n",
              "</style>\n",
              "<table border=\"1\" class=\"dataframe\">\n",
              "  <thead>\n",
              "    <tr style=\"text-align: right;\">\n",
              "      <th></th>\n",
              "      <th>Unnamed: 0</th>\n",
              "      <th>Literacy</th>\n",
              "    </tr>\n",
              "  </thead>\n",
              "  <tbody>\n",
              "    <tr>\n",
              "      <th>count</th>\n",
              "      <td>640.000000</td>\n",
              "      <td>640.000000</td>\n",
              "    </tr>\n",
              "    <tr>\n",
              "      <th>mean</th>\n",
              "      <td>320.500000</td>\n",
              "      <td>72.308422</td>\n",
              "    </tr>\n",
              "    <tr>\n",
              "      <th>std</th>\n",
              "      <td>184.896367</td>\n",
              "      <td>10.488816</td>\n",
              "    </tr>\n",
              "    <tr>\n",
              "      <th>min</th>\n",
              "      <td>1.000000</td>\n",
              "      <td>36.100000</td>\n",
              "    </tr>\n",
              "    <tr>\n",
              "      <th>50%</th>\n",
              "      <td>320.500000</td>\n",
              "      <td>72.170000</td>\n",
              "    </tr>\n",
              "    <tr>\n",
              "      <th>60%</th>\n",
              "      <td>384.400000</td>\n",
              "      <td>75.268000</td>\n",
              "    </tr>\n",
              "    <tr>\n",
              "      <th>70%</th>\n",
              "      <td>448.300000</td>\n",
              "      <td>78.179000</td>\n",
              "    </tr>\n",
              "    <tr>\n",
              "      <th>max</th>\n",
              "      <td>640.000000</td>\n",
              "      <td>97.910000</td>\n",
              "    </tr>\n",
              "  </tbody>\n",
              "</table>\n",
              "</div>"
            ],
            "text/plain": [
              "       Unnamed: 0    Literacy\n",
              "count  640.000000  640.000000\n",
              "mean   320.500000   72.308422\n",
              "std    184.896367   10.488816\n",
              "min      1.000000   36.100000\n",
              "50%    320.500000   72.170000\n",
              "60%    384.400000   75.268000\n",
              "70%    448.300000   78.179000\n",
              "max    640.000000   97.910000"
            ]
          },
          "metadata": {},
          "execution_count": 17
        }
      ]
    },
    {
      "cell_type": "code",
      "metadata": {
        "colab": {
          "base_uri": "https://localhost:8080/",
          "height": 174
        },
        "id": "v8kQOEwi65Pt",
        "outputId": "abfaf8cb-0be4-4454-9b92-4af5a8281df1"
      },
      "source": [
        "## for objects \n",
        "df.describe(include='object')"
      ],
      "execution_count": 18,
      "outputs": [
        {
          "output_type": "execute_result",
          "data": {
            "text/html": [
              "<div>\n",
              "<style scoped>\n",
              "    .dataframe tbody tr th:only-of-type {\n",
              "        vertical-align: middle;\n",
              "    }\n",
              "\n",
              "    .dataframe tbody tr th {\n",
              "        vertical-align: top;\n",
              "    }\n",
              "\n",
              "    .dataframe thead th {\n",
              "        text-align: right;\n",
              "    }\n",
              "</style>\n",
              "<table border=\"1\" class=\"dataframe\">\n",
              "  <thead>\n",
              "    <tr style=\"text-align: right;\">\n",
              "      <th></th>\n",
              "      <th>District</th>\n",
              "      <th>State</th>\n",
              "    </tr>\n",
              "  </thead>\n",
              "  <tbody>\n",
              "    <tr>\n",
              "      <th>count</th>\n",
              "      <td>640</td>\n",
              "      <td>640</td>\n",
              "    </tr>\n",
              "    <tr>\n",
              "      <th>unique</th>\n",
              "      <td>634</td>\n",
              "      <td>35</td>\n",
              "    </tr>\n",
              "    <tr>\n",
              "      <th>top</th>\n",
              "      <td>Bijapur</td>\n",
              "      <td>Uttar Pradesh</td>\n",
              "    </tr>\n",
              "    <tr>\n",
              "      <th>freq</th>\n",
              "      <td>2</td>\n",
              "      <td>71</td>\n",
              "    </tr>\n",
              "  </tbody>\n",
              "</table>\n",
              "</div>"
            ],
            "text/plain": [
              "        District           State\n",
              "count        640             640\n",
              "unique       634              35\n",
              "top      Bijapur   Uttar Pradesh\n",
              "freq           2              71"
            ]
          },
          "metadata": {},
          "execution_count": 18
        }
      ]
    },
    {
      "cell_type": "markdown",
      "metadata": {
        "id": "yzHv8W0z7C5C"
      },
      "source": [
        "## filetering columns"
      ]
    },
    {
      "cell_type": "code",
      "metadata": {
        "colab": {
          "base_uri": "https://localhost:8080/",
          "height": 424
        },
        "id": "dqYYWGGd6-43",
        "outputId": "2856a67b-6af4-4f30-e577-decc5a309a68"
      },
      "source": [
        "df[['State','District']]"
      ],
      "execution_count": 19,
      "outputs": [
        {
          "output_type": "execute_result",
          "data": {
            "text/html": [
              "<div>\n",
              "<style scoped>\n",
              "    .dataframe tbody tr th:only-of-type {\n",
              "        vertical-align: middle;\n",
              "    }\n",
              "\n",
              "    .dataframe tbody tr th {\n",
              "        vertical-align: top;\n",
              "    }\n",
              "\n",
              "    .dataframe thead th {\n",
              "        text-align: right;\n",
              "    }\n",
              "</style>\n",
              "<table border=\"1\" class=\"dataframe\">\n",
              "  <thead>\n",
              "    <tr style=\"text-align: right;\">\n",
              "      <th></th>\n",
              "      <th>State</th>\n",
              "      <th>District</th>\n",
              "    </tr>\n",
              "  </thead>\n",
              "  <tbody>\n",
              "    <tr>\n",
              "      <th>0</th>\n",
              "      <td>Maharashtra</td>\n",
              "      <td>Thane</td>\n",
              "    </tr>\n",
              "    <tr>\n",
              "      <th>1</th>\n",
              "      <td>West Bengal</td>\n",
              "      <td>North Twenty Four Parganas</td>\n",
              "    </tr>\n",
              "    <tr>\n",
              "      <th>2</th>\n",
              "      <td>Karnataka</td>\n",
              "      <td>Bangalore</td>\n",
              "    </tr>\n",
              "    <tr>\n",
              "      <th>3</th>\n",
              "      <td>Maharashtra</td>\n",
              "      <td>Pune</td>\n",
              "    </tr>\n",
              "    <tr>\n",
              "      <th>4</th>\n",
              "      <td>Maharashtra</td>\n",
              "      <td>Mumbai Suburban</td>\n",
              "    </tr>\n",
              "    <tr>\n",
              "      <th>...</th>\n",
              "      <td>...</td>\n",
              "      <td>...</td>\n",
              "    </tr>\n",
              "    <tr>\n",
              "      <th>635</th>\n",
              "      <td>Andaman And Nicobar Islands</td>\n",
              "      <td>Nicobars</td>\n",
              "    </tr>\n",
              "    <tr>\n",
              "      <th>636</th>\n",
              "      <td>Arunachal Pradesh</td>\n",
              "      <td>Upper Siang</td>\n",
              "    </tr>\n",
              "    <tr>\n",
              "      <th>637</th>\n",
              "      <td>Himachal Pradesh</td>\n",
              "      <td>Lahul and Spiti</td>\n",
              "    </tr>\n",
              "    <tr>\n",
              "      <th>638</th>\n",
              "      <td>Arunachal Pradesh</td>\n",
              "      <td>Anjaw</td>\n",
              "    </tr>\n",
              "    <tr>\n",
              "      <th>639</th>\n",
              "      <td>Arunachal Pradesh</td>\n",
              "      <td>Dibang Valley</td>\n",
              "    </tr>\n",
              "  </tbody>\n",
              "</table>\n",
              "<p>640 rows × 2 columns</p>\n",
              "</div>"
            ],
            "text/plain": [
              "                            State                     District\n",
              "0                     Maharashtra                        Thane\n",
              "1                     West Bengal   North Twenty Four Parganas\n",
              "2                       Karnataka                    Bangalore\n",
              "3                     Maharashtra                         Pune\n",
              "4                     Maharashtra              Mumbai Suburban\n",
              "..                            ...                          ...\n",
              "635   Andaman And Nicobar Islands                     Nicobars\n",
              "636             Arunachal Pradesh                  Upper Siang\n",
              "637              Himachal Pradesh              Lahul and Spiti\n",
              "638             Arunachal Pradesh                        Anjaw\n",
              "639             Arunachal Pradesh                Dibang Valley\n",
              "\n",
              "[640 rows x 2 columns]"
            ]
          },
          "metadata": {},
          "execution_count": 19
        }
      ]
    },
    {
      "cell_type": "code",
      "metadata": {
        "colab": {
          "base_uri": "https://localhost:8080/"
        },
        "id": "yAd67rFx7V1y",
        "outputId": "f5d72270-af76-437e-e70c-052679d385cc"
      },
      "source": [
        "## EDA\n",
        "df.State.unique()"
      ],
      "execution_count": 20,
      "outputs": [
        {
          "output_type": "execute_result",
          "data": {
            "text/plain": [
              "array([' Maharashtra', ' West Bengal', ' Karnataka', ' Gujarat',\n",
              "       ' Rajasthan', ' Uttar Pradesh', ' Bihar', ' Andhra Pradesh',\n",
              "       ' Tamil Nadu', ' Kerala', ' Chhattisgarh', ' Delhi', ' Orissa',\n",
              "       ' Punjab', ' Madhya Pradesh', ' Jharkhand', ' Assam',\n",
              "       ' Uttarakhand', ' Haryana', ' Tripura', ' Jammu and Kashmir',\n",
              "       ' Himachal Pradesh', ' Chandigarh', ' Puducherry', ' Meghalaya',\n",
              "       ' Goa', ' Manipur', ' Mizoram', ' Nagaland',\n",
              "       ' Dadra and Nagar Haveli', ' Sikkim',\n",
              "       ' Andaman And Nicobar Islands', ' Daman and Diu',\n",
              "       ' Arunachal Pradesh', ' Lakshadweep'], dtype=object)"
            ]
          },
          "metadata": {},
          "execution_count": 20
        }
      ]
    },
    {
      "cell_type": "markdown",
      "metadata": {
        "id": "lPxvoH2a7kKM"
      },
      "source": [
        "## Filterring "
      ]
    },
    {
      "cell_type": "code",
      "metadata": {
        "colab": {
          "base_uri": "https://localhost:8080/",
          "height": 362
        },
        "id": "0ZWkHQdS7dRy",
        "outputId": "2fc84b3c-b3fe-40b6-a64f-eb5be8b36618"
      },
      "source": [
        "df.head(10)"
      ],
      "execution_count": 21,
      "outputs": [
        {
          "output_type": "execute_result",
          "data": {
            "text/html": [
              "<div>\n",
              "<style scoped>\n",
              "    .dataframe tbody tr th:only-of-type {\n",
              "        vertical-align: middle;\n",
              "    }\n",
              "\n",
              "    .dataframe tbody tr th {\n",
              "        vertical-align: top;\n",
              "    }\n",
              "\n",
              "    .dataframe thead th {\n",
              "        text-align: right;\n",
              "    }\n",
              "</style>\n",
              "<table border=\"1\" class=\"dataframe\">\n",
              "  <thead>\n",
              "    <tr style=\"text-align: right;\">\n",
              "      <th></th>\n",
              "      <th>Unnamed: 0</th>\n",
              "      <th>District</th>\n",
              "      <th>State</th>\n",
              "      <th>Literacy</th>\n",
              "    </tr>\n",
              "  </thead>\n",
              "  <tbody>\n",
              "    <tr>\n",
              "      <th>0</th>\n",
              "      <td>1</td>\n",
              "      <td>Thane</td>\n",
              "      <td>Maharashtra</td>\n",
              "      <td>84.53</td>\n",
              "    </tr>\n",
              "    <tr>\n",
              "      <th>1</th>\n",
              "      <td>2</td>\n",
              "      <td>North Twenty Four Parganas</td>\n",
              "      <td>West Bengal</td>\n",
              "      <td>84.06</td>\n",
              "    </tr>\n",
              "    <tr>\n",
              "      <th>2</th>\n",
              "      <td>3</td>\n",
              "      <td>Bangalore</td>\n",
              "      <td>Karnataka</td>\n",
              "      <td>87.67</td>\n",
              "    </tr>\n",
              "    <tr>\n",
              "      <th>3</th>\n",
              "      <td>4</td>\n",
              "      <td>Pune</td>\n",
              "      <td>Maharashtra</td>\n",
              "      <td>86.15</td>\n",
              "    </tr>\n",
              "    <tr>\n",
              "      <th>4</th>\n",
              "      <td>5</td>\n",
              "      <td>Mumbai Suburban</td>\n",
              "      <td>Maharashtra</td>\n",
              "      <td>89.91</td>\n",
              "    </tr>\n",
              "    <tr>\n",
              "      <th>5</th>\n",
              "      <td>6</td>\n",
              "      <td>South Twenty Four Parganas</td>\n",
              "      <td>West Bengal</td>\n",
              "      <td>77.51</td>\n",
              "    </tr>\n",
              "    <tr>\n",
              "      <th>6</th>\n",
              "      <td>7</td>\n",
              "      <td>Barddhaman</td>\n",
              "      <td>West Bengal</td>\n",
              "      <td>76.21</td>\n",
              "    </tr>\n",
              "    <tr>\n",
              "      <th>7</th>\n",
              "      <td>8</td>\n",
              "      <td>Ahmadabad</td>\n",
              "      <td>Gujarat</td>\n",
              "      <td>85.31</td>\n",
              "    </tr>\n",
              "    <tr>\n",
              "      <th>8</th>\n",
              "      <td>9</td>\n",
              "      <td>Murshidabad</td>\n",
              "      <td>West Bengal</td>\n",
              "      <td>66.59</td>\n",
              "    </tr>\n",
              "    <tr>\n",
              "      <th>9</th>\n",
              "      <td>10</td>\n",
              "      <td>Jaipur</td>\n",
              "      <td>Rajasthan</td>\n",
              "      <td>75.51</td>\n",
              "    </tr>\n",
              "  </tbody>\n",
              "</table>\n",
              "</div>"
            ],
            "text/plain": [
              "   Unnamed: 0                     District         State  Literacy\n",
              "0           1                        Thane   Maharashtra     84.53\n",
              "1           2   North Twenty Four Parganas   West Bengal     84.06\n",
              "2           3                    Bangalore     Karnataka     87.67\n",
              "3           4                         Pune   Maharashtra     86.15\n",
              "4           5              Mumbai Suburban   Maharashtra     89.91\n",
              "5           6   South Twenty Four Parganas   West Bengal     77.51\n",
              "6           7                   Barddhaman   West Bengal     76.21\n",
              "7           8                    Ahmadabad       Gujarat     85.31\n",
              "8           9                  Murshidabad   West Bengal     66.59\n",
              "9          10                       Jaipur     Rajasthan     75.51"
            ]
          },
          "metadata": {},
          "execution_count": 21
        }
      ]
    },
    {
      "cell_type": "code",
      "metadata": {
        "colab": {
          "base_uri": "https://localhost:8080/",
          "height": 424
        },
        "id": "tCuDoIZg7op9",
        "outputId": "81ea350f-07e2-4c8d-dc00-9269b9ad495d"
      },
      "source": [
        "df[df['Literacy']>70]"
      ],
      "execution_count": 22,
      "outputs": [
        {
          "output_type": "execute_result",
          "data": {
            "text/html": [
              "<div>\n",
              "<style scoped>\n",
              "    .dataframe tbody tr th:only-of-type {\n",
              "        vertical-align: middle;\n",
              "    }\n",
              "\n",
              "    .dataframe tbody tr th {\n",
              "        vertical-align: top;\n",
              "    }\n",
              "\n",
              "    .dataframe thead th {\n",
              "        text-align: right;\n",
              "    }\n",
              "</style>\n",
              "<table border=\"1\" class=\"dataframe\">\n",
              "  <thead>\n",
              "    <tr style=\"text-align: right;\">\n",
              "      <th></th>\n",
              "      <th>Unnamed: 0</th>\n",
              "      <th>District</th>\n",
              "      <th>State</th>\n",
              "      <th>Literacy</th>\n",
              "    </tr>\n",
              "  </thead>\n",
              "  <tbody>\n",
              "    <tr>\n",
              "      <th>0</th>\n",
              "      <td>1</td>\n",
              "      <td>Thane</td>\n",
              "      <td>Maharashtra</td>\n",
              "      <td>84.53</td>\n",
              "    </tr>\n",
              "    <tr>\n",
              "      <th>1</th>\n",
              "      <td>2</td>\n",
              "      <td>North Twenty Four Parganas</td>\n",
              "      <td>West Bengal</td>\n",
              "      <td>84.06</td>\n",
              "    </tr>\n",
              "    <tr>\n",
              "      <th>2</th>\n",
              "      <td>3</td>\n",
              "      <td>Bangalore</td>\n",
              "      <td>Karnataka</td>\n",
              "      <td>87.67</td>\n",
              "    </tr>\n",
              "    <tr>\n",
              "      <th>3</th>\n",
              "      <td>4</td>\n",
              "      <td>Pune</td>\n",
              "      <td>Maharashtra</td>\n",
              "      <td>86.15</td>\n",
              "    </tr>\n",
              "    <tr>\n",
              "      <th>4</th>\n",
              "      <td>5</td>\n",
              "      <td>Mumbai Suburban</td>\n",
              "      <td>Maharashtra</td>\n",
              "      <td>89.91</td>\n",
              "    </tr>\n",
              "    <tr>\n",
              "      <th>...</th>\n",
              "      <td>...</td>\n",
              "      <td>...</td>\n",
              "      <td>...</td>\n",
              "      <td>...</td>\n",
              "    </tr>\n",
              "    <tr>\n",
              "      <th>631</th>\n",
              "      <td>632</td>\n",
              "      <td>Longleng</td>\n",
              "      <td>Nagaland</td>\n",
              "      <td>72.17</td>\n",
              "    </tr>\n",
              "    <tr>\n",
              "      <th>633</th>\n",
              "      <td>634</td>\n",
              "      <td>North Sikkim</td>\n",
              "      <td>Sikkim</td>\n",
              "      <td>78.01</td>\n",
              "    </tr>\n",
              "    <tr>\n",
              "      <th>634</th>\n",
              "      <td>635</td>\n",
              "      <td>Mahe</td>\n",
              "      <td>Puducherry</td>\n",
              "      <td>97.87</td>\n",
              "    </tr>\n",
              "    <tr>\n",
              "      <th>635</th>\n",
              "      <td>636</td>\n",
              "      <td>Nicobars</td>\n",
              "      <td>Andaman And Nicobar Islands</td>\n",
              "      <td>78.06</td>\n",
              "    </tr>\n",
              "    <tr>\n",
              "      <th>637</th>\n",
              "      <td>638</td>\n",
              "      <td>Lahul and Spiti</td>\n",
              "      <td>Himachal Pradesh</td>\n",
              "      <td>76.81</td>\n",
              "    </tr>\n",
              "  </tbody>\n",
              "</table>\n",
              "<p>379 rows × 4 columns</p>\n",
              "</div>"
            ],
            "text/plain": [
              "     Unnamed: 0  ... Literacy\n",
              "0             1  ...    84.53\n",
              "1             2  ...    84.06\n",
              "2             3  ...    87.67\n",
              "3             4  ...    86.15\n",
              "4             5  ...    89.91\n",
              "..          ...  ...      ...\n",
              "631         632  ...    72.17\n",
              "633         634  ...    78.01\n",
              "634         635  ...    97.87\n",
              "635         636  ...    78.06\n",
              "637         638  ...    76.81\n",
              "\n",
              "[379 rows x 4 columns]"
            ]
          },
          "metadata": {},
          "execution_count": 22
        }
      ]
    },
    {
      "cell_type": "code",
      "metadata": {
        "colab": {
          "base_uri": "https://localhost:8080/",
          "height": 424
        },
        "id": "jNYTsH3_7v7j",
        "outputId": "7035c41a-9298-4cfe-c9a4-0e60483810b9"
      },
      "source": [
        "df[df['Literacy']>70]"
      ],
      "execution_count": 23,
      "outputs": [
        {
          "output_type": "execute_result",
          "data": {
            "text/html": [
              "<div>\n",
              "<style scoped>\n",
              "    .dataframe tbody tr th:only-of-type {\n",
              "        vertical-align: middle;\n",
              "    }\n",
              "\n",
              "    .dataframe tbody tr th {\n",
              "        vertical-align: top;\n",
              "    }\n",
              "\n",
              "    .dataframe thead th {\n",
              "        text-align: right;\n",
              "    }\n",
              "</style>\n",
              "<table border=\"1\" class=\"dataframe\">\n",
              "  <thead>\n",
              "    <tr style=\"text-align: right;\">\n",
              "      <th></th>\n",
              "      <th>Unnamed: 0</th>\n",
              "      <th>District</th>\n",
              "      <th>State</th>\n",
              "      <th>Literacy</th>\n",
              "    </tr>\n",
              "  </thead>\n",
              "  <tbody>\n",
              "    <tr>\n",
              "      <th>0</th>\n",
              "      <td>1</td>\n",
              "      <td>Thane</td>\n",
              "      <td>Maharashtra</td>\n",
              "      <td>84.53</td>\n",
              "    </tr>\n",
              "    <tr>\n",
              "      <th>1</th>\n",
              "      <td>2</td>\n",
              "      <td>North Twenty Four Parganas</td>\n",
              "      <td>West Bengal</td>\n",
              "      <td>84.06</td>\n",
              "    </tr>\n",
              "    <tr>\n",
              "      <th>2</th>\n",
              "      <td>3</td>\n",
              "      <td>Bangalore</td>\n",
              "      <td>Karnataka</td>\n",
              "      <td>87.67</td>\n",
              "    </tr>\n",
              "    <tr>\n",
              "      <th>3</th>\n",
              "      <td>4</td>\n",
              "      <td>Pune</td>\n",
              "      <td>Maharashtra</td>\n",
              "      <td>86.15</td>\n",
              "    </tr>\n",
              "    <tr>\n",
              "      <th>4</th>\n",
              "      <td>5</td>\n",
              "      <td>Mumbai Suburban</td>\n",
              "      <td>Maharashtra</td>\n",
              "      <td>89.91</td>\n",
              "    </tr>\n",
              "    <tr>\n",
              "      <th>...</th>\n",
              "      <td>...</td>\n",
              "      <td>...</td>\n",
              "      <td>...</td>\n",
              "      <td>...</td>\n",
              "    </tr>\n",
              "    <tr>\n",
              "      <th>631</th>\n",
              "      <td>632</td>\n",
              "      <td>Longleng</td>\n",
              "      <td>Nagaland</td>\n",
              "      <td>72.17</td>\n",
              "    </tr>\n",
              "    <tr>\n",
              "      <th>633</th>\n",
              "      <td>634</td>\n",
              "      <td>North Sikkim</td>\n",
              "      <td>Sikkim</td>\n",
              "      <td>78.01</td>\n",
              "    </tr>\n",
              "    <tr>\n",
              "      <th>634</th>\n",
              "      <td>635</td>\n",
              "      <td>Mahe</td>\n",
              "      <td>Puducherry</td>\n",
              "      <td>97.87</td>\n",
              "    </tr>\n",
              "    <tr>\n",
              "      <th>635</th>\n",
              "      <td>636</td>\n",
              "      <td>Nicobars</td>\n",
              "      <td>Andaman And Nicobar Islands</td>\n",
              "      <td>78.06</td>\n",
              "    </tr>\n",
              "    <tr>\n",
              "      <th>637</th>\n",
              "      <td>638</td>\n",
              "      <td>Lahul and Spiti</td>\n",
              "      <td>Himachal Pradesh</td>\n",
              "      <td>76.81</td>\n",
              "    </tr>\n",
              "  </tbody>\n",
              "</table>\n",
              "<p>379 rows × 4 columns</p>\n",
              "</div>"
            ],
            "text/plain": [
              "     Unnamed: 0  ... Literacy\n",
              "0             1  ...    84.53\n",
              "1             2  ...    84.06\n",
              "2             3  ...    87.67\n",
              "3             4  ...    86.15\n",
              "4             5  ...    89.91\n",
              "..          ...  ...      ...\n",
              "631         632  ...    72.17\n",
              "633         634  ...    78.01\n",
              "634         635  ...    97.87\n",
              "635         636  ...    78.06\n",
              "637         638  ...    76.81\n",
              "\n",
              "[379 rows x 4 columns]"
            ]
          },
          "metadata": {},
          "execution_count": 23
        }
      ]
    },
    {
      "cell_type": "code",
      "metadata": {
        "colab": {
          "base_uri": "https://localhost:8080/",
          "height": 1000
        },
        "id": "X-LNf0cy7_X5",
        "outputId": "d4b359d1-8a86-4364-dd2d-16b787096741"
      },
      "source": [
        "df[(df['Literacy'] >70) & (df['State']==' Maharashtra')]"
      ],
      "execution_count": 24,
      "outputs": [
        {
          "output_type": "execute_result",
          "data": {
            "text/html": [
              "<div>\n",
              "<style scoped>\n",
              "    .dataframe tbody tr th:only-of-type {\n",
              "        vertical-align: middle;\n",
              "    }\n",
              "\n",
              "    .dataframe tbody tr th {\n",
              "        vertical-align: top;\n",
              "    }\n",
              "\n",
              "    .dataframe thead th {\n",
              "        text-align: right;\n",
              "    }\n",
              "</style>\n",
              "<table border=\"1\" class=\"dataframe\">\n",
              "  <thead>\n",
              "    <tr style=\"text-align: right;\">\n",
              "      <th></th>\n",
              "      <th>Unnamed: 0</th>\n",
              "      <th>District</th>\n",
              "      <th>State</th>\n",
              "      <th>Literacy</th>\n",
              "    </tr>\n",
              "  </thead>\n",
              "  <tbody>\n",
              "    <tr>\n",
              "      <th>0</th>\n",
              "      <td>1</td>\n",
              "      <td>Thane</td>\n",
              "      <td>Maharashtra</td>\n",
              "      <td>84.53</td>\n",
              "    </tr>\n",
              "    <tr>\n",
              "      <th>3</th>\n",
              "      <td>4</td>\n",
              "      <td>Pune</td>\n",
              "      <td>Maharashtra</td>\n",
              "      <td>86.15</td>\n",
              "    </tr>\n",
              "    <tr>\n",
              "      <th>4</th>\n",
              "      <td>5</td>\n",
              "      <td>Mumbai Suburban</td>\n",
              "      <td>Maharashtra</td>\n",
              "      <td>89.91</td>\n",
              "    </tr>\n",
              "    <tr>\n",
              "      <th>10</th>\n",
              "      <td>11</td>\n",
              "      <td>Nashik</td>\n",
              "      <td>Maharashtra</td>\n",
              "      <td>82.31</td>\n",
              "    </tr>\n",
              "    <tr>\n",
              "      <th>27</th>\n",
              "      <td>28</td>\n",
              "      <td>Nagpur</td>\n",
              "      <td>Maharashtra</td>\n",
              "      <td>88.39</td>\n",
              "    </tr>\n",
              "    <tr>\n",
              "      <th>32</th>\n",
              "      <td>33</td>\n",
              "      <td>Ahmadnagar</td>\n",
              "      <td>Maharashtra</td>\n",
              "      <td>79.05</td>\n",
              "    </tr>\n",
              "    <tr>\n",
              "      <th>42</th>\n",
              "      <td>43</td>\n",
              "      <td>Solapur</td>\n",
              "      <td>Maharashtra</td>\n",
              "      <td>77.02</td>\n",
              "    </tr>\n",
              "    <tr>\n",
              "      <th>45</th>\n",
              "      <td>46</td>\n",
              "      <td>Jalgaon</td>\n",
              "      <td>Maharashtra</td>\n",
              "      <td>78.20</td>\n",
              "    </tr>\n",
              "    <tr>\n",
              "      <th>64</th>\n",
              "      <td>65</td>\n",
              "      <td>Kolhapur</td>\n",
              "      <td>Maharashtra</td>\n",
              "      <td>81.51</td>\n",
              "    </tr>\n",
              "    <tr>\n",
              "      <th>70</th>\n",
              "      <td>71</td>\n",
              "      <td>Aurangabad</td>\n",
              "      <td>Maharashtra</td>\n",
              "      <td>79.02</td>\n",
              "    </tr>\n",
              "    <tr>\n",
              "      <th>98</th>\n",
              "      <td>99</td>\n",
              "      <td>Nanded</td>\n",
              "      <td>Maharashtra</td>\n",
              "      <td>75.45</td>\n",
              "    </tr>\n",
              "    <tr>\n",
              "      <th>114</th>\n",
              "      <td>115</td>\n",
              "      <td>Mumbai City</td>\n",
              "      <td>Maharashtra</td>\n",
              "      <td>89.21</td>\n",
              "    </tr>\n",
              "    <tr>\n",
              "      <th>123</th>\n",
              "      <td>124</td>\n",
              "      <td>Satara</td>\n",
              "      <td>Maharashtra</td>\n",
              "      <td>82.87</td>\n",
              "    </tr>\n",
              "    <tr>\n",
              "      <th>130</th>\n",
              "      <td>131</td>\n",
              "      <td>Amravati</td>\n",
              "      <td>Maharashtra</td>\n",
              "      <td>87.38</td>\n",
              "    </tr>\n",
              "    <tr>\n",
              "      <th>135</th>\n",
              "      <td>136</td>\n",
              "      <td>Sangli</td>\n",
              "      <td>Maharashtra</td>\n",
              "      <td>81.48</td>\n",
              "    </tr>\n",
              "    <tr>\n",
              "      <th>140</th>\n",
              "      <td>141</td>\n",
              "      <td>Yavatmal</td>\n",
              "      <td>Maharashtra</td>\n",
              "      <td>82.82</td>\n",
              "    </tr>\n",
              "    <tr>\n",
              "      <th>153</th>\n",
              "      <td>154</td>\n",
              "      <td>Raigarh</td>\n",
              "      <td>Maharashtra</td>\n",
              "      <td>83.14</td>\n",
              "    </tr>\n",
              "    <tr>\n",
              "      <th>158</th>\n",
              "      <td>159</td>\n",
              "      <td>Buldana</td>\n",
              "      <td>Maharashtra</td>\n",
              "      <td>83.40</td>\n",
              "    </tr>\n",
              "    <tr>\n",
              "      <th>159</th>\n",
              "      <td>160</td>\n",
              "      <td>Bid</td>\n",
              "      <td>Maharashtra</td>\n",
              "      <td>76.99</td>\n",
              "    </tr>\n",
              "    <tr>\n",
              "      <th>179</th>\n",
              "      <td>180</td>\n",
              "      <td>Latur</td>\n",
              "      <td>Maharashtra</td>\n",
              "      <td>77.26</td>\n",
              "    </tr>\n",
              "    <tr>\n",
              "      <th>206</th>\n",
              "      <td>207</td>\n",
              "      <td>Chandrapur</td>\n",
              "      <td>Maharashtra</td>\n",
              "      <td>80.01</td>\n",
              "    </tr>\n",
              "    <tr>\n",
              "      <th>222</th>\n",
              "      <td>223</td>\n",
              "      <td>Dhule</td>\n",
              "      <td>Maharashtra</td>\n",
              "      <td>72.80</td>\n",
              "    </tr>\n",
              "    <tr>\n",
              "      <th>236</th>\n",
              "      <td>237</td>\n",
              "      <td>Jalna</td>\n",
              "      <td>Maharashtra</td>\n",
              "      <td>71.52</td>\n",
              "    </tr>\n",
              "    <tr>\n",
              "      <th>258</th>\n",
              "      <td>259</td>\n",
              "      <td>Parbhani</td>\n",
              "      <td>Maharashtra</td>\n",
              "      <td>73.34</td>\n",
              "    </tr>\n",
              "    <tr>\n",
              "      <th>261</th>\n",
              "      <td>262</td>\n",
              "      <td>Akola</td>\n",
              "      <td>Maharashtra</td>\n",
              "      <td>88.05</td>\n",
              "    </tr>\n",
              "    <tr>\n",
              "      <th>297</th>\n",
              "      <td>298</td>\n",
              "      <td>Osmanabad</td>\n",
              "      <td>Maharashtra</td>\n",
              "      <td>78.44</td>\n",
              "    </tr>\n",
              "    <tr>\n",
              "      <th>310</th>\n",
              "      <td>311</td>\n",
              "      <td>Ratnagiri</td>\n",
              "      <td>Maharashtra</td>\n",
              "      <td>82.18</td>\n",
              "    </tr>\n",
              "    <tr>\n",
              "      <th>369</th>\n",
              "      <td>370</td>\n",
              "      <td>Gondiya</td>\n",
              "      <td>Maharashtra</td>\n",
              "      <td>84.95</td>\n",
              "    </tr>\n",
              "    <tr>\n",
              "      <th>376</th>\n",
              "      <td>377</td>\n",
              "      <td>Wardha</td>\n",
              "      <td>Maharashtra</td>\n",
              "      <td>86.99</td>\n",
              "    </tr>\n",
              "    <tr>\n",
              "      <th>396</th>\n",
              "      <td>397</td>\n",
              "      <td>Bhandara</td>\n",
              "      <td>Maharashtra</td>\n",
              "      <td>83.76</td>\n",
              "    </tr>\n",
              "    <tr>\n",
              "      <th>398</th>\n",
              "      <td>399</td>\n",
              "      <td>Washim</td>\n",
              "      <td>Maharashtra</td>\n",
              "      <td>83.25</td>\n",
              "    </tr>\n",
              "    <tr>\n",
              "      <th>402</th>\n",
              "      <td>403</td>\n",
              "      <td>Hingoli</td>\n",
              "      <td>Maharashtra</td>\n",
              "      <td>78.17</td>\n",
              "    </tr>\n",
              "    <tr>\n",
              "      <th>423</th>\n",
              "      <td>424</td>\n",
              "      <td>Gadchiroli</td>\n",
              "      <td>Maharashtra</td>\n",
              "      <td>74.36</td>\n",
              "    </tr>\n",
              "    <tr>\n",
              "      <th>473</th>\n",
              "      <td>474</td>\n",
              "      <td>Sindhudurg</td>\n",
              "      <td>Maharashtra</td>\n",
              "      <td>85.56</td>\n",
              "    </tr>\n",
              "  </tbody>\n",
              "</table>\n",
              "</div>"
            ],
            "text/plain": [
              "     Unnamed: 0          District         State  Literacy\n",
              "0             1             Thane   Maharashtra     84.53\n",
              "3             4              Pune   Maharashtra     86.15\n",
              "4             5   Mumbai Suburban   Maharashtra     89.91\n",
              "10           11            Nashik   Maharashtra     82.31\n",
              "27           28            Nagpur   Maharashtra     88.39\n",
              "32           33        Ahmadnagar   Maharashtra     79.05\n",
              "42           43           Solapur   Maharashtra     77.02\n",
              "45           46           Jalgaon   Maharashtra     78.20\n",
              "64           65          Kolhapur   Maharashtra     81.51\n",
              "70           71        Aurangabad   Maharashtra     79.02\n",
              "98           99            Nanded   Maharashtra     75.45\n",
              "114         115       Mumbai City   Maharashtra     89.21\n",
              "123         124            Satara   Maharashtra     82.87\n",
              "130         131          Amravati   Maharashtra     87.38\n",
              "135         136            Sangli   Maharashtra     81.48\n",
              "140         141          Yavatmal   Maharashtra     82.82\n",
              "153         154           Raigarh   Maharashtra     83.14\n",
              "158         159           Buldana   Maharashtra     83.40\n",
              "159         160               Bid   Maharashtra     76.99\n",
              "179         180             Latur   Maharashtra     77.26\n",
              "206         207        Chandrapur   Maharashtra     80.01\n",
              "222         223             Dhule   Maharashtra     72.80\n",
              "236         237             Jalna   Maharashtra     71.52\n",
              "258         259          Parbhani   Maharashtra     73.34\n",
              "261         262             Akola   Maharashtra     88.05\n",
              "297         298         Osmanabad   Maharashtra     78.44\n",
              "310         311         Ratnagiri   Maharashtra     82.18\n",
              "369         370           Gondiya   Maharashtra     84.95\n",
              "376         377            Wardha   Maharashtra     86.99\n",
              "396         397          Bhandara   Maharashtra     83.76\n",
              "398         399            Washim   Maharashtra     83.25\n",
              "402         403           Hingoli   Maharashtra     78.17\n",
              "423         424        Gadchiroli   Maharashtra     74.36\n",
              "473         474        Sindhudurg   Maharashtra     85.56"
            ]
          },
          "metadata": {},
          "execution_count": 24
        }
      ]
    },
    {
      "cell_type": "markdown",
      "metadata": {
        "id": "GgI7vD48lMHb"
      },
      "source": [
        "## Indexing with the iloc"
      ]
    },
    {
      "cell_type": "code",
      "metadata": {
        "colab": {
          "base_uri": "https://localhost:8080/"
        },
        "id": "C0PmWiAhlHY_",
        "outputId": "2c6ae82e-f9a2-4719-e728-de50853d5343"
      },
      "source": [
        "df.iloc[:5,2] ## first value is ros and after , teh second argument is columsn \n"
      ],
      "execution_count": 27,
      "outputs": [
        {
          "output_type": "execute_result",
          "data": {
            "text/plain": [
              "0     Maharashtra\n",
              "1     West Bengal\n",
              "2       Karnataka\n",
              "3     Maharashtra\n",
              "4     Maharashtra\n",
              "Name: State, dtype: object"
            ]
          },
          "metadata": {},
          "execution_count": 27
        }
      ]
    },
    {
      "cell_type": "code",
      "metadata": {
        "colab": {
          "base_uri": "https://localhost:8080/"
        },
        "id": "Ll-K-rCkmg4F",
        "outputId": "3753febf-350a-4e32-8f5d-f75106cb5663"
      },
      "source": [
        "df.iloc[5,3]  ## It is used with the integers only"
      ],
      "execution_count": 30,
      "outputs": [
        {
          "output_type": "execute_result",
          "data": {
            "text/plain": [
              "77.51"
            ]
          },
          "metadata": {},
          "execution_count": 30
        }
      ]
    },
    {
      "cell_type": "markdown",
      "metadata": {
        "id": "fsc61x36mubB"
      },
      "source": [
        "## Indexing with the loc"
      ]
    },
    {
      "cell_type": "code",
      "metadata": {
        "id": "USdlTvXsmrDQ"
      },
      "source": [
        "df_cpy=df.copy()"
      ],
      "execution_count": 33,
      "outputs": []
    },
    {
      "cell_type": "code",
      "metadata": {
        "id": "EGTFPj96lz9-"
      },
      "source": [
        "df_cpy.set_index('State',inplace=True)       ## for"
      ],
      "execution_count": 34,
      "outputs": []
    },
    {
      "cell_type": "code",
      "metadata": {
        "colab": {
          "base_uri": "https://localhost:8080/",
          "height": 454
        },
        "id": "hXVj9MnnnH5_",
        "outputId": "3cf7878c-25b5-452a-a058-f562cab52333"
      },
      "source": [
        "df_cpy"
      ],
      "execution_count": 35,
      "outputs": [
        {
          "output_type": "execute_result",
          "data": {
            "text/html": [
              "<div>\n",
              "<style scoped>\n",
              "    .dataframe tbody tr th:only-of-type {\n",
              "        vertical-align: middle;\n",
              "    }\n",
              "\n",
              "    .dataframe tbody tr th {\n",
              "        vertical-align: top;\n",
              "    }\n",
              "\n",
              "    .dataframe thead th {\n",
              "        text-align: right;\n",
              "    }\n",
              "</style>\n",
              "<table border=\"1\" class=\"dataframe\">\n",
              "  <thead>\n",
              "    <tr style=\"text-align: right;\">\n",
              "      <th></th>\n",
              "      <th>Unnamed: 0</th>\n",
              "      <th>District</th>\n",
              "      <th>Literacy</th>\n",
              "    </tr>\n",
              "    <tr>\n",
              "      <th>State</th>\n",
              "      <th></th>\n",
              "      <th></th>\n",
              "      <th></th>\n",
              "    </tr>\n",
              "  </thead>\n",
              "  <tbody>\n",
              "    <tr>\n",
              "      <th>Maharashtra</th>\n",
              "      <td>1</td>\n",
              "      <td>Thane</td>\n",
              "      <td>84.53</td>\n",
              "    </tr>\n",
              "    <tr>\n",
              "      <th>West Bengal</th>\n",
              "      <td>2</td>\n",
              "      <td>North Twenty Four Parganas</td>\n",
              "      <td>84.06</td>\n",
              "    </tr>\n",
              "    <tr>\n",
              "      <th>Karnataka</th>\n",
              "      <td>3</td>\n",
              "      <td>Bangalore</td>\n",
              "      <td>87.67</td>\n",
              "    </tr>\n",
              "    <tr>\n",
              "      <th>Maharashtra</th>\n",
              "      <td>4</td>\n",
              "      <td>Pune</td>\n",
              "      <td>86.15</td>\n",
              "    </tr>\n",
              "    <tr>\n",
              "      <th>Maharashtra</th>\n",
              "      <td>5</td>\n",
              "      <td>Mumbai Suburban</td>\n",
              "      <td>89.91</td>\n",
              "    </tr>\n",
              "    <tr>\n",
              "      <th>...</th>\n",
              "      <td>...</td>\n",
              "      <td>...</td>\n",
              "      <td>...</td>\n",
              "    </tr>\n",
              "    <tr>\n",
              "      <th>Andaman And Nicobar Islands</th>\n",
              "      <td>636</td>\n",
              "      <td>Nicobars</td>\n",
              "      <td>78.06</td>\n",
              "    </tr>\n",
              "    <tr>\n",
              "      <th>Arunachal Pradesh</th>\n",
              "      <td>637</td>\n",
              "      <td>Upper Siang</td>\n",
              "      <td>59.99</td>\n",
              "    </tr>\n",
              "    <tr>\n",
              "      <th>Himachal Pradesh</th>\n",
              "      <td>638</td>\n",
              "      <td>Lahul and Spiti</td>\n",
              "      <td>76.81</td>\n",
              "    </tr>\n",
              "    <tr>\n",
              "      <th>Arunachal Pradesh</th>\n",
              "      <td>639</td>\n",
              "      <td>Anjaw</td>\n",
              "      <td>56.46</td>\n",
              "    </tr>\n",
              "    <tr>\n",
              "      <th>Arunachal Pradesh</th>\n",
              "      <td>640</td>\n",
              "      <td>Dibang Valley</td>\n",
              "      <td>64.10</td>\n",
              "    </tr>\n",
              "  </tbody>\n",
              "</table>\n",
              "<p>640 rows × 3 columns</p>\n",
              "</div>"
            ],
            "text/plain": [
              "                              Unnamed: 0                     District  Literacy\n",
              "State                                                                          \n",
              " Maharashtra                           1                        Thane     84.53\n",
              " West Bengal                           2   North Twenty Four Parganas     84.06\n",
              " Karnataka                             3                    Bangalore     87.67\n",
              " Maharashtra                           4                         Pune     86.15\n",
              " Maharashtra                           5              Mumbai Suburban     89.91\n",
              "...                                  ...                          ...       ...\n",
              " Andaman And Nicobar Islands         636                     Nicobars     78.06\n",
              " Arunachal Pradesh                   637                  Upper Siang     59.99\n",
              " Himachal Pradesh                    638              Lahul and Spiti     76.81\n",
              " Arunachal Pradesh                   639                        Anjaw     56.46\n",
              " Arunachal Pradesh                   640                Dibang Valley     64.10\n",
              "\n",
              "[640 rows x 3 columns]"
            ]
          },
          "metadata": {},
          "execution_count": 35
        }
      ]
    },
    {
      "cell_type": "code",
      "metadata": {
        "colab": {
          "base_uri": "https://localhost:8080/",
          "height": 424
        },
        "id": "5hkb08f4nKH3",
        "outputId": "347731e9-f614-4605-d530-a891a12a5414"
      },
      "source": [
        "df"
      ],
      "execution_count": 38,
      "outputs": [
        {
          "output_type": "execute_result",
          "data": {
            "text/html": [
              "<div>\n",
              "<style scoped>\n",
              "    .dataframe tbody tr th:only-of-type {\n",
              "        vertical-align: middle;\n",
              "    }\n",
              "\n",
              "    .dataframe tbody tr th {\n",
              "        vertical-align: top;\n",
              "    }\n",
              "\n",
              "    .dataframe thead th {\n",
              "        text-align: right;\n",
              "    }\n",
              "</style>\n",
              "<table border=\"1\" class=\"dataframe\">\n",
              "  <thead>\n",
              "    <tr style=\"text-align: right;\">\n",
              "      <th></th>\n",
              "      <th>Unnamed: 0</th>\n",
              "      <th>District</th>\n",
              "      <th>State</th>\n",
              "      <th>Literacy</th>\n",
              "    </tr>\n",
              "  </thead>\n",
              "  <tbody>\n",
              "    <tr>\n",
              "      <th>0</th>\n",
              "      <td>1</td>\n",
              "      <td>Thane</td>\n",
              "      <td>Maharashtra</td>\n",
              "      <td>84.53</td>\n",
              "    </tr>\n",
              "    <tr>\n",
              "      <th>1</th>\n",
              "      <td>2</td>\n",
              "      <td>North Twenty Four Parganas</td>\n",
              "      <td>West Bengal</td>\n",
              "      <td>84.06</td>\n",
              "    </tr>\n",
              "    <tr>\n",
              "      <th>2</th>\n",
              "      <td>3</td>\n",
              "      <td>Bangalore</td>\n",
              "      <td>Karnataka</td>\n",
              "      <td>87.67</td>\n",
              "    </tr>\n",
              "    <tr>\n",
              "      <th>3</th>\n",
              "      <td>4</td>\n",
              "      <td>Pune</td>\n",
              "      <td>Maharashtra</td>\n",
              "      <td>86.15</td>\n",
              "    </tr>\n",
              "    <tr>\n",
              "      <th>4</th>\n",
              "      <td>5</td>\n",
              "      <td>Mumbai Suburban</td>\n",
              "      <td>Maharashtra</td>\n",
              "      <td>89.91</td>\n",
              "    </tr>\n",
              "    <tr>\n",
              "      <th>...</th>\n",
              "      <td>...</td>\n",
              "      <td>...</td>\n",
              "      <td>...</td>\n",
              "      <td>...</td>\n",
              "    </tr>\n",
              "    <tr>\n",
              "      <th>635</th>\n",
              "      <td>636</td>\n",
              "      <td>Nicobars</td>\n",
              "      <td>Andaman And Nicobar Islands</td>\n",
              "      <td>78.06</td>\n",
              "    </tr>\n",
              "    <tr>\n",
              "      <th>636</th>\n",
              "      <td>637</td>\n",
              "      <td>Upper Siang</td>\n",
              "      <td>Arunachal Pradesh</td>\n",
              "      <td>59.99</td>\n",
              "    </tr>\n",
              "    <tr>\n",
              "      <th>637</th>\n",
              "      <td>638</td>\n",
              "      <td>Lahul and Spiti</td>\n",
              "      <td>Himachal Pradesh</td>\n",
              "      <td>76.81</td>\n",
              "    </tr>\n",
              "    <tr>\n",
              "      <th>638</th>\n",
              "      <td>639</td>\n",
              "      <td>Anjaw</td>\n",
              "      <td>Arunachal Pradesh</td>\n",
              "      <td>56.46</td>\n",
              "    </tr>\n",
              "    <tr>\n",
              "      <th>639</th>\n",
              "      <td>640</td>\n",
              "      <td>Dibang Valley</td>\n",
              "      <td>Arunachal Pradesh</td>\n",
              "      <td>64.10</td>\n",
              "    </tr>\n",
              "  </tbody>\n",
              "</table>\n",
              "<p>640 rows × 4 columns</p>\n",
              "</div>"
            ],
            "text/plain": [
              "     Unnamed: 0  ... Literacy\n",
              "0             1  ...    84.53\n",
              "1             2  ...    84.06\n",
              "2             3  ...    87.67\n",
              "3             4  ...    86.15\n",
              "4             5  ...    89.91\n",
              "..          ...  ...      ...\n",
              "635         636  ...    78.06\n",
              "636         637  ...    59.99\n",
              "637         638  ...    76.81\n",
              "638         639  ...    56.46\n",
              "639         640  ...    64.10\n",
              "\n",
              "[640 rows x 4 columns]"
            ]
          },
          "metadata": {},
          "execution_count": 38
        }
      ]
    },
    {
      "cell_type": "code",
      "metadata": {
        "colab": {
          "base_uri": "https://localhost:8080/",
          "height": 554
        },
        "id": "-Qt6hqM4nO3n",
        "outputId": "d190598d-24af-4af0-f49d-18d40ab582ff"
      },
      "source": [
        "df.State.value_counts().sort_values(ascending=False).plot.barh(figsize=(12,9))"
      ],
      "execution_count": 42,
      "outputs": [
        {
          "output_type": "execute_result",
          "data": {
            "text/plain": [
              "<matplotlib.axes._subplots.AxesSubplot at 0x7f09ff3c83d0>"
            ]
          },
          "metadata": {},
          "execution_count": 42
        },
        {
          "output_type": "display_data",
          "data": {
            "image/png": "[encoded data removed]",
            "text/plain": [
              "<Figure size 864x648 with 1 Axes>"
            ]
          },
          "metadata": {
            "needs_background": "light"
          }
        }
      ]
    },
    {
      "cell_type": "code",
      "metadata": {
        "colab": {
          "base_uri": "https://localhost:8080/"
        },
        "id": "Iddrzm5An6fY",
        "outputId": "4edbf3ff-7007-4a51-f2a3-6719a9de5438"
      },
      "source": [
        "df.District.values"
      ],
      "execution_count": 45,
      "outputs": [
        {
          "output_type": "execute_result",
          "data": {
            "text/plain": [
              "array([' Thane', ' North Twenty Four Parganas', ' Bangalore', ' Pune',\n",
              "       ' Mumbai Suburban', ' South Twenty Four Parganas', ' Barddhaman',\n",
              "       ' Ahmadabad', ' Murshidabad', ' Jaipur', ' Nashik', ' Surat',\n",
              "       ' Allahabad', ' Paschim Medinipur', ' Patna', ' Hugli',\n",
              "       ' Rangareddy', ' Nadia', ' East Godavari', ' Purbi Champaran',\n",
              "       ' Purba Medinipur', ' Guntur', ' Haora', ' Muzaffarpur',\n",
              "       ' Belgaum', ' Moradabad', ' Ghaziabad', ' Nagpur', ' Chennai',\n",
              "       ' Azamgarh', ' Lucknow', ' Kanpur Nagar', ' Ahmadnagar',\n",
              "       ' Krishna', ' Kolkata', ' Jaunpur', ' Madhubani', ' Sitapur',\n",
              "       ' Bareilly', ' Gorakhpur', ' Agra', ' Gaya', ' Solapur',\n",
              "       ' Visakhapatnam', ' Samastipur', ' Jalgaon', ' Chittoor',\n",
              "       ' Vadodara', ' Muzaffarnagar', ' Malappuram', ' Hardoi',\n",
              "       ' Anantapur', ' Raipur', ' Kurnool', ' Mahbubnagar', ' Kheri',\n",
              "       ' Kancheepuram', ' Maldah', ' Saran', ' Hyderabad', ' Darbhanga',\n",
              "       ' West Godavari', ' Vellore', ' Pashchim Champaran', ' Kolhapur',\n",
              "       ' Jalpaiguri', ' Rajkot', ' Sultanpur', ' Karimnagar',\n",
              "       ' Thiruvallur', ' Aurangabad', ' Jodhpur', ' Bijnor', ' Budaun',\n",
              "       ' Varanasi', ' Alwar', ' Aligarh', ' North West Delhi',\n",
              "       ' Ghazipur', ' Bankura', ' Kushinagar', ' Ganjam', ' Warangal',\n",
              "       ' Birbhum', ' Bulandshahar', ' Ludhiana', ' Vaishali', ' Nalgonda',\n",
              "       ' Bahraich', ' Salem', ' Saharanpur', ' Viluppuram', ' Coimbatore',\n",
              "       ' Meerut', ' Gonda', ' Sitamarhi', ' Rae Bareli', ' Prakasam',\n",
              "       ' Nanded', ' Durg', ' Siwan', ' Nagaur', ' Thiruvananthapuram',\n",
              "       ' Ernakulam', ' Indore', ' Purnia', ' Barabanki', ' Ballia',\n",
              "       ' Pratapgarh', ' Thrissur', ' Banaskantha', ' Unnao', ' Deoria',\n",
              "       ' Kozhikode', ' Mumbai City', ' Tirunelveli', ' Katihar',\n",
              "       ' Udaipur', ' Madurai', ' Bhagalpur', ' Medak', ' Uttar Dinajpur',\n",
              "       ' Shahjahanpur', ' Satara', ' Mysore', ' Begusarai',\n",
              "       ' Sri Potti Sriramulu Nellore', ' Rohtas', ' Puruliya', ' Ranchi',\n",
              "       ' Amravati', ' YSR', ' Bhavnagar', ' Nalanda', ' Nagaon',\n",
              "       ' Sangli', ' Koch Bihar', ' Araria', ' Palakkad', ' Khammam',\n",
              "       ' Yavatmal', ' Junagadh', ' Adilabad', ' South Delhi', ' Bhojpur',\n",
              "       ' Tiruchirappalli', ' Srikakulam', ' Maharajganj', ' Dhanbad',\n",
              "       ' Tumkur', ' Sikar', ' Bilaspur', ' Kollam', ' Raigarh',\n",
              "       ' Fatehpur', ' Cuttack', ' Cuddalore', ' Barmer', ' Buldana',\n",
              "       ' Bid', ' Ajmer', ' Gulbarga', ' Gopalganj', ' Siddharth Nagar',\n",
              "       ' Nizamabad', ' Bharatpur', ' Mathura', ' West Delhi',\n",
              "       ' Aurangabad', ' Kannur', ' Mayurbhanj', ' Firozabad', ' Mirzapur',\n",
              "       ' Amritsar', ' Tiruppur', ' Faizabad', ' Tiruvannamalai', ' Basti',\n",
              "       ' Jabalpur', ' Latur', ' Bellary', ' Giridih', ' Sabarkantha',\n",
              "       ' Bhilwara', ' Thanjavur', ' Ambedkar Nagar', ' PanchMahal',\n",
              "       ' Sagar', ' Bhopal', ' Rewa', ' Bikaner', ' Surguja',\n",
              "       ' Vizianagaram', ' Rampur', ' Baleshwar', ' Kheda', ' Gurdaspur',\n",
              "       ' Purbi Singhbhum', ' South West Delhi', ' Erode', ' Khordha',\n",
              "       ' North East Delhi', ' Supaul', ' Satna', ' Nawada', ' Mau',\n",
              "       ' Chandrapur', ' Jalandhar', ' Dhar', ' Bijapur', ' Jamnagar',\n",
              "       ' Dindigul', ' Balrampur', ' Jhunjhunun', ' Alappuzha', ' Dohad',\n",
              "       ' Sundargarh', ' Anand', ' Kachchh', ' Chhindwara',\n",
              "       ' Dakshina Kannada', ' Bokaro', ' Dhule', ' Churu', ' Pali',\n",
              "       ' Mahesana', ' Banka', ' Gwalior', ' Pilibhit', ' Firozpur',\n",
              "       ' Madhepura', ' Jhansi', ' Ujjain', ' Kottayam', ' Ganganagar',\n",
              "       ' Morena', ' Jalna', ' Chandauli', ' Kota', ' Dhubri',\n",
              "       ' Davanagere', ' Virudhunagar', ' Palamu', ' Raichur', ' Sonitpur',\n",
              "       ' Saharsa', ' Patiala', ' Haridwar', ' Bagalkot', ' Farrukhabad',\n",
              "       ' Krishnagiri', ' West Nimar', ' Kanniyakumari', ' Mainpuri',\n",
              "       ' Sonbhadra', ' Dharwad', ' Darjiling', ' Jyotiba Phule Nagar',\n",
              "       ' Parbhani', ' Jalor', ' Jajapur', ' Akola', ' Faridabad',\n",
              "       ' Mandya', ' Kendujhar', ' Banda', ' Banswara', ' Ramabai Nagar',\n",
              "       ' Hassan', ' Hanumangarh', ' Etah', ' Chhattarpur', ' Jamui',\n",
              "       ' Surendranagar', ' Shimoga', ' Thoothukkudi', ' Hisar', ' Cachar',\n",
              "       ' Hazaribagh', ' Namakkal', ' Shivpuri', ' West Tripura',\n",
              "       ' Sant Kabir Nagar', ' East Delhi', ' Buxar', ' Valsad', ' Bidar',\n",
              "       ' Bhind', ' Balaghat', ' Puri', ' Dehradun', ' Barpeta',\n",
              "       ' Kishanganj', ' Jalaun', ' Dakshin Dinajpur', ' Khagaria',\n",
              "       ' Chitradurga', ' Osmanabad', ' Kannauj', ' Sangrur', ' Balangir',\n",
              "       ' Udham Singh Nagar', ' Nandurbar', ' Gautam Buddha Nagar',\n",
              "       ' Bhiwani', ' Dausa', ' Kaimur', ' Janjgir Champa', ' Pudukkottai',\n",
              "       ' Nagapattinam', ' Ratnagiri', ' Kaushambi', ' Haveri',\n",
              "       ' Hoshiarpur', ' Etawah', ' Sant Ravidas Nagar', ' Kalahandi',\n",
              "       ' Betul', ' Mahamaya Nagar', ' Dewas', ' Bharuch', ' Rajgarh',\n",
              "       ' Chittaurgarh', ' Rajnandgaon', ' Kolar', ' Jammu', ' Kamrup',\n",
              "       ' Gurgaon', ' Amreli', ' Shajapur', ' Kangra', ' Dharmapuri',\n",
              "       ' Bhadrak', ' Karnal', ' Pashchimi Singhbhum', ' Raigarh',\n",
              "       ' Deoghar', ' Bargarh', ' Vidisha', ' Karauli', ' Ratlam',\n",
              "       ' Sonipat', ' Tikamgarh', ' Kendrapara', ' Uttara Kannada',\n",
              "       ' Kanshiram Nagar', ' Tonk', ' Bastar', ' Jhalawar',\n",
              "       ' Gandhinagar', ' Koppal', ' Dungarpur', ' Bathinda', ' Barwani',\n",
              "       ' Koraput', ' Auraiya', ' Seoni', ' Munger', ' Ramanathapuram',\n",
              "       ' Patan', ' Mandsaur', ' Sivaganga', ' Sawai Madhopur', ' Jind',\n",
              "       ' Raisen', ' Navsari', ' Tinsukia', ' Dibrugarh', ' Garhwa',\n",
              "       ' Gondiya', ' Dumka', ' Godda', ' Sehore', ' East Nimar',\n",
              "       ' Kasaragod', ' Baghpat', ' Wardha', ' Sirsa', ' Katni', ' Anugul',\n",
              "       ' Thiruvarur', ' Damoh', ' Chikkaballapura',\n",
              "       ' Kamrup Metropolitan', ' Theni', ' Guna', ' Hoshangabad',\n",
              "       ' Srinagar', ' Karimganj', ' Baran', ' Lalitpur', ' Nabarangapur',\n",
              "       ' Yamunanagar', ' Korba', ' Dhaulpur', ' Panipat', ' Bhandara',\n",
              "       ' Pathanamthitta', ' Washim', ' Dhenkanal', ' Singrauli', ' Udupi',\n",
              "       ' Hingoli', ' Yadgir', ' Rajsamand', ' Sivasagar', ' Sahibganj',\n",
              "       ' Chikmagalur', ' Jagatsinghapur', ' Ambala', ' Sidhi',\n",
              "       ' Jehanabad', ' Tarn Taran', ' Shrawasti', ' Bundi', ' Idukki',\n",
              "       ' Hamirpur', ' Jorhat', ' Narsimhapur', ' Mewat', ' Ramanagara',\n",
              "       ' Anantnag', ' Kaithal', ' Gadchiroli', ' Golaghat', ' Shahdol',\n",
              "       ' Saraikela Kharsawan', ' Gadag', ' Karur', ' Rohtak',\n",
              "       ' Chandigarh', ' Mandla', ' Chatra', ' Palwal', ' Lakhimpur',\n",
              "       ' Sambalpur', ' Sirohi', ' Mahasamund', ' Gumla', ' Jhabua',\n",
              "       ' Chamarajanagar', ' Panna', ' Goalpara', ' Baramula',\n",
              "       ' Lakhisarai', ' Mandi', ' Moga', ' Mohali', ' Chitrakoot',\n",
              "       ' Bangalore Rural', ' Rayagada', ' Kurukshetra', ' Nayagarh',\n",
              "       ' Jhajjar', ' Morigaon', ' Karbi Anglong', ' Nainital',\n",
              "       ' Puducherry', ' Baksa', ' Ramgarh', ' Fatehabad', ' Darrang',\n",
              "       ' Mahendragarh', ' Muktsar', ' Pakur', ' Rewari', ' North Delhi',\n",
              "       ' Kokrajhar', ' South Tripura', ' Mahoba', ' Kupwara',\n",
              "       ' Pratapgarh', ' Jashpur', ' Sindhudurg', ' Ashoknagar',\n",
              "       ' Udalguri', ' Neemuch', ' East Khasi Hills', ' Kabirdham',\n",
              "       ' North Goa', ' Wayanad', ' Kapurthala', ' Shimla', ' Tapi',\n",
              "       ' Dhamtari', ' Jamtara', ' Datia', ' Nalbari', ' Mansa',\n",
              "       ' Burhanpur', ' Ariyalur', ' Badgam', ' Anuppur', ' Kanker',\n",
              "       ' Bongaigaon', ' The Nilgiris', ' Kandhamal', ' Alirajpur',\n",
              "       ' Latehar', ' Kodarma', ' Dindori', ' Arwal', ' North Tripura',\n",
              "       ' Sheopur', ' Pauri Garhwal', ' Dhemaji', ' Rupnagar',\n",
              "       ' Jaisalmer', ' Hailakandi', ' Korea', ' Sheohar', ' Umaria',\n",
              "       ' West Garo Hills', ' Rajouri', ' South Goa', ' Sheikhpura',\n",
              "       ' Almora', ' Tehri Garhwal', ' Faridkot', ' Kathua', ' Malkangiri',\n",
              "       ' Shahid Bhagat Singh Nagar', ' Nuapada', ' Subarnapur',\n",
              "       ' Fatehgarh Sahib', ' Simdega', ' Barnala', ' Narmada',\n",
              "       ' Porbandar', ' Central Delhi', ' Solan', ' Jharsuguda',\n",
              "       ' Gajapati', ' Harda', ' Perambalur', ' Panchkula', ' Pulwama',\n",
              "       ' Udhampur', ' Kodagu', ' Dantewada', ' Khunti', ' Sirmaur',\n",
              "       ' Una', ' Chamba', ' Imphal West', ' Pithoragarh', ' Chirang',\n",
              "       ' Senapati', ' Punch', ' Lohardaga', ' Imphal East', ' Hamirpur',\n",
              "       ' Baudh', ' Kullu', ' Kulgam', ' Thoubal', ' Doda', ' Aizawl',\n",
              "       ' Jaintia Hills', ' Bandipora', ' Chamoli', ' West Khasi Hills',\n",
              "       ' Bilaspur', ' Dimapur', ' Dhalai', ' Dadra and Nagar Haveli',\n",
              "       ' Uttarkashi', ' Samba', ' East Garo Hills', ' Reasi', ' Debagarh',\n",
              "       ' Ganderbal', ' Ramban', ' East Sikkim', ' Churachandpur',\n",
              "       ' Kohima', ' Shupiyan', ' Bageshwar', ' Champawat', ' Ri Bhoi',\n",
              "       ' Bijapur', ' Mon', ' Rudraprayag', ' South Andaman', ' Bishnupur',\n",
              "       ' Kishtwar', ' The Dangs', ' Dima Hasao', ' Karaikal', ' Tuensang',\n",
              "       ' Mokokchung', ' Daman', ' Ukhrul', ' Papumpare', ' Wokha',\n",
              "       ' Phek', ' Lunglei', ' Changlang', ' South Sikkim', ' Lohit',\n",
              "       ' Chandel', ' South Garo Hills', ' New Delhi', ' Kargil',\n",
              "       ' Zunheboto', ' Tamenglong', ' Narayanpur', ' West Sikkim', ' Leh',\n",
              "       ' Champhai', ' Lawngtlai', ' West Siang', ' Tirap',\n",
              "       ' North And Middle Andaman', ' East Siang', ' Peren',\n",
              "       ' Kurung Kumey', ' Mamit', ' Kinnaur', ' Kolasib', ' West Kameng',\n",
              "       ' Upper Subansiri', ' Lower Subansiri', ' East Kameng', ' Kiphire',\n",
              "       ' Serchhip', ' Lakshadweep', ' Saiha', ' Yanam',\n",
              "       ' Lower Dibang Valley', ' Diu', ' Longleng', ' Tawang',\n",
              "       ' North Sikkim', ' Mahe', ' Nicobars', ' Upper Siang',\n",
              "       ' Lahul and Spiti', ' Anjaw', ' Dibang Valley'], dtype=object)"
            ]
          },
          "metadata": {},
          "execution_count": 45
        }
      ]
    },
    {
      "cell_type": "code",
      "metadata": {
        "colab": {
          "base_uri": "https://localhost:8080/",
          "height": 1000
        },
        "id": "GzKQFyBcnYq3",
        "outputId": "c47bf923-8a50-47c8-be69-68e9d203e0df"
      },
      "source": [
        "## It will use the index columns for the segregation\n",
        "\n",
        "df_cpy.loc[' Maharashtra'] "
      ],
      "execution_count": 49,
      "outputs": [
        {
          "output_type": "execute_result",
          "data": {
            "text/html": [
              "<div>\n",
              "<style scoped>\n",
              "    .dataframe tbody tr th:only-of-type {\n",
              "        vertical-align: middle;\n",
              "    }\n",
              "\n",
              "    .dataframe tbody tr th {\n",
              "        vertical-align: top;\n",
              "    }\n",
              "\n",
              "    .dataframe thead th {\n",
              "        text-align: right;\n",
              "    }\n",
              "</style>\n",
              "<table border=\"1\" class=\"dataframe\">\n",
              "  <thead>\n",
              "    <tr style=\"text-align: right;\">\n",
              "      <th></th>\n",
              "      <th>Unnamed: 0</th>\n",
              "      <th>District</th>\n",
              "      <th>Literacy</th>\n",
              "    </tr>\n",
              "    <tr>\n",
              "      <th>State</th>\n",
              "      <th></th>\n",
              "      <th></th>\n",
              "      <th></th>\n",
              "    </tr>\n",
              "  </thead>\n",
              "  <tbody>\n",
              "    <tr>\n",
              "      <th>Maharashtra</th>\n",
              "      <td>1</td>\n",
              "      <td>Thane</td>\n",
              "      <td>84.53</td>\n",
              "    </tr>\n",
              "    <tr>\n",
              "      <th>Maharashtra</th>\n",
              "      <td>4</td>\n",
              "      <td>Pune</td>\n",
              "      <td>86.15</td>\n",
              "    </tr>\n",
              "    <tr>\n",
              "      <th>Maharashtra</th>\n",
              "      <td>5</td>\n",
              "      <td>Mumbai Suburban</td>\n",
              "      <td>89.91</td>\n",
              "    </tr>\n",
              "    <tr>\n",
              "      <th>Maharashtra</th>\n",
              "      <td>11</td>\n",
              "      <td>Nashik</td>\n",
              "      <td>82.31</td>\n",
              "    </tr>\n",
              "    <tr>\n",
              "      <th>Maharashtra</th>\n",
              "      <td>28</td>\n",
              "      <td>Nagpur</td>\n",
              "      <td>88.39</td>\n",
              "    </tr>\n",
              "    <tr>\n",
              "      <th>Maharashtra</th>\n",
              "      <td>33</td>\n",
              "      <td>Ahmadnagar</td>\n",
              "      <td>79.05</td>\n",
              "    </tr>\n",
              "    <tr>\n",
              "      <th>Maharashtra</th>\n",
              "      <td>43</td>\n",
              "      <td>Solapur</td>\n",
              "      <td>77.02</td>\n",
              "    </tr>\n",
              "    <tr>\n",
              "      <th>Maharashtra</th>\n",
              "      <td>46</td>\n",
              "      <td>Jalgaon</td>\n",
              "      <td>78.20</td>\n",
              "    </tr>\n",
              "    <tr>\n",
              "      <th>Maharashtra</th>\n",
              "      <td>65</td>\n",
              "      <td>Kolhapur</td>\n",
              "      <td>81.51</td>\n",
              "    </tr>\n",
              "    <tr>\n",
              "      <th>Maharashtra</th>\n",
              "      <td>71</td>\n",
              "      <td>Aurangabad</td>\n",
              "      <td>79.02</td>\n",
              "    </tr>\n",
              "    <tr>\n",
              "      <th>Maharashtra</th>\n",
              "      <td>99</td>\n",
              "      <td>Nanded</td>\n",
              "      <td>75.45</td>\n",
              "    </tr>\n",
              "    <tr>\n",
              "      <th>Maharashtra</th>\n",
              "      <td>115</td>\n",
              "      <td>Mumbai City</td>\n",
              "      <td>89.21</td>\n",
              "    </tr>\n",
              "    <tr>\n",
              "      <th>Maharashtra</th>\n",
              "      <td>124</td>\n",
              "      <td>Satara</td>\n",
              "      <td>82.87</td>\n",
              "    </tr>\n",
              "    <tr>\n",
              "      <th>Maharashtra</th>\n",
              "      <td>131</td>\n",
              "      <td>Amravati</td>\n",
              "      <td>87.38</td>\n",
              "    </tr>\n",
              "    <tr>\n",
              "      <th>Maharashtra</th>\n",
              "      <td>136</td>\n",
              "      <td>Sangli</td>\n",
              "      <td>81.48</td>\n",
              "    </tr>\n",
              "    <tr>\n",
              "      <th>Maharashtra</th>\n",
              "      <td>141</td>\n",
              "      <td>Yavatmal</td>\n",
              "      <td>82.82</td>\n",
              "    </tr>\n",
              "    <tr>\n",
              "      <th>Maharashtra</th>\n",
              "      <td>154</td>\n",
              "      <td>Raigarh</td>\n",
              "      <td>83.14</td>\n",
              "    </tr>\n",
              "    <tr>\n",
              "      <th>Maharashtra</th>\n",
              "      <td>159</td>\n",
              "      <td>Buldana</td>\n",
              "      <td>83.40</td>\n",
              "    </tr>\n",
              "    <tr>\n",
              "      <th>Maharashtra</th>\n",
              "      <td>160</td>\n",
              "      <td>Bid</td>\n",
              "      <td>76.99</td>\n",
              "    </tr>\n",
              "    <tr>\n",
              "      <th>Maharashtra</th>\n",
              "      <td>180</td>\n",
              "      <td>Latur</td>\n",
              "      <td>77.26</td>\n",
              "    </tr>\n",
              "    <tr>\n",
              "      <th>Maharashtra</th>\n",
              "      <td>207</td>\n",
              "      <td>Chandrapur</td>\n",
              "      <td>80.01</td>\n",
              "    </tr>\n",
              "    <tr>\n",
              "      <th>Maharashtra</th>\n",
              "      <td>223</td>\n",
              "      <td>Dhule</td>\n",
              "      <td>72.80</td>\n",
              "    </tr>\n",
              "    <tr>\n",
              "      <th>Maharashtra</th>\n",
              "      <td>237</td>\n",
              "      <td>Jalna</td>\n",
              "      <td>71.52</td>\n",
              "    </tr>\n",
              "    <tr>\n",
              "      <th>Maharashtra</th>\n",
              "      <td>259</td>\n",
              "      <td>Parbhani</td>\n",
              "      <td>73.34</td>\n",
              "    </tr>\n",
              "    <tr>\n",
              "      <th>Maharashtra</th>\n",
              "      <td>262</td>\n",
              "      <td>Akola</td>\n",
              "      <td>88.05</td>\n",
              "    </tr>\n",
              "    <tr>\n",
              "      <th>Maharashtra</th>\n",
              "      <td>298</td>\n",
              "      <td>Osmanabad</td>\n",
              "      <td>78.44</td>\n",
              "    </tr>\n",
              "    <tr>\n",
              "      <th>Maharashtra</th>\n",
              "      <td>303</td>\n",
              "      <td>Nandurbar</td>\n",
              "      <td>64.38</td>\n",
              "    </tr>\n",
              "    <tr>\n",
              "      <th>Maharashtra</th>\n",
              "      <td>311</td>\n",
              "      <td>Ratnagiri</td>\n",
              "      <td>82.18</td>\n",
              "    </tr>\n",
              "    <tr>\n",
              "      <th>Maharashtra</th>\n",
              "      <td>370</td>\n",
              "      <td>Gondiya</td>\n",
              "      <td>84.95</td>\n",
              "    </tr>\n",
              "    <tr>\n",
              "      <th>Maharashtra</th>\n",
              "      <td>377</td>\n",
              "      <td>Wardha</td>\n",
              "      <td>86.99</td>\n",
              "    </tr>\n",
              "    <tr>\n",
              "      <th>Maharashtra</th>\n",
              "      <td>397</td>\n",
              "      <td>Bhandara</td>\n",
              "      <td>83.76</td>\n",
              "    </tr>\n",
              "    <tr>\n",
              "      <th>Maharashtra</th>\n",
              "      <td>399</td>\n",
              "      <td>Washim</td>\n",
              "      <td>83.25</td>\n",
              "    </tr>\n",
              "    <tr>\n",
              "      <th>Maharashtra</th>\n",
              "      <td>403</td>\n",
              "      <td>Hingoli</td>\n",
              "      <td>78.17</td>\n",
              "    </tr>\n",
              "    <tr>\n",
              "      <th>Maharashtra</th>\n",
              "      <td>424</td>\n",
              "      <td>Gadchiroli</td>\n",
              "      <td>74.36</td>\n",
              "    </tr>\n",
              "    <tr>\n",
              "      <th>Maharashtra</th>\n",
              "      <td>474</td>\n",
              "      <td>Sindhudurg</td>\n",
              "      <td>85.56</td>\n",
              "    </tr>\n",
              "  </tbody>\n",
              "</table>\n",
              "</div>"
            ],
            "text/plain": [
              "              Unnamed: 0          District  Literacy\n",
              "State                                               \n",
              " Maharashtra           1             Thane     84.53\n",
              " Maharashtra           4              Pune     86.15\n",
              " Maharashtra           5   Mumbai Suburban     89.91\n",
              " Maharashtra          11            Nashik     82.31\n",
              " Maharashtra          28            Nagpur     88.39\n",
              " Maharashtra          33        Ahmadnagar     79.05\n",
              " Maharashtra          43           Solapur     77.02\n",
              " Maharashtra          46           Jalgaon     78.20\n",
              " Maharashtra          65          Kolhapur     81.51\n",
              " Maharashtra          71        Aurangabad     79.02\n",
              " Maharashtra          99            Nanded     75.45\n",
              " Maharashtra         115       Mumbai City     89.21\n",
              " Maharashtra         124            Satara     82.87\n",
              " Maharashtra         131          Amravati     87.38\n",
              " Maharashtra         136            Sangli     81.48\n",
              " Maharashtra         141          Yavatmal     82.82\n",
              " Maharashtra         154           Raigarh     83.14\n",
              " Maharashtra         159           Buldana     83.40\n",
              " Maharashtra         160               Bid     76.99\n",
              " Maharashtra         180             Latur     77.26\n",
              " Maharashtra         207        Chandrapur     80.01\n",
              " Maharashtra         223             Dhule     72.80\n",
              " Maharashtra         237             Jalna     71.52\n",
              " Maharashtra         259          Parbhani     73.34\n",
              " Maharashtra         262             Akola     88.05\n",
              " Maharashtra         298         Osmanabad     78.44\n",
              " Maharashtra         303         Nandurbar     64.38\n",
              " Maharashtra         311         Ratnagiri     82.18\n",
              " Maharashtra         370           Gondiya     84.95\n",
              " Maharashtra         377            Wardha     86.99\n",
              " Maharashtra         397          Bhandara     83.76\n",
              " Maharashtra         399            Washim     83.25\n",
              " Maharashtra         403           Hingoli     78.17\n",
              " Maharashtra         424        Gadchiroli     74.36\n",
              " Maharashtra         474        Sindhudurg     85.56"
            ]
          },
          "metadata": {},
          "execution_count": 49
        }
      ]
    },
    {
      "cell_type": "code",
      "metadata": {
        "colab": {
          "base_uri": "https://localhost:8080/"
        },
        "id": "-Qq8Auv_n0Sk",
        "outputId": "52b06c3c-b176-4557-8387-be866e932197"
      },
      "source": [
        "df.isnull().sum()"
      ],
      "execution_count": 50,
      "outputs": [
        {
          "output_type": "execute_result",
          "data": {
            "text/plain": [
              "Unnamed: 0    0\n",
              "District      0\n",
              "State         0\n",
              "Literacy      0\n",
              "dtype: int64"
            ]
          },
          "metadata": {},
          "execution_count": 50
        }
      ]
    },
    {
      "cell_type": "code",
      "metadata": {
        "id": "fCzXfmLYo1Uc"
      },
      "source": [
        "df.dropna(inplace=True)"
      ],
      "execution_count": 51,
      "outputs": []
    },
    {
      "cell_type": "markdown",
      "metadata": {
        "id": "2ijwl4aYpPAw"
      },
      "source": [
        "## Update teh single values we will use "
      ]
    },
    {
      "cell_type": "code",
      "metadata": {
        "id": "l4lO9nlno7HF"
      },
      "source": [
        "df['city']='Nagpur'"
      ],
      "execution_count": 53,
      "outputs": []
    },
    {
      "cell_type": "code",
      "metadata": {
        "colab": {
          "base_uri": "https://localhost:8080/",
          "height": 424
        },
        "id": "6aq1UPcrpVIc",
        "outputId": "f21ea80c-2aae-43b4-cbfe-1b79a2343a26"
      },
      "source": [
        "df"
      ],
      "execution_count": 54,
      "outputs": [
        {
          "output_type": "execute_result",
          "data": {
            "text/html": [
              "<div>\n",
              "<style scoped>\n",
              "    .dataframe tbody tr th:only-of-type {\n",
              "        vertical-align: middle;\n",
              "    }\n",
              "\n",
              "    .dataframe tbody tr th {\n",
              "        vertical-align: top;\n",
              "    }\n",
              "\n",
              "    .dataframe thead th {\n",
              "        text-align: right;\n",
              "    }\n",
              "</style>\n",
              "<table border=\"1\" class=\"dataframe\">\n",
              "  <thead>\n",
              "    <tr style=\"text-align: right;\">\n",
              "      <th></th>\n",
              "      <th>Unnamed: 0</th>\n",
              "      <th>District</th>\n",
              "      <th>State</th>\n",
              "      <th>Literacy</th>\n",
              "      <th>city</th>\n",
              "    </tr>\n",
              "  </thead>\n",
              "  <tbody>\n",
              "    <tr>\n",
              "      <th>0</th>\n",
              "      <td>1</td>\n",
              "      <td>Thane</td>\n",
              "      <td>Maharashtra</td>\n",
              "      <td>84.53</td>\n",
              "      <td>Nagpur</td>\n",
              "    </tr>\n",
              "    <tr>\n",
              "      <th>1</th>\n",
              "      <td>2</td>\n",
              "      <td>North Twenty Four Parganas</td>\n",
              "      <td>West Bengal</td>\n",
              "      <td>84.06</td>\n",
              "      <td>Nagpur</td>\n",
              "    </tr>\n",
              "    <tr>\n",
              "      <th>2</th>\n",
              "      <td>3</td>\n",
              "      <td>Bangalore</td>\n",
              "      <td>Karnataka</td>\n",
              "      <td>87.67</td>\n",
              "      <td>Nagpur</td>\n",
              "    </tr>\n",
              "    <tr>\n",
              "      <th>3</th>\n",
              "      <td>4</td>\n",
              "      <td>Pune</td>\n",
              "      <td>Maharashtra</td>\n",
              "      <td>86.15</td>\n",
              "      <td>Nagpur</td>\n",
              "    </tr>\n",
              "    <tr>\n",
              "      <th>4</th>\n",
              "      <td>5</td>\n",
              "      <td>Mumbai Suburban</td>\n",
              "      <td>Maharashtra</td>\n",
              "      <td>89.91</td>\n",
              "      <td>Nagpur</td>\n",
              "    </tr>\n",
              "    <tr>\n",
              "      <th>...</th>\n",
              "      <td>...</td>\n",
              "      <td>...</td>\n",
              "      <td>...</td>\n",
              "      <td>...</td>\n",
              "      <td>...</td>\n",
              "    </tr>\n",
              "    <tr>\n",
              "      <th>635</th>\n",
              "      <td>636</td>\n",
              "      <td>Nicobars</td>\n",
              "      <td>Andaman And Nicobar Islands</td>\n",
              "      <td>78.06</td>\n",
              "      <td>Nagpur</td>\n",
              "    </tr>\n",
              "    <tr>\n",
              "      <th>636</th>\n",
              "      <td>637</td>\n",
              "      <td>Upper Siang</td>\n",
              "      <td>Arunachal Pradesh</td>\n",
              "      <td>59.99</td>\n",
              "      <td>Nagpur</td>\n",
              "    </tr>\n",
              "    <tr>\n",
              "      <th>637</th>\n",
              "      <td>638</td>\n",
              "      <td>Lahul and Spiti</td>\n",
              "      <td>Himachal Pradesh</td>\n",
              "      <td>76.81</td>\n",
              "      <td>Nagpur</td>\n",
              "    </tr>\n",
              "    <tr>\n",
              "      <th>638</th>\n",
              "      <td>639</td>\n",
              "      <td>Anjaw</td>\n",
              "      <td>Arunachal Pradesh</td>\n",
              "      <td>56.46</td>\n",
              "      <td>Nagpur</td>\n",
              "    </tr>\n",
              "    <tr>\n",
              "      <th>639</th>\n",
              "      <td>640</td>\n",
              "      <td>Dibang Valley</td>\n",
              "      <td>Arunachal Pradesh</td>\n",
              "      <td>64.10</td>\n",
              "      <td>Nagpur</td>\n",
              "    </tr>\n",
              "  </tbody>\n",
              "</table>\n",
              "<p>640 rows × 5 columns</p>\n",
              "</div>"
            ],
            "text/plain": [
              "     Unnamed: 0                     District  ... Literacy    city\n",
              "0             1                        Thane  ...    84.53  Nagpur\n",
              "1             2   North Twenty Four Parganas  ...    84.06  Nagpur\n",
              "2             3                    Bangalore  ...    87.67  Nagpur\n",
              "3             4                         Pune  ...    86.15  Nagpur\n",
              "4             5              Mumbai Suburban  ...    89.91  Nagpur\n",
              "..          ...                          ...  ...      ...     ...\n",
              "635         636                     Nicobars  ...    78.06  Nagpur\n",
              "636         637                  Upper Siang  ...    59.99  Nagpur\n",
              "637         638              Lahul and Spiti  ...    76.81  Nagpur\n",
              "638         639                        Anjaw  ...    56.46  Nagpur\n",
              "639         640                Dibang Valley  ...    64.10  Nagpur\n",
              "\n",
              "[640 rows x 5 columns]"
            ]
          },
          "metadata": {},
          "execution_count": 54
        }
      ]
    },
    {
      "cell_type": "code",
      "metadata": {
        "id": "4hgnbsxQpXpq"
      },
      "source": [
        "df.iloc[:,-1]='Mumbai'"
      ],
      "execution_count": 55,
      "outputs": []
    },
    {
      "cell_type": "code",
      "metadata": {
        "colab": {
          "base_uri": "https://localhost:8080/",
          "height": 424
        },
        "id": "uktSohUYpf_F",
        "outputId": "60764b12-f96e-4472-e454-44da97404691"
      },
      "source": [
        "df"
      ],
      "execution_count": 56,
      "outputs": [
        {
          "output_type": "execute_result",
          "data": {
            "text/html": [
              "<div>\n",
              "<style scoped>\n",
              "    .dataframe tbody tr th:only-of-type {\n",
              "        vertical-align: middle;\n",
              "    }\n",
              "\n",
              "    .dataframe tbody tr th {\n",
              "        vertical-align: top;\n",
              "    }\n",
              "\n",
              "    .dataframe thead th {\n",
              "        text-align: right;\n",
              "    }\n",
              "</style>\n",
              "<table border=\"1\" class=\"dataframe\">\n",
              "  <thead>\n",
              "    <tr style=\"text-align: right;\">\n",
              "      <th></th>\n",
              "      <th>Unnamed: 0</th>\n",
              "      <th>District</th>\n",
              "      <th>State</th>\n",
              "      <th>Literacy</th>\n",
              "      <th>city</th>\n",
              "    </tr>\n",
              "  </thead>\n",
              "  <tbody>\n",
              "    <tr>\n",
              "      <th>0</th>\n",
              "      <td>1</td>\n",
              "      <td>Thane</td>\n",
              "      <td>Maharashtra</td>\n",
              "      <td>84.53</td>\n",
              "      <td>Mumbai</td>\n",
              "    </tr>\n",
              "    <tr>\n",
              "      <th>1</th>\n",
              "      <td>2</td>\n",
              "      <td>North Twenty Four Parganas</td>\n",
              "      <td>West Bengal</td>\n",
              "      <td>84.06</td>\n",
              "      <td>Mumbai</td>\n",
              "    </tr>\n",
              "    <tr>\n",
              "      <th>2</th>\n",
              "      <td>3</td>\n",
              "      <td>Bangalore</td>\n",
              "      <td>Karnataka</td>\n",
              "      <td>87.67</td>\n",
              "      <td>Mumbai</td>\n",
              "    </tr>\n",
              "    <tr>\n",
              "      <th>3</th>\n",
              "      <td>4</td>\n",
              "      <td>Pune</td>\n",
              "      <td>Maharashtra</td>\n",
              "      <td>86.15</td>\n",
              "      <td>Mumbai</td>\n",
              "    </tr>\n",
              "    <tr>\n",
              "      <th>4</th>\n",
              "      <td>5</td>\n",
              "      <td>Mumbai Suburban</td>\n",
              "      <td>Maharashtra</td>\n",
              "      <td>89.91</td>\n",
              "      <td>Mumbai</td>\n",
              "    </tr>\n",
              "    <tr>\n",
              "      <th>...</th>\n",
              "      <td>...</td>\n",
              "      <td>...</td>\n",
              "      <td>...</td>\n",
              "      <td>...</td>\n",
              "      <td>...</td>\n",
              "    </tr>\n",
              "    <tr>\n",
              "      <th>635</th>\n",
              "      <td>636</td>\n",
              "      <td>Nicobars</td>\n",
              "      <td>Andaman And Nicobar Islands</td>\n",
              "      <td>78.06</td>\n",
              "      <td>Mumbai</td>\n",
              "    </tr>\n",
              "    <tr>\n",
              "      <th>636</th>\n",
              "      <td>637</td>\n",
              "      <td>Upper Siang</td>\n",
              "      <td>Arunachal Pradesh</td>\n",
              "      <td>59.99</td>\n",
              "      <td>Mumbai</td>\n",
              "    </tr>\n",
              "    <tr>\n",
              "      <th>637</th>\n",
              "      <td>638</td>\n",
              "      <td>Lahul and Spiti</td>\n",
              "      <td>Himachal Pradesh</td>\n",
              "      <td>76.81</td>\n",
              "      <td>Mumbai</td>\n",
              "    </tr>\n",
              "    <tr>\n",
              "      <th>638</th>\n",
              "      <td>639</td>\n",
              "      <td>Anjaw</td>\n",
              "      <td>Arunachal Pradesh</td>\n",
              "      <td>56.46</td>\n",
              "      <td>Mumbai</td>\n",
              "    </tr>\n",
              "    <tr>\n",
              "      <th>639</th>\n",
              "      <td>640</td>\n",
              "      <td>Dibang Valley</td>\n",
              "      <td>Arunachal Pradesh</td>\n",
              "      <td>64.10</td>\n",
              "      <td>Mumbai</td>\n",
              "    </tr>\n",
              "  </tbody>\n",
              "</table>\n",
              "<p>640 rows × 5 columns</p>\n",
              "</div>"
            ],
            "text/plain": [
              "     Unnamed: 0                     District  ... Literacy    city\n",
              "0             1                        Thane  ...    84.53  Mumbai\n",
              "1             2   North Twenty Four Parganas  ...    84.06  Mumbai\n",
              "2             3                    Bangalore  ...    87.67  Mumbai\n",
              "3             4                         Pune  ...    86.15  Mumbai\n",
              "4             5              Mumbai Suburban  ...    89.91  Mumbai\n",
              "..          ...                          ...  ...      ...     ...\n",
              "635         636                     Nicobars  ...    78.06  Mumbai\n",
              "636         637                  Upper Siang  ...    59.99  Mumbai\n",
              "637         638              Lahul and Spiti  ...    76.81  Mumbai\n",
              "638         639                        Anjaw  ...    56.46  Mumbai\n",
              "639         640                Dibang Valley  ...    64.10  Mumbai\n",
              "\n",
              "[640 rows x 5 columns]"
            ]
          },
          "metadata": {},
          "execution_count": 56
        }
      ]
    },
    {
      "cell_type": "code",
      "metadata": {
        "id": "w6kcfKTnpgxm"
      },
      "source": [
        "df.iloc[1,-1]='NAgpur'"
      ],
      "execution_count": 57,
      "outputs": []
    },
    {
      "cell_type": "code",
      "metadata": {
        "colab": {
          "base_uri": "https://localhost:8080/",
          "height": 424
        },
        "id": "gBbPMqdGpmil",
        "outputId": "fa304f57-9085-4b44-ab4c-509f128a69f2"
      },
      "source": [
        "df"
      ],
      "execution_count": 58,
      "outputs": [
        {
          "output_type": "execute_result",
          "data": {
            "text/html": [
              "<div>\n",
              "<style scoped>\n",
              "    .dataframe tbody tr th:only-of-type {\n",
              "        vertical-align: middle;\n",
              "    }\n",
              "\n",
              "    .dataframe tbody tr th {\n",
              "        vertical-align: top;\n",
              "    }\n",
              "\n",
              "    .dataframe thead th {\n",
              "        text-align: right;\n",
              "    }\n",
              "</style>\n",
              "<table border=\"1\" class=\"dataframe\">\n",
              "  <thead>\n",
              "    <tr style=\"text-align: right;\">\n",
              "      <th></th>\n",
              "      <th>Unnamed: 0</th>\n",
              "      <th>District</th>\n",
              "      <th>State</th>\n",
              "      <th>Literacy</th>\n",
              "      <th>city</th>\n",
              "    </tr>\n",
              "  </thead>\n",
              "  <tbody>\n",
              "    <tr>\n",
              "      <th>0</th>\n",
              "      <td>1</td>\n",
              "      <td>Thane</td>\n",
              "      <td>Maharashtra</td>\n",
              "      <td>84.53</td>\n",
              "      <td>Mumbai</td>\n",
              "    </tr>\n",
              "    <tr>\n",
              "      <th>1</th>\n",
              "      <td>2</td>\n",
              "      <td>North Twenty Four Parganas</td>\n",
              "      <td>West Bengal</td>\n",
              "      <td>84.06</td>\n",
              "      <td>NAgpur</td>\n",
              "    </tr>\n",
              "    <tr>\n",
              "      <th>2</th>\n",
              "      <td>3</td>\n",
              "      <td>Bangalore</td>\n",
              "      <td>Karnataka</td>\n",
              "      <td>87.67</td>\n",
              "      <td>Mumbai</td>\n",
              "    </tr>\n",
              "    <tr>\n",
              "      <th>3</th>\n",
              "      <td>4</td>\n",
              "      <td>Pune</td>\n",
              "      <td>Maharashtra</td>\n",
              "      <td>86.15</td>\n",
              "      <td>Mumbai</td>\n",
              "    </tr>\n",
              "    <tr>\n",
              "      <th>4</th>\n",
              "      <td>5</td>\n",
              "      <td>Mumbai Suburban</td>\n",
              "      <td>Maharashtra</td>\n",
              "      <td>89.91</td>\n",
              "      <td>Mumbai</td>\n",
              "    </tr>\n",
              "    <tr>\n",
              "      <th>...</th>\n",
              "      <td>...</td>\n",
              "      <td>...</td>\n",
              "      <td>...</td>\n",
              "      <td>...</td>\n",
              "      <td>...</td>\n",
              "    </tr>\n",
              "    <tr>\n",
              "      <th>635</th>\n",
              "      <td>636</td>\n",
              "      <td>Nicobars</td>\n",
              "      <td>Andaman And Nicobar Islands</td>\n",
              "      <td>78.06</td>\n",
              "      <td>Mumbai</td>\n",
              "    </tr>\n",
              "    <tr>\n",
              "      <th>636</th>\n",
              "      <td>637</td>\n",
              "      <td>Upper Siang</td>\n",
              "      <td>Arunachal Pradesh</td>\n",
              "      <td>59.99</td>\n",
              "      <td>Mumbai</td>\n",
              "    </tr>\n",
              "    <tr>\n",
              "      <th>637</th>\n",
              "      <td>638</td>\n",
              "      <td>Lahul and Spiti</td>\n",
              "      <td>Himachal Pradesh</td>\n",
              "      <td>76.81</td>\n",
              "      <td>Mumbai</td>\n",
              "    </tr>\n",
              "    <tr>\n",
              "      <th>638</th>\n",
              "      <td>639</td>\n",
              "      <td>Anjaw</td>\n",
              "      <td>Arunachal Pradesh</td>\n",
              "      <td>56.46</td>\n",
              "      <td>Mumbai</td>\n",
              "    </tr>\n",
              "    <tr>\n",
              "      <th>639</th>\n",
              "      <td>640</td>\n",
              "      <td>Dibang Valley</td>\n",
              "      <td>Arunachal Pradesh</td>\n",
              "      <td>64.10</td>\n",
              "      <td>Mumbai</td>\n",
              "    </tr>\n",
              "  </tbody>\n",
              "</table>\n",
              "<p>640 rows × 5 columns</p>\n",
              "</div>"
            ],
            "text/plain": [
              "     Unnamed: 0                     District  ... Literacy    city\n",
              "0             1                        Thane  ...    84.53  Mumbai\n",
              "1             2   North Twenty Four Parganas  ...    84.06  NAgpur\n",
              "2             3                    Bangalore  ...    87.67  Mumbai\n",
              "3             4                         Pune  ...    86.15  Mumbai\n",
              "4             5              Mumbai Suburban  ...    89.91  Mumbai\n",
              "..          ...                          ...  ...      ...     ...\n",
              "635         636                     Nicobars  ...    78.06  Mumbai\n",
              "636         637                  Upper Siang  ...    59.99  Mumbai\n",
              "637         638              Lahul and Spiti  ...    76.81  Mumbai\n",
              "638         639                        Anjaw  ...    56.46  Mumbai\n",
              "639         640                Dibang Valley  ...    64.10  Mumbai\n",
              "\n",
              "[640 rows x 5 columns]"
            ]
          },
          "metadata": {},
          "execution_count": 58
        }
      ]
    },
    {
      "cell_type": "markdown",
      "metadata": {
        "id": "_c7_P9n4qJu5"
      },
      "source": [
        "## Condition based update using apply()"
      ]
    },
    {
      "cell_type": "code",
      "metadata": {
        "id": "cuvXnE-UqGqr"
      },
      "source": [
        "df['town']=df['Literacy'].apply(lambda x: 80 if x>80 else 79)  # : is used as such that x is the value sin that columns or series"
      ],
      "execution_count": 59,
      "outputs": []
    },
    {
      "cell_type": "code",
      "metadata": {
        "colab": {
          "base_uri": "https://localhost:8080/",
          "height": 424
        },
        "id": "szl2WqwjpnIT",
        "outputId": "8e3aa6c5-6b69-4a9a-faa8-ae29b23b57f3"
      },
      "source": [
        "df"
      ],
      "execution_count": 60,
      "outputs": [
        {
          "output_type": "execute_result",
          "data": {
            "text/html": [
              "<div>\n",
              "<style scoped>\n",
              "    .dataframe tbody tr th:only-of-type {\n",
              "        vertical-align: middle;\n",
              "    }\n",
              "\n",
              "    .dataframe tbody tr th {\n",
              "        vertical-align: top;\n",
              "    }\n",
              "\n",
              "    .dataframe thead th {\n",
              "        text-align: right;\n",
              "    }\n",
              "</style>\n",
              "<table border=\"1\" class=\"dataframe\">\n",
              "  <thead>\n",
              "    <tr style=\"text-align: right;\">\n",
              "      <th></th>\n",
              "      <th>Unnamed: 0</th>\n",
              "      <th>District</th>\n",
              "      <th>State</th>\n",
              "      <th>Literacy</th>\n",
              "      <th>city</th>\n",
              "      <th>town</th>\n",
              "    </tr>\n",
              "  </thead>\n",
              "  <tbody>\n",
              "    <tr>\n",
              "      <th>0</th>\n",
              "      <td>1</td>\n",
              "      <td>Thane</td>\n",
              "      <td>Maharashtra</td>\n",
              "      <td>84.53</td>\n",
              "      <td>Mumbai</td>\n",
              "      <td>80</td>\n",
              "    </tr>\n",
              "    <tr>\n",
              "      <th>1</th>\n",
              "      <td>2</td>\n",
              "      <td>North Twenty Four Parganas</td>\n",
              "      <td>West Bengal</td>\n",
              "      <td>84.06</td>\n",
              "      <td>NAgpur</td>\n",
              "      <td>80</td>\n",
              "    </tr>\n",
              "    <tr>\n",
              "      <th>2</th>\n",
              "      <td>3</td>\n",
              "      <td>Bangalore</td>\n",
              "      <td>Karnataka</td>\n",
              "      <td>87.67</td>\n",
              "      <td>Mumbai</td>\n",
              "      <td>80</td>\n",
              "    </tr>\n",
              "    <tr>\n",
              "      <th>3</th>\n",
              "      <td>4</td>\n",
              "      <td>Pune</td>\n",
              "      <td>Maharashtra</td>\n",
              "      <td>86.15</td>\n",
              "      <td>Mumbai</td>\n",
              "      <td>80</td>\n",
              "    </tr>\n",
              "    <tr>\n",
              "      <th>4</th>\n",
              "      <td>5</td>\n",
              "      <td>Mumbai Suburban</td>\n",
              "      <td>Maharashtra</td>\n",
              "      <td>89.91</td>\n",
              "      <td>Mumbai</td>\n",
              "      <td>80</td>\n",
              "    </tr>\n",
              "    <tr>\n",
              "      <th>...</th>\n",
              "      <td>...</td>\n",
              "      <td>...</td>\n",
              "      <td>...</td>\n",
              "      <td>...</td>\n",
              "      <td>...</td>\n",
              "      <td>...</td>\n",
              "    </tr>\n",
              "    <tr>\n",
              "      <th>635</th>\n",
              "      <td>636</td>\n",
              "      <td>Nicobars</td>\n",
              "      <td>Andaman And Nicobar Islands</td>\n",
              "      <td>78.06</td>\n",
              "      <td>Mumbai</td>\n",
              "      <td>79</td>\n",
              "    </tr>\n",
              "    <tr>\n",
              "      <th>636</th>\n",
              "      <td>637</td>\n",
              "      <td>Upper Siang</td>\n",
              "      <td>Arunachal Pradesh</td>\n",
              "      <td>59.99</td>\n",
              "      <td>Mumbai</td>\n",
              "      <td>79</td>\n",
              "    </tr>\n",
              "    <tr>\n",
              "      <th>637</th>\n",
              "      <td>638</td>\n",
              "      <td>Lahul and Spiti</td>\n",
              "      <td>Himachal Pradesh</td>\n",
              "      <td>76.81</td>\n",
              "      <td>Mumbai</td>\n",
              "      <td>79</td>\n",
              "    </tr>\n",
              "    <tr>\n",
              "      <th>638</th>\n",
              "      <td>639</td>\n",
              "      <td>Anjaw</td>\n",
              "      <td>Arunachal Pradesh</td>\n",
              "      <td>56.46</td>\n",
              "      <td>Mumbai</td>\n",
              "      <td>79</td>\n",
              "    </tr>\n",
              "    <tr>\n",
              "      <th>639</th>\n",
              "      <td>640</td>\n",
              "      <td>Dibang Valley</td>\n",
              "      <td>Arunachal Pradesh</td>\n",
              "      <td>64.10</td>\n",
              "      <td>Mumbai</td>\n",
              "      <td>79</td>\n",
              "    </tr>\n",
              "  </tbody>\n",
              "</table>\n",
              "<p>640 rows × 6 columns</p>\n",
              "</div>"
            ],
            "text/plain": [
              "     Unnamed: 0                     District  ...    city  town\n",
              "0             1                        Thane  ...  Mumbai    80\n",
              "1             2   North Twenty Four Parganas  ...  NAgpur    80\n",
              "2             3                    Bangalore  ...  Mumbai    80\n",
              "3             4                         Pune  ...  Mumbai    80\n",
              "4             5              Mumbai Suburban  ...  Mumbai    80\n",
              "..          ...                          ...  ...     ...   ...\n",
              "635         636                     Nicobars  ...  Mumbai    79\n",
              "636         637                  Upper Siang  ...  Mumbai    79\n",
              "637         638              Lahul and Spiti  ...  Mumbai    79\n",
              "638         639                        Anjaw  ...  Mumbai    79\n",
              "639         640                Dibang Valley  ...  Mumbai    79\n",
              "\n",
              "[640 rows x 6 columns]"
            ]
          },
          "metadata": {},
          "execution_count": 60
        }
      ]
    },
    {
      "cell_type": "code",
      "metadata": {
        "id": "2Fy1AMnfqmKW"
      },
      "source": [
        "df.to_csv('df.csv')"
      ],
      "execution_count": 61,
      "outputs": []
    },
    {
      "cell_type": "code",
      "metadata": {
        "colab": {
          "base_uri": "https://localhost:8080/",
          "height": 121
        },
        "id": "bOPHgwvQq7RZ",
        "outputId": "384c4269-d4a8-4f72-c8ca-42dd4abeadec"
      },
      "source": [
        "# output to json\n",
        "df.to_json()"
      ],
      "execution_count": 62,
      "outputs": [
        {
          "output_type": "execute_result",
          "data": {
            "application/vnd.google.colaboratory.intrinsic+json": {
              "type": "string"
            },
            "text/plain": [
              "'{\"Unnamed: 0\":{\"0\":1,\"1\":2,\"2\":3,\"3\":4,\"4\":5,\"5\":6,\"6\":7,\"7\":8,\"8\":9,\"9\":10,\"10\":11,\"11\":12,\"12\":13,\"13\":14,\"14\":15,\"15\":16,\"16\":17,\"17\":18,\"18\":19,\"19\":20,\"20\":21,\"21\":22,\"22\":23,\"23\":24,\"24\":25,\"25\":26,\"26\":27,\"27\":28,\"28\":29,\"29\":30,\"30\":31,\"31\":32,\"32\":33,\"33\":34,\"34\":35,\"35\":36,\"36\":37,\"37\":38,\"38\":39,\"39\":40,\"40\":41,\"41\":42,\"42\":43,\"43\":44,\"44\":45,\"45\":46,\"46\":47,\"47\":48,\"48\":49,\"49\":50,\"50\":51,\"51\":52,\"52\":53,\"53\":54,\"54\":55,\"55\":56,\"56\":57,\"57\":58,\"58\":59,\"59\":60,\"60\":61,\"61\":62,\"62\":63,\"63\":64,\"64\":65,\"65\":66,\"66\":67,\"67\":68,\"68\":69,\"69\":70,\"70\":71,\"71\":72,\"72\":73,\"73\":74,\"74\":75,\"75\":76,\"76\":77,\"77\":78,\"78\":79,\"79\":80,\"80\":81,\"81\":82,\"82\":83,\"83\":84,\"84\":85,\"85\":86,\"86\":87,\"87\":88,\"88\":89,\"89\":90,\"90\":91,\"91\":92,\"92\":93,\"93\":94,\"94\":95,\"95\":96,\"96\":97,\"97\":98,\"98\":99,\"99\":100,\"100\":101,\"101\":102,\"102\":103,\"103\":104,\"104\":105,\"105\":106,\"106\":107,\"107\":108,\"108\":109,\"109\":110,\"110\":111,\"111\":112,\"112\":113,\"113\":114,\"114\":115,\"115\":116,\"116\":117,\"117\":118,\"118\":119,\"119\":120,\"120\":121,\"121\":122,\"122\":123,\"123\":124,\"124\":125,\"125\":126,\"126\":127,\"127\":128,\"128\":129,\"129\":130,\"130\":131,\"131\":132,\"132\":133,\"133\":134,\"134\":135,\"135\":136,\"136\":137,\"137\":138,\"138\":139,\"139\":140,\"140\":141,\"141\":142,\"142\":143,\"143\":144,\"144\":145,\"145\":146,\"146\":147,\"147\":148,\"148\":149,\"149\":150,\"150\":151,\"151\":152,\"152\":153,\"153\":154,\"154\":155,\"155\":156,\"156\":157,\"157\":158,\"158\":159,\"159\":160,\"160\":161,\"161\":162,\"162\":163,\"163\":164,\"164\":165,\"165\":166,\"166\":167,\"167\":168,\"168\":169,\"169\":170,\"170\":171,\"171\":172,\"172\":173,\"173\":174,\"174\":175,\"175\":176,\"176\":177,\"177\":178,\"178\":179,\"179\":180,\"180\":181,\"181\":182,\"182\":183,\"183\":184,\"184\":185,\"185\":186,\"186\":187,\"187\":188,\"188\":189,\"189\":190,\"190\":191,\"191\":192,\"192\":193,\"193\":194,\"194\":195,\"195\":196,\"196\":197,\"197\":198,\"198\":199,\"199\":200,\"200\":201,\"201\":202,\"202\":203,\"203\":204,\"204\":205,\"205\":206,\"206\":207,\"207\":208,\"208\":209,\"209\":210,\"210\":211,\"211\":212,\"212\":213,\"213\":214,\"214\":215,\"215\":216,\"216\":217,\"217\":218,\"218\":219,\"219\":220,\"220\":221,\"221\":222,\"222\":223,\"223\":224,\"224\":225,\"225\":226,\"226\":227,\"227\":228,\"228\":229,\"229\":230,\"230\":231,\"231\":232,\"232\":233,\"233\":234,\"234\":235,\"235\":236,\"236\":237,\"237\":238,\"238\":239,\"239\":240,\"240\":241,\"241\":242,\"242\":243,\"243\":244,\"244\":245,\"245\":246,\"246\":247,\"247\":248,\"248\":249,\"249\":250,\"250\":251,\"251\":252,\"252\":253,\"253\":254,\"254\":255,\"255\":256,\"256\":257,\"257\":258,\"258\":259,\"259\":260,\"260\":261,\"261\":262,\"262\":263,\"263\":264,\"264\":265,\"265\":266,\"266\":267,\"267\":268,\"268\":269,\"269\":270,\"270\":271,\"271\":272,\"272\":273,\"273\":274,\"274\":275,\"275\":276,\"276\":277,\"277\":278,\"278\":279,\"279\":280,\"280\":281,\"281\":282,\"282\":283,\"283\":284,\"284\":285,\"285\":286,\"286\":287,\"287\":288,\"288\":289,\"289\":290,\"290\":291,\"291\":292,\"292\":293,\"293\":294,\"294\":295,\"295\":296,\"296\":297,\"297\":298,\"298\":299,\"299\":300,\"300\":301,\"301\":302,\"302\":303,\"303\":304,\"304\":305,\"305\":306,\"306\":307,\"307\":308,\"308\":309,\"309\":310,\"310\":311,\"311\":312,\"312\":313,\"313\":314,\"314\":315,\"315\":316,\"316\":317,\"317\":318,\"318\":319,\"319\":320,\"320\":321,\"321\":322,\"322\":323,\"323\":324,\"324\":325,\"325\":326,\"326\":327,\"327\":328,\"328\":329,\"329\":330,\"330\":331,\"331\":332,\"332\":333,\"333\":334,\"334\":335,\"335\":336,\"336\":337,\"337\":338,\"338\":339,\"339\":340,\"340\":341,\"341\":342,\"342\":343,\"343\":344,\"344\":345,\"345\":346,\"346\":347,\"347\":348,\"348\":349,\"349\":350,\"350\":351,\"351\":352,\"352\":353,\"353\":354,\"354\":355,\"355\":356,\"356\":357,\"357\":358,\"358\":359,\"359\":360,\"360\":361,\"361\":362,\"362\":363,\"363\":364,\"364\":365,\"365\":366,\"366\":367,\"367\":368,\"368\":369,\"369\":370,\"370\":371,\"371\":372,\"372\":373,\"373\":374,\"374\":375,\"375\":376,\"376\":377,\"377\":378,\"378\":379,\"379\":380,\"380\":381,\"381\":382,\"382\":383,\"383\":384,\"384\":385,\"385\":386,\"386\":387,\"387\":388,\"388\":389,\"389\":390,\"390\":391,\"391\":392,\"392\":393,\"393\":394,\"394\":395,\"395\":396,\"396\":397,\"397\":398,\"398\":399,\"399\":400,\"400\":401,\"401\":402,\"402\":403,\"403\":404,\"404\":405,\"405\":406,\"406\":407,\"407\":408,\"408\":409,\"409\":410,\"410\":411,\"411\":412,\"412\":413,\"413\":414,\"414\":415,\"415\":416,\"416\":417,\"417\":418,\"418\":419,\"419\":420,\"420\":421,\"421\":422,\"422\":423,\"423\":424,\"424\":425,\"425\":426,\"426\":427,\"427\":428,\"428\":429,\"429\":430,\"430\":431,\"431\":432,\"432\":433,\"433\":434,\"434\":435,\"435\":436,\"436\":437,\"437\":438,\"438\":439,\"439\":440,\"440\":441,\"441\":442,\"442\":443,\"443\":444,\"444\":445,\"445\":446,\"446\":447,\"447\":448,\"448\":449,\"449\":450,\"450\":451,\"451\":452,\"452\":453,\"453\":454,\"454\":455,\"455\":456,\"456\":457,\"457\":458,\"458\":459,\"459\":460,\"460\":461,\"461\":462,\"462\":463,\"463\":464,\"464\":465,\"465\":466,\"466\":467,\"467\":468,\"468\":469,\"469\":470,\"470\":471,\"471\":472,\"472\":473,\"473\":474,\"474\":475,\"475\":476,\"476\":477,\"477\":478,\"478\":479,\"479\":480,\"480\":481,\"481\":482,\"482\":483,\"483\":484,\"484\":485,\"485\":486,\"486\":487,\"487\":488,\"488\":489,\"489\":490,\"490\":491,\"491\":492,\"492\":493,\"493\":494,\"494\":495,\"495\":496,\"496\":497,\"497\":498,\"498\":499,\"499\":500,\"500\":501,\"501\":502,\"502\":503,\"503\":504,\"504\":505,\"505\":506,\"506\":507,\"507\":508,\"508\":509,\"509\":510,\"510\":511,\"511\":512,\"512\":513,\"513\":514,\"514\":515,\"515\":516,\"516\":517,\"517\":518,\"518\":519,\"519\":520,\"520\":521,\"521\":522,\"522\":523,\"523\":524,\"524\":525,\"525\":526,\"526\":527,\"527\":528,\"528\":529,\"529\":530,\"530\":531,\"531\":532,\"532\":533,\"533\":534,\"534\":535,\"535\":536,\"536\":537,\"537\":538,\"538\":539,\"539\":540,\"540\":541,\"541\":542,\"542\":543,\"543\":544,\"544\":545,\"545\":546,\"546\":547,\"547\":548,\"548\":549,\"549\":550,\"550\":551,\"551\":552,\"552\":553,\"553\":554,\"554\":555,\"555\":556,\"556\":557,\"557\":558,\"558\":559,\"559\":560,\"560\":561,\"561\":562,\"562\":563,\"563\":564,\"564\":565,\"565\":566,\"566\":567,\"567\":568,\"568\":569,\"569\":570,\"570\":571,\"571\":572,\"572\":573,\"573\":574,\"574\":575,\"575\":576,\"576\":577,\"577\":578,\"578\":579,\"579\":580,\"580\":581,\"581\":582,\"582\":583,\"583\":584,\"584\":585,\"585\":586,\"586\":587,\"587\":588,\"588\":589,\"589\":590,\"590\":591,\"591\":592,\"592\":593,\"593\":594,\"594\":595,\"595\":596,\"596\":597,\"597\":598,\"598\":599,\"599\":600,\"600\":601,\"601\":602,\"602\":603,\"603\":604,\"604\":605,\"605\":606,\"606\":607,\"607\":608,\"608\":609,\"609\":610,\"610\":611,\"611\":612,\"612\":613,\"613\":614,\"614\":615,\"615\":616,\"616\":617,\"617\":618,\"618\":619,\"619\":620,\"620\":621,\"621\":622,\"622\":623,\"623\":624,\"624\":625,\"625\":626,\"626\":627,\"627\":628,\"628\":629,\"629\":630,\"630\":631,\"631\":632,\"632\":633,\"633\":634,\"634\":635,\"635\":636,\"636\":637,\"637\":638,\"638\":639,\"639\":640},\"District\":{\"0\":\" Thane\",\"1\":\" North Twenty Four Parganas\",\"2\":\" Bangalore\",\"3\":\" Pune\",\"4\":\" Mumbai Suburban\",\"5\":\" South Twenty Four Parganas\",\"6\":\" Barddhaman\",\"7\":\" Ahmadabad\",\"8\":\" Murshidabad\",\"9\":\" Jaipur\",\"10\":\" Nashik\",\"11\":\" Surat\",\"12\":\" Allahabad\",\"13\":\" Paschim Medinipur\",\"14\":\" Patna\",\"15\":\" Hugli\",\"16\":\" Rangareddy\",\"17\":\" Nadia\",\"18\":\" East Godavari\",\"19\":\" Purbi Champaran\",\"20\":\" Purba Medinipur\",\"21\":\" Guntur\",\"22\":\" Haora\",\"23\":\" Muzaffarpur\",\"24\":\" Belgaum\",\"25\":\" Moradabad\",\"26\":\" Ghaziabad\",\"27\":\" Nagpur\",\"28\":\" Chennai\",\"29\":\" Azamgarh\",\"30\":\" Lucknow\",\"31\":\" Kanpur Nagar\",\"32\":\" Ahmadnagar\",\"33\":\" Krishna\",\"34\":\" Kolkata\",\"35\":\" Jaunpur\",\"36\":\" Madhubani\",\"37\":\" Sitapur\",\"38\":\" Bareilly\",\"39\":\" Gorakhpur\",\"40\":\" Agra\",\"41\":\" Gaya\",\"42\":\" Solapur\",\"43\":\" Visakhapatnam\",\"44\":\" Samastipur\",\"45\":\" Jalgaon\",\"46\":\" Chittoor\",\"47\":\" Vadodara\",\"48\":\" Muzaffarnagar\",\"49\":\" Malappuram\",\"50\":\" Hardoi\",\"51\":\" Anantapur\",\"52\":\" Raipur\",\"53\":\" Kurnool\",\"54\":\" Mahbubnagar\",\"55\":\" Kheri\",\"56\":\" Kancheepuram\",\"57\":\" Maldah\",\"58\":\" Saran\",\"59\":\" Hyderabad\",\"60\":\" Darbhanga\",\"61\":\" West Godavari\",\"62\":\" Vellore\",\"63\":\" Pashchim Champaran\",\"64\":\" Kolhapur\",\"65\":\" Jalpaiguri\",\"66\":\" Rajkot\",\"67\":\" Sultanpur\",\"68\":\" Karimnagar\",\"69\":\" Thiruvallur\",\"70\":\" Aurangabad\",\"71\":\" Jodhpur\",\"72\":\" Bijnor\",\"73\":\" Budaun\",\"74\":\" Varanasi\",\"75\":\" Alwar\",\"76\":\" Aligarh\",\"77\":\" North West Delhi\",\"78\":\" Ghazipur\",\"79\":\" Bankura\",\"80\":\" Kushinagar\",\"81\":\" Ganjam\",\"82\":\" Warangal\",\"83\":\" Birbhum\",\"84\":\" Bulandshahar\",\"85\":\" Ludhiana\",\"86\":\" Vaishali\",\"87\":\" Nalgonda\",\"88\":\" Bahraich\",\"89\":\" Salem\",\"90\":\" Saharanpur\",\"91\":\" Viluppuram\",\"92\":\" Coimbatore\",\"93\":\" Meerut\",\"94\":\" Gonda\",\"95\":\" Sitamarhi\",\"96\":\" Rae Bareli\",\"97\":\" Prakasam\",\"98\":\" Nanded\",\"99\":\" Durg\",\"100\":\" Siwan\",\"101\":\" Nagaur\",\"102\":\" Thiruvananthapuram\",\"103\":\" Ernakulam\",\"104\":\" Indore\",\"105\":\" Purnia\",\"106\":\" Barabanki\",\"107\":\" Ballia\",\"108\":\" Pratapgarh\",\"109\":\" Thrissur\",\"110\":\" Banaskantha\",\"111\":\" Unnao\",\"112\":\" Deoria\",\"113\":\" Kozhikode\",\"114\":\" Mumbai City\",\"115\":\" Tirunelveli\",\"116\":\" Katihar\",\"117\":\" Udaipur\",\"118\":\" Madurai\",\"119\":\" Bhagalpur\",\"120\":\" Medak\",\"121\":\" Uttar Dinajpur\",\"122\":\" Shahjahanpur\",\"123\":\" Satara\",\"124\":\" Mysore\",\"125\":\" Begusarai\",\"126\":\" Sri Potti Sriramulu Nellore\",\"127\":\" Rohtas\",\"128\":\" Puruliya\",\"129\":\" Ranchi\",\"130\":\" Amravati\",\"131\":\" YSR\",\"132\":\" Bhavnagar\",\"133\":\" Nalanda\",\"134\":\" Nagaon\",\"135\":\" Sangli\",\"136\":\" Koch Bihar\",\"137\":\" Araria\",\"138\":\" Palakkad\",\"139\":\" Khammam\",\"140\":\" Yavatmal\",\"141\":\" Junagadh\",\"142\":\" Adilabad\",\"143\":\" South Delhi\",\"144\":\" Bhojpur\",\"145\":\" Tiruchirappalli\",\"146\":\" Srikakulam\",\"147\":\" Maharajganj\",\"148\":\" Dhanbad\",\"149\":\" Tumkur\",\"150\":\" Sikar\",\"151\":\" Bilaspur\",\"152\":\" Kollam\",\"153\":\" Raigarh\",\"154\":\" Fatehpur\",\"155\":\" Cuttack\",\"156\":\" Cuddalore\",\"157\":\" Barmer\",\"158\":\" Buldana\",\"159\":\" Bid\",\"160\":\" Ajmer\",\"161\":\" Gulbarga\",\"162\":\" Gopalganj\",\"163\":\" Siddharth Nagar\",\"164\":\" Nizamabad\",\"165\":\" Bharatpur\",\"166\":\" Mathura\",\"167\":\" West Delhi\",\"168\":\" Aurangabad\",\"169\":\" Kannur\",\"170\":\" Mayurbhanj\",\"171\":\" Firozabad\",\"172\":\" Mirzapur\",\"173\":\" Amritsar\",\"174\":\" Tiruppur\",\"175\":\" Faizabad\",\"176\":\" Tiruvannamalai\",\"177\":\" Basti\",\"178\":\" Jabalpur\",\"179\":\" Latur\",\"180\":\" Bellary\",\"181\":\" Giridih\",\"182\":\" Sabarkantha\",\"183\":\" Bhilwara\",\"184\":\" Thanjavur\",\"185\":\" Ambedkar Nagar\",\"186\":\" PanchMahal\",\"187\":\" Sagar\",\"188\":\" Bhopal\",\"189\":\" Rewa\",\"190\":\" Bikaner\",\"191\":\" Surguja\",\"192\":\" Vizianagaram\",\"193\":\" Rampur\",\"194\":\" Baleshwar\",\"195\":\" Kheda\",\"196\":\" Gurdaspur\",\"197\":\" Purbi Singhbhum\",\"198\":\" South West Delhi\",\"199\":\" Erode\",\"200\":\" Khordha\",\"201\":\" North East Delhi\",\"202\":\" Supaul\",\"203\":\" Satna\",\"204\":\" Nawada\",\"205\":\" Mau\",\"206\":\" Chandrapur\",\"207\":\" Jalandhar\",\"208\":\" Dhar\",\"209\":\" Bijapur\",\"210\":\" Jamnagar\",\"211\":\" Dindigul\",\"212\":\" Balrampur\",\"213\":\" Jhunjhunun\",\"214\":\" Alappuzha\",\"215\":\" Dohad\",\"216\":\" Sundargarh\",\"217\":\" Anand\",\"218\":\" Kachchh\",\"219\":\" Chhindwara\",\"220\":\" Dakshina Kannada\",\"221\":\" Bokaro\",\"222\":\" Dhule\",\"223\":\" Churu\",\"224\":\" Pali\",\"225\":\" Mahesana\",\"226\":\" Banka\",\"227\":\" Gwalior\",\"228\":\" Pilibhit\",\"229\":\" Firozpur\",\"230\":\" Madhepura\",\"231\":\" Jhansi\",\"232\":\" Ujjain\",\"233\":\" Kottayam\",\"234\":\" Ganganagar\",\"235\":\" Morena\",\"236\":\" Jalna\",\"237\":\" Chandauli\",\"238\":\" Kota\",\"239\":\" Dhubri\",\"240\":\" Davanagere\",\"241\":\" Virudhunagar\",\"242\":\" Palamu\",\"243\":\" Raichur\",\"244\":\" Sonitpur\",\"245\":\" Saharsa\",\"246\":\" Patiala\",\"247\":\" Haridwar\",\"248\":\" Bagalkot\",\"249\":\" Farrukhabad\",\"250\":\" Krishnagiri\",\"251\":\" West Nimar\",\"252\":\" Kanniyakumari\",\"253\":\" Mainpuri\",\"254\":\" Sonbhadra\",\"255\":\" Dharwad\",\"256\":\" Darjiling\",\"257\":\" Jyotiba Phule Nagar\",\"258\":\" Parbhani\",\"259\":\" Jalor\",\"260\":\" Jajapur\",\"261\":\" Akola\",\"262\":\" Faridabad\",\"263\":\" Mandya\",\"264\":\" Kendujhar\",\"265\":\" Banda\",\"266\":\" Banswara\",\"267\":\" Ramabai Nagar\",\"268\":\" Hassan\",\"269\":\" Hanumangarh\",\"270\":\" Etah\",\"271\":\" Chhattarpur\",\"272\":\" Jamui\",\"273\":\" Surendranagar\",\"274\":\" Shimoga\",\"275\":\" Thoothukkudi\",\"276\":\" Hisar\",\"277\":\" Cachar\",\"278\":\" Hazaribagh\",\"279\":\" Namakkal\",\"280\":\" Shivpuri\",\"281\":\" West Tripura\",\"282\":\" Sant Kabir Nagar\",\"283\":\" East Delhi\",\"284\":\" Buxar\",\"285\":\" Valsad\",\"286\":\" Bidar\",\"287\":\" Bhind\",\"288\":\" Balaghat\",\"289\":\" Puri\",\"290\":\" Dehradun\",\"291\":\" Barpeta\",\"292\":\" Kishanganj\",\"293\":\" Jalaun\",\"294\":\" Dakshin Dinajpur\",\"295\":\" Khagaria\",\"296\":\" Chitradurga\",\"297\":\" Osmanabad\",\"298\":\" Kannauj\",\"299\":\" Sangrur\",\"300\":\" Balangir\",\"301\":\" Udham Singh Nagar\",\"302\":\" Nandurbar\",\"303\":\" Gautam Buddha Nagar\",\"304\":\" Bhiwani\",\"305\":\" Dausa\",\"306\":\" Kaimur\",\"307\":\" Janjgir Champa\",\"308\":\" Pudukkottai\",\"309\":\" Nagapattinam\",\"310\":\" Ratnagiri\",\"311\":\" Kaushambi\",\"312\":\" Haveri\",\"313\":\" Hoshiarpur\",\"314\":\" Etawah\",\"315\":\" Sant Ravidas Nagar\",\"316\":\" Kalahandi\",\"317\":\" Betul\",\"318\":\" Mahamaya Nagar\",\"319\":\" Dewas\",\"320\":\" Bharuch\",\"321\":\" Rajgarh\",\"322\":\" Chittaurgarh\",\"323\":\" Rajnandgaon\",\"324\":\" Kolar\",\"325\":\" Jammu\",\"326\":\" Kamrup\",\"327\":\" Gurgaon\",\"328\":\" Amreli\",\"329\":\" Shajapur\",\"330\":\" Kangra\",\"331\":\" Dharmapuri\",\"332\":\" Bhadrak\",\"333\":\" Karnal\",\"334\":\" Pashchimi Singhbhum\",\"335\":\" Raigarh\",\"336\":\" Deoghar\",\"337\":\" Bargarh\",\"338\":\" Vidisha\",\"339\":\" Karauli\",\"340\":\" Ratlam\",\"341\":\" Sonipat\",\"342\":\" Tikamgarh\",\"343\":\" Kendrapara\",\"344\":\" Uttara Kannada\",\"345\":\" Kanshiram Nagar\",\"346\":\" Tonk\",\"347\":\" Bastar\",\"348\":\" Jhalawar\",\"349\":\" Gandhinagar\",\"350\":\" Koppal\",\"351\":\" Dungarpur\",\"352\":\" Bathinda\",\"353\":\" Barwani\",\"354\":\" Koraput\",\"355\":\" Auraiya\",\"356\":\" Seoni\",\"357\":\" Munger\",\"358\":\" Ramanathapuram\",\"359\":\" Patan\",\"360\":\" Mandsaur\",\"361\":\" Sivaganga\",\"362\":\" Sawai Madhopur\",\"363\":\" Jind\",\"364\":\" Raisen\",\"365\":\" Navsari\",\"366\":\" Tinsukia\",\"367\":\" Dibrugarh\",\"368\":\" Garhwa\",\"369\":\" Gondiya\",\"370\":\" Dumka\",\"371\":\" Godda\",\"372\":\" Sehore\",\"373\":\" East Nimar\",\"374\":\" Kasaragod\",\"375\":\" Baghpat\",\"376\":\" Wardha\",\"377\":\" Sirsa\",\"378\":\" Katni\",\"379\":\" Anugul\",\"380\":\" Thiruvarur\",\"381\":\" Damoh\",\"382\":\" Chikkaballapura\",\"383\":\" Kamrup Metropolitan\",\"384\":\" Theni\",\"385\":\" Guna\",\"386\":\" Hoshangabad\",\"387\":\" Srinagar\",\"388\":\" Karimganj\",\"389\":\" Baran\",\"390\":\" Lalitpur\",\"391\":\" Nabarangapur\",\"392\":\" Yamunanagar\",\"393\":\" Korba\",\"394\":\" Dhaulpur\",\"395\":\" Panipat\",\"396\":\" Bhandara\",\"397\":\" Pathanamthitta\",\"398\":\" Washim\",\"399\":\" Dhenkanal\",\"400\":\" Singrauli\",\"401\":\" Udupi\",\"402\":\" Hingoli\",\"403\":\" Yadgir\",\"404\":\" Rajsamand\",\"405\":\" Sivasagar\",\"406\":\" Sahibganj\",\"407\":\" Chikmagalur\",\"408\":\" Jagatsinghapur\",\"409\":\" Ambala\",\"410\":\" Sidhi\",\"411\":\" Jehanabad\",\"412\":\" Tarn Taran\",\"413\":\" Shrawasti\",\"414\":\" Bundi\",\"415\":\" Idukki\",\"416\":\" Hamirpur\",\"417\":\" Jorhat\",\"418\":\" Narsimhapur\",\"419\":\" Mewat\",\"420\":\" Ramanagara\",\"421\":\" Anantnag\",\"422\":\" Kaithal\",\"423\":\" Gadchiroli\",\"424\":\" Golaghat\",\"425\":\" Shahdol\",\"426\":\" Saraikela Kharsawan\",\"427\":\" Gadag\",\"428\":\" Karur\",\"429\":\" Rohtak\",\"430\":\" Chandigarh\",\"431\":\" Mandla\",\"432\":\" Chatra\",\"433\":\" Palwal\",\"434\":\" Lakhimpur\",\"435\":\" Sambalpur\",\"436\":\" Sirohi\",\"437\":\" Mahasamund\",\"438\":\" Gumla\",\"439\":\" Jhabua\",\"440\":\" Chamarajanagar\",\"441\":\" Panna\",\"442\":\" Goalpara\",\"443\":\" Baramula\",\"444\":\" Lakhisarai\",\"445\":\" Mandi\",\"446\":\" Moga\",\"447\":\" Mohali\",\"448\":\" Chitrakoot\",\"449\":\" Bangalore Rural\",\"450\":\" Rayagada\",\"451\":\" Kurukshetra\",\"452\":\" Nayagarh\",\"453\":\" Jhajjar\",\"454\":\" Morigaon\",\"455\":\" Karbi Anglong\",\"456\":\" Nainital\",\"457\":\" Puducherry\",\"458\":\" Baksa\",\"459\":\" Ramgarh\",\"460\":\" Fatehabad\",\"461\":\" Darrang\",\"462\":\" Mahendragarh\",\"463\":\" Muktsar\",\"464\":\" Pakur\",\"465\":\" Rewari\",\"466\":\" North Delhi\",\"467\":\" Kokrajhar\",\"468\":\" South Tripura\",\"469\":\" Mahoba\",\"470\":\" Kupwara\",\"471\":\" Pratapgarh\",\"472\":\" Jashpur\",\"473\":\" Sindhudurg\",\"474\":\" Ashoknagar\",\"475\":\" Udalguri\",\"476\":\" Neemuch\",\"477\":\" East Khasi Hills\",\"478\":\" Kabirdham\",\"479\":\" North Goa\",\"480\":\" Wayanad\",\"481\":\" Kapurthala\",\"482\":\" Shimla\",\"483\":\" Tapi\",\"484\":\" Dhamtari\",\"485\":\" Jamtara\",\"486\":\" Datia\",\"487\":\" Nalbari\",\"488\":\" Mansa\",\"489\":\" Burhanpur\",\"490\":\" Ariyalur\",\"491\":\" Badgam\",\"492\":\" Anuppur\",\"493\":\" Kanker\",\"494\":\" Bongaigaon\",\"495\":\" The Nilgiris\",\"496\":\" Kandhamal\",\"497\":\" Alirajpur\",\"498\":\" Latehar\",\"499\":\" Kodarma\",\"500\":\" Dindori\",\"501\":\" Arwal\",\"502\":\" North Tripura\",\"503\":\" Sheopur\",\"504\":\" Pauri Garhwal\",\"505\":\" Dhemaji\",\"506\":\" Rupnagar\",\"507\":\" Jaisalmer\",\"508\":\" Hailakandi\",\"509\":\" Korea\",\"510\":\" Sheohar\",\"511\":\" Umaria\",\"512\":\" West Garo Hills\",\"513\":\" Rajouri\",\"514\":\" South Goa\",\"515\":\" Sheikhpura\",\"516\":\" Almora\",\"517\":\" Tehri Garhwal\",\"518\":\" Faridkot\",\"519\":\" Kathua\",\"520\":\" Malkangiri\",\"521\":\" Shahid Bhagat Singh Nagar\",\"522\":\" Nuapada\",\"523\":\" Subarnapur\",\"524\":\" Fatehgarh Sahib\",\"525\":\" Simdega\",\"526\":\" Barnala\",\"527\":\" Narmada\",\"528\":\" Porbandar\",\"529\":\" Central Delhi\",\"530\":\" Solan\",\"531\":\" Jharsuguda\",\"532\":\" Gajapati\",\"533\":\" Harda\",\"534\":\" Perambalur\",\"535\":\" Panchkula\",\"536\":\" Pulwama\",\"537\":\" Udhampur\",\"538\":\" Kodagu\",\"539\":\" Dantewada\",\"540\":\" Khunti\",\"541\":\" Sirmaur\",\"542\":\" Una\",\"543\":\" Chamba\",\"544\":\" Imphal West\",\"545\":\" Pithoragarh\",\"546\":\" Chirang\",\"547\":\" Senapati\",\"548\":\" Punch\",\"549\":\" Lohardaga\",\"550\":\" Imphal East\",\"551\":\" Hamirpur\",\"552\":\" Baudh\",\"553\":\" Kullu\",\"554\":\" Kulgam\",\"555\":\" Thoubal\",\"556\":\" Doda\",\"557\":\" Aizawl\",\"558\":\" Jaintia Hills\",\"559\":\" Bandipora\",\"560\":\" Chamoli\",\"561\":\" West Khasi Hills\",\"562\":\" Bilaspur\",\"563\":\" Dimapur\",\"564\":\" Dhalai\",\"565\":\" Dadra and Nagar Haveli\",\"566\":\" Uttarkashi\",\"567\":\" Samba\",\"568\":\" East Garo Hills\",\"569\":\" Reasi\",\"570\":\" Debagarh\",\"571\":\" Ganderbal\",\"572\":\" Ramban\",\"573\":\" East Sikkim\",\"574\":\" Churachandpur\",\"575\":\" Kohima\",\"576\":\" Shupiyan\",\"577\":\" Bageshwar\",\"578\":\" Champawat\",\"579\":\" Ri Bhoi\",\"580\":\" Bijapur\",\"581\":\" Mon\",\"582\":\" Rudraprayag\",\"583\":\" South Andaman\",\"584\":\" Bishnupur\",\"585\":\" Kishtwar\",\"586\":\" The Dangs\",\"587\":\" Dima Hasao\",\"588\":\" Karaikal\",\"589\":\" Tuensang\",\"590\":\" Mokokchung\",\"591\":\" Daman\",\"592\":\" Ukhrul\",\"593\":\" Papumpare\",\"594\":\" Wokha\",\"595\":\" Phek\",\"596\":\" Lunglei\",\"597\":\" Changlang\",\"598\":\" South Sikkim\",\"599\":\" Lohit\",\"600\":\" Chandel\",\"601\":\" South Garo Hills\",\"602\":\" New Delhi\",\"603\":\" Kargil\",\"604\":\" Zunheboto\",\"605\":\" Tamenglong\",\"606\":\" Narayanpur\",\"607\":\" West Sikkim\",\"608\":\" Leh\",\"609\":\" Champhai\",\"610\":\" Lawngtlai\",\"611\":\" West Siang\",\"612\":\" Tirap\",\"613\":\" North And Middle Andaman\",\"614\":\" East Siang\",\"615\":\" Peren\",\"616\":\" Kurung Kumey\",\"617\":\" Mamit\",\"618\":\" Kinnaur\",\"619\":\" Kolasib\",\"620\":\" West Kameng\",\"621\":\" Upper Subansiri\",\"622\":\" Lower Subansiri\",\"623\":\" East Kameng\",\"624\":\" Kiphire\",\"625\":\" Serchhip\",\"626\":\" Lakshadweep\",\"627\":\" Saiha\",\"628\":\" Yanam\",\"629\":\" Lower Dibang Valley\",\"630\":\" Diu\",\"631\":\" Longleng\",\"632\":\" Tawang\",\"633\":\" North Sikkim\",\"634\":\" Mahe\",\"635\":\" Nicobars\",\"636\":\" Upper Siang\",\"637\":\" Lahul and Spiti\",\"638\":\" Anjaw\",\"639\":\" Dibang Valley\"},\"State\":{\"0\":\" Maharashtra\",\"1\":\" West Bengal\",\"2\":\" Karnataka\",\"3\":\" Maharashtra\",\"4\":\" Maharashtra\",\"5\":\" West Bengal\",\"6\":\" West Bengal\",\"7\":\" Gujarat\",\"8\":\" West Bengal\",\"9\":\" Rajasthan\",\"10\":\" Maharashtra\",\"11\":\" Gujarat\",\"12\":\" Uttar Pradesh\",\"13\":\" West Bengal\",\"14\":\" Bihar\",\"15\":\" West Bengal\",\"16\":\" Andhra Pradesh\",\"17\":\" West Bengal\",\"18\":\" Andhra Pradesh\",\"19\":\" Bihar\",\"20\":\" West Bengal\",\"21\":\" Andhra Pradesh\",\"22\":\" West Bengal\",\"23\":\" Bihar\",\"24\":\" Karnataka\",\"25\":\" Uttar Pradesh\",\"26\":\" Uttar Pradesh\",\"27\":\" Maharashtra\",\"28\":\" Tamil Nadu\",\"29\":\" Uttar Pradesh\",\"30\":\" Uttar Pradesh\",\"31\":\" Uttar Pradesh\",\"32\":\" Maharashtra\",\"33\":\" Andhra Pradesh\",\"34\":\" West Bengal\",\"35\":\" Uttar Pradesh\",\"36\":\" Bihar\",\"37\":\" Uttar Pradesh\",\"38\":\" Uttar Pradesh\",\"39\":\" Uttar Pradesh\",\"40\":\" Uttar Pradesh\",\"41\":\" Bihar\",\"42\":\" Maharashtra\",\"43\":\" Andhra Pradesh\",\"44\":\" Bihar\",\"45\":\" Maharashtra\",\"46\":\" Andhra Pradesh\",\"47\":\" Gujarat\",\"48\":\" Uttar Pradesh\",\"49\":\" Kerala\",\"50\":\" Uttar Pradesh\",\"51\":\" Andhra Pradesh\",\"52\":\" Chhattisgarh\",\"53\":\" Andhra Pradesh\",\"54\":\" Andhra Pradesh\",\"55\":\" Uttar Pradesh\",\"56\":\" Tamil Nadu\",\"57\":\" West Bengal\",\"58\":\" Bihar\",\"59\":\" Andhra Pradesh\",\"60\":\" Bihar\",\"61\":\" Andhra Pradesh\",\"62\":\" Tamil Nadu\",\"63\":\" Bihar\",\"64\":\" Maharashtra\",\"65\":\" West Bengal\",\"66\":\" Gujarat\",\"67\":\" Uttar Pradesh\",\"68\":\" Andhra Pradesh\",\"69\":\" Tamil Nadu\",\"70\":\" Maharashtra\",\"71\":\" Rajasthan\",\"72\":\" Uttar Pradesh\",\"73\":\" Uttar Pradesh\",\"74\":\" Uttar Pradesh\",\"75\":\" Rajasthan\",\"76\":\" Uttar Pradesh\",\"77\":\" Delhi\",\"78\":\" Uttar Pradesh\",\"79\":\" West Bengal\",\"80\":\" Uttar Pradesh\",\"81\":\" Orissa\",\"82\":\" Andhra Pradesh\",\"83\":\" West Bengal\",\"84\":\" Uttar Pradesh\",\"85\":\" Punjab\",\"86\":\" Bihar\",\"87\":\" Andhra Pradesh\",\"88\":\" Uttar Pradesh\",\"89\":\" Tamil Nadu\",\"90\":\" Uttar Pradesh\",\"91\":\" Tamil Nadu\",\"92\":\" Tamil Nadu\",\"93\":\" Uttar Pradesh\",\"94\":\" Uttar Pradesh\",\"95\":\" Bihar\",\"96\":\" Uttar Pradesh\",\"97\":\" Andhra Pradesh\",\"98\":\" Maharashtra\",\"99\":\" Chhattisgarh\",\"100\":\" Bihar\",\"101\":\" Rajasthan\",\"102\":\" Kerala\",\"103\":\" Kerala\",\"104\":\" Madhya Pradesh\",\"105\":\" Bihar\",\"106\":\" Uttar Pradesh\",\"107\":\" Uttar Pradesh\",\"108\":\" Uttar Pradesh\",\"109\":\" Kerala\",\"110\":\" Gujarat\",\"111\":\" Uttar Pradesh\",\"112\":\" Uttar Pradesh\",\"113\":\" Kerala\",\"114\":\" Maharashtra\",\"115\":\" Tamil Nadu\",\"116\":\" Bihar\",\"117\":\" Rajasthan\",\"118\":\" Tamil Nadu\",\"119\":\" Bihar\",\"120\":\" Andhra Pradesh\",\"121\":\" West Bengal\",\"122\":\" Uttar Pradesh\",\"123\":\" Maharashtra\",\"124\":\" Karnataka\",\"125\":\" Bihar\",\"126\":\" Andhra Pradesh\",\"127\":\" Bihar\",\"128\":\" West Bengal\",\"129\":\" Jharkhand\",\"130\":\" Maharashtra\",\"131\":\" Andhra Pradesh\",\"132\":\" Gujarat\",\"133\":\" Bihar\",\"134\":\" Assam\",\"135\":\" Maharashtra\",\"136\":\" West Bengal\",\"137\":\" Bihar\",\"138\":\" Kerala\",\"139\":\" Andhra Pradesh\",\"140\":\" Maharashtra\",\"141\":\" Gujarat\",\"142\":\" Andhra Pradesh\",\"143\":\" Delhi\",\"144\":\" Bihar\",\"145\":\" Tamil Nadu\",\"146\":\" Andhra Pradesh\",\"147\":\" Uttar Pradesh\",\"148\":\" Jharkhand\",\"149\":\" Karnataka\",\"150\":\" Rajasthan\",\"151\":\" Chhattisgarh\",\"152\":\" Kerala\",\"153\":\" Maharashtra\",\"154\":\" Uttar Pradesh\",\"155\":\" Orissa\",\"156\":\" Tamil Nadu\",\"157\":\" Rajasthan\",\"158\":\" Maharashtra\",\"159\":\" Maharashtra\",\"160\":\" Rajasthan\",\"161\":\" Karnataka\",\"162\":\" Bihar\",\"163\":\" Uttar Pradesh\",\"164\":\" Andhra Pradesh\",\"165\":\" Rajasthan\",\"166\":\" Uttar Pradesh\",\"167\":\" Delhi\",\"168\":\" Bihar\",\"169\":\" Kerala\",\"170\":\" Orissa\",\"171\":\" Uttar Pradesh\",\"172\":\" Uttar Pradesh\",\"173\":\" Punjab\",\"174\":\" Tamil Nadu\",\"175\":\" Uttar Pradesh\",\"176\":\" Tamil Nadu\",\"177\":\" Uttar Pradesh\",\"178\":\" Madhya Pradesh\",\"179\":\" Maharashtra\",\"180\":\" Karnataka\",\"181\":\" Jharkhand\",\"182\":\" Gujarat\",\"183\":\" Rajasthan\",\"184\":\" Tamil Nadu\",\"185\":\" Uttar Pradesh\",\"186\":\" Gujarat\",\"187\":\" Madhya Pradesh\",\"188\":\" Madhya Pradesh\",\"189\":\" Madhya Pradesh\",\"190\":\" Rajasthan\",\"191\":\" Chhattisgarh\",\"192\":\" Andhra Pradesh\",\"193\":\" Uttar Pradesh\",\"194\":\" Orissa\",\"195\":\" Gujarat\",\"196\":\" Punjab\",\"197\":\" Jharkhand\",\"198\":\" Delhi\",\"199\":\" Tamil Nadu\",\"200\":\" Orissa\",\"201\":\" Delhi\",\"202\":\" Bihar\",\"203\":\" Madhya Pradesh\",\"204\":\" Bihar\",\"205\":\" Uttar Pradesh\",\"206\":\" Maharashtra\",\"207\":\" Punjab\",\"208\":\" Madhya Pradesh\",\"209\":\" Karnataka\",\"210\":\" Gujarat\",\"211\":\" Tamil Nadu\",\"212\":\" Uttar Pradesh\",\"213\":\" Rajasthan\",\"214\":\" Kerala\",\"215\":\" Gujarat\",\"216\":\" Orissa\",\"217\":\" Gujarat\",\"218\":\" Gujarat\",\"219\":\" Madhya Pradesh\",\"220\":\" Karnataka\",\"221\":\" Jharkhand\",\"222\":\" Maharashtra\",\"223\":\" Rajasthan\",\"224\":\" Rajasthan\",\"225\":\" Gujarat\",\"226\":\" Bihar\",\"227\":\" Madhya Pradesh\",\"228\":\" Uttar Pradesh\",\"229\":\" Punjab\",\"230\":\" Bihar\",\"231\":\" Uttar Pradesh\",\"232\":\" Madhya Pradesh\",\"233\":\" Kerala\",\"234\":\" Rajasthan\",\"235\":\" Madhya Pradesh\",\"236\":\" Maharashtra\",\"237\":\" Uttar Pradesh\",\"238\":\" Rajasthan\",\"239\":\" Assam\",\"240\":\" Karnataka\",\"241\":\" Tamil Nadu\",\"242\":\" Jharkhand\",\"243\":\" Karnataka\",\"244\":\" Assam\",\"245\":\" Bihar\",\"246\":\" Punjab\",\"247\":\" Uttarakhand\",\"248\":\" Karnataka\",\"249\":\" Uttar Pradesh\",\"250\":\" Tamil Nadu\",\"251\":\" Madhya Pradesh\",\"252\":\" Tamil Nadu\",\"253\":\" Uttar Pradesh\",\"254\":\" Uttar Pradesh\",\"255\":\" Karnataka\",\"256\":\" West Bengal\",\"257\":\" Uttar Pradesh\",\"258\":\" Maharashtra\",\"259\":\" Rajasthan\",\"260\":\" Orissa\",\"261\":\" Maharashtra\",\"262\":\" Haryana\",\"263\":\" Karnataka\",\"264\":\" Orissa\",\"265\":\" Uttar Pradesh\",\"266\":\" Rajasthan\",\"267\":\" Uttar Pradesh\",\"268\":\" Karnataka\",\"269\":\" Rajasthan\",\"270\":\" Uttar Pradesh\",\"271\":\" Madhya Pradesh\",\"272\":\" Bihar\",\"273\":\" Gujarat\",\"274\":\" Karnataka\",\"275\":\" Tamil Nadu\",\"276\":\" Haryana\",\"277\":\" Assam\",\"278\":\" Jharkhand\",\"279\":\" Tamil Nadu\",\"280\":\" Madhya Pradesh\",\"281\":\" Tripura\",\"282\":\" Uttar Pradesh\",\"283\":\" Delhi\",\"284\":\" Bihar\",\"285\":\" Gujarat\",\"286\":\" Karnataka\",\"287\":\" Madhya Pradesh\",\"288\":\" Madhya Pradesh\",\"289\":\" Orissa\",\"290\":\" Uttarakhand\",\"291\":\" Assam\",\"292\":\" Bihar\",\"293\":\" Uttar Pradesh\",\"294\":\" West Bengal\",\"295\":\" Bihar\",\"296\":\" Karnataka\",\"297\":\" Maharashtra\",\"298\":\" Uttar Pradesh\",\"299\":\" Punjab\",\"300\":\" Orissa\",\"301\":\" Uttarakhand\",\"302\":\" Maharashtra\",\"303\":\" Uttar Pradesh\",\"304\":\" Haryana\",\"305\":\" Rajasthan\",\"306\":\" Bihar\",\"307\":\" Chhattisgarh\",\"308\":\" Tamil Nadu\",\"309\":\" Tamil Nadu\",\"310\":\" Maharashtra\",\"311\":\" Uttar Pradesh\",\"312\":\" Karnataka\",\"313\":\" Punjab\",\"314\":\" Uttar Pradesh\",\"315\":\" Uttar Pradesh\",\"316\":\" Orissa\",\"317\":\" Madhya Pradesh\",\"318\":\" Uttar Pradesh\",\"319\":\" Madhya Pradesh\",\"320\":\" Gujarat\",\"321\":\" Madhya Pradesh\",\"322\":\" Rajasthan\",\"323\":\" Chhattisgarh\",\"324\":\" Karnataka\",\"325\":\" Jammu and Kashmir\",\"326\":\" Assam\",\"327\":\" Haryana\",\"328\":\" Gujarat\",\"329\":\" Madhya Pradesh\",\"330\":\" Himachal Pradesh\",\"331\":\" Tamil Nadu\",\"332\":\" Orissa\",\"333\":\" Haryana\",\"334\":\" Jharkhand\",\"335\":\" Chhattisgarh\",\"336\":\" Jharkhand\",\"337\":\" Orissa\",\"338\":\" Madhya Pradesh\",\"339\":\" Rajasthan\",\"340\":\" Madhya Pradesh\",\"341\":\" Haryana\",\"342\":\" Madhya Pradesh\",\"343\":\" Orissa\",\"344\":\" Karnataka\",\"345\":\" Uttar Pradesh\",\"346\":\" Rajasthan\",\"347\":\" Chhattisgarh\",\"348\":\" Rajasthan\",\"349\":\" Gujarat\",\"350\":\" Karnataka\",\"351\":\" Rajasthan\",\"352\":\" Punjab\",\"353\":\" Madhya Pradesh\",\"354\":\" Orissa\",\"355\":\" Uttar Pradesh\",\"356\":\" Madhya Pradesh\",\"357\":\" Bihar\",\"358\":\" Tamil Nadu\",\"359\":\" Gujarat\",\"360\":\" Madhya Pradesh\",\"361\":\" Tamil Nadu\",\"362\":\" Rajasthan\",\"363\":\" Haryana\",\"364\":\" Madhya Pradesh\",\"365\":\" Gujarat\",\"366\":\" Assam\",\"367\":\" Assam\",\"368\":\" Jharkhand\",\"369\":\" Maharashtra\",\"370\":\" Jharkhand\",\"371\":\" Jharkhand\",\"372\":\" Madhya Pradesh\",\"373\":\" Madhya Pradesh\",\"374\":\" Kerala\",\"375\":\" Uttar Pradesh\",\"376\":\" Maharashtra\",\"377\":\" Haryana\",\"378\":\" Madhya Pradesh\",\"379\":\" Orissa\",\"380\":\" Tamil Nadu\",\"381\":\" Madhya Pradesh\",\"382\":\" Karnataka\",\"383\":\" Assam\",\"384\":\" Tamil Nadu\",\"385\":\" Madhya Pradesh\",\"386\":\" Madhya Pradesh\",\"387\":\" Jammu and Kashmir\",\"388\":\" Assam\",\"389\":\" Rajasthan\",\"390\":\" Uttar Pradesh\",\"391\":\" Orissa\",\"392\":\" Haryana\",\"393\":\" Chhattisgarh\",\"394\":\" Rajasthan\",\"395\":\" Haryana\",\"396\":\" Maharashtra\",\"397\":\" Kerala\",\"398\":\" Maharashtra\",\"399\":\" Orissa\",\"400\":\" Madhya Pradesh\",\"401\":\" Karnataka\",\"402\":\" Maharashtra\",\"403\":\" Karnataka\",\"404\":\" Rajasthan\",\"405\":\" Assam\",\"406\":\" Jharkhand\",\"407\":\" Karnataka\",\"408\":\" Orissa\",\"409\":\" Haryana\",\"410\":\" Madhya Pradesh\",\"411\":\" Bihar\",\"412\":\" Punjab\",\"413\":\" Uttar Pradesh\",\"414\":\" Rajasthan\",\"415\":\" Kerala\",\"416\":\" Uttar Pradesh\",\"417\":\" Assam\",\"418\":\" Madhya Pradesh\",\"419\":\" Haryana\",\"420\":\" Karnataka\",\"421\":\" Jammu and Kashmir\",\"422\":\" Haryana\",\"423\":\" Maharashtra\",\"424\":\" Assam\",\"425\":\" Madhya Pradesh\",\"426\":\" Jharkhand\",\"427\":\" Karnataka\",\"428\":\" Tamil Nadu\",\"429\":\" Haryana\",\"430\":\" Chandigarh\",\"431\":\" Madhya Pradesh\",\"432\":\" Jharkhand\",\"433\":\" Haryana\",\"434\":\" Assam\",\"435\":\" Orissa\",\"436\":\" Rajasthan\",\"437\":\" Chhattisgarh\",\"438\":\" Jharkhand\",\"439\":\" Madhya Pradesh\",\"440\":\" Karnataka\",\"441\":\" Madhya Pradesh\",\"442\":\" Assam\",\"443\":\" Jammu and Kashmir\",\"444\":\" Bihar\",\"445\":\" Himachal Pradesh\",\"446\":\" Punjab\",\"447\":\" Punjab\",\"448\":\" Uttar Pradesh\",\"449\":\" Karnataka\",\"450\":\" Orissa\",\"451\":\" Haryana\",\"452\":\" Orissa\",\"453\":\" Haryana\",\"454\":\" Assam\",\"455\":\" Assam\",\"456\":\" Uttarakhand\",\"457\":\" Puducherry\",\"458\":\" Assam\",\"459\":\" Jharkhand\",\"460\":\" Haryana\",\"461\":\" Assam\",\"462\":\" Haryana\",\"463\":\" Punjab\",\"464\":\" Jharkhand\",\"465\":\" Haryana\",\"466\":\" Delhi\",\"467\":\" Assam\",\"468\":\" Tripura\",\"469\":\" Uttar Pradesh\",\"470\":\" Jammu and Kashmir\",\"471\":\" Rajasthan\",\"472\":\" Chhattisgarh\",\"473\":\" Maharashtra\",\"474\":\" Madhya Pradesh\",\"475\":\" Assam\",\"476\":\" Madhya Pradesh\",\"477\":\" Meghalaya\",\"478\":\" Chhattisgarh\",\"479\":\" Goa\",\"480\":\" Kerala\",\"481\":\" Punjab\",\"482\":\" Himachal Pradesh\",\"483\":\" Gujarat\",\"484\":\" Chhattisgarh\",\"485\":\" Jharkhand\",\"486\":\" Madhya Pradesh\",\"487\":\" Assam\",\"488\":\" Punjab\",\"489\":\" Madhya Pradesh\",\"490\":\" Tamil Nadu\",\"491\":\" Jammu and Kashmir\",\"492\":\" Madhya Pradesh\",\"493\":\" Chhattisgarh\",\"494\":\" Assam\",\"495\":\" Tamil Nadu\",\"496\":\" Orissa\",\"497\":\" Madhya Pradesh\",\"498\":\" Jharkhand\",\"499\":\" Jharkhand\",\"500\":\" Madhya Pradesh\",\"501\":\" Bihar\",\"502\":\" Tripura\",\"503\":\" Madhya Pradesh\",\"504\":\" Uttarakhand\",\"505\":\" Assam\",\"506\":\" Punjab\",\"507\":\" Rajasthan\",\"508\":\" Assam\",\"509\":\" Chhattisgarh\",\"510\":\" Bihar\",\"511\":\" Madhya Pradesh\",\"512\":\" Meghalaya\",\"513\":\" Jammu and Kashmir\",\"514\":\" Goa\",\"515\":\" Bihar\",\"516\":\" Uttarakhand\",\"517\":\" Uttarakhand\",\"518\":\" Punjab\",\"519\":\" Jammu and Kashmir\",\"520\":\" Orissa\",\"521\":\" Punjab\",\"522\":\" Orissa\",\"523\":\" Orissa\",\"524\":\" Punjab\",\"525\":\" Jharkhand\",\"526\":\" Punjab\",\"527\":\" Gujarat\",\"528\":\" Gujarat\",\"529\":\" Delhi\",\"530\":\" Himachal Pradesh\",\"531\":\" Orissa\",\"532\":\" Orissa\",\"533\":\" Madhya Pradesh\",\"534\":\" Tamil Nadu\",\"535\":\" Haryana\",\"536\":\" Jammu and Kashmir\",\"537\":\" Jammu and Kashmir\",\"538\":\" Karnataka\",\"539\":\" Chhattisgarh\",\"540\":\" Jharkhand\",\"541\":\" Himachal Pradesh\",\"542\":\" Himachal Pradesh\",\"543\":\" Himachal Pradesh\",\"544\":\" Manipur\",\"545\":\" Uttarakhand\",\"546\":\" Assam\",\"547\":\" Manipur\",\"548\":\" Jammu and Kashmir\",\"549\":\" Jharkhand\",\"550\":\" Manipur\",\"551\":\" Himachal Pradesh\",\"552\":\" Orissa\",\"553\":\" Himachal Pradesh\",\"554\":\" Jammu and Kashmir\",\"555\":\" Manipur\",\"556\":\" Jammu and Kashmir\",\"557\":\" Mizoram\",\"558\":\" Meghalaya\",\"559\":\" Jammu and Kashmir\",\"560\":\" Uttarakhand\",\"561\":\" Meghalaya\",\"562\":\" Himachal Pradesh\",\"563\":\" Nagaland\",\"564\":\" Tripura\",\"565\":\" Dadra and Nagar Haveli\",\"566\":\" Uttarakhand\",\"567\":\" Jammu and Kashmir\",\"568\":\" Meghalaya\",\"569\":\" Jammu and Kashmir\",\"570\":\" Orissa\",\"571\":\" Jammu and Kashmir\",\"572\":\" Jammu and Kashmir\",\"573\":\" Sikkim\",\"574\":\" Manipur\",\"575\":\" Nagaland\",\"576\":\" Jammu and Kashmir\",\"577\":\" Uttarakhand\",\"578\":\" Uttarakhand\",\"579\":\" Meghalaya\",\"580\":\" Chhattisgarh\",\"581\":\" Nagaland\",\"582\":\" Uttarakhand\",\"583\":\" Andaman And Nicobar Islands\",\"584\":\" Manipur\",\"585\":\" Jammu and Kashmir\",\"586\":\" Gujarat\",\"587\":\" Assam\",\"588\":\" Puducherry\",\"589\":\" Nagaland\",\"590\":\" Nagaland\",\"591\":\" Daman and Diu\",\"592\":\" Manipur\",\"593\":\" Arunachal Pradesh\",\"594\":\" Nagaland\",\"595\":\" Nagaland\",\"596\":\" Mizoram\",\"597\":\" Arunachal Pradesh\",\"598\":\" Sikkim\",\"599\":\" Arunachal Pradesh\",\"600\":\" Manipur\",\"601\":\" Meghalaya\",\"602\":\" Delhi\",\"603\":\" Jammu and Kashmir\",\"604\":\" Nagaland\",\"605\":\" Manipur\",\"606\":\" Chhattisgarh\",\"607\":\" Sikkim\",\"608\":\" Jammu and Kashmir\",\"609\":\" Mizoram\",\"610\":\" Mizoram\",\"611\":\" Arunachal Pradesh\",\"612\":\" Arunachal Pradesh\",\"613\":\" Andaman And Nicobar Islands\",\"614\":\" Arunachal Pradesh\",\"615\":\" Nagaland\",\"616\":\" Arunachal Pradesh\",\"617\":\" Mizoram\",\"618\":\" Himachal Pradesh\",\"619\":\" Mizoram\",\"620\":\" Arunachal Pradesh\",\"621\":\" Arunachal Pradesh\",\"622\":\" Arunachal Pradesh\",\"623\":\" Arunachal Pradesh\",\"624\":\" Nagaland\",\"625\":\" Mizoram\",\"626\":\" Lakshadweep\",\"627\":\" Mizoram\",\"628\":\" Puducherry\",\"629\":\" Arunachal Pradesh\",\"630\":\" Daman and Diu\",\"631\":\" Nagaland\",\"632\":\" Arunachal Pradesh\",\"633\":\" Sikkim\",\"634\":\" Puducherry\",\"635\":\" Andaman And Nicobar Islands\",\"636\":\" Arunachal Pradesh\",\"637\":\" Himachal Pradesh\",\"638\":\" Arunachal Pradesh\",\"639\":\" Arunachal Pradesh\"},\"Literacy\":{\"0\":84.53,\"1\":84.06,\"2\":87.67,\"3\":86.15,\"4\":89.91,\"5\":77.51,\"6\":76.21,\"7\":85.31,\"8\":66.59,\"9\":75.51,\"10\":82.31,\"11\":85.53,\"12\":72.32,\"13\":78.0,\"14\":70.68,\"15\":81.8,\"16\":75.87,\"17\":74.97,\"18\":70.99,\"19\":55.79,\"20\":87.02,\"21\":67.4,\"22\":83.31,\"23\":63.43,\"24\":73.48,\"25\":56.77,\"26\":78.07,\"27\":88.39,\"28\":90.18,\"29\":70.93,\"30\":77.29,\"31\":79.65,\"32\":79.05,\"33\":73.74,\"34\":86.31,\"35\":71.55,\"36\":58.62,\"37\":61.12,\"38\":58.49,\"39\":70.83,\"40\":71.58,\"41\":63.67,\"42\":77.02,\"43\":66.91,\"44\":61.86,\"45\":78.2,\"46\":71.53,\"47\":78.92,\"48\":69.12,\"49\":93.57,\"50\":64.57,\"51\":63.57,\"52\":75.56,\"53\":59.97,\"54\":55.04,\"55\":60.56,\"56\":84.49,\"57\":61.73,\"58\":65.96,\"59\":83.25,\"60\":56.56,\"61\":74.63,\"62\":79.17,\"63\":55.7,\"64\":81.51,\"65\":73.25,\"66\":80.96,\"67\":69.27,\"68\":64.15,\"69\":84.03,\"70\":79.02,\"71\":65.94,\"72\":68.48,\"73\":51.29,\"74\":75.6,\"75\":70.72,\"76\":67.52,\"77\":84.45,\"78\":71.78,\"79\":70.26,\"80\":65.25,\"81\":71.09,\"82\":65.11,\"83\":70.68,\"84\":68.88,\"85\":82.2,\"86\":66.6,\"87\":64.2,\"88\":49.36,\"89\":72.86,\"90\":70.49,\"91\":71.88,\"92\":83.98,\"93\":72.84,\"94\":58.71,\"95\":52.05,\"96\":67.25,\"97\":63.08,\"98\":75.45,\"99\":79.06,\"100\":69.45,\"101\":62.8,\"102\":93.02,\"103\":95.89,\"104\":80.87,\"105\":51.08,\"106\":61.75,\"107\":70.94,\"108\":70.09,\"109\":95.08,\"110\":65.32,\"111\":66.37,\"112\":71.13,\"113\":95.08,\"114\":89.21,\"115\":82.5,\"116\":52.24,\"117\":61.82,\"118\":83.45,\"119\":63.14,\"120\":61.42,\"121\":59.07,\"122\":59.54,\"123\":82.87,\"124\":72.79,\"125\":63.87,\"126\":68.9,\"127\":73.37,\"128\":64.48,\"129\":76.06,\"130\":87.38,\"131\":67.3,\"132\":75.52,\"133\":64.43,\"134\":72.37,\"135\":81.48,\"136\":74.78,\"137\":53.53,\"138\":89.31,\"139\":64.81,\"140\":82.82,\"141\":75.8,\"142\":61.01,\"143\":86.57,\"144\":70.47,\"145\":83.23,\"146\":61.74,\"147\":62.76,\"148\":74.52,\"149\":75.14,\"150\":71.91,\"151\":70.78,\"152\":94.09,\"153\":83.14,\"154\":67.43,\"155\":85.5,\"156\":78.04,\"157\":56.53,\"158\":83.4,\"159\":76.99,\"160\":69.33,\"161\":64.85,\"162\":65.47,\"163\":59.25,\"164\":61.25,\"165\":70.11,\"166\":70.36,\"167\":86.98,\"168\":70.32,\"169\":95.1,\"170\":63.17,\"171\":71.92,\"172\":68.48,\"173\":76.27,\"174\":78.68,\"175\":68.73,\"176\":74.21,\"177\":67.22,\"178\":81.07,\"179\":77.26,\"180\":67.43,\"181\":63.14,\"182\":75.79,\"183\":61.37,\"184\":82.64,\"185\":72.23,\"186\":70.99,\"187\":76.46,\"188\":80.37,\"189\":71.62,\"190\":65.13,\"191\":60.01,\"192\":58.89,\"193\":53.34,\"194\":79.79,\"195\":82.65,\"196\":79.95,\"197\":75.49,\"198\":88.28,\"199\":72.58,\"200\":86.88,\"201\":83.09,\"202\":57.67,\"203\":72.26,\"204\":59.76,\"205\":73.09,\"206\":80.01,\"207\":82.48,\"208\":59.0,\"209\":67.15,\"210\":73.65,\"211\":76.26,\"212\":49.51,\"213\":74.13,\"214\":95.72,\"215\":58.82,\"216\":73.34,\"217\":84.37,\"218\":70.59,\"219\":71.16,\"220\":88.57,\"221\":72.01,\"222\":72.8,\"223\":66.75,\"224\":62.39,\"225\":83.61,\"226\":58.17,\"227\":76.65,\"228\":61.47,\"229\":68.92,\"230\":52.25,\"231\":75.05,\"232\":72.34,\"233\":97.21,\"234\":69.64,\"235\":71.03,\"236\":71.52,\"237\":71.48,\"238\":76.56,\"239\":58.34,\"240\":75.74,\"241\":80.15,\"242\":63.63,\"243\":59.56,\"244\":67.34,\"245\":53.2,\"246\":75.28,\"247\":73.43,\"248\":68.82,\"249\":69.04,\"250\":71.46,\"251\":62.7,\"252\":91.75,\"253\":75.99,\"254\":64.03,\"255\":80.0,\"256\":79.56,\"257\":63.84,\"258\":73.34,\"259\":54.86,\"260\":80.13,\"261\":88.05,\"262\":81.7,\"263\":70.4,\"264\":68.24,\"265\":66.67,\"266\":56.33,\"267\":75.78,\"268\":76.07,\"269\":67.13,\"270\":70.81,\"271\":63.74,\"272\":59.79,\"273\":72.13,\"274\":80.45,\"275\":86.16,\"276\":72.89,\"277\":79.34,\"278\":69.75,\"279\":74.63,\"280\":62.55,\"281\":88.69,\"282\":66.72,\"283\":89.31,\"284\":70.14,\"285\":78.55,\"286\":70.51,\"287\":75.26,\"288\":77.09,\"289\":84.67,\"290\":84.25,\"291\":63.81,\"292\":55.46,\"293\":73.75,\"294\":72.82,\"295\":57.92,\"296\":73.71,\"297\":78.44,\"298\":72.7,\"299\":67.99,\"300\":64.72,\"301\":73.1,\"302\":64.38,\"303\":80.12,\"304\":75.21,\"305\":68.16,\"306\":69.34,\"307\":73.07,\"308\":77.19,\"309\":83.59,\"310\":82.18,\"311\":61.28,\"312\":77.4,\"313\":84.59,\"314\":78.41,\"315\":68.97,\"316\":59.22,\"317\":68.9,\"318\":71.59,\"319\":69.35,\"320\":81.51,\"321\":61.21,\"322\":61.71,\"323\":75.96,\"324\":74.39,\"325\":83.45,\"326\":75.55,\"327\":84.7,\"328\":74.25,\"329\":69.09,\"330\":85.67,\"331\":68.54,\"332\":82.78,\"333\":74.73,\"334\":58.63,\"335\":73.26,\"336\":64.85,\"337\":74.62,\"338\":70.53,\"339\":66.22,\"340\":66.78,\"341\":79.12,\"342\":61.43,\"343\":85.15,\"344\":84.06,\"345\":61.02,\"346\":61.58,\"347\":54.4,\"348\":61.5,\"349\":84.16,\"350\":68.09,\"351\":59.46,\"352\":68.28,\"353\":49.08,\"354\":49.21,\"355\":78.95,\"356\":72.12,\"357\":70.46,\"358\":80.72,\"359\":72.3,\"360\":71.78,\"361\":79.85,\"362\":65.39,\"363\":71.44,\"364\":72.98,\"365\":83.88,\"366\":69.66,\"367\":76.05,\"368\":60.33,\"369\":84.95,\"370\":61.02,\"371\":56.4,\"372\":70.06,\"373\":66.39,\"374\":90.09,\"375\":72.01,\"376\":86.99,\"377\":68.82,\"378\":71.98,\"379\":77.53,\"380\":82.86,\"381\":69.73,\"382\":69.76,\"383\":88.71,\"384\":77.26,\"385\":63.23,\"386\":75.29,\"387\":69.41,\"388\":78.22,\"389\":66.66,\"390\":63.52,\"391\":46.43,\"392\":77.99,\"393\":72.37,\"394\":69.08,\"395\":75.94,\"396\":83.76,\"397\":96.55,\"398\":83.25,\"399\":78.76,\"400\":60.41,\"401\":86.24,\"402\":78.17,\"403\":51.83,\"404\":63.14,\"405\":80.41,\"406\":52.04,\"407\":79.25,\"408\":86.59,\"409\":81.75,\"410\":64.43,\"411\":66.8,\"412\":67.81,\"413\":46.74,\"414\":61.52,\"415\":91.99,\"416\":68.77,\"417\":82.15,\"418\":75.69,\"419\":54.08,\"420\":69.22,\"421\":62.69,\"422\":69.15,\"423\":74.36,\"424\":77.43,\"425\":66.67,\"426\":67.7,\"427\":75.12,\"428\":75.6,\"429\":80.22,\"430\":86.05,\"431\":66.87,\"432\":60.18,\"433\":69.32,\"434\":77.2,\"435\":76.22,\"436\":55.25,\"437\":71.02,\"438\":65.73,\"439\":43.3,\"440\":61.43,\"441\":64.79,\"442\":67.37,\"443\":64.63,\"444\":62.42,\"445\":81.53,\"446\":70.68,\"447\":83.8,\"448\":65.05,\"449\":77.93,\"450\":49.76,\"451\":76.31,\"452\":80.42,\"453\":80.65,\"454\":68.03,\"455\":69.25,\"456\":83.88,\"457\":85.44,\"458\":69.25,\"459\":73.17,\"460\":67.92,\"461\":63.08,\"462\":77.72,\"463\":65.81,\"464\":48.82,\"465\":80.99,\"466\":86.85,\"467\":65.22,\"468\":84.66,\"469\":65.27,\"470\":64.51,\"471\":55.97,\"472\":67.92,\"473\":85.56,\"474\":66.42,\"475\":65.41,\"476\":70.8,\"477\":84.15,\"478\":60.85,\"479\":89.57,\"480\":89.03,\"481\":79.07,\"482\":83.64,\"483\":68.26,\"484\":78.36,\"485\":64.59,\"486\":72.63,\"487\":78.63,\"488\":61.83,\"489\":64.36,\"490\":71.34,\"491\":56.08,\"492\":67.88,\"493\":70.29,\"494\":69.74,\"495\":85.2,\"496\":64.13,\"497\":36.1,\"498\":59.51,\"499\":66.84,\"500\":63.9,\"501\":67.43,\"502\":87.5,\"503\":57.43,\"504\":82.02,\"505\":72.7,\"506\":82.19,\"507\":57.22,\"508\":74.33,\"509\":70.64,\"510\":53.78,\"511\":65.89,\"512\":67.58,\"513\":68.17,\"514\":87.59,\"515\":63.86,\"516\":80.47,\"517\":76.36,\"518\":69.55,\"519\":73.09,\"520\":48.54,\"521\":79.78,\"522\":57.35,\"523\":74.42,\"524\":79.35,\"525\":67.99,\"526\":67.82,\"527\":72.31,\"528\":75.78,\"529\":85.14,\"530\":83.68,\"531\":78.86,\"532\":53.49,\"533\":72.5,\"534\":74.32,\"535\":81.88,\"536\":63.48,\"537\":68.49,\"538\":82.61,\"539\":42.12,\"540\":63.86,\"541\":78.8,\"542\":86.53,\"543\":72.17,\"544\":86.08,\"545\":82.25,\"546\":63.55,\"547\":63.6,\"548\":66.74,\"549\":67.61,\"550\":81.95,\"551\":88.15,\"552\":71.61,\"553\":79.4,\"554\":59.23,\"555\":74.47,\"556\":64.68,\"557\":97.89,\"558\":61.64,\"559\":56.28,\"560\":82.65,\"561\":77.87,\"562\":84.59,\"563\":84.79,\"564\":85.72,\"565\":76.24,\"566\":75.81,\"567\":81.41,\"568\":73.95,\"569\":58.15,\"570\":72.57,\"571\":58.04,\"572\":54.27,\"573\":83.85,\"574\":82.78,\"575\":85.23,\"576\":60.76,\"577\":80.01,\"578\":79.83,\"579\":75.67,\"580\":40.86,\"581\":56.99,\"582\":81.3,\"583\":89.13,\"584\":75.85,\"585\":56.2,\"586\":75.16,\"587\":77.54,\"588\":87.05,\"589\":73.08,\"590\":91.62,\"591\":88.07,\"592\":81.35,\"593\":79.95,\"594\":87.69,\"595\":78.05,\"596\":88.86,\"597\":59.8,\"598\":81.42,\"599\":68.18,\"600\":71.11,\"601\":71.72,\"602\":88.34,\"603\":71.34,\"604\":85.26,\"605\":70.05,\"606\":48.62,\"607\":77.39,\"608\":77.2,\"609\":95.91,\"610\":65.88,\"611\":66.46,\"612\":52.19,\"613\":83.91,\"614\":72.54,\"615\":77.95,\"616\":48.75,\"617\":84.93,\"618\":80.0,\"619\":93.5,\"620\":67.07,\"621\":63.8,\"622\":74.35,\"623\":60.02,\"624\":69.54,\"625\":97.91,\"626\":91.85,\"627\":90.01,\"628\":79.47,\"629\":69.13,\"630\":83.46,\"631\":72.17,\"632\":59.0,\"633\":78.01,\"634\":97.87,\"635\":78.06,\"636\":59.99,\"637\":76.81,\"638\":56.46,\"639\":64.1},\"city\":{\"0\":\"Mumbai\",\"1\":\"NAgpur\",\"2\":\"Mumbai\",\"3\":\"Mumbai\",\"4\":\"Mumbai\",\"5\":\"Mumbai\",\"6\":\"Mumbai\",\"7\":\"Mumbai\",\"8\":\"Mumbai\",\"9\":\"Mumbai\",\"10\":\"Mumbai\",\"11\":\"Mumbai\",\"12\":\"Mumbai\",\"13\":\"Mumbai\",\"14\":\"Mumbai\",\"15\":\"Mumbai\",\"16\":\"Mumbai\",\"17\":\"Mumbai\",\"18\":\"Mumbai\",\"19\":\"Mumbai\",\"20\":\"Mumbai\",\"21\":\"Mumbai\",\"22\":\"Mumbai\",\"23\":\"Mumbai\",\"24\":\"Mumbai\",\"25\":\"Mumbai\",\"26\":\"Mumbai\",\"27\":\"Mumbai\",\"28\":\"Mumbai\",\"29\":\"Mumbai\",\"30\":\"Mumbai\",\"31\":\"Mumbai\",\"32\":\"Mumbai\",\"33\":\"Mumbai\",\"34\":\"Mumbai\",\"35\":\"Mumbai\",\"36\":\"Mumbai\",\"37\":\"Mumbai\",\"38\":\"Mumbai\",\"39\":\"Mumbai\",\"40\":\"Mumbai\",\"41\":\"Mumbai\",\"42\":\"Mumbai\",\"43\":\"Mumbai\",\"44\":\"Mumbai\",\"45\":\"Mumbai\",\"46\":\"Mumbai\",\"47\":\"Mumbai\",\"48\":\"Mumbai\",\"49\":\"Mumbai\",\"50\":\"Mumbai\",\"51\":\"Mumbai\",\"52\":\"Mumbai\",\"53\":\"Mumbai\",\"54\":\"Mumbai\",\"55\":\"Mumbai\",\"56\":\"Mumbai\",\"57\":\"Mumbai\",\"58\":\"Mumbai\",\"59\":\"Mumbai\",\"60\":\"Mumbai\",\"61\":\"Mumbai\",\"62\":\"Mumbai\",\"63\":\"Mumbai\",\"64\":\"Mumbai\",\"65\":\"Mumbai\",\"66\":\"Mumbai\",\"67\":\"Mumbai\",\"68\":\"Mumbai\",\"69\":\"Mumbai\",\"70\":\"Mumbai\",\"71\":\"Mumbai\",\"72\":\"Mumbai\",\"73\":\"Mumbai\",\"74\":\"Mumbai\",\"75\":\"Mumbai\",\"76\":\"Mumbai\",\"77\":\"Mumbai\",\"78\":\"Mumbai\",\"79\":\"Mumbai\",\"80\":\"Mumbai\",\"81\":\"Mumbai\",\"82\":\"Mumbai\",\"83\":\"Mumbai\",\"84\":\"Mumbai\",\"85\":\"Mumbai\",\"86\":\"Mumbai\",\"87\":\"Mumbai\",\"88\":\"Mumbai\",\"89\":\"Mumbai\",\"90\":\"Mumbai\",\"91\":\"Mumbai\",\"92\":\"Mumbai\",\"93\":\"Mumbai\",\"94\":\"Mumbai\",\"95\":\"Mumbai\",\"96\":\"Mumbai\",\"97\":\"Mumbai\",\"98\":\"Mumbai\",\"99\":\"Mumbai\",\"100\":\"Mumbai\",\"101\":\"Mumbai\",\"102\":\"Mumbai\",\"103\":\"Mumbai\",\"104\":\"Mumbai\",\"105\":\"Mumbai\",\"106\":\"Mumbai\",\"107\":\"Mumbai\",\"108\":\"Mumbai\",\"109\":\"Mumbai\",\"110\":\"Mumbai\",\"111\":\"Mumbai\",\"112\":\"Mumbai\",\"113\":\"Mumbai\",\"114\":\"Mumbai\",\"115\":\"Mumbai\",\"116\":\"Mumbai\",\"117\":\"Mumbai\",\"118\":\"Mumbai\",\"119\":\"Mumbai\",\"120\":\"Mumbai\",\"121\":\"Mumbai\",\"122\":\"Mumbai\",\"123\":\"Mumbai\",\"124\":\"Mumbai\",\"125\":\"Mumbai\",\"126\":\"Mumbai\",\"127\":\"Mumbai\",\"128\":\"Mumbai\",\"129\":\"Mumbai\",\"130\":\"Mumbai\",\"131\":\"Mumbai\",\"132\":\"Mumbai\",\"133\":\"Mumbai\",\"134\":\"Mumbai\",\"135\":\"Mumbai\",\"136\":\"Mumbai\",\"137\":\"Mumbai\",\"138\":\"Mumbai\",\"139\":\"Mumbai\",\"140\":\"Mumbai\",\"141\":\"Mumbai\",\"142\":\"Mumbai\",\"143\":\"Mumbai\",\"144\":\"Mumbai\",\"145\":\"Mumbai\",\"146\":\"Mumbai\",\"147\":\"Mumbai\",\"148\":\"Mumbai\",\"149\":\"Mumbai\",\"150\":\"Mumbai\",\"151\":\"Mumbai\",\"152\":\"Mumbai\",\"153\":\"Mumbai\",\"154\":\"Mumbai\",\"155\":\"Mumbai\",\"156\":\"Mumbai\",\"157\":\"Mumbai\",\"158\":\"Mumbai\",\"159\":\"Mumbai\",\"160\":\"Mumbai\",\"161\":\"Mumbai\",\"162\":\"Mumbai\",\"163\":\"Mumbai\",\"164\":\"Mumbai\",\"165\":\"Mumbai\",\"166\":\"Mumbai\",\"167\":\"Mumbai\",\"168\":\"Mumbai\",\"169\":\"Mumbai\",\"170\":\"Mumbai\",\"171\":\"Mumbai\",\"172\":\"Mumbai\",\"173\":\"Mumbai\",\"174\":\"Mumbai\",\"175\":\"Mumbai\",\"176\":\"Mumbai\",\"177\":\"Mumbai\",\"178\":\"Mumbai\",\"179\":\"Mumbai\",\"180\":\"Mumbai\",\"181\":\"Mumbai\",\"182\":\"Mumbai\",\"183\":\"Mumbai\",\"184\":\"Mumbai\",\"185\":\"Mumbai\",\"186\":\"Mumbai\",\"187\":\"Mumbai\",\"188\":\"Mumbai\",\"189\":\"Mumbai\",\"190\":\"Mumbai\",\"191\":\"Mumbai\",\"192\":\"Mumbai\",\"193\":\"Mumbai\",\"194\":\"Mumbai\",\"195\":\"Mumbai\",\"196\":\"Mumbai\",\"197\":\"Mumbai\",\"198\":\"Mumbai\",\"199\":\"Mumbai\",\"200\":\"Mumbai\",\"201\":\"Mumbai\",\"202\":\"Mumbai\",\"203\":\"Mumbai\",\"204\":\"Mumbai\",\"205\":\"Mumbai\",\"206\":\"Mumbai\",\"207\":\"Mumbai\",\"208\":\"Mumbai\",\"209\":\"Mumbai\",\"210\":\"Mumbai\",\"211\":\"Mumbai\",\"212\":\"Mumbai\",\"213\":\"Mumbai\",\"214\":\"Mumbai\",\"215\":\"Mumbai\",\"216\":\"Mumbai\",\"217\":\"Mumbai\",\"218\":\"Mumbai\",\"219\":\"Mumbai\",\"220\":\"Mumbai\",\"221\":\"Mumbai\",\"222\":\"Mumbai\",\"223\":\"Mumbai\",\"224\":\"Mumbai\",\"225\":\"Mumbai\",\"226\":\"Mumbai\",\"227\":\"Mumbai\",\"228\":\"Mumbai\",\"229\":\"Mumbai\",\"230\":\"Mumbai\",\"231\":\"Mumbai\",\"232\":\"Mumbai\",\"233\":\"Mumbai\",\"234\":\"Mumbai\",\"235\":\"Mumbai\",\"236\":\"Mumbai\",\"237\":\"Mumbai\",\"238\":\"Mumbai\",\"239\":\"Mumbai\",\"240\":\"Mumbai\",\"241\":\"Mumbai\",\"242\":\"Mumbai\",\"243\":\"Mumbai\",\"244\":\"Mumbai\",\"245\":\"Mumbai\",\"246\":\"Mumbai\",\"247\":\"Mumbai\",\"248\":\"Mumbai\",\"249\":\"Mumbai\",\"250\":\"Mumbai\",\"251\":\"Mumbai\",\"252\":\"Mumbai\",\"253\":\"Mumbai\",\"254\":\"Mumbai\",\"255\":\"Mumbai\",\"256\":\"Mumbai\",\"257\":\"Mumbai\",\"258\":\"Mumbai\",\"259\":\"Mumbai\",\"260\":\"Mumbai\",\"261\":\"Mumbai\",\"262\":\"Mumbai\",\"263\":\"Mumbai\",\"264\":\"Mumbai\",\"265\":\"Mumbai\",\"266\":\"Mumbai\",\"267\":\"Mumbai\",\"268\":\"Mumbai\",\"269\":\"Mumbai\",\"270\":\"Mumbai\",\"271\":\"Mumbai\",\"272\":\"Mumbai\",\"273\":\"Mumbai\",\"274\":\"Mumbai\",\"275\":\"Mumbai\",\"276\":\"Mumbai\",\"277\":\"Mumbai\",\"278\":\"Mumbai\",\"279\":\"Mumbai\",\"280\":\"Mumbai\",\"281\":\"Mumbai\",\"282\":\"Mumbai\",\"283\":\"Mumbai\",\"284\":\"Mumbai\",\"285\":\"Mumbai\",\"286\":\"Mumbai\",\"287\":\"Mumbai\",\"288\":\"Mumbai\",\"289\":\"Mumbai\",\"290\":\"Mumbai\",\"291\":\"Mumbai\",\"292\":\"Mumbai\",\"293\":\"Mumbai\",\"294\":\"Mumbai\",\"295\":\"Mumbai\",\"296\":\"Mumbai\",\"297\":\"Mumbai\",\"298\":\"Mumbai\",\"299\":\"Mumbai\",\"300\":\"Mumbai\",\"301\":\"Mumbai\",\"302\":\"Mumbai\",\"303\":\"Mumbai\",\"304\":\"Mumbai\",\"305\":\"Mumbai\",\"306\":\"Mumbai\",\"307\":\"Mumbai\",\"308\":\"Mumbai\",\"309\":\"Mumbai\",\"310\":\"Mumbai\",\"311\":\"Mumbai\",\"312\":\"Mumbai\",\"313\":\"Mumbai\",\"314\":\"Mumbai\",\"315\":\"Mumbai\",\"316\":\"Mumbai\",\"317\":\"Mumbai\",\"318\":\"Mumbai\",\"319\":\"Mumbai\",\"320\":\"Mumbai\",\"321\":\"Mumbai\",\"322\":\"Mumbai\",\"323\":\"Mumbai\",\"324\":\"Mumbai\",\"325\":\"Mumbai\",\"326\":\"Mumbai\",\"327\":\"Mumbai\",\"328\":\"Mumbai\",\"329\":\"Mumbai\",\"330\":\"Mumbai\",\"331\":\"Mumbai\",\"332\":\"Mumbai\",\"333\":\"Mumbai\",\"334\":\"Mumbai\",\"335\":\"Mumbai\",\"336\":\"Mumbai\",\"337\":\"Mumbai\",\"338\":\"Mumbai\",\"339\":\"Mumbai\",\"340\":\"Mumbai\",\"341\":\"Mumbai\",\"342\":\"Mumbai\",\"343\":\"Mumbai\",\"344\":\"Mumbai\",\"345\":\"Mumbai\",\"346\":\"Mumbai\",\"347\":\"Mumbai\",\"348\":\"Mumbai\",\"349\":\"Mumbai\",\"350\":\"Mumbai\",\"351\":\"Mumbai\",\"352\":\"Mumbai\",\"353\":\"Mumbai\",\"354\":\"Mumbai\",\"355\":\"Mumbai\",\"356\":\"Mumbai\",\"357\":\"Mumbai\",\"358\":\"Mumbai\",\"359\":\"Mumbai\",\"360\":\"Mumbai\",\"361\":\"Mumbai\",\"362\":\"Mumbai\",\"363\":\"Mumbai\",\"364\":\"Mumbai\",\"365\":\"Mumbai\",\"366\":\"Mumbai\",\"367\":\"Mumbai\",\"368\":\"Mumbai\",\"369\":\"Mumbai\",\"370\":\"Mumbai\",\"371\":\"Mumbai\",\"372\":\"Mumbai\",\"373\":\"Mumbai\",\"374\":\"Mumbai\",\"375\":\"Mumbai\",\"376\":\"Mumbai\",\"377\":\"Mumbai\",\"378\":\"Mumbai\",\"379\":\"Mumbai\",\"380\":\"Mumbai\",\"381\":\"Mumbai\",\"382\":\"Mumbai\",\"383\":\"Mumbai\",\"384\":\"Mumbai\",\"385\":\"Mumbai\",\"386\":\"Mumbai\",\"387\":\"Mumbai\",\"388\":\"Mumbai\",\"389\":\"Mumbai\",\"390\":\"Mumbai\",\"391\":\"Mumbai\",\"392\":\"Mumbai\",\"393\":\"Mumbai\",\"394\":\"Mumbai\",\"395\":\"Mumbai\",\"396\":\"Mumbai\",\"397\":\"Mumbai\",\"398\":\"Mumbai\",\"399\":\"Mumbai\",\"400\":\"Mumbai\",\"401\":\"Mumbai\",\"402\":\"Mumbai\",\"403\":\"Mumbai\",\"404\":\"Mumbai\",\"405\":\"Mumbai\",\"406\":\"Mumbai\",\"407\":\"Mumbai\",\"408\":\"Mumbai\",\"409\":\"Mumbai\",\"410\":\"Mumbai\",\"411\":\"Mumbai\",\"412\":\"Mumbai\",\"413\":\"Mumbai\",\"414\":\"Mumbai\",\"415\":\"Mumbai\",\"416\":\"Mumbai\",\"417\":\"Mumbai\",\"418\":\"Mumbai\",\"419\":\"Mumbai\",\"420\":\"Mumbai\",\"421\":\"Mumbai\",\"422\":\"Mumbai\",\"423\":\"Mumbai\",\"424\":\"Mumbai\",\"425\":\"Mumbai\",\"426\":\"Mumbai\",\"427\":\"Mumbai\",\"428\":\"Mumbai\",\"429\":\"Mumbai\",\"430\":\"Mumbai\",\"431\":\"Mumbai\",\"432\":\"Mumbai\",\"433\":\"Mumbai\",\"434\":\"Mumbai\",\"435\":\"Mumbai\",\"436\":\"Mumbai\",\"437\":\"Mumbai\",\"438\":\"Mumbai\",\"439\":\"Mumbai\",\"440\":\"Mumbai\",\"441\":\"Mumbai\",\"442\":\"Mumbai\",\"443\":\"Mumbai\",\"444\":\"Mumbai\",\"445\":\"Mumbai\",\"446\":\"Mumbai\",\"447\":\"Mumbai\",\"448\":\"Mumbai\",\"449\":\"Mumbai\",\"450\":\"Mumbai\",\"451\":\"Mumbai\",\"452\":\"Mumbai\",\"453\":\"Mumbai\",\"454\":\"Mumbai\",\"455\":\"Mumbai\",\"456\":\"Mumbai\",\"457\":\"Mumbai\",\"458\":\"Mumbai\",\"459\":\"Mumbai\",\"460\":\"Mumbai\",\"461\":\"Mumbai\",\"462\":\"Mumbai\",\"463\":\"Mumbai\",\"464\":\"Mumbai\",\"465\":\"Mumbai\",\"466\":\"Mumbai\",\"467\":\"Mumbai\",\"468\":\"Mumbai\",\"469\":\"Mumbai\",\"470\":\"Mumbai\",\"471\":\"Mumbai\",\"472\":\"Mumbai\",\"473\":\"Mumbai\",\"474\":\"Mumbai\",\"475\":\"Mumbai\",\"476\":\"Mumbai\",\"477\":\"Mumbai\",\"478\":\"Mumbai\",\"479\":\"Mumbai\",\"480\":\"Mumbai\",\"481\":\"Mumbai\",\"482\":\"Mumbai\",\"483\":\"Mumbai\",\"484\":\"Mumbai\",\"485\":\"Mumbai\",\"486\":\"Mumbai\",\"487\":\"Mumbai\",\"488\":\"Mumbai\",\"489\":\"Mumbai\",\"490\":\"Mumbai\",\"491\":\"Mumbai\",\"492\":\"Mumbai\",\"493\":\"Mumbai\",\"494\":\"Mumbai\",\"495\":\"Mumbai\",\"496\":\"Mumbai\",\"497\":\"Mumbai\",\"498\":\"Mumbai\",\"499\":\"Mumbai\",\"500\":\"Mumbai\",\"501\":\"Mumbai\",\"502\":\"Mumbai\",\"503\":\"Mumbai\",\"504\":\"Mumbai\",\"505\":\"Mumbai\",\"506\":\"Mumbai\",\"507\":\"Mumbai\",\"508\":\"Mumbai\",\"509\":\"Mumbai\",\"510\":\"Mumbai\",\"511\":\"Mumbai\",\"512\":\"Mumbai\",\"513\":\"Mumbai\",\"514\":\"Mumbai\",\"515\":\"Mumbai\",\"516\":\"Mumbai\",\"517\":\"Mumbai\",\"518\":\"Mumbai\",\"519\":\"Mumbai\",\"520\":\"Mumbai\",\"521\":\"Mumbai\",\"522\":\"Mumbai\",\"523\":\"Mumbai\",\"524\":\"Mumbai\",\"525\":\"Mumbai\",\"526\":\"Mumbai\",\"527\":\"Mumbai\",\"528\":\"Mumbai\",\"529\":\"Mumbai\",\"530\":\"Mumbai\",\"531\":\"Mumbai\",\"532\":\"Mumbai\",\"533\":\"Mumbai\",\"534\":\"Mumbai\",\"535\":\"Mumbai\",\"536\":\"Mumbai\",\"537\":\"Mumbai\",\"538\":\"Mumbai\",\"539\":\"Mumbai\",\"540\":\"Mumbai\",\"541\":\"Mumbai\",\"542\":\"Mumbai\",\"543\":\"Mumbai\",\"544\":\"Mumbai\",\"545\":\"Mumbai\",\"546\":\"Mumbai\",\"547\":\"Mumbai\",\"548\":\"Mumbai\",\"549\":\"Mumbai\",\"550\":\"Mumbai\",\"551\":\"Mumbai\",\"552\":\"Mumbai\",\"553\":\"Mumbai\",\"554\":\"Mumbai\",\"555\":\"Mumbai\",\"556\":\"Mumbai\",\"557\":\"Mumbai\",\"558\":\"Mumbai\",\"559\":\"Mumbai\",\"560\":\"Mumbai\",\"561\":\"Mumbai\",\"562\":\"Mumbai\",\"563\":\"Mumbai\",\"564\":\"Mumbai\",\"565\":\"Mumbai\",\"566\":\"Mumbai\",\"567\":\"Mumbai\",\"568\":\"Mumbai\",\"569\":\"Mumbai\",\"570\":\"Mumbai\",\"571\":\"Mumbai\",\"572\":\"Mumbai\",\"573\":\"Mumbai\",\"574\":\"Mumbai\",\"575\":\"Mumbai\",\"576\":\"Mumbai\",\"577\":\"Mumbai\",\"578\":\"Mumbai\",\"579\":\"Mumbai\",\"580\":\"Mumbai\",\"581\":\"Mumbai\",\"582\":\"Mumbai\",\"583\":\"Mumbai\",\"584\":\"Mumbai\",\"585\":\"Mumbai\",\"586\":\"Mumbai\",\"587\":\"Mumbai\",\"588\":\"Mumbai\",\"589\":\"Mumbai\",\"590\":\"Mumbai\",\"591\":\"Mumbai\",\"592\":\"Mumbai\",\"593\":\"Mumbai\",\"594\":\"Mumbai\",\"595\":\"Mumbai\",\"596\":\"Mumbai\",\"597\":\"Mumbai\",\"598\":\"Mumbai\",\"599\":\"Mumbai\",\"600\":\"Mumbai\",\"601\":\"Mumbai\",\"602\":\"Mumbai\",\"603\":\"Mumbai\",\"604\":\"Mumbai\",\"605\":\"Mumbai\",\"606\":\"Mumbai\",\"607\":\"Mumbai\",\"608\":\"Mumbai\",\"609\":\"Mumbai\",\"610\":\"Mumbai\",\"611\":\"Mumbai\",\"612\":\"Mumbai\",\"613\":\"Mumbai\",\"614\":\"Mumbai\",\"615\":\"Mumbai\",\"616\":\"Mumbai\",\"617\":\"Mumbai\",\"618\":\"Mumbai\",\"619\":\"Mumbai\",\"620\":\"Mumbai\",\"621\":\"Mumbai\",\"622\":\"Mumbai\",\"623\":\"Mumbai\",\"624\":\"Mumbai\",\"625\":\"Mumbai\",\"626\":\"Mumbai\",\"627\":\"Mumbai\",\"628\":\"Mumbai\",\"629\":\"Mumbai\",\"630\":\"Mumbai\",\"631\":\"Mumbai\",\"632\":\"Mumbai\",\"633\":\"Mumbai\",\"634\":\"Mumbai\",\"635\":\"Mumbai\",\"636\":\"Mumbai\",\"637\":\"Mumbai\",\"638\":\"Mumbai\",\"639\":\"Mumbai\"},\"town\":{\"0\":80,\"1\":80,\"2\":80,\"3\":80,\"4\":80,\"5\":79,\"6\":79,\"7\":80,\"8\":79,\"9\":79,\"10\":80,\"11\":80,\"12\":79,\"13\":79,\"14\":79,\"15\":80,\"16\":79,\"17\":79,\"18\":79,\"19\":79,\"20\":80,\"21\":79,\"22\":80,\"23\":79,\"24\":79,\"25\":79,\"26\":79,\"27\":80,\"28\":80,\"29\":79,\"30\":79,\"31\":79,\"32\":79,\"33\":79,\"34\":80,\"35\":79,\"36\":79,\"37\":79,\"38\":79,\"39\":79,\"40\":79,\"41\":79,\"42\":79,\"43\":79,\"44\":79,\"45\":79,\"46\":79,\"47\":79,\"48\":79,\"49\":80,\"50\":79,\"51\":79,\"52\":79,\"53\":79,\"54\":79,\"55\":79,\"56\":80,\"57\":79,\"58\":79,\"59\":80,\"60\":79,\"61\":79,\"62\":79,\"63\":79,\"64\":80,\"65\":79,\"66\":80,\"67\":79,\"68\":79,\"69\":80,\"70\":79,\"71\":79,\"72\":79,\"73\":79,\"74\":79,\"75\":79,\"76\":79,\"77\":80,\"78\":79,\"79\":79,\"80\":79,\"81\":79,\"82\":79,\"83\":79,\"84\":79,\"85\":80,\"86\":79,\"87\":79,\"88\":79,\"89\":79,\"90\":79,\"91\":79,\"92\":80,\"93\":79,\"94\":79,\"95\":79,\"96\":79,\"97\":79,\"98\":79,\"99\":79,\"100\":79,\"101\":79,\"102\":80,\"103\":80,\"104\":80,\"105\":79,\"106\":79,\"107\":79,\"108\":79,\"109\":80,\"110\":79,\"111\":79,\"112\":79,\"113\":80,\"114\":80,\"115\":80,\"116\":79,\"117\":79,\"118\":80,\"119\":79,\"120\":79,\"121\":79,\"122\":79,\"123\":80,\"124\":79,\"125\":79,\"126\":79,\"127\":79,\"128\":79,\"129\":79,\"130\":80,\"131\":79,\"132\":79,\"133\":79,\"134\":79,\"135\":80,\"136\":79,\"137\":79,\"138\":80,\"139\":79,\"140\":80,\"141\":79,\"142\":79,\"143\":80,\"144\":79,\"145\":80,\"146\":79,\"147\":79,\"148\":79,\"149\":79,\"150\":79,\"151\":79,\"152\":80,\"153\":80,\"154\":79,\"155\":80,\"156\":79,\"157\":79,\"158\":80,\"159\":79,\"160\":79,\"161\":79,\"162\":79,\"163\":79,\"164\":79,\"165\":79,\"166\":79,\"167\":80,\"168\":79,\"169\":80,\"170\":79,\"171\":79,\"172\":79,\"173\":79,\"174\":79,\"175\":79,\"176\":79,\"177\":79,\"178\":80,\"179\":79,\"180\":79,\"181\":79,\"182\":79,\"183\":79,\"184\":80,\"185\":79,\"186\":79,\"187\":79,\"188\":80,\"189\":79,\"190\":79,\"191\":79,\"192\":79,\"193\":79,\"194\":79,\"195\":80,\"196\":79,\"197\":79,\"198\":80,\"199\":79,\"200\":80,\"201\":80,\"202\":79,\"203\":79,\"204\":79,\"205\":79,\"206\":80,\"207\":80,\"208\":79,\"209\":79,\"210\":79,\"211\":79,\"212\":79,\"213\":79,\"214\":80,\"215\":79,\"216\":79,\"217\":80,\"218\":79,\"219\":79,\"220\":80,\"221\":79,\"222\":79,\"223\":79,\"224\":79,\"225\":80,\"226\":79,\"227\":79,\"228\":79,\"229\":79,\"230\":79,\"231\":79,\"232\":79,\"233\":80,\"234\":79,\"235\":79,\"236\":79,\"237\":79,\"238\":79,\"239\":79,\"240\":79,\"241\":80,\"242\":79,\"243\":79,\"244\":79,\"245\":79,\"246\":79,\"247\":79,\"248\":79,\"249\":79,\"250\":79,\"251\":79,\"252\":80,\"253\":79,\"254\":79,\"255\":79,\"256\":79,\"257\":79,\"258\":79,\"259\":79,\"260\":80,\"261\":80,\"262\":80,\"263\":79,\"264\":79,\"265\":79,\"266\":79,\"267\":79,\"268\":79,\"269\":79,\"270\":79,\"271\":79,\"272\":79,\"273\":79,\"274\":80,\"275\":80,\"276\":79,\"277\":79,\"278\":79,\"279\":79,\"280\":79,\"281\":80,\"282\":79,\"283\":80,\"284\":79,\"285\":79,\"286\":79,\"287\":79,\"288\":79,\"289\":80,\"290\":80,\"291\":79,\"292\":79,\"293\":79,\"294\":79,\"295\":79,\"296\":79,\"297\":79,\"298\":79,\"299\":79,\"300\":79,\"301\":79,\"302\":79,\"303\":80,\"304\":79,\"305\":79,\"306\":79,\"307\":79,\"308\":79,\"309\":80,\"310\":80,\"311\":79,\"312\":79,\"313\":80,\"314\":79,\"315\":79,\"316\":79,\"317\":79,\"318\":79,\"319\":79,\"320\":80,\"321\":79,\"322\":79,\"323\":79,\"324\":79,\"325\":80,\"326\":79,\"327\":80,\"328\":79,\"329\":79,\"330\":80,\"331\":79,\"332\":80,\"333\":79,\"334\":79,\"335\":79,\"336\":79,\"337\":79,\"338\":79,\"339\":79,\"340\":79,\"341\":79,\"342\":79,\"343\":80,\"344\":80,\"345\":79,\"346\":79,\"347\":79,\"348\":79,\"349\":80,\"350\":79,\"351\":79,\"352\":79,\"353\":79,\"354\":79,\"355\":79,\"356\":79,\"357\":79,\"358\":80,\"359\":79,\"360\":79,\"361\":79,\"362\":79,\"363\":79,\"364\":79,\"365\":80,\"366\":79,\"367\":79,\"368\":79,\"369\":80,\"370\":79,\"371\":79,\"372\":79,\"373\":79,\"374\":80,\"375\":79,\"376\":80,\"377\":79,\"378\":79,\"379\":79,\"380\":80,\"381\":79,\"382\":79,\"383\":80,\"384\":79,\"385\":79,\"386\":79,\"387\":79,\"388\":79,\"389\":79,\"390\":79,\"391\":79,\"392\":79,\"393\":79,\"394\":79,\"395\":79,\"396\":80,\"397\":80,\"398\":80,\"399\":79,\"400\":79,\"401\":80,\"402\":79,\"403\":79,\"404\":79,\"405\":80,\"406\":79,\"407\":79,\"408\":80,\"409\":80,\"410\":79,\"411\":79,\"412\":79,\"413\":79,\"414\":79,\"415\":80,\"416\":79,\"417\":80,\"418\":79,\"419\":79,\"420\":79,\"421\":79,\"422\":79,\"423\":79,\"424\":79,\"425\":79,\"426\":79,\"427\":79,\"428\":79,\"429\":80,\"430\":80,\"431\":79,\"432\":79,\"433\":79,\"434\":79,\"435\":79,\"436\":79,\"437\":79,\"438\":79,\"439\":79,\"440\":79,\"441\":79,\"442\":79,\"443\":79,\"444\":79,\"445\":80,\"446\":79,\"447\":80,\"448\":79,\"449\":79,\"450\":79,\"451\":79,\"452\":80,\"453\":80,\"454\":79,\"455\":79,\"456\":80,\"457\":80,\"458\":79,\"459\":79,\"460\":79,\"461\":79,\"462\":79,\"463\":79,\"464\":79,\"465\":80,\"466\":80,\"467\":79,\"468\":80,\"469\":79,\"470\":79,\"471\":79,\"472\":79,\"473\":80,\"474\":79,\"475\":79,\"476\":79,\"477\":80,\"478\":79,\"479\":80,\"480\":80,\"481\":79,\"482\":80,\"483\":79,\"484\":79,\"485\":79,\"486\":79,\"487\":79,\"488\":79,\"489\":79,\"490\":79,\"491\":79,\"492\":79,\"493\":79,\"494\":79,\"495\":80,\"496\":79,\"497\":79,\"498\":79,\"499\":79,\"500\":79,\"501\":79,\"502\":80,\"503\":79,\"504\":80,\"505\":79,\"506\":80,\"507\":79,\"508\":79,\"509\":79,\"510\":79,\"511\":79,\"512\":79,\"513\":79,\"514\":80,\"515\":79,\"516\":80,\"517\":79,\"518\":79,\"519\":79,\"520\":79,\"521\":79,\"522\":79,\"523\":79,\"524\":79,\"525\":79,\"526\":79,\"527\":79,\"528\":79,\"529\":80,\"530\":80,\"531\":79,\"532\":79,\"533\":79,\"534\":79,\"535\":80,\"536\":79,\"537\":79,\"538\":80,\"539\":79,\"540\":79,\"541\":79,\"542\":80,\"543\":79,\"544\":80,\"545\":80,\"546\":79,\"547\":79,\"548\":79,\"549\":79,\"550\":80,\"551\":80,\"552\":79,\"553\":79,\"554\":79,\"555\":79,\"556\":79,\"557\":80,\"558\":79,\"559\":79,\"560\":80,\"561\":79,\"562\":80,\"563\":80,\"564\":80,\"565\":79,\"566\":79,\"567\":80,\"568\":79,\"569\":79,\"570\":79,\"571\":79,\"572\":79,\"573\":80,\"574\":80,\"575\":80,\"576\":79,\"577\":80,\"578\":79,\"579\":79,\"580\":79,\"581\":79,\"582\":80,\"583\":80,\"584\":79,\"585\":79,\"586\":79,\"587\":79,\"588\":80,\"589\":79,\"590\":80,\"591\":80,\"592\":80,\"593\":79,\"594\":80,\"595\":79,\"596\":80,\"597\":79,\"598\":80,\"599\":79,\"600\":79,\"601\":79,\"602\":80,\"603\":79,\"604\":80,\"605\":79,\"606\":79,\"607\":79,\"608\":79,\"609\":80,\"610\":79,\"611\":79,\"612\":79,\"613\":80,\"614\":79,\"615\":79,\"616\":79,\"617\":80,\"618\":79,\"619\":80,\"620\":79,\"621\":79,\"622\":79,\"623\":79,\"624\":79,\"625\":80,\"626\":80,\"627\":80,\"628\":79,\"629\":79,\"630\":80,\"631\":79,\"632\":79,\"633\":79,\"634\":80,\"635\":79,\"636\":79,\"637\":79,\"638\":79,\"639\":79}}'"
            ]
          },
          "metadata": {},
          "execution_count": 62
        }
      ]
    },
    {
      "cell_type": "code",
      "metadata": {
        "colab": {
          "base_uri": "https://localhost:8080/",
          "height": 121
        },
        "id": "9Lj9sDWtrArf",
        "outputId": "63500e4a-a635-414a-afe3-fdea04f60257"
      },
      "source": [
        "df.to_html()"
      ],
      "execution_count": 63,
      "outputs": [
        {
          "output_type": "execute_result",
          "data": {
            "application/vnd.google.colaboratory.intrinsic+json": {
              "type": "string"
            },
            "text/plain": [
              "'<table border=\"1\" class=\"dataframe\">\\n  <thead>\\n    <tr style=\"text-align: right;\">\\n      <th></th>\\n      <th>Unnamed: 0</th>\\n      <th>District</th>\\n      <th>State</th>\\n      <th>Literacy</th>\\n      <th>city</th>\\n      <th>town</th>\\n    </tr>\\n  </thead>\\n  <tbody>\\n    <tr>\\n      <th>0</th>\\n      <td>1</td>\\n      <td>Thane</td>\\n      <td>Maharashtra</td>\\n      <td>84.53</td>\\n      <td>Mumbai</td>\\n      <td>80</td>\\n    </tr>\\n    <tr>\\n      <th>1</th>\\n      <td>2</td>\\n      <td>North Twenty Four Parganas</td>\\n      <td>West Bengal</td>\\n      <td>84.06</td>\\n      <td>NAgpur</td>\\n      <td>80</td>\\n    </tr>\\n    <tr>\\n      <th>2</th>\\n      <td>3</td>\\n      <td>Bangalore</td>\\n      <td>Karnataka</td>\\n      <td>87.67</td>\\n      <td>Mumbai</td>\\n      <td>80</td>\\n    </tr>\\n    <tr>\\n      <th>3</th>\\n      <td>4</td>\\n      <td>Pune</td>\\n      <td>Maharashtra</td>\\n      <td>86.15</td>\\n      <td>Mumbai</td>\\n      <td>80</td>\\n    </tr>\\n    <tr>\\n      <th>4</th>\\n      <td>5</td>\\n      <td>Mumbai Suburban</td>\\n      <td>Maharashtra</td>\\n      <td>89.91</td>\\n      <td>Mumbai</td>\\n      <td>80</td>\\n    </tr>\\n    <tr>\\n      <th>5</th>\\n      <td>6</td>\\n      <td>South Twenty Four Parganas</td>\\n      <td>West Bengal</td>\\n      <td>77.51</td>\\n      <td>Mumbai</td>\\n      <td>79</td>\\n    </tr>\\n    <tr>\\n      <th>6</th>\\n      <td>7</td>\\n      <td>Barddhaman</td>\\n      <td>West Bengal</td>\\n      <td>76.21</td>\\n      <td>Mumbai</td>\\n      <td>79</td>\\n    </tr>\\n    <tr>\\n      <th>7</th>\\n      <td>8</td>\\n      <td>Ahmadabad</td>\\n      <td>Gujarat</td>\\n      <td>85.31</td>\\n      <td>Mumbai</td>\\n      <td>80</td>\\n    </tr>\\n    <tr>\\n      <th>8</th>\\n      <td>9</td>\\n      <td>Murshidabad</td>\\n      <td>West Bengal</td>\\n      <td>66.59</td>\\n      <td>Mumbai</td>\\n      <td>79</td>\\n    </tr>\\n    <tr>\\n      <th>9</th>\\n      <td>10</td>\\n      <td>Jaipur</td>\\n      <td>Rajasthan</td>\\n      <td>75.51</td>\\n      <td>Mumbai</td>\\n      <td>79</td>\\n    </tr>\\n    <tr>\\n      <th>10</th>\\n      <td>11</td>\\n      <td>Nashik</td>\\n      <td>Maharashtra</td>\\n      <td>82.31</td>\\n      <td>Mumbai</td>\\n      <td>80</td>\\n    </tr>\\n    <tr>\\n      <th>11</th>\\n      <td>12</td>\\n      <td>Surat</td>\\n      <td>Gujarat</td>\\n      <td>85.53</td>\\n      <td>Mumbai</td>\\n      <td>80</td>\\n    </tr>\\n    <tr>\\n      <th>12</th>\\n      <td>13</td>\\n      <td>Allahabad</td>\\n      <td>Uttar Pradesh</td>\\n      <td>72.32</td>\\n      <td>Mumbai</td>\\n      <td>79</td>\\n    </tr>\\n    <tr>\\n      <th>13</th>\\n      <td>14</td>\\n      <td>Paschim Medinipur</td>\\n      <td>West Bengal</td>\\n      <td>78.00</td>\\n      <td>Mumbai</td>\\n      <td>79</td>\\n    </tr>\\n    <tr>\\n      <th>14</th>\\n      <td>15</td>\\n      <td>Patna</td>\\n      <td>Bihar</td>\\n      <td>70.68</td>\\n      <td>Mumbai</td>\\n      <td>79</td>\\n    </tr>\\n    <tr>\\n      <th>15</th>\\n      <td>16</td>\\n      <td>Hugli</td>\\n      <td>West Bengal</td>\\n      <td>81.80</td>\\n      <td>Mumbai</td>\\n      <td>80</td>\\n    </tr>\\n    <tr>\\n      <th>16</th>\\n      <td>17</td>\\n      <td>Rangareddy</td>\\n      <td>Andhra Pradesh</td>\\n      <td>75.87</td>\\n      <td>Mumbai</td>\\n      <td>79</td>\\n    </tr>\\n    <tr>\\n      <th>17</th>\\n      <td>18</td>\\n      <td>Nadia</td>\\n      <td>West Bengal</td>\\n      <td>74.97</td>\\n      <td>Mumbai</td>\\n      <td>79</td>\\n    </tr>\\n    <tr>\\n      <th>18</th>\\n      <td>19</td>\\n      <td>East Godavari</td>\\n      <td>Andhra Pradesh</td>\\n      <td>70.99</td>\\n      <td>Mumbai</td>\\n      <td>79</td>\\n    </tr>\\n    <tr>\\n      <th>19</th>\\n      <td>20</td>\\n      <td>Purbi Champaran</td>\\n      <td>Bihar</td>\\n      <td>55.79</td>\\n      <td>Mumbai</td>\\n      <td>79</td>\\n    </tr>\\n    <tr>\\n      <th>20</th>\\n      <td>21</td>\\n      <td>Purba Medinipur</td>\\n      <td>West Bengal</td>\\n      <td>87.02</td>\\n      <td>Mumbai</td>\\n      <td>80</td>\\n    </tr>\\n    <tr>\\n      <th>21</th>\\n      <td>22</td>\\n      <td>Guntur</td>\\n      <td>Andhra Pradesh</td>\\n      <td>67.40</td>\\n      <td>Mumbai</td>\\n      <td>79</td>\\n    </tr>\\n    <tr>\\n      <th>22</th>\\n      <td>23</td>\\n      <td>Haora</td>\\n      <td>West Bengal</td>\\n      <td>83.31</td>\\n      <td>Mumbai</td>\\n      <td>80</td>\\n    </tr>\\n    <tr>\\n      <th>23</th>\\n      <td>24</td>\\n      <td>Muzaffarpur</td>\\n      <td>Bihar</td>\\n      <td>63.43</td>\\n      <td>Mumbai</td>\\n      <td>79</td>\\n    </tr>\\n    <tr>\\n      <th>24</th>\\n      <td>25</td>\\n      <td>Belgaum</td>\\n      <td>Karnataka</td>\\n      <td>73.48</td>\\n      <td>Mumbai</td>\\n      <td>79</td>\\n    </tr>\\n    <tr>\\n      <th>25</th>\\n      <td>26</td>\\n      <td>Moradabad</td>\\n      <td>Uttar Pradesh</td>\\n      <td>56.77</td>\\n      <td>Mumbai</td>\\n      <td>79</td>\\n    </tr>\\n    <tr>\\n      <th>26</th>\\n      <td>27</td>\\n      <td>Ghaziabad</td>\\n      <td>Uttar Pradesh</td>\\n      <td>78.07</td>\\n      <td>Mumbai</td>\\n      <td>79</td>\\n    </tr>\\n    <tr>\\n      <th>27</th>\\n      <td>28</td>\\n      <td>Nagpur</td>\\n      <td>Maharashtra</td>\\n      <td>88.39</td>\\n      <td>Mumbai</td>\\n      <td>80</td>\\n    </tr>\\n    <tr>\\n      <th>28</th>\\n      <td>29</td>\\n      <td>Chennai</td>\\n      <td>Tamil Nadu</td>\\n      <td>90.18</td>\\n      <td>Mumbai</td>\\n      <td>80</td>\\n    </tr>\\n    <tr>\\n      <th>29</th>\\n      <td>30</td>\\n      <td>Azamgarh</td>\\n      <td>Uttar Pradesh</td>\\n      <td>70.93</td>\\n      <td>Mumbai</td>\\n      <td>79</td>\\n    </tr>\\n    <tr>\\n      <th>30</th>\\n      <td>31</td>\\n      <td>Lucknow</td>\\n      <td>Uttar Pradesh</td>\\n      <td>77.29</td>\\n      <td>Mumbai</td>\\n      <td>79</td>\\n    </tr>\\n    <tr>\\n      <th>31</th>\\n      <td>32</td>\\n      <td>Kanpur Nagar</td>\\n      <td>Uttar Pradesh</td>\\n      <td>79.65</td>\\n      <td>Mumbai</td>\\n      <td>79</td>\\n    </tr>\\n    <tr>\\n      <th>32</th>\\n      <td>33</td>\\n      <td>Ahmadnagar</td>\\n      <td>Maharashtra</td>\\n      <td>79.05</td>\\n      <td>Mumbai</td>\\n      <td>79</td>\\n    </tr>\\n    <tr>\\n      <th>33</th>\\n      <td>34</td>\\n      <td>Krishna</td>\\n      <td>Andhra Pradesh</td>\\n      <td>73.74</td>\\n      <td>Mumbai</td>\\n      <td>79</td>\\n    </tr>\\n    <tr>\\n      <th>34</th>\\n      <td>35</td>\\n      <td>Kolkata</td>\\n      <td>West Bengal</td>\\n      <td>86.31</td>\\n      <td>Mumbai</td>\\n      <td>80</td>\\n    </tr>\\n    <tr>\\n      <th>35</th>\\n      <td>36</td>\\n      <td>Jaunpur</td>\\n      <td>Uttar Pradesh</td>\\n      <td>71.55</td>\\n      <td>Mumbai</td>\\n      <td>79</td>\\n    </tr>\\n    <tr>\\n      <th>36</th>\\n      <td>37</td>\\n      <td>Madhubani</td>\\n      <td>Bihar</td>\\n      <td>58.62</td>\\n      <td>Mumbai</td>\\n      <td>79</td>\\n    </tr>\\n    <tr>\\n      <th>37</th>\\n      <td>38</td>\\n      <td>Sitapur</td>\\n      <td>Uttar Pradesh</td>\\n      <td>61.12</td>\\n      <td>Mumbai</td>\\n      <td>79</td>\\n    </tr>\\n    <tr>\\n      <th>38</th>\\n      <td>39</td>\\n      <td>Bareilly</td>\\n      <td>Uttar Pradesh</td>\\n      <td>58.49</td>\\n      <td>Mumbai</td>\\n      <td>79</td>\\n    </tr>\\n    <tr>\\n      <th>39</th>\\n      <td>40</td>\\n      <td>Gorakhpur</td>\\n      <td>Uttar Pradesh</td>\\n      <td>70.83</td>\\n      <td>Mumbai</td>\\n      <td>79</td>\\n    </tr>\\n    <tr>\\n      <th>40</th>\\n      <td>41</td>\\n      <td>Agra</td>\\n      <td>Uttar Pradesh</td>\\n      <td>71.58</td>\\n      <td>Mumbai</td>\\n      <td>79</td>\\n    </tr>\\n    <tr>\\n      <th>41</th>\\n      <td>42</td>\\n      <td>Gaya</td>\\n      <td>Bihar</td>\\n      <td>63.67</td>\\n      <td>Mumbai</td>\\n      <td>79</td>\\n    </tr>\\n    <tr>\\n      <th>42</th>\\n      <td>43</td>\\n      <td>Solapur</td>\\n      <td>Maharashtra</td>\\n      <td>77.02</td>\\n      <td>Mumbai</td>\\n      <td>79</td>\\n    </tr>\\n    <tr>\\n      <th>43</th>\\n      <td>44</td>\\n      <td>Visakhapatnam</td>\\n      <td>Andhra Pradesh</td>\\n      <td>66.91</td>\\n      <td>Mumbai</td>\\n      <td>79</td>\\n    </tr>\\n    <tr>\\n      <th>44</th>\\n      <td>45</td>\\n      <td>Samastipur</td>\\n      <td>Bihar</td>\\n      <td>61.86</td>\\n      <td>Mumbai</td>\\n      <td>79</td>\\n    </tr>\\n    <tr>\\n      <th>45</th>\\n      <td>46</td>\\n      <td>Jalgaon</td>\\n      <td>Maharashtra</td>\\n      <td>78.20</td>\\n      <td>Mumbai</td>\\n      <td>79</td>\\n    </tr>\\n    <tr>\\n      <th>46</th>\\n      <td>47</td>\\n      <td>Chittoor</td>\\n      <td>Andhra Pradesh</td>\\n      <td>71.53</td>\\n      <td>Mumbai</td>\\n      <td>79</td>\\n    </tr>\\n    <tr>\\n      <th>47</th>\\n      <td>48</td>\\n      <td>Vadodara</td>\\n      <td>Gujarat</td>\\n      <td>78.92</td>\\n      <td>Mumbai</td>\\n      <td>79</td>\\n    </tr>\\n    <tr>\\n      <th>48</th>\\n      <td>49</td>\\n      <td>Muzaffarnagar</td>\\n      <td>Uttar Pradesh</td>\\n      <td>69.12</td>\\n      <td>Mumbai</td>\\n      <td>79</td>\\n    </tr>\\n    <tr>\\n      <th>49</th>\\n      <td>50</td>\\n      <td>Malappuram</td>\\n      <td>Kerala</td>\\n      <td>93.57</td>\\n      <td>Mumbai</td>\\n      <td>80</td>\\n    </tr>\\n    <tr>\\n      <th>50</th>\\n      <td>51</td>\\n      <td>Hardoi</td>\\n      <td>Uttar Pradesh</td>\\n      <td>64.57</td>\\n      <td>Mumbai</td>\\n      <td>79</td>\\n    </tr>\\n    <tr>\\n      <th>51</th>\\n      <td>52</td>\\n      <td>Anantapur</td>\\n      <td>Andhra Pradesh</td>\\n      <td>63.57</td>\\n      <td>Mumbai</td>\\n      <td>79</td>\\n    </tr>\\n    <tr>\\n      <th>52</th>\\n      <td>53</td>\\n      <td>Raipur</td>\\n      <td>Chhattisgarh</td>\\n      <td>75.56</td>\\n      <td>Mumbai</td>\\n      <td>79</td>\\n    </tr>\\n    <tr>\\n      <th>53</th>\\n      <td>54</td>\\n      <td>Kurnool</td>\\n      <td>Andhra Pradesh</td>\\n      <td>59.97</td>\\n      <td>Mumbai</td>\\n      <td>79</td>\\n    </tr>\\n    <tr>\\n      <th>54</th>\\n      <td>55</td>\\n      <td>Mahbubnagar</td>\\n      <td>Andhra Pradesh</td>\\n      <td>55.04</td>\\n      <td>Mumbai</td>\\n      <td>79</td>\\n    </tr>\\n    <tr>\\n      <th>55</th>\\n      <td>56</td>\\n      <td>Kheri</td>\\n      <td>Uttar Pradesh</td>\\n      <td>60.56</td>\\n      <td>Mumbai</td>\\n      <td>79</td>\\n    </tr>\\n    <tr>\\n      <th>56</th>\\n      <td>57</td>\\n      <td>Kancheepuram</td>\\n      <td>Tamil Nadu</td>\\n      <td>84.49</td>\\n      <td>Mumbai</td>\\n      <td>80</td>\\n    </tr>\\n    <tr>\\n      <th>57</th>\\n      <td>58</td>\\n      <td>Maldah</td>\\n      <td>West Bengal</td>\\n      <td>61.73</td>\\n      <td>Mumbai</td>\\n      <td>79</td>\\n    </tr>\\n    <tr>\\n      <th>58</th>\\n      <td>59</td>\\n      <td>Saran</td>\\n      <td>Bihar</td>\\n      <td>65.96</td>\\n      <td>Mumbai</td>\\n      <td>79</td>\\n    </tr>\\n    <tr>\\n      <th>59</th>\\n      <td>60</td>\\n      <td>Hyderabad</td>\\n      <td>Andhra Pradesh</td>\\n      <td>83.25</td>\\n      <td>Mumbai</td>\\n      <td>80</td>\\n    </tr>\\n    <tr>\\n      <th>60</th>\\n      <td>61</td>\\n      <td>Darbhanga</td>\\n      <td>Bihar</td>\\n      <td>56.56</td>\\n      <td>Mumbai</td>\\n      <td>79</td>\\n    </tr>\\n    <tr>\\n      <th>61</th>\\n      <td>62</td>\\n      <td>West Godavari</td>\\n      <td>Andhra Pradesh</td>\\n      <td>74.63</td>\\n      <td>Mumbai</td>\\n      <td>79</td>\\n    </tr>\\n    <tr>\\n      <th>62</th>\\n      <td>63</td>\\n      <td>Vellore</td>\\n      <td>Tamil Nadu</td>\\n      <td>79.17</td>\\n      <td>Mumbai</td>\\n      <td>79</td>\\n    </tr>\\n    <tr>\\n      <th>63</th>\\n      <td>64</td>\\n      <td>Pashchim Champaran</td>\\n      <td>Bihar</td>\\n      <td>55.70</td>\\n      <td>Mumbai</td>\\n      <td>79</td>\\n    </tr>\\n    <tr>\\n      <th>64</th>\\n      <td>65</td>\\n      <td>Kolhapur</td>\\n      <td>Maharashtra</td>\\n      <td>81.51</td>\\n      <td>Mumbai</td>\\n      <td>80</td>\\n    </tr>\\n    <tr>\\n      <th>65</th>\\n      <td>66</td>\\n      <td>Jalpaiguri</td>\\n      <td>West Bengal</td>\\n      <td>73.25</td>\\n      <td>Mumbai</td>\\n      <td>79</td>\\n    </tr>\\n    <tr>\\n      <th>66</th>\\n      <td>67</td>\\n      <td>Rajkot</td>\\n      <td>Gujarat</td>\\n      <td>80.96</td>\\n      <td>Mumbai</td>\\n      <td>80</td>\\n    </tr>\\n    <tr>\\n      <th>67</th>\\n      <td>68</td>\\n      <td>Sultanpur</td>\\n      <td>Uttar Pradesh</td>\\n      <td>69.27</td>\\n      <td>Mumbai</td>\\n      <td>79</td>\\n    </tr>\\n    <tr>\\n      <th>68</th>\\n      <td>69</td>\\n      <td>Karimnagar</td>\\n      <td>Andhra Pradesh</td>\\n      <td>64.15</td>\\n      <td>Mumbai</td>\\n      <td>79</td>\\n    </tr>\\n    <tr>\\n      <th>69</th>\\n      <td>70</td>\\n      <td>Thiruvallur</td>\\n      <td>Tamil Nadu</td>\\n      <td>84.03</td>\\n      <td>Mumbai</td>\\n      <td>80</td>\\n    </tr>\\n    <tr>\\n      <th>70</th>\\n      <td>71</td>\\n      <td>Aurangabad</td>\\n      <td>Maharashtra</td>\\n      <td>79.02</td>\\n      <td>Mumbai</td>\\n      <td>79</td>\\n    </tr>\\n    <tr>\\n      <th>71</th>\\n      <td>72</td>\\n      <td>Jodhpur</td>\\n      <td>Rajasthan</td>\\n      <td>65.94</td>\\n      <td>Mumbai</td>\\n      <td>79</td>\\n    </tr>\\n    <tr>\\n      <th>72</th>\\n      <td>73</td>\\n      <td>Bijnor</td>\\n      <td>Uttar Pradesh</td>\\n      <td>68.48</td>\\n      <td>Mumbai</td>\\n      <td>79</td>\\n    </tr>\\n    <tr>\\n      <th>73</th>\\n      <td>74</td>\\n      <td>Budaun</td>\\n      <td>Uttar Pradesh</td>\\n      <td>51.29</td>\\n      <td>Mumbai</td>\\n      <td>79</td>\\n    </tr>\\n    <tr>\\n      <th>74</th>\\n      <td>75</td>\\n      <td>Varanasi</td>\\n      <td>Uttar Pradesh</td>\\n      <td>75.60</td>\\n      <td>Mumbai</td>\\n      <td>79</td>\\n    </tr>\\n    <tr>\\n      <th>75</th>\\n      <td>76</td>\\n      <td>Alwar</td>\\n      <td>Rajasthan</td>\\n      <td>70.72</td>\\n      <td>Mumbai</td>\\n      <td>79</td>\\n    </tr>\\n    <tr>\\n      <th>76</th>\\n      <td>77</td>\\n      <td>Aligarh</td>\\n      <td>Uttar Pradesh</td>\\n      <td>67.52</td>\\n      <td>Mumbai</td>\\n      <td>79</td>\\n    </tr>\\n    <tr>\\n      <th>77</th>\\n      <td>78</td>\\n      <td>North West Delhi</td>\\n      <td>Delhi</td>\\n      <td>84.45</td>\\n      <td>Mumbai</td>\\n      <td>80</td>\\n    </tr>\\n    <tr>\\n      <th>78</th>\\n      <td>79</td>\\n      <td>Ghazipur</td>\\n      <td>Uttar Pradesh</td>\\n      <td>71.78</td>\\n      <td>Mumbai</td>\\n      <td>79</td>\\n    </tr>\\n    <tr>\\n      <th>79</th>\\n      <td>80</td>\\n      <td>Bankura</td>\\n      <td>West Bengal</td>\\n      <td>70.26</td>\\n      <td>Mumbai</td>\\n      <td>79</td>\\n    </tr>\\n    <tr>\\n      <th>80</th>\\n      <td>81</td>\\n      <td>Kushinagar</td>\\n      <td>Uttar Pradesh</td>\\n      <td>65.25</td>\\n      <td>Mumbai</td>\\n      <td>79</td>\\n    </tr>\\n    <tr>\\n      <th>81</th>\\n      <td>82</td>\\n      <td>Ganjam</td>\\n      <td>Orissa</td>\\n      <td>71.09</td>\\n      <td>Mumbai</td>\\n      <td>79</td>\\n    </tr>\\n    <tr>\\n      <th>82</th>\\n      <td>83</td>\\n      <td>Warangal</td>\\n      <td>Andhra Pradesh</td>\\n      <td>65.11</td>\\n      <td>Mumbai</td>\\n      <td>79</td>\\n    </tr>\\n    <tr>\\n      <th>83</th>\\n      <td>84</td>\\n      <td>Birbhum</td>\\n      <td>West Bengal</td>\\n      <td>70.68</td>\\n      <td>Mumbai</td>\\n      <td>79</td>\\n    </tr>\\n    <tr>\\n      <th>84</th>\\n      <td>85</td>\\n      <td>Bulandshahar</td>\\n      <td>Uttar Pradesh</td>\\n      <td>68.88</td>\\n      <td>Mumbai</td>\\n      <td>79</td>\\n    </tr>\\n    <tr>\\n      <th>85</th>\\n      <td>86</td>\\n      <td>Ludhiana</td>\\n      <td>Punjab</td>\\n      <td>82.20</td>\\n      <td>Mumbai</td>\\n      <td>80</td>\\n    </tr>\\n    <tr>\\n      <th>86</th>\\n      <td>87</td>\\n      <td>Vaishali</td>\\n      <td>Bihar</td>\\n      <td>66.60</td>\\n      <td>Mumbai</td>\\n      <td>79</td>\\n    </tr>\\n    <tr>\\n      <th>87</th>\\n      <td>88</td>\\n      <td>Nalgonda</td>\\n      <td>Andhra Pradesh</td>\\n      <td>64.20</td>\\n      <td>Mumbai</td>\\n      <td>79</td>\\n    </tr>\\n    <tr>\\n      <th>88</th>\\n      <td>89</td>\\n      <td>Bahraich</td>\\n      <td>Uttar Pradesh</td>\\n      <td>49.36</td>\\n      <td>Mumbai</td>\\n      <td>79</td>\\n    </tr>\\n    <tr>\\n      <th>89</th>\\n      <td>90</td>\\n      <td>Salem</td>\\n      <td>Tamil Nadu</td>\\n      <td>72.86</td>\\n      <td>Mumbai</td>\\n      <td>79</td>\\n    </tr>\\n    <tr>\\n      <th>90</th>\\n      <td>91</td>\\n      <td>Saharanpur</td>\\n      <td>Uttar Pradesh</td>\\n      <td>70.49</td>\\n      <td>Mumbai</td>\\n      <td>79</td>\\n    </tr>\\n    <tr>\\n      <th>91</th>\\n      <td>92</td>\\n      <td>Viluppuram</td>\\n      <td>Tamil Nadu</td>\\n      <td>71.88</td>\\n      <td>Mumbai</td>\\n      <td>79</td>\\n    </tr>\\n    <tr>\\n      <th>92</th>\\n      <td>93</td>\\n      <td>Coimbatore</td>\\n      <td>Tamil Nadu</td>\\n      <td>83.98</td>\\n      <td>Mumbai</td>\\n      <td>80</td>\\n    </tr>\\n    <tr>\\n      <th>93</th>\\n      <td>94</td>\\n      <td>Meerut</td>\\n      <td>Uttar Pradesh</td>\\n      <td>72.84</td>\\n      <td>Mumbai</td>\\n      <td>79</td>\\n    </tr>\\n    <tr>\\n      <th>94</th>\\n      <td>95</td>\\n      <td>Gonda</td>\\n      <td>Uttar Pradesh</td>\\n      <td>58.71</td>\\n      <td>Mumbai</td>\\n      <td>79</td>\\n    </tr>\\n    <tr>\\n      <th>95</th>\\n      <td>96</td>\\n      <td>Sitamarhi</td>\\n      <td>Bihar</td>\\n      <td>52.05</td>\\n      <td>Mumbai</td>\\n      <td>79</td>\\n    </tr>\\n    <tr>\\n      <th>96</th>\\n      <td>97</td>\\n      <td>Rae Bareli</td>\\n      <td>Uttar Pradesh</td>\\n      <td>67.25</td>\\n      <td>Mumbai</td>\\n      <td>79</td>\\n    </tr>\\n    <tr>\\n      <th>97</th>\\n      <td>98</td>\\n      <td>Prakasam</td>\\n      <td>Andhra Pradesh</td>\\n      <td>63.08</td>\\n      <td>Mumbai</td>\\n      <td>79</td>\\n    </tr>\\n    <tr>\\n      <th>98</th>\\n      <td>99</td>\\n      <td>Nanded</td>\\n      <td>Maharashtra</td>\\n      <td>75.45</td>\\n      <td>Mumbai</td>\\n      <td>79</td>\\n    </tr>\\n    <tr>\\n      <th>99</th>\\n      <td>100</td>\\n      <td>Durg</td>\\n      <td>Chhattisgarh</td>\\n      <td>79.06</td>\\n      <td>Mumbai</td>\\n      <td>79</td>\\n    </tr>\\n    <tr>\\n      <th>100</th>\\n      <td>101</td>\\n      <td>Siwan</td>\\n      <td>Bihar</td>\\n      <td>69.45</td>\\n      <td>Mumbai</td>\\n      <td>79</td>\\n    </tr>\\n    <tr>\\n      <th>101</th>\\n      <td>102</td>\\n      <td>Nagaur</td>\\n      <td>Rajasthan</td>\\n      <td>62.80</td>\\n      <td>Mumbai</td>\\n      <td>79</td>\\n    </tr>\\n    <tr>\\n      <th>102</th>\\n      <td>103</td>\\n      <td>Thiruvananthapuram</td>\\n      <td>Kerala</td>\\n      <td>93.02</td>\\n      <td>Mumbai</td>\\n      <td>80</td>\\n    </tr>\\n    <tr>\\n      <th>103</th>\\n      <td>104</td>\\n      <td>Ernakulam</td>\\n      <td>Kerala</td>\\n      <td>95.89</td>\\n      <td>Mumbai</td>\\n      <td>80</td>\\n    </tr>\\n    <tr>\\n      <th>104</th>\\n      <td>105</td>\\n      <td>Indore</td>\\n      <td>Madhya Pradesh</td>\\n      <td>80.87</td>\\n      <td>Mumbai</td>\\n      <td>80</td>\\n    </tr>\\n    <tr>\\n      <th>105</th>\\n      <td>106</td>\\n      <td>Purnia</td>\\n      <td>Bihar</td>\\n      <td>51.08</td>\\n      <td>Mumbai</td>\\n      <td>79</td>\\n    </tr>\\n    <tr>\\n      <th>106</th>\\n      <td>107</td>\\n      <td>Barabanki</td>\\n      <td>Uttar Pradesh</td>\\n      <td>61.75</td>\\n      <td>Mumbai</td>\\n      <td>79</td>\\n    </tr>\\n    <tr>\\n      <th>107</th>\\n      <td>108</td>\\n      <td>Ballia</td>\\n      <td>Uttar Pradesh</td>\\n      <td>70.94</td>\\n      <td>Mumbai</td>\\n      <td>79</td>\\n    </tr>\\n    <tr>\\n      <th>108</th>\\n      <td>109</td>\\n      <td>Pratapgarh</td>\\n      <td>Uttar Pradesh</td>\\n      <td>70.09</td>\\n      <td>Mumbai</td>\\n      <td>79</td>\\n    </tr>\\n    <tr>\\n      <th>109</th>\\n      <td>110</td>\\n      <td>Thrissur</td>\\n      <td>Kerala</td>\\n      <td>95.08</td>\\n      <td>Mumbai</td>\\n      <td>80</td>\\n    </tr>\\n    <tr>\\n      <th>110</th>\\n      <td>111</td>\\n      <td>Banaskantha</td>\\n      <td>Gujarat</td>\\n      <td>65.32</td>\\n      <td>Mumbai</td>\\n      <td>79</td>\\n    </tr>\\n    <tr>\\n      <th>111</th>\\n      <td>112</td>\\n      <td>Unnao</td>\\n      <td>Uttar Pradesh</td>\\n      <td>66.37</td>\\n      <td>Mumbai</td>\\n      <td>79</td>\\n    </tr>\\n    <tr>\\n      <th>112</th>\\n      <td>113</td>\\n      <td>Deoria</td>\\n      <td>Uttar Pradesh</td>\\n      <td>71.13</td>\\n      <td>Mumbai</td>\\n      <td>79</td>\\n    </tr>\\n    <tr>\\n      <th>113</th>\\n      <td>114</td>\\n      <td>Kozhikode</td>\\n      <td>Kerala</td>\\n      <td>95.08</td>\\n      <td>Mumbai</td>\\n      <td>80</td>\\n    </tr>\\n    <tr>\\n      <th>114</th>\\n      <td>115</td>\\n      <td>Mumbai City</td>\\n      <td>Maharashtra</td>\\n      <td>89.21</td>\\n      <td>Mumbai</td>\\n      <td>80</td>\\n    </tr>\\n    <tr>\\n      <th>115</th>\\n      <td>116</td>\\n      <td>Tirunelveli</td>\\n      <td>Tamil Nadu</td>\\n      <td>82.50</td>\\n      <td>Mumbai</td>\\n      <td>80</td>\\n    </tr>\\n    <tr>\\n      <th>116</th>\\n      <td>117</td>\\n      <td>Katihar</td>\\n      <td>Bihar</td>\\n      <td>52.24</td>\\n      <td>Mumbai</td>\\n      <td>79</td>\\n    </tr>\\n    <tr>\\n      <th>117</th>\\n      <td>118</td>\\n      <td>Udaipur</td>\\n      <td>Rajasthan</td>\\n      <td>61.82</td>\\n      <td>Mumbai</td>\\n      <td>79</td>\\n    </tr>\\n    <tr>\\n      <th>118</th>\\n      <td>119</td>\\n      <td>Madurai</td>\\n      <td>Tamil Nadu</td>\\n      <td>83.45</td>\\n      <td>Mumbai</td>\\n      <td>80</td>\\n    </tr>\\n    <tr>\\n      <th>119</th>\\n      <td>120</td>\\n      <td>Bhagalpur</td>\\n      <td>Bihar</td>\\n      <td>63.14</td>\\n      <td>Mumbai</td>\\n      <td>79</td>\\n    </tr>\\n    <tr>\\n      <th>120</th>\\n      <td>121</td>\\n      <td>Medak</td>\\n      <td>Andhra Pradesh</td>\\n      <td>61.42</td>\\n      <td>Mumbai</td>\\n      <td>79</td>\\n    </tr>\\n    <tr>\\n      <th>121</th>\\n      <td>122</td>\\n      <td>Uttar Dinajpur</td>\\n      <td>West Bengal</td>\\n      <td>59.07</td>\\n      <td>Mumbai</td>\\n      <td>79</td>\\n    </tr>\\n    <tr>\\n      <th>122</th>\\n      <td>123</td>\\n      <td>Shahjahanpur</td>\\n      <td>Uttar Pradesh</td>\\n      <td>59.54</td>\\n      <td>Mumbai</td>\\n      <td>79</td>\\n    </tr>\\n    <tr>\\n      <th>123</th>\\n      <td>124</td>\\n      <td>Satara</td>\\n      <td>Maharashtra</td>\\n      <td>82.87</td>\\n      <td>Mumbai</td>\\n      <td>80</td>\\n    </tr>\\n    <tr>\\n      <th>124</th>\\n      <td>125</td>\\n      <td>Mysore</td>\\n      <td>Karnataka</td>\\n      <td>72.79</td>\\n      <td>Mumbai</td>\\n      <td>79</td>\\n    </tr>\\n    <tr>\\n      <th>125</th>\\n      <td>126</td>\\n      <td>Begusarai</td>\\n      <td>Bihar</td>\\n      <td>63.87</td>\\n      <td>Mumbai</td>\\n      <td>79</td>\\n    </tr>\\n    <tr>\\n      <th>126</th>\\n      <td>127</td>\\n      <td>Sri Potti Sriramulu Nellore</td>\\n      <td>Andhra Pradesh</td>\\n      <td>68.90</td>\\n      <td>Mumbai</td>\\n      <td>79</td>\\n    </tr>\\n    <tr>\\n      <th>127</th>\\n      <td>128</td>\\n      <td>Rohtas</td>\\n      <td>Bihar</td>\\n      <td>73.37</td>\\n      <td>Mumbai</td>\\n      <td>79</td>\\n    </tr>\\n    <tr>\\n      <th>128</th>\\n      <td>129</td>\\n      <td>Puruliya</td>\\n      <td>West Bengal</td>\\n      <td>64.48</td>\\n      <td>Mumbai</td>\\n      <td>79</td>\\n    </tr>\\n    <tr>\\n      <th>129</th>\\n      <td>130</td>\\n      <td>Ranchi</td>\\n      <td>Jharkhand</td>\\n      <td>76.06</td>\\n      <td>Mumbai</td>\\n      <td>79</td>\\n    </tr>\\n    <tr>\\n      <th>130</th>\\n      <td>131</td>\\n      <td>Amravati</td>\\n      <td>Maharashtra</td>\\n      <td>87.38</td>\\n      <td>Mumbai</td>\\n      <td>80</td>\\n    </tr>\\n    <tr>\\n      <th>131</th>\\n      <td>132</td>\\n      <td>YSR</td>\\n      <td>Andhra Pradesh</td>\\n      <td>67.30</td>\\n      <td>Mumbai</td>\\n      <td>79</td>\\n    </tr>\\n    <tr>\\n      <th>132</th>\\n      <td>133</td>\\n      <td>Bhavnagar</td>\\n      <td>Gujarat</td>\\n      <td>75.52</td>\\n      <td>Mumbai</td>\\n      <td>79</td>\\n    </tr>\\n    <tr>\\n      <th>133</th>\\n      <td>134</td>\\n      <td>Nalanda</td>\\n      <td>Bihar</td>\\n      <td>64.43</td>\\n      <td>Mumbai</td>\\n      <td>79</td>\\n    </tr>\\n    <tr>\\n      <th>134</th>\\n      <td>135</td>\\n      <td>Nagaon</td>\\n      <td>Assam</td>\\n      <td>72.37</td>\\n      <td>Mumbai</td>\\n      <td>79</td>\\n    </tr>\\n    <tr>\\n      <th>135</th>\\n      <td>136</td>\\n      <td>Sangli</td>\\n      <td>Maharashtra</td>\\n      <td>81.48</td>\\n      <td>Mumbai</td>\\n      <td>80</td>\\n    </tr>\\n    <tr>\\n      <th>136</th>\\n      <td>137</td>\\n      <td>Koch Bihar</td>\\n      <td>West Bengal</td>\\n      <td>74.78</td>\\n      <td>Mumbai</td>\\n      <td>79</td>\\n    </tr>\\n    <tr>\\n      <th>137</th>\\n      <td>138</td>\\n      <td>Araria</td>\\n      <td>Bihar</td>\\n      <td>53.53</td>\\n      <td>Mumbai</td>\\n      <td>79</td>\\n    </tr>\\n    <tr>\\n      <th>138</th>\\n      <td>139</td>\\n      <td>Palakkad</td>\\n      <td>Kerala</td>\\n      <td>89.31</td>\\n      <td>Mumbai</td>\\n      <td>80</td>\\n    </tr>\\n    <tr>\\n      <th>139</th>\\n      <td>140</td>\\n      <td>Khammam</td>\\n      <td>Andhra Pradesh</td>\\n      <td>64.81</td>\\n      <td>Mumbai</td>\\n      <td>79</td>\\n    </tr>\\n    <tr>\\n      <th>140</th>\\n      <td>141</td>\\n      <td>Yavatmal</td>\\n      <td>Maharashtra</td>\\n      <td>82.82</td>\\n      <td>Mumbai</td>\\n      <td>80</td>\\n    </tr>\\n    <tr>\\n      <th>141</th>\\n      <td>142</td>\\n      <td>Junagadh</td>\\n      <td>Gujarat</td>\\n      <td>75.80</td>\\n      <td>Mumbai</td>\\n      <td>79</td>\\n    </tr>\\n    <tr>\\n      <th>142</th>\\n      <td>143</td>\\n      <td>Adilabad</td>\\n      <td>Andhra Pradesh</td>\\n      <td>61.01</td>\\n      <td>Mumbai</td>\\n      <td>79</td>\\n    </tr>\\n    <tr>\\n      <th>143</th>\\n      <td>144</td>\\n      <td>South Delhi</td>\\n      <td>Delhi</td>\\n      <td>86.57</td>\\n      <td>Mumbai</td>\\n      <td>80</td>\\n    </tr>\\n    <tr>\\n      <th>144</th>\\n      <td>145</td>\\n      <td>Bhojpur</td>\\n      <td>Bihar</td>\\n      <td>70.47</td>\\n      <td>Mumbai</td>\\n      <td>79</td>\\n    </tr>\\n    <tr>\\n      <th>145</th>\\n      <td>146</td>\\n      <td>Tiruchirappalli</td>\\n      <td>Tamil Nadu</td>\\n      <td>83.23</td>\\n      <td>Mumbai</td>\\n      <td>80</td>\\n    </tr>\\n    <tr>\\n      <th>146</th>\\n      <td>147</td>\\n      <td>Srikakulam</td>\\n      <td>Andhra Pradesh</td>\\n      <td>61.74</td>\\n      <td>Mumbai</td>\\n      <td>79</td>\\n    </tr>\\n    <tr>\\n      <th>147</th>\\n      <td>148</td>\\n      <td>Maharajganj</td>\\n      <td>Uttar Pradesh</td>\\n      <td>62.76</td>\\n      <td>Mumbai</td>\\n      <td>79</td>\\n    </tr>\\n    <tr>\\n      <th>148</th>\\n      <td>149</td>\\n      <td>Dhanbad</td>\\n      <td>Jharkhand</td>\\n      <td>74.52</td>\\n      <td>Mumbai</td>\\n      <td>79</td>\\n    </tr>\\n    <tr>\\n      <th>149</th>\\n      <td>150</td>\\n      <td>Tumkur</td>\\n      <td>Karnataka</td>\\n      <td>75.14</td>\\n      <td>Mumbai</td>\\n      <td>79</td>\\n    </tr>\\n    <tr>\\n      <th>150</th>\\n      <td>151</td>\\n      <td>Sikar</td>\\n      <td>Rajasthan</td>\\n      <td>71.91</td>\\n      <td>Mumbai</td>\\n      <td>79</td>\\n    </tr>\\n    <tr>\\n      <th>151</th>\\n      <td>152</td>\\n      <td>Bilaspur</td>\\n      <td>Chhattisgarh</td>\\n      <td>70.78</td>\\n      <td>Mumbai</td>\\n      <td>79</td>\\n    </tr>\\n    <tr>\\n      <th>152</th>\\n      <td>153</td>\\n      <td>Kollam</td>\\n      <td>Kerala</td>\\n      <td>94.09</td>\\n      <td>Mumbai</td>\\n      <td>80</td>\\n    </tr>\\n    <tr>\\n      <th>153</th>\\n      <td>154</td>\\n      <td>Raigarh</td>\\n      <td>Maharashtra</td>\\n      <td>83.14</td>\\n      <td>Mumbai</td>\\n      <td>80</td>\\n    </tr>\\n    <tr>\\n      <th>154</th>\\n      <td>155</td>\\n      <td>Fatehpur</td>\\n      <td>Uttar Pradesh</td>\\n      <td>67.43</td>\\n      <td>Mumbai</td>\\n      <td>79</td>\\n    </tr>\\n    <tr>\\n      <th>155</th>\\n      <td>156</td>\\n      <td>Cuttack</td>\\n      <td>Orissa</td>\\n      <td>85.50</td>\\n      <td>Mumbai</td>\\n      <td>80</td>\\n    </tr>\\n    <tr>\\n      <th>156</th>\\n      <td>157</td>\\n      <td>Cuddalore</td>\\n      <td>Tamil Nadu</td>\\n      <td>78.04</td>\\n      <td>Mumbai</td>\\n      <td>79</td>\\n    </tr>\\n    <tr>\\n      <th>157</th>\\n      <td>158</td>\\n      <td>Barmer</td>\\n      <td>Rajasthan</td>\\n      <td>56.53</td>\\n      <td>Mumbai</td>\\n      <td>79</td>\\n    </tr>\\n    <tr>\\n      <th>158</th>\\n      <td>159</td>\\n      <td>Buldana</td>\\n      <td>Maharashtra</td>\\n      <td>83.40</td>\\n      <td>Mumbai</td>\\n      <td>80</td>\\n    </tr>\\n    <tr>\\n      <th>159</th>\\n      <td>160</td>\\n      <td>Bid</td>\\n      <td>Maharashtra</td>\\n      <td>76.99</td>\\n      <td>Mumbai</td>\\n      <td>79</td>\\n    </tr>\\n    <tr>\\n      <th>160</th>\\n      <td>161</td>\\n      <td>Ajmer</td>\\n      <td>Rajasthan</td>\\n      <td>69.33</td>\\n      <td>Mumbai</td>\\n      <td>79</td>\\n    </tr>\\n    <tr>\\n      <th>161</th>\\n      <td>162</td>\\n      <td>Gulbarga</td>\\n      <td>Karnataka</td>\\n      <td>64.85</td>\\n      <td>Mumbai</td>\\n      <td>79</td>\\n    </tr>\\n    <tr>\\n      <th>162</th>\\n      <td>163</td>\\n      <td>Gopalganj</td>\\n      <td>Bihar</td>\\n      <td>65.47</td>\\n      <td>Mumbai</td>\\n      <td>79</td>\\n    </tr>\\n    <tr>\\n      <th>163</th>\\n      <td>164</td>\\n      <td>Siddharth Nagar</td>\\n      <td>Uttar Pradesh</td>\\n      <td>59.25</td>\\n      <td>Mumbai</td>\\n      <td>79</td>\\n    </tr>\\n    <tr>\\n      <th>164</th>\\n      <td>165</td>\\n      <td>Nizamabad</td>\\n      <td>Andhra Pradesh</td>\\n      <td>61.25</td>\\n      <td>Mumbai</td>\\n      <td>79</td>\\n    </tr>\\n    <tr>\\n      <th>165</th>\\n      <td>166</td>\\n      <td>Bharatpur</td>\\n      <td>Rajasthan</td>\\n      <td>70.11</td>\\n      <td>Mumbai</td>\\n      <td>79</td>\\n    </tr>\\n    <tr>\\n      <th>166</th>\\n      <td>167</td>\\n      <td>Mathura</td>\\n      <td>Uttar Pradesh</td>\\n      <td>70.36</td>\\n      <td>Mumbai</td>\\n      <td>79</td>\\n    </tr>\\n    <tr>\\n      <th>167</th>\\n      <td>168</td>\\n      <td>West Delhi</td>\\n      <td>Delhi</td>\\n      <td>86.98</td>\\n      <td>Mumbai</td>\\n      <td>80</td>\\n    </tr>\\n    <tr>\\n      <th>168</th>\\n      <td>169</td>\\n      <td>Aurangabad</td>\\n      <td>Bihar</td>\\n      <td>70.32</td>\\n      <td>Mumbai</td>\\n      <td>79</td>\\n    </tr>\\n    <tr>\\n      <th>169</th>\\n      <td>170</td>\\n      <td>Kannur</td>\\n      <td>Kerala</td>\\n      <td>95.10</td>\\n      <td>Mumbai</td>\\n      <td>80</td>\\n    </tr>\\n    <tr>\\n      <th>170</th>\\n      <td>171</td>\\n      <td>Mayurbhanj</td>\\n      <td>Orissa</td>\\n      <td>63.17</td>\\n      <td>Mumbai</td>\\n      <td>79</td>\\n    </tr>\\n    <tr>\\n      <th>171</th>\\n      <td>172</td>\\n      <td>Firozabad</td>\\n      <td>Uttar Pradesh</td>\\n      <td>71.92</td>\\n      <td>Mumbai</td>\\n      <td>79</td>\\n    </tr>\\n    <tr>\\n      <th>172</th>\\n      <td>173</td>\\n      <td>Mirzapur</td>\\n      <td>Uttar Pradesh</td>\\n      <td>68.48</td>\\n      <td>Mumbai</td>\\n      <td>79</td>\\n    </tr>\\n    <tr>\\n      <th>173</th>\\n      <td>174</td>\\n      <td>Amritsar</td>\\n      <td>Punjab</td>\\n      <td>76.27</td>\\n      <td>Mumbai</td>\\n      <td>79</td>\\n    </tr>\\n    <tr>\\n      <th>174</th>\\n      <td>175</td>\\n      <td>Tiruppur</td>\\n      <td>Tamil Nadu</td>\\n      <td>78.68</td>\\n      <td>Mumbai</td>\\n      <td>79</td>\\n    </tr>\\n    <tr>\\n      <th>175</th>\\n      <td>176</td>\\n      <td>Faizabad</td>\\n      <td>Uttar Pradesh</td>\\n      <td>68.73</td>\\n      <td>Mumbai</td>\\n      <td>79</td>\\n    </tr>\\n    <tr>\\n      <th>176</th>\\n      <td>177</td>\\n      <td>Tiruvannamalai</td>\\n      <td>Tamil Nadu</td>\\n      <td>74.21</td>\\n      <td>Mumbai</td>\\n      <td>79</td>\\n    </tr>\\n    <tr>\\n      <th>177</th>\\n      <td>178</td>\\n      <td>Basti</td>\\n      <td>Uttar Pradesh</td>\\n      <td>67.22</td>\\n      <td>Mumbai</td>\\n      <td>79</td>\\n    </tr>\\n    <tr>\\n      <th>178</th>\\n      <td>179</td>\\n      <td>Jabalpur</td>\\n      <td>Madhya Pradesh</td>\\n      <td>81.07</td>\\n      <td>Mumbai</td>\\n      <td>80</td>\\n    </tr>\\n    <tr>\\n      <th>179</th>\\n      <td>180</td>\\n      <td>Latur</td>\\n      <td>Maharashtra</td>\\n      <td>77.26</td>\\n      <td>Mumbai</td>\\n      <td>79</td>\\n    </tr>\\n    <tr>\\n      <th>180</th>\\n      <td>181</td>\\n      <td>Bellary</td>\\n      <td>Karnataka</td>\\n      <td>67.43</td>\\n      <td>Mumbai</td>\\n      <td>79</td>\\n    </tr>\\n    <tr>\\n      <th>181</th>\\n      <td>182</td>\\n      <td>Giridih</td>\\n      <td>Jharkhand</td>\\n      <td>63.14</td>\\n      <td>Mumbai</td>\\n      <td>79</td>\\n    </tr>\\n    <tr>\\n      <th>182</th>\\n      <td>183</td>\\n      <td>Sabarkantha</td>\\n      <td>Gujarat</td>\\n      <td>75.79</td>\\n      <td>Mumbai</td>\\n      <td>79</td>\\n    </tr>\\n    <tr>\\n      <th>183</th>\\n      <td>184</td>\\n      <td>Bhilwara</td>\\n      <td>Rajasthan</td>\\n      <td>61.37</td>\\n      <td>Mumbai</td>\\n      <td>79</td>\\n    </tr>\\n    <tr>\\n      <th>184</th>\\n      <td>185</td>\\n      <td>Thanjavur</td>\\n      <td>Tamil Nadu</td>\\n      <td>82.64</td>\\n      <td>Mumbai</td>\\n      <td>80</td>\\n    </tr>\\n    <tr>\\n      <th>185</th>\\n      <td>186</td>\\n      <td>Ambedkar Nagar</td>\\n      <td>Uttar Pradesh</td>\\n      <td>72.23</td>\\n      <td>Mumbai</td>\\n      <td>79</td>\\n    </tr>\\n    <tr>\\n      <th>186</th>\\n      <td>187</td>\\n      <td>PanchMahal</td>\\n      <td>Gujarat</td>\\n      <td>70.99</td>\\n      <td>Mumbai</td>\\n      <td>79</td>\\n    </tr>\\n    <tr>\\n      <th>187</th>\\n      <td>188</td>\\n      <td>Sagar</td>\\n      <td>Madhya Pradesh</td>\\n      <td>76.46</td>\\n      <td>Mumbai</td>\\n      <td>79</td>\\n    </tr>\\n    <tr>\\n      <th>188</th>\\n      <td>189</td>\\n      <td>Bhopal</td>\\n      <td>Madhya Pradesh</td>\\n      <td>80.37</td>\\n      <td>Mumbai</td>\\n      <td>80</td>\\n    </tr>\\n    <tr>\\n      <th>189</th>\\n      <td>190</td>\\n      <td>Rewa</td>\\n      <td>Madhya Pradesh</td>\\n      <td>71.62</td>\\n      <td>Mumbai</td>\\n      <td>79</td>\\n    </tr>\\n    <tr>\\n      <th>190</th>\\n      <td>191</td>\\n      <td>Bikaner</td>\\n      <td>Rajasthan</td>\\n      <td>65.13</td>\\n      <td>Mumbai</td>\\n      <td>79</td>\\n    </tr>\\n    <tr>\\n      <th>191</th>\\n      <td>192</td>\\n      <td>Surguja</td>\\n      <td>Chhattisgarh</td>\\n      <td>60.01</td>\\n      <td>Mumbai</td>\\n      <td>79</td>\\n    </tr>\\n    <tr>\\n      <th>192</th>\\n      <td>193</td>\\n      <td>Vizianagaram</td>\\n      <td>Andhra Pradesh</td>\\n      <td>58.89</td>\\n      <td>Mumbai</td>\\n      <td>79</td>\\n    </tr>\\n    <tr>\\n      <th>193</th>\\n      <td>194</td>\\n      <td>Rampur</td>\\n      <td>Uttar Pradesh</td>\\n      <td>53.34</td>\\n      <td>Mumbai</td>\\n      <td>79</td>\\n    </tr>\\n    <tr>\\n      <th>194</th>\\n      <td>195</td>\\n      <td>Baleshwar</td>\\n      <td>Orissa</td>\\n      <td>79.79</td>\\n      <td>Mumbai</td>\\n      <td>79</td>\\n    </tr>\\n    <tr>\\n      <th>195</th>\\n      <td>196</td>\\n      <td>Kheda</td>\\n      <td>Gujarat</td>\\n      <td>82.65</td>\\n      <td>Mumbai</td>\\n      <td>80</td>\\n    </tr>\\n    <tr>\\n      <th>196</th>\\n      <td>197</td>\\n      <td>Gurdaspur</td>\\n      <td>Punjab</td>\\n      <td>79.95</td>\\n      <td>Mumbai</td>\\n      <td>79</td>\\n    </tr>\\n    <tr>\\n      <th>197</th>\\n      <td>198</td>\\n      <td>Purbi Singhbhum</td>\\n      <td>Jharkhand</td>\\n      <td>75.49</td>\\n      <td>Mumbai</td>\\n      <td>79</td>\\n    </tr>\\n    <tr>\\n      <th>198</th>\\n      <td>199</td>\\n      <td>South West Delhi</td>\\n      <td>Delhi</td>\\n      <td>88.28</td>\\n      <td>Mumbai</td>\\n      <td>80</td>\\n    </tr>\\n    <tr>\\n      <th>199</th>\\n      <td>200</td>\\n      <td>Erode</td>\\n      <td>Tamil Nadu</td>\\n      <td>72.58</td>\\n      <td>Mumbai</td>\\n      <td>79</td>\\n    </tr>\\n    <tr>\\n      <th>200</th>\\n      <td>201</td>\\n      <td>Khordha</td>\\n      <td>Orissa</td>\\n      <td>86.88</td>\\n      <td>Mumbai</td>\\n      <td>80</td>\\n    </tr>\\n    <tr>\\n      <th>201</th>\\n      <td>202</td>\\n      <td>North East Delhi</td>\\n      <td>Delhi</td>\\n      <td>83.09</td>\\n      <td>Mumbai</td>\\n      <td>80</td>\\n    </tr>\\n    <tr>\\n      <th>202</th>\\n      <td>203</td>\\n      <td>Supaul</td>\\n      <td>Bihar</td>\\n      <td>57.67</td>\\n      <td>Mumbai</td>\\n      <td>79</td>\\n    </tr>\\n    <tr>\\n      <th>203</th>\\n      <td>204</td>\\n      <td>Satna</td>\\n      <td>Madhya Pradesh</td>\\n      <td>72.26</td>\\n      <td>Mumbai</td>\\n      <td>79</td>\\n    </tr>\\n    <tr>\\n      <th>204</th>\\n      <td>205</td>\\n      <td>Nawada</td>\\n      <td>Bihar</td>\\n      <td>59.76</td>\\n      <td>Mumbai</td>\\n      <td>79</td>\\n    </tr>\\n    <tr>\\n      <th>205</th>\\n      <td>206</td>\\n      <td>Mau</td>\\n      <td>Uttar Pradesh</td>\\n      <td>73.09</td>\\n      <td>Mumbai</td>\\n      <td>79</td>\\n    </tr>\\n    <tr>\\n      <th>206</th>\\n      <td>207</td>\\n      <td>Chandrapur</td>\\n      <td>Maharashtra</td>\\n      <td>80.01</td>\\n      <td>Mumbai</td>\\n      <td>80</td>\\n    </tr>\\n    <tr>\\n      <th>207</th>\\n      <td>208</td>\\n      <td>Jalandhar</td>\\n      <td>Punjab</td>\\n      <td>82.48</td>\\n      <td>Mumbai</td>\\n      <td>80</td>\\n    </tr>\\n    <tr>\\n      <th>208</th>\\n      <td>209</td>\\n      <td>Dhar</td>\\n      <td>Madhya Pradesh</td>\\n      <td>59.00</td>\\n      <td>Mumbai</td>\\n      <td>79</td>\\n    </tr>\\n    <tr>\\n      <th>209</th>\\n      <td>210</td>\\n      <td>Bijapur</td>\\n      <td>Karnataka</td>\\n      <td>67.15</td>\\n      <td>Mumbai</td>\\n      <td>79</td>\\n    </tr>\\n    <tr>\\n      <th>210</th>\\n      <td>211</td>\\n      <td>Jamnagar</td>\\n      <td>Gujarat</td>\\n      <td>73.65</td>\\n      <td>Mumbai</td>\\n      <td>79</td>\\n    </tr>\\n    <tr>\\n      <th>211</th>\\n      <td>212</td>\\n      <td>Dindigul</td>\\n      <td>Tamil Nadu</td>\\n      <td>76.26</td>\\n      <td>Mumbai</td>\\n      <td>79</td>\\n    </tr>\\n    <tr>\\n      <th>212</th>\\n      <td>213</td>\\n      <td>Balrampur</td>\\n      <td>Uttar Pradesh</td>\\n      <td>49.51</td>\\n      <td>Mumbai</td>\\n      <td>79</td>\\n    </tr>\\n    <tr>\\n      <th>213</th>\\n      <td>214</td>\\n      <td>Jhunjhunun</td>\\n      <td>Rajasthan</td>\\n      <td>74.13</td>\\n      <td>Mumbai</td>\\n      <td>79</td>\\n    </tr>\\n    <tr>\\n      <th>214</th>\\n      <td>215</td>\\n      <td>Alappuzha</td>\\n      <td>Kerala</td>\\n      <td>95.72</td>\\n      <td>Mumbai</td>\\n      <td>80</td>\\n    </tr>\\n    <tr>\\n      <th>215</th>\\n      <td>216</td>\\n      <td>Dohad</td>\\n      <td>Gujarat</td>\\n      <td>58.82</td>\\n      <td>Mumbai</td>\\n      <td>79</td>\\n    </tr>\\n    <tr>\\n      <th>216</th>\\n      <td>217</td>\\n      <td>Sundargarh</td>\\n      <td>Orissa</td>\\n      <td>73.34</td>\\n      <td>Mumbai</td>\\n      <td>79</td>\\n    </tr>\\n    <tr>\\n      <th>217</th>\\n      <td>218</td>\\n      <td>Anand</td>\\n      <td>Gujarat</td>\\n      <td>84.37</td>\\n      <td>Mumbai</td>\\n      <td>80</td>\\n    </tr>\\n    <tr>\\n      <th>218</th>\\n      <td>219</td>\\n      <td>Kachchh</td>\\n      <td>Gujarat</td>\\n      <td>70.59</td>\\n      <td>Mumbai</td>\\n      <td>79</td>\\n    </tr>\\n    <tr>\\n      <th>219</th>\\n      <td>220</td>\\n      <td>Chhindwara</td>\\n      <td>Madhya Pradesh</td>\\n      <td>71.16</td>\\n      <td>Mumbai</td>\\n      <td>79</td>\\n    </tr>\\n    <tr>\\n      <th>220</th>\\n      <td>221</td>\\n      <td>Dakshina Kannada</td>\\n      <td>Karnataka</td>\\n      <td>88.57</td>\\n      <td>Mumbai</td>\\n      <td>80</td>\\n    </tr>\\n    <tr>\\n      <th>221</th>\\n      <td>222</td>\\n      <td>Bokaro</td>\\n      <td>Jharkhand</td>\\n      <td>72.01</td>\\n      <td>Mumbai</td>\\n      <td>79</td>\\n    </tr>\\n    <tr>\\n      <th>222</th>\\n      <td>223</td>\\n      <td>Dhule</td>\\n      <td>Maharashtra</td>\\n      <td>72.80</td>\\n      <td>Mumbai</td>\\n      <td>79</td>\\n    </tr>\\n    <tr>\\n      <th>223</th>\\n      <td>224</td>\\n      <td>Churu</td>\\n      <td>Rajasthan</td>\\n      <td>66.75</td>\\n      <td>Mumbai</td>\\n      <td>79</td>\\n    </tr>\\n    <tr>\\n      <th>224</th>\\n      <td>225</td>\\n      <td>Pali</td>\\n      <td>Rajasthan</td>\\n      <td>62.39</td>\\n      <td>Mumbai</td>\\n      <td>79</td>\\n    </tr>\\n    <tr>\\n      <th>225</th>\\n      <td>226</td>\\n      <td>Mahesana</td>\\n      <td>Gujarat</td>\\n      <td>83.61</td>\\n      <td>Mumbai</td>\\n      <td>80</td>\\n    </tr>\\n    <tr>\\n      <th>226</th>\\n      <td>227</td>\\n      <td>Banka</td>\\n      <td>Bihar</td>\\n      <td>58.17</td>\\n      <td>Mumbai</td>\\n      <td>79</td>\\n    </tr>\\n    <tr>\\n      <th>227</th>\\n      <td>228</td>\\n      <td>Gwalior</td>\\n      <td>Madhya Pradesh</td>\\n      <td>76.65</td>\\n      <td>Mumbai</td>\\n      <td>79</td>\\n    </tr>\\n    <tr>\\n      <th>228</th>\\n      <td>229</td>\\n      <td>Pilibhit</td>\\n      <td>Uttar Pradesh</td>\\n      <td>61.47</td>\\n      <td>Mumbai</td>\\n      <td>79</td>\\n    </tr>\\n    <tr>\\n      <th>229</th>\\n      <td>230</td>\\n      <td>Firozpur</td>\\n      <td>Punjab</td>\\n      <td>68.92</td>\\n      <td>Mumbai</td>\\n      <td>79</td>\\n    </tr>\\n    <tr>\\n      <th>230</th>\\n      <td>231</td>\\n      <td>Madhepura</td>\\n      <td>Bihar</td>\\n      <td>52.25</td>\\n      <td>Mumbai</td>\\n      <td>79</td>\\n    </tr>\\n    <tr>\\n      <th>231</th>\\n      <td>232</td>\\n      <td>Jhansi</td>\\n      <td>Uttar Pradesh</td>\\n      <td>75.05</td>\\n      <td>Mumbai</td>\\n      <td>79</td>\\n    </tr>\\n    <tr>\\n      <th>232</th>\\n      <td>233</td>\\n      <td>Ujjain</td>\\n      <td>Madhya Pradesh</td>\\n      <td>72.34</td>\\n      <td>Mumbai</td>\\n      <td>79</td>\\n    </tr>\\n    <tr>\\n      <th>233</th>\\n      <td>234</td>\\n      <td>Kottayam</td>\\n      <td>Kerala</td>\\n      <td>97.21</td>\\n      <td>Mumbai</td>\\n      <td>80</td>\\n    </tr>\\n    <tr>\\n      <th>234</th>\\n      <td>235</td>\\n      <td>Ganganagar</td>\\n      <td>Rajasthan</td>\\n      <td>69.64</td>\\n      <td>Mumbai</td>\\n      <td>79</td>\\n    </tr>\\n    <tr>\\n      <th>235</th>\\n      <td>236</td>\\n      <td>Morena</td>\\n      <td>Madhya Pradesh</td>\\n      <td>71.03</td>\\n      <td>Mumbai</td>\\n      <td>79</td>\\n    </tr>\\n    <tr>\\n      <th>236</th>\\n      <td>237</td>\\n      <td>Jalna</td>\\n      <td>Maharashtra</td>\\n      <td>71.52</td>\\n      <td>Mumbai</td>\\n      <td>79</td>\\n    </tr>\\n    <tr>\\n      <th>237</th>\\n      <td>238</td>\\n      <td>Chandauli</td>\\n      <td>Uttar Pradesh</td>\\n      <td>71.48</td>\\n      <td>Mumbai</td>\\n      <td>79</td>\\n    </tr>\\n    <tr>\\n      <th>238</th>\\n      <td>239</td>\\n      <td>Kota</td>\\n      <td>Rajasthan</td>\\n      <td>76.56</td>\\n      <td>Mumbai</td>\\n      <td>79</td>\\n    </tr>\\n    <tr>\\n      <th>239</th>\\n      <td>240</td>\\n      <td>Dhubri</td>\\n      <td>Assam</td>\\n      <td>58.34</td>\\n      <td>Mumbai</td>\\n      <td>79</td>\\n    </tr>\\n    <tr>\\n      <th>240</th>\\n      <td>241</td>\\n      <td>Davanagere</td>\\n      <td>Karnataka</td>\\n      <td>75.74</td>\\n      <td>Mumbai</td>\\n      <td>79</td>\\n    </tr>\\n    <tr>\\n      <th>241</th>\\n      <td>242</td>\\n      <td>Virudhunagar</td>\\n      <td>Tamil Nadu</td>\\n      <td>80.15</td>\\n      <td>Mumbai</td>\\n      <td>80</td>\\n    </tr>\\n    <tr>\\n      <th>242</th>\\n      <td>243</td>\\n      <td>Palamu</td>\\n      <td>Jharkhand</td>\\n      <td>63.63</td>\\n      <td>Mumbai</td>\\n      <td>79</td>\\n    </tr>\\n    <tr>\\n      <th>243</th>\\n      <td>244</td>\\n      <td>Raichur</td>\\n      <td>Karnataka</td>\\n      <td>59.56</td>\\n      <td>Mumbai</td>\\n      <td>79</td>\\n    </tr>\\n    <tr>\\n      <th>244</th>\\n      <td>245</td>\\n      <td>Sonitpur</td>\\n      <td>Assam</td>\\n      <td>67.34</td>\\n      <td>Mumbai</td>\\n      <td>79</td>\\n    </tr>\\n    <tr>\\n      <th>245</th>\\n      <td>246</td>\\n      <td>Saharsa</td>\\n      <td>Bihar</td>\\n      <td>53.20</td>\\n      <td>Mumbai</td>\\n      <td>79</td>\\n    </tr>\\n    <tr>\\n      <th>246</th>\\n      <td>247</td>\\n      <td>Patiala</td>\\n      <td>Punjab</td>\\n      <td>75.28</td>\\n      <td>Mumbai</td>\\n      <td>79</td>\\n    </tr>\\n    <tr>\\n      <th>247</th>\\n      <td>248</td>\\n      <td>Haridwar</td>\\n      <td>Uttarakhand</td>\\n      <td>73.43</td>\\n      <td>Mumbai</td>\\n      <td>79</td>\\n    </tr>\\n    <tr>\\n      <th>248</th>\\n      <td>249</td>\\n      <td>Bagalkot</td>\\n      <td>Karnataka</td>\\n      <td>68.82</td>\\n      <td>Mumbai</td>\\n      <td>79</td>\\n    </tr>\\n    <tr>\\n      <th>249</th>\\n      <td>250</td>\\n      <td>Farrukhabad</td>\\n      <td>Uttar Pradesh</td>\\n      <td>69.04</td>\\n      <td>Mumbai</td>\\n      <td>79</td>\\n    </tr>\\n    <tr>\\n      <th>250</th>\\n      <td>251</td>\\n      <td>Krishnagiri</td>\\n      <td>Tamil Nadu</td>\\n      <td>71.46</td>\\n      <td>Mumbai</td>\\n      <td>79</td>\\n    </tr>\\n    <tr>\\n      <th>251</th>\\n      <td>252</td>\\n      <td>West Nimar</td>\\n      <td>Madhya Pradesh</td>\\n      <td>62.70</td>\\n      <td>Mumbai</td>\\n      <td>79</td>\\n    </tr>\\n    <tr>\\n      <th>252</th>\\n      <td>253</td>\\n      <td>Kanniyakumari</td>\\n      <td>Tamil Nadu</td>\\n      <td>91.75</td>\\n      <td>Mumbai</td>\\n      <td>80</td>\\n    </tr>\\n    <tr>\\n      <th>253</th>\\n      <td>254</td>\\n      <td>Mainpuri</td>\\n      <td>Uttar Pradesh</td>\\n      <td>75.99</td>\\n      <td>Mumbai</td>\\n      <td>79</td>\\n    </tr>\\n    <tr>\\n      <th>254</th>\\n      <td>255</td>\\n      <td>Sonbhadra</td>\\n      <td>Uttar Pradesh</td>\\n      <td>64.03</td>\\n      <td>Mumbai</td>\\n      <td>79</td>\\n    </tr>\\n    <tr>\\n      <th>255</th>\\n      <td>256</td>\\n      <td>Dharwad</td>\\n      <td>Karnataka</td>\\n      <td>80.00</td>\\n      <td>Mumbai</td>\\n      <td>79</td>\\n    </tr>\\n    <tr>\\n      <th>256</th>\\n      <td>257</td>\\n      <td>Darjiling</td>\\n      <td>West Bengal</td>\\n      <td>79.56</td>\\n      <td>Mumbai</td>\\n      <td>79</td>\\n    </tr>\\n    <tr>\\n      <th>257</th>\\n      <td>258</td>\\n      <td>Jyotiba Phule Nagar</td>\\n      <td>Uttar Pradesh</td>\\n      <td>63.84</td>\\n      <td>Mumbai</td>\\n      <td>79</td>\\n    </tr>\\n    <tr>\\n      <th>258</th>\\n      <td>259</td>\\n      <td>Parbhani</td>\\n      <td>Maharashtra</td>\\n      <td>73.34</td>\\n      <td>Mumbai</td>\\n      <td>79</td>\\n    </tr>\\n    <tr>\\n      <th>259</th>\\n      <td>260</td>\\n      <td>Jalor</td>\\n      <td>Rajasthan</td>\\n      <td>54.86</td>\\n      <td>Mumbai</td>\\n      <td>79</td>\\n    </tr>\\n    <tr>\\n      <th>260</th>\\n      <td>261</td>\\n      <td>Jajapur</td>\\n      <td>Orissa</td>\\n      <td>80.13</td>\\n      <td>Mumbai</td>\\n      <td>80</td>\\n    </tr>\\n    <tr>\\n      <th>261</th>\\n      <td>262</td>\\n      <td>Akola</td>\\n      <td>Maharashtra</td>\\n      <td>88.05</td>\\n      <td>Mumbai</td>\\n      <td>80</td>\\n    </tr>\\n    <tr>\\n      <th>262</th>\\n      <td>263</td>\\n      <td>Faridabad</td>\\n      <td>Haryana</td>\\n      <td>81.70</td>\\n      <td>Mumbai</td>\\n      <td>80</td>\\n    </tr>\\n    <tr>\\n      <th>263</th>\\n      <td>264</td>\\n      <td>Mandya</td>\\n      <td>Karnataka</td>\\n      <td>70.40</td>\\n      <td>Mumbai</td>\\n      <td>79</td>\\n    </tr>\\n    <tr>\\n      <th>264</th>\\n      <td>265</td>\\n      <td>Kendujhar</td>\\n      <td>Orissa</td>\\n      <td>68.24</td>\\n      <td>Mumbai</td>\\n      <td>79</td>\\n    </tr>\\n    <tr>\\n      <th>265</th>\\n      <td>266</td>\\n      <td>Banda</td>\\n      <td>Uttar Pradesh</td>\\n      <td>66.67</td>\\n      <td>Mumbai</td>\\n      <td>79</td>\\n    </tr>\\n    <tr>\\n      <th>266</th>\\n      <td>267</td>\\n      <td>Banswara</td>\\n      <td>Rajasthan</td>\\n      <td>56.33</td>\\n      <td>Mumbai</td>\\n      <td>79</td>\\n    </tr>\\n    <tr>\\n      <th>267</th>\\n      <td>268</td>\\n      <td>Ramabai Nagar</td>\\n      <td>Uttar Pradesh</td>\\n      <td>75.78</td>\\n      <td>Mumbai</td>\\n      <td>79</td>\\n    </tr>\\n    <tr>\\n      <th>268</th>\\n      <td>269</td>\\n      <td>Hassan</td>\\n      <td>Karnataka</td>\\n      <td>76.07</td>\\n      <td>Mumbai</td>\\n      <td>79</td>\\n    </tr>\\n    <tr>\\n      <th>269</th>\\n      <td>270</td>\\n      <td>Hanumangarh</td>\\n      <td>Rajasthan</td>\\n      <td>67.13</td>\\n      <td>Mumbai</td>\\n      <td>79</td>\\n    </tr>\\n    <tr>\\n      <th>270</th>\\n      <td>271</td>\\n      <td>Etah</td>\\n      <td>Uttar Pradesh</td>\\n      <td>70.81</td>\\n      <td>Mumbai</td>\\n      <td>79</td>\\n    </tr>\\n    <tr>\\n      <th>271</th>\\n      <td>272</td>\\n      <td>Chhattarpur</td>\\n      <td>Madhya Pradesh</td>\\n      <td>63.74</td>\\n      <td>Mumbai</td>\\n      <td>79</td>\\n    </tr>\\n    <tr>\\n      <th>272</th>\\n      <td>273</td>\\n      <td>Jamui</td>\\n      <td>Bihar</td>\\n      <td>59.79</td>\\n      <td>Mumbai</td>\\n      <td>79</td>\\n    </tr>\\n    <tr>\\n      <th>273</th>\\n      <td>274</td>\\n      <td>Surendranagar</td>\\n      <td>Gujarat</td>\\n      <td>72.13</td>\\n      <td>Mumbai</td>\\n      <td>79</td>\\n    </tr>\\n    <tr>\\n      <th>274</th>\\n      <td>275</td>\\n      <td>Shimoga</td>\\n      <td>Karnataka</td>\\n      <td>80.45</td>\\n      <td>Mumbai</td>\\n      <td>80</td>\\n    </tr>\\n    <tr>\\n      <th>275</th>\\n      <td>276</td>\\n      <td>Thoothukkudi</td>\\n      <td>Tamil Nadu</td>\\n      <td>86.16</td>\\n      <td>Mumbai</td>\\n      <td>80</td>\\n    </tr>\\n    <tr>\\n      <th>276</th>\\n      <td>277</td>\\n      <td>Hisar</td>\\n      <td>Haryana</td>\\n      <td>72.89</td>\\n      <td>Mumbai</td>\\n      <td>79</td>\\n    </tr>\\n    <tr>\\n      <th>277</th>\\n      <td>278</td>\\n      <td>Cachar</td>\\n      <td>Assam</td>\\n      <td>79.34</td>\\n      <td>Mumbai</td>\\n      <td>79</td>\\n    </tr>\\n    <tr>\\n      <th>278</th>\\n      <td>279</td>\\n      <td>Hazaribagh</td>\\n      <td>Jharkhand</td>\\n      <td>69.75</td>\\n      <td>Mumbai</td>\\n      <td>79</td>\\n    </tr>\\n    <tr>\\n      <th>279</th>\\n      <td>280</td>\\n      <td>Namakkal</td>\\n      <td>Tamil Nadu</td>\\n      <td>74.63</td>\\n      <td>Mumbai</td>\\n      <td>79</td>\\n    </tr>\\n    <tr>\\n      <th>280</th>\\n      <td>281</td>\\n      <td>Shivpuri</td>\\n      <td>Madhya Pradesh</td>\\n      <td>62.55</td>\\n      <td>Mumbai</td>\\n      <td>79</td>\\n    </tr>\\n    <tr>\\n      <th>281</th>\\n      <td>282</td>\\n      <td>West Tripura</td>\\n      <td>Tripura</td>\\n      <td>88.69</td>\\n      <td>Mumbai</td>\\n      <td>80</td>\\n    </tr>\\n    <tr>\\n      <th>282</th>\\n      <td>283</td>\\n      <td>Sant Kabir Nagar</td>\\n      <td>Uttar Pradesh</td>\\n      <td>66.72</td>\\n      <td>Mumbai</td>\\n      <td>79</td>\\n    </tr>\\n    <tr>\\n      <th>283</th>\\n      <td>284</td>\\n      <td>East Delhi</td>\\n      <td>Delhi</td>\\n      <td>89.31</td>\\n      <td>Mumbai</td>\\n      <td>80</td>\\n    </tr>\\n    <tr>\\n      <th>284</th>\\n      <td>285</td>\\n      <td>Buxar</td>\\n      <td>Bihar</td>\\n      <td>70.14</td>\\n      <td>Mumbai</td>\\n      <td>79</td>\\n    </tr>\\n    <tr>\\n      <th>285</th>\\n      <td>286</td>\\n      <td>Valsad</td>\\n      <td>Gujarat</td>\\n      <td>78.55</td>\\n      <td>Mumbai</td>\\n      <td>79</td>\\n    </tr>\\n    <tr>\\n      <th>286</th>\\n      <td>287</td>\\n      <td>Bidar</td>\\n      <td>Karnataka</td>\\n      <td>70.51</td>\\n      <td>Mumbai</td>\\n      <td>79</td>\\n    </tr>\\n    <tr>\\n      <th>287</th>\\n      <td>288</td>\\n      <td>Bhind</td>\\n      <td>Madhya Pradesh</td>\\n      <td>75.26</td>\\n      <td>Mumbai</td>\\n      <td>79</td>\\n    </tr>\\n    <tr>\\n      <th>288</th>\\n      <td>289</td>\\n      <td>Balaghat</td>\\n      <td>Madhya Pradesh</td>\\n      <td>77.09</td>\\n      <td>Mumbai</td>\\n      <td>79</td>\\n    </tr>\\n    <tr>\\n      <th>289</th>\\n      <td>290</td>\\n      <td>Puri</td>\\n      <td>Orissa</td>\\n      <td>84.67</td>\\n      <td>Mumbai</td>\\n      <td>80</td>\\n    </tr>\\n    <tr>\\n      <th>290</th>\\n      <td>291</td>\\n      <td>Dehradun</td>\\n      <td>Uttarakhand</td>\\n      <td>84.25</td>\\n      <td>Mumbai</td>\\n      <td>80</td>\\n    </tr>\\n    <tr>\\n      <th>291</th>\\n      <td>292</td>\\n      <td>Barpeta</td>\\n      <td>Assam</td>\\n      <td>63.81</td>\\n      <td>Mumbai</td>\\n      <td>79</td>\\n    </tr>\\n    <tr>\\n      <th>292</th>\\n      <td>293</td>\\n      <td>Kishanganj</td>\\n      <td>Bihar</td>\\n      <td>55.46</td>\\n      <td>Mumbai</td>\\n      <td>79</td>\\n    </tr>\\n    <tr>\\n      <th>293</th>\\n      <td>294</td>\\n      <td>Jalaun</td>\\n      <td>Uttar Pradesh</td>\\n      <td>73.75</td>\\n      <td>Mumbai</td>\\n      <td>79</td>\\n    </tr>\\n    <tr>\\n      <th>294</th>\\n      <td>295</td>\\n      <td>Dakshin Dinajpur</td>\\n      <td>West Bengal</td>\\n      <td>72.82</td>\\n      <td>Mumbai</td>\\n      <td>79</td>\\n    </tr>\\n    <tr>\\n      <th>295</th>\\n      <td>296</td>\\n      <td>Khagaria</td>\\n      <td>Bihar</td>\\n      <td>57.92</td>\\n      <td>Mumbai</td>\\n      <td>79</td>\\n    </tr>\\n    <tr>\\n      <th>296</th>\\n      <td>297</td>\\n      <td>Chitradurga</td>\\n      <td>Karnataka</td>\\n      <td>73.71</td>\\n      <td>Mumbai</td>\\n      <td>79</td>\\n    </tr>\\n    <tr>\\n      <th>297</th>\\n      <td>298</td>\\n      <td>Osmanabad</td>\\n      <td>Maharashtra</td>\\n      <td>78.44</td>\\n      <td>Mumbai</td>\\n      <td>79</td>\\n    </tr>\\n    <tr>\\n      <th>298</th>\\n      <td>299</td>\\n      <td>Kannauj</td>\\n      <td>Uttar Pradesh</td>\\n      <td>72.70</td>\\n      <td>Mumbai</td>\\n      <td>79</td>\\n    </tr>\\n    <tr>\\n      <th>299</th>\\n      <td>300</td>\\n      <td>Sangrur</td>\\n      <td>Punjab</td>\\n      <td>67.99</td>\\n      <td>Mumbai</td>\\n      <td>79</td>\\n    </tr>\\n    <tr>\\n      <th>300</th>\\n      <td>301</td>\\n      <td>Balangir</td>\\n      <td>Orissa</td>\\n      <td>64.72</td>\\n      <td>Mumbai</td>\\n      <td>79</td>\\n    </tr>\\n    <tr>\\n      <th>301</th>\\n      <td>302</td>\\n      <td>Udham Singh Nagar</td>\\n      <td>Uttarakhand</td>\\n      <td>73.10</td>\\n      <td>Mumbai</td>\\n      <td>79</td>\\n    </tr>\\n    <tr>\\n      <th>302</th>\\n      <td>303</td>\\n      <td>Nandurbar</td>\\n      <td>Maharashtra</td>\\n      <td>64.38</td>\\n      <td>Mumbai</td>\\n      <td>79</td>\\n    </tr>\\n    <tr>\\n      <th>303</th>\\n      <td>304</td>\\n      <td>Gautam Buddha Nagar</td>\\n      <td>Uttar Pradesh</td>\\n      <td>80.12</td>\\n      <td>Mumbai</td>\\n      <td>80</td>\\n    </tr>\\n    <tr>\\n      <th>304</th>\\n      <td>305</td>\\n      <td>Bhiwani</td>\\n      <td>Haryana</td>\\n      <td>75.21</td>\\n      <td>Mumbai</td>\\n      <td>79</td>\\n    </tr>\\n    <tr>\\n      <th>305</th>\\n      <td>306</td>\\n      <td>Dausa</td>\\n      <td>Rajasthan</td>\\n      <td>68.16</td>\\n      <td>Mumbai</td>\\n      <td>79</td>\\n    </tr>\\n    <tr>\\n      <th>306</th>\\n      <td>307</td>\\n      <td>Kaimur</td>\\n      <td>Bihar</td>\\n      <td>69.34</td>\\n      <td>Mumbai</td>\\n      <td>79</td>\\n    </tr>\\n    <tr>\\n      <th>307</th>\\n      <td>308</td>\\n      <td>Janjgir Champa</td>\\n      <td>Chhattisgarh</td>\\n      <td>73.07</td>\\n      <td>Mumbai</td>\\n      <td>79</td>\\n    </tr>\\n    <tr>\\n      <th>308</th>\\n      <td>309</td>\\n      <td>Pudukkottai</td>\\n      <td>Tamil Nadu</td>\\n      <td>77.19</td>\\n      <td>Mumbai</td>\\n      <td>79</td>\\n    </tr>\\n    <tr>\\n      <th>309</th>\\n      <td>310</td>\\n      <td>Nagapattinam</td>\\n      <td>Tamil Nadu</td>\\n      <td>83.59</td>\\n      <td>Mumbai</td>\\n      <td>80</td>\\n    </tr>\\n    <tr>\\n      <th>310</th>\\n      <td>311</td>\\n      <td>Ratnagiri</td>\\n      <td>Maharashtra</td>\\n      <td>82.18</td>\\n      <td>Mumbai</td>\\n      <td>80</td>\\n    </tr>\\n    <tr>\\n      <th>311</th>\\n      <td>312</td>\\n      <td>Kaushambi</td>\\n      <td>Uttar Pradesh</td>\\n      <td>61.28</td>\\n      <td>Mumbai</td>\\n      <td>79</td>\\n    </tr>\\n    <tr>\\n      <th>312</th>\\n      <td>313</td>\\n      <td>Haveri</td>\\n      <td>Karnataka</td>\\n      <td>77.40</td>\\n      <td>Mumbai</td>\\n      <td>79</td>\\n    </tr>\\n    <tr>\\n      <th>313</th>\\n      <td>314</td>\\n      <td>Hoshiarpur</td>\\n      <td>Punjab</td>\\n      <td>84.59</td>\\n      <td>Mumbai</td>\\n      <td>80</td>\\n    </tr>\\n    <tr>\\n      <th>314</th>\\n      <td>315</td>\\n      <td>Etawah</td>\\n      <td>Uttar Pradesh</td>\\n      <td>78.41</td>\\n      <td>Mumbai</td>\\n      <td>79</td>\\n    </tr>\\n    <tr>\\n      <th>315</th>\\n      <td>316</td>\\n      <td>Sant Ravidas Nagar</td>\\n      <td>Uttar Pradesh</td>\\n      <td>68.97</td>\\n      <td>Mumbai</td>\\n      <td>79</td>\\n    </tr>\\n    <tr>\\n      <th>316</th>\\n      <td>317</td>\\n      <td>Kalahandi</td>\\n      <td>Orissa</td>\\n      <td>59.22</td>\\n      <td>Mumbai</td>\\n      <td>79</td>\\n    </tr>\\n    <tr>\\n      <th>317</th>\\n      <td>318</td>\\n      <td>Betul</td>\\n      <td>Madhya Pradesh</td>\\n      <td>68.90</td>\\n      <td>Mumbai</td>\\n      <td>79</td>\\n    </tr>\\n    <tr>\\n      <th>318</th>\\n      <td>319</td>\\n      <td>Mahamaya Nagar</td>\\n      <td>Uttar Pradesh</td>\\n      <td>71.59</td>\\n      <td>Mumbai</td>\\n      <td>79</td>\\n    </tr>\\n    <tr>\\n      <th>319</th>\\n      <td>320</td>\\n      <td>Dewas</td>\\n      <td>Madhya Pradesh</td>\\n      <td>69.35</td>\\n      <td>Mumbai</td>\\n      <td>79</td>\\n    </tr>\\n    <tr>\\n      <th>320</th>\\n      <td>321</td>\\n      <td>Bharuch</td>\\n      <td>Gujarat</td>\\n      <td>81.51</td>\\n      <td>Mumbai</td>\\n      <td>80</td>\\n    </tr>\\n    <tr>\\n      <th>321</th>\\n      <td>322</td>\\n      <td>Rajgarh</td>\\n      <td>Madhya Pradesh</td>\\n      <td>61.21</td>\\n      <td>Mumbai</td>\\n      <td>79</td>\\n    </tr>\\n    <tr>\\n      <th>322</th>\\n      <td>323</td>\\n      <td>Chittaurgarh</td>\\n      <td>Rajasthan</td>\\n      <td>61.71</td>\\n      <td>Mumbai</td>\\n      <td>79</td>\\n    </tr>\\n    <tr>\\n      <th>323</th>\\n      <td>324</td>\\n      <td>Rajnandgaon</td>\\n      <td>Chhattisgarh</td>\\n      <td>75.96</td>\\n      <td>Mumbai</td>\\n      <td>79</td>\\n    </tr>\\n    <tr>\\n      <th>324</th>\\n      <td>325</td>\\n      <td>Kolar</td>\\n      <td>Karnataka</td>\\n      <td>74.39</td>\\n      <td>Mumbai</td>\\n      <td>79</td>\\n    </tr>\\n    <tr>\\n      <th>325</th>\\n      <td>326</td>\\n      <td>Jammu</td>\\n      <td>Jammu and Kashmir</td>\\n      <td>83.45</td>\\n      <td>Mumbai</td>\\n      <td>80</td>\\n    </tr>\\n    <tr>\\n      <th>326</th>\\n      <td>327</td>\\n      <td>Kamrup</td>\\n      <td>Assam</td>\\n      <td>75.55</td>\\n      <td>Mumbai</td>\\n      <td>79</td>\\n    </tr>\\n    <tr>\\n      <th>327</th>\\n      <td>328</td>\\n      <td>Gurgaon</td>\\n      <td>Haryana</td>\\n      <td>84.70</td>\\n      <td>Mumbai</td>\\n      <td>80</td>\\n    </tr>\\n    <tr>\\n      <th>328</th>\\n      <td>329</td>\\n      <td>Amreli</td>\\n      <td>Gujarat</td>\\n      <td>74.25</td>\\n      <td>Mumbai</td>\\n      <td>79</td>\\n    </tr>\\n    <tr>\\n      <th>329</th>\\n      <td>330</td>\\n      <td>Shajapur</td>\\n      <td>Madhya Pradesh</td>\\n      <td>69.09</td>\\n      <td>Mumbai</td>\\n      <td>79</td>\\n    </tr>\\n    <tr>\\n      <th>330</th>\\n      <td>331</td>\\n      <td>Kangra</td>\\n      <td>Himachal Pradesh</td>\\n      <td>85.67</td>\\n      <td>Mumbai</td>\\n      <td>80</td>\\n    </tr>\\n    <tr>\\n      <th>331</th>\\n      <td>332</td>\\n      <td>Dharmapuri</td>\\n      <td>Tamil Nadu</td>\\n      <td>68.54</td>\\n      <td>Mumbai</td>\\n      <td>79</td>\\n    </tr>\\n    <tr>\\n      <th>332</th>\\n      <td>333</td>\\n      <td>Bhadrak</td>\\n      <td>Orissa</td>\\n      <td>82.78</td>\\n      <td>Mumbai</td>\\n      <td>80</td>\\n    </tr>\\n    <tr>\\n      <th>333</th>\\n      <td>334</td>\\n      <td>Karnal</td>\\n      <td>Haryana</td>\\n      <td>74.73</td>\\n      <td>Mumbai</td>\\n      <td>79</td>\\n    </tr>\\n    <tr>\\n      <th>334</th>\\n      <td>335</td>\\n      <td>Pashchimi Singhbhum</td>\\n      <td>Jharkhand</td>\\n      <td>58.63</td>\\n      <td>Mumbai</td>\\n      <td>79</td>\\n    </tr>\\n    <tr>\\n      <th>335</th>\\n      <td>336</td>\\n      <td>Raigarh</td>\\n      <td>Chhattisgarh</td>\\n      <td>73.26</td>\\n      <td>Mumbai</td>\\n      <td>79</td>\\n    </tr>\\n    <tr>\\n      <th>336</th>\\n      <td>337</td>\\n      <td>Deoghar</td>\\n      <td>Jharkhand</td>\\n      <td>64.85</td>\\n      <td>Mumbai</td>\\n      <td>79</td>\\n    </tr>\\n    <tr>\\n      <th>337</th>\\n      <td>338</td>\\n      <td>Bargarh</td>\\n      <td>Orissa</td>\\n      <td>74.62</td>\\n      <td>Mumbai</td>\\n      <td>79</td>\\n    </tr>\\n    <tr>\\n      <th>338</th>\\n      <td>339</td>\\n      <td>Vidisha</td>\\n      <td>Madhya Pradesh</td>\\n      <td>70.53</td>\\n      <td>Mumbai</td>\\n      <td>79</td>\\n    </tr>\\n    <tr>\\n      <th>339</th>\\n      <td>340</td>\\n      <td>Karauli</td>\\n      <td>Rajasthan</td>\\n      <td>66.22</td>\\n      <td>Mumbai</td>\\n      <td>79</td>\\n    </tr>\\n    <tr>\\n      <th>340</th>\\n      <td>341</td>\\n      <td>Ratlam</td>\\n      <td>Madhya Pradesh</td>\\n      <td>66.78</td>\\n      <td>Mumbai</td>\\n      <td>79</td>\\n    </tr>\\n    <tr>\\n      <th>341</th>\\n      <td>342</td>\\n      <td>Sonipat</td>\\n      <td>Haryana</td>\\n      <td>79.12</td>\\n      <td>Mumbai</td>\\n      <td>79</td>\\n    </tr>\\n    <tr>\\n      <th>342</th>\\n      <td>343</td>\\n      <td>Tikamgarh</td>\\n      <td>Madhya Pradesh</td>\\n      <td>61.43</td>\\n      <td>Mumbai</td>\\n      <td>79</td>\\n    </tr>\\n    <tr>\\n      <th>343</th>\\n      <td>344</td>\\n      <td>Kendrapara</td>\\n      <td>Orissa</td>\\n      <td>85.15</td>\\n      <td>Mumbai</td>\\n      <td>80</td>\\n    </tr>\\n    <tr>\\n      <th>344</th>\\n      <td>345</td>\\n      <td>Uttara Kannada</td>\\n      <td>Karnataka</td>\\n      <td>84.06</td>\\n      <td>Mumbai</td>\\n      <td>80</td>\\n    </tr>\\n    <tr>\\n      <th>345</th>\\n      <td>346</td>\\n      <td>Kanshiram Nagar</td>\\n      <td>Uttar Pradesh</td>\\n      <td>61.02</td>\\n      <td>Mumbai</td>\\n      <td>79</td>\\n    </tr>\\n    <tr>\\n      <th>346</th>\\n      <td>347</td>\\n      <td>Tonk</td>\\n      <td>Rajasthan</td>\\n      <td>61.58</td>\\n      <td>Mumbai</td>\\n      <td>79</td>\\n    </tr>\\n    <tr>\\n      <th>347</th>\\n      <td>348</td>\\n      <td>Bastar</td>\\n      <td>Chhattisgarh</td>\\n      <td>54.40</td>\\n      <td>Mumbai</td>\\n      <td>79</td>\\n    </tr>\\n    <tr>\\n      <th>348</th>\\n      <td>349</td>\\n      <td>Jhalawar</td>\\n      <td>Rajasthan</td>\\n      <td>61.50</td>\\n      <td>Mumbai</td>\\n      <td>79</td>\\n    </tr>\\n    <tr>\\n      <th>349</th>\\n      <td>350</td>\\n      <td>Gandhinagar</td>\\n      <td>Gujarat</td>\\n      <td>84.16</td>\\n      <td>Mumbai</td>\\n      <td>80</td>\\n    </tr>\\n    <tr>\\n      <th>350</th>\\n      <td>351</td>\\n      <td>Koppal</td>\\n      <td>Karnataka</td>\\n      <td>68.09</td>\\n      <td>Mumbai</td>\\n      <td>79</td>\\n    </tr>\\n    <tr>\\n      <th>351</th>\\n      <td>352</td>\\n      <td>Dungarpur</td>\\n      <td>Rajasthan</td>\\n      <td>59.46</td>\\n      <td>Mumbai</td>\\n      <td>79</td>\\n    </tr>\\n    <tr>\\n      <th>352</th>\\n      <td>353</td>\\n      <td>Bathinda</td>\\n      <td>Punjab</td>\\n      <td>68.28</td>\\n      <td>Mumbai</td>\\n      <td>79</td>\\n    </tr>\\n    <tr>\\n      <th>353</th>\\n      <td>354</td>\\n      <td>Barwani</td>\\n      <td>Madhya Pradesh</td>\\n      <td>49.08</td>\\n      <td>Mumbai</td>\\n      <td>79</td>\\n    </tr>\\n    <tr>\\n      <th>354</th>\\n      <td>355</td>\\n      <td>Koraput</td>\\n      <td>Orissa</td>\\n      <td>49.21</td>\\n      <td>Mumbai</td>\\n      <td>79</td>\\n    </tr>\\n    <tr>\\n      <th>355</th>\\n      <td>356</td>\\n      <td>Auraiya</td>\\n      <td>Uttar Pradesh</td>\\n      <td>78.95</td>\\n      <td>Mumbai</td>\\n      <td>79</td>\\n    </tr>\\n    <tr>\\n      <th>356</th>\\n      <td>357</td>\\n      <td>Seoni</td>\\n      <td>Madhya Pradesh</td>\\n      <td>72.12</td>\\n      <td>Mumbai</td>\\n      <td>79</td>\\n    </tr>\\n    <tr>\\n      <th>357</th>\\n      <td>358</td>\\n      <td>Munger</td>\\n      <td>Bihar</td>\\n      <td>70.46</td>\\n      <td>Mumbai</td>\\n      <td>79</td>\\n    </tr>\\n    <tr>\\n      <th>358</th>\\n      <td>359</td>\\n      <td>Ramanathapuram</td>\\n      <td>Tamil Nadu</td>\\n      <td>80.72</td>\\n      <td>Mumbai</td>\\n      <td>80</td>\\n    </tr>\\n    <tr>\\n      <th>359</th>\\n      <td>360</td>\\n      <td>Patan</td>\\n      <td>Gujarat</td>\\n      <td>72.30</td>\\n      <td>Mumbai</td>\\n      <td>79</td>\\n    </tr>\\n    <tr>\\n      <th>360</th>\\n      <td>361</td>\\n      <td>Mandsaur</td>\\n      <td>Madhya Pradesh</td>\\n      <td>71.78</td>\\n      <td>Mumbai</td>\\n      <td>79</td>\\n    </tr>\\n    <tr>\\n      <th>361</th>\\n      <td>362</td>\\n      <td>Sivaganga</td>\\n      <td>Tamil Nadu</td>\\n      <td>79.85</td>\\n      <td>Mumbai</td>\\n      <td>79</td>\\n    </tr>\\n    <tr>\\n      <th>362</th>\\n      <td>363</td>\\n      <td>Sawai Madhopur</td>\\n      <td>Rajasthan</td>\\n      <td>65.39</td>\\n      <td>Mumbai</td>\\n      <td>79</td>\\n    </tr>\\n    <tr>\\n      <th>363</th>\\n      <td>364</td>\\n      <td>Jind</td>\\n      <td>Haryana</td>\\n      <td>71.44</td>\\n      <td>Mumbai</td>\\n      <td>79</td>\\n    </tr>\\n    <tr>\\n      <th>364</th>\\n      <td>365</td>\\n      <td>Raisen</td>\\n      <td>Madhya Pradesh</td>\\n      <td>72.98</td>\\n      <td>Mumbai</td>\\n      <td>79</td>\\n    </tr>\\n    <tr>\\n      <th>365</th>\\n      <td>366</td>\\n      <td>Navsari</td>\\n      <td>Gujarat</td>\\n      <td>83.88</td>\\n      <td>Mumbai</td>\\n      <td>80</td>\\n    </tr>\\n    <tr>\\n      <th>366</th>\\n      <td>367</td>\\n      <td>Tinsukia</td>\\n      <td>Assam</td>\\n      <td>69.66</td>\\n      <td>Mumbai</td>\\n      <td>79</td>\\n    </tr>\\n    <tr>\\n      <th>367</th>\\n      <td>368</td>\\n      <td>Dibrugarh</td>\\n      <td>Assam</td>\\n      <td>76.05</td>\\n      <td>Mumbai</td>\\n      <td>79</td>\\n    </tr>\\n    <tr>\\n      <th>368</th>\\n      <td>369</td>\\n      <td>Garhwa</td>\\n      <td>Jharkhand</td>\\n      <td>60.33</td>\\n      <td>Mumbai</td>\\n      <td>79</td>\\n    </tr>\\n    <tr>\\n      <th>369</th>\\n      <td>370</td>\\n      <td>Gondiya</td>\\n      <td>Maharashtra</td>\\n      <td>84.95</td>\\n      <td>Mumbai</td>\\n      <td>80</td>\\n    </tr>\\n    <tr>\\n      <th>370</th>\\n      <td>371</td>\\n      <td>Dumka</td>\\n      <td>Jharkhand</td>\\n      <td>61.02</td>\\n      <td>Mumbai</td>\\n      <td>79</td>\\n    </tr>\\n    <tr>\\n      <th>371</th>\\n      <td>372</td>\\n      <td>Godda</td>\\n      <td>Jharkhand</td>\\n      <td>56.40</td>\\n      <td>Mumbai</td>\\n      <td>79</td>\\n    </tr>\\n    <tr>\\n      <th>372</th>\\n      <td>373</td>\\n      <td>Sehore</td>\\n      <td>Madhya Pradesh</td>\\n      <td>70.06</td>\\n      <td>Mumbai</td>\\n      <td>79</td>\\n    </tr>\\n    <tr>\\n      <th>373</th>\\n      <td>374</td>\\n      <td>East Nimar</td>\\n      <td>Madhya Pradesh</td>\\n      <td>66.39</td>\\n      <td>Mumbai</td>\\n      <td>79</td>\\n    </tr>\\n    <tr>\\n      <th>374</th>\\n      <td>375</td>\\n      <td>Kasaragod</td>\\n      <td>Kerala</td>\\n      <td>90.09</td>\\n      <td>Mumbai</td>\\n      <td>80</td>\\n    </tr>\\n    <tr>\\n      <th>375</th>\\n      <td>376</td>\\n      <td>Baghpat</td>\\n      <td>Uttar Pradesh</td>\\n      <td>72.01</td>\\n      <td>Mumbai</td>\\n      <td>79</td>\\n    </tr>\\n    <tr>\\n      <th>376</th>\\n      <td>377</td>\\n      <td>Wardha</td>\\n      <td>Maharashtra</td>\\n      <td>86.99</td>\\n      <td>Mumbai</td>\\n      <td>80</td>\\n    </tr>\\n    <tr>\\n      <th>377</th>\\n      <td>378</td>\\n      <td>Sirsa</td>\\n      <td>Haryana</td>\\n      <td>68.82</td>\\n      <td>Mumbai</td>\\n      <td>79</td>\\n    </tr>\\n    <tr>\\n      <th>378</th>\\n      <td>379</td>\\n      <td>Katni</td>\\n      <td>Madhya Pradesh</td>\\n      <td>71.98</td>\\n      <td>Mumbai</td>\\n      <td>79</td>\\n    </tr>\\n    <tr>\\n      <th>379</th>\\n      <td>380</td>\\n      <td>Anugul</td>\\n      <td>Orissa</td>\\n      <td>77.53</td>\\n      <td>Mumbai</td>\\n      <td>79</td>\\n    </tr>\\n    <tr>\\n      <th>380</th>\\n      <td>381</td>\\n      <td>Thiruvarur</td>\\n      <td>Tamil Nadu</td>\\n      <td>82.86</td>\\n      <td>Mumbai</td>\\n      <td>80</td>\\n    </tr>\\n    <tr>\\n      <th>381</th>\\n      <td>382</td>\\n      <td>Damoh</td>\\n      <td>Madhya Pradesh</td>\\n      <td>69.73</td>\\n      <td>Mumbai</td>\\n      <td>79</td>\\n    </tr>\\n    <tr>\\n      <th>382</th>\\n      <td>383</td>\\n      <td>Chikkaballapura</td>\\n      <td>Karnataka</td>\\n      <td>69.76</td>\\n      <td>Mumbai</td>\\n      <td>79</td>\\n    </tr>\\n    <tr>\\n      <th>383</th>\\n      <td>384</td>\\n      <td>Kamrup Metropolitan</td>\\n      <td>Assam</td>\\n      <td>88.71</td>\\n      <td>Mumbai</td>\\n      <td>80</td>\\n    </tr>\\n    <tr>\\n      <th>384</th>\\n      <td>385</td>\\n      <td>Theni</td>\\n      <td>Tamil Nadu</td>\\n      <td>77.26</td>\\n      <td>Mumbai</td>\\n      <td>79</td>\\n    </tr>\\n    <tr>\\n      <th>385</th>\\n      <td>386</td>\\n      <td>Guna</td>\\n      <td>Madhya Pradesh</td>\\n      <td>63.23</td>\\n      <td>Mumbai</td>\\n      <td>79</td>\\n    </tr>\\n    <tr>\\n      <th>386</th>\\n      <td>387</td>\\n      <td>Hoshangabad</td>\\n      <td>Madhya Pradesh</td>\\n      <td>75.29</td>\\n      <td>Mumbai</td>\\n      <td>79</td>\\n    </tr>\\n    <tr>\\n      <th>387</th>\\n      <td>388</td>\\n      <td>Srinagar</td>\\n      <td>Jammu and Kashmir</td>\\n      <td>69.41</td>\\n      <td>Mumbai</td>\\n      <td>79</td>\\n    </tr>\\n    <tr>\\n      <th>388</th>\\n      <td>389</td>\\n      <td>Karimganj</td>\\n      <td>Assam</td>\\n      <td>78.22</td>\\n      <td>Mumbai</td>\\n      <td>79</td>\\n    </tr>\\n    <tr>\\n      <th>389</th>\\n      <td>390</td>\\n      <td>Baran</td>\\n      <td>Rajasthan</td>\\n      <td>66.66</td>\\n      <td>Mumbai</td>\\n      <td>79</td>\\n    </tr>\\n    <tr>\\n      <th>390</th>\\n      <td>391</td>\\n      <td>Lalitpur</td>\\n      <td>Uttar Pradesh</td>\\n      <td>63.52</td>\\n      <td>Mumbai</td>\\n      <td>79</td>\\n    </tr>\\n    <tr>\\n      <th>391</th>\\n      <td>392</td>\\n      <td>Nabarangapur</td>\\n      <td>Orissa</td>\\n      <td>46.43</td>\\n      <td>Mumbai</td>\\n      <td>79</td>\\n    </tr>\\n    <tr>\\n      <th>392</th>\\n      <td>393</td>\\n      <td>Yamunanagar</td>\\n      <td>Haryana</td>\\n      <td>77.99</td>\\n      <td>Mumbai</td>\\n      <td>79</td>\\n    </tr>\\n    <tr>\\n      <th>393</th>\\n      <td>394</td>\\n      <td>Korba</td>\\n      <td>Chhattisgarh</td>\\n      <td>72.37</td>\\n      <td>Mumbai</td>\\n      <td>79</td>\\n    </tr>\\n    <tr>\\n      <th>394</th>\\n      <td>395</td>\\n      <td>Dhaulpur</td>\\n      <td>Rajasthan</td>\\n      <td>69.08</td>\\n      <td>Mumbai</td>\\n      <td>79</td>\\n    </tr>\\n    <tr>\\n      <th>395</th>\\n      <td>396</td>\\n      <td>Panipat</td>\\n      <td>Haryana</td>\\n      <td>75.94</td>\\n      <td>Mumbai</td>\\n      <td>79</td>\\n    </tr>\\n    <tr>\\n      <th>396</th>\\n      <td>397</td>\\n      <td>Bhandara</td>\\n      <td>Maharashtra</td>\\n      <td>83.76</td>\\n      <td>Mumbai</td>\\n      <td>80</td>\\n    </tr>\\n    <tr>\\n      <th>397</th>\\n      <td>398</td>\\n      <td>Pathanamthitta</td>\\n      <td>Kerala</td>\\n      <td>96.55</td>\\n      <td>Mumbai</td>\\n      <td>80</td>\\n    </tr>\\n    <tr>\\n      <th>398</th>\\n      <td>399</td>\\n      <td>Washim</td>\\n      <td>Maharashtra</td>\\n      <td>83.25</td>\\n      <td>Mumbai</td>\\n      <td>80</td>\\n    </tr>\\n    <tr>\\n      <th>399</th>\\n      <td>400</td>\\n      <td>Dhenkanal</td>\\n      <td>Orissa</td>\\n      <td>78.76</td>\\n      <td>Mumbai</td>\\n      <td>79</td>\\n    </tr>\\n    <tr>\\n      <th>400</th>\\n      <td>401</td>\\n      <td>Singrauli</td>\\n      <td>Madhya Pradesh</td>\\n      <td>60.41</td>\\n      <td>Mumbai</td>\\n      <td>79</td>\\n    </tr>\\n    <tr>\\n      <th>401</th>\\n      <td>402</td>\\n      <td>Udupi</td>\\n      <td>Karnataka</td>\\n      <td>86.24</td>\\n      <td>Mumbai</td>\\n      <td>80</td>\\n    </tr>\\n    <tr>\\n      <th>402</th>\\n      <td>403</td>\\n      <td>Hingoli</td>\\n      <td>Maharashtra</td>\\n      <td>78.17</td>\\n      <td>Mumbai</td>\\n      <td>79</td>\\n    </tr>\\n    <tr>\\n      <th>403</th>\\n      <td>404</td>\\n      <td>Yadgir</td>\\n      <td>Karnataka</td>\\n      <td>51.83</td>\\n      <td>Mumbai</td>\\n      <td>79</td>\\n    </tr>\\n    <tr>\\n      <th>404</th>\\n      <td>405</td>\\n      <td>Rajsamand</td>\\n      <td>Rajasthan</td>\\n      <td>63.14</td>\\n      <td>Mumbai</td>\\n      <td>79</td>\\n    </tr>\\n    <tr>\\n      <th>405</th>\\n      <td>406</td>\\n      <td>Sivasagar</td>\\n      <td>Assam</td>\\n      <td>80.41</td>\\n      <td>Mumbai</td>\\n      <td>80</td>\\n    </tr>\\n    <tr>\\n      <th>406</th>\\n      <td>407</td>\\n      <td>Sahibganj</td>\\n      <td>Jharkhand</td>\\n      <td>52.04</td>\\n      <td>Mumbai</td>\\n      <td>79</td>\\n    </tr>\\n    <tr>\\n      <th>407</th>\\n      <td>408</td>\\n      <td>Chikmagalur</td>\\n      <td>Karnataka</td>\\n      <td>79.25</td>\\n      <td>Mumbai</td>\\n      <td>79</td>\\n    </tr>\\n    <tr>\\n      <th>408</th>\\n      <td>409</td>\\n      <td>Jagatsinghapur</td>\\n      <td>Orissa</td>\\n      <td>86.59</td>\\n      <td>Mumbai</td>\\n      <td>80</td>\\n    </tr>\\n    <tr>\\n      <th>409</th>\\n      <td>410</td>\\n      <td>Ambala</td>\\n      <td>Haryana</td>\\n      <td>81.75</td>\\n      <td>Mumbai</td>\\n      <td>80</td>\\n    </tr>\\n    <tr>\\n      <th>410</th>\\n      <td>411</td>\\n      <td>Sidhi</td>\\n      <td>Madhya Pradesh</td>\\n      <td>64.43</td>\\n      <td>Mumbai</td>\\n      <td>79</td>\\n    </tr>\\n    <tr>\\n      <th>411</th>\\n      <td>412</td>\\n      <td>Jehanabad</td>\\n      <td>Bihar</td>\\n      <td>66.80</td>\\n      <td>Mumbai</td>\\n      <td>79</td>\\n    </tr>\\n    <tr>\\n      <th>412</th>\\n      <td>413</td>\\n      <td>Tarn Taran</td>\\n      <td>Punjab</td>\\n      <td>67.81</td>\\n      <td>Mumbai</td>\\n      <td>79</td>\\n    </tr>\\n    <tr>\\n      <th>413</th>\\n      <td>414</td>\\n      <td>Shrawasti</td>\\n      <td>Uttar Pradesh</td>\\n      <td>46.74</td>\\n      <td>Mumbai</td>\\n      <td>79</td>\\n    </tr>\\n    <tr>\\n      <th>414</th>\\n      <td>415</td>\\n      <td>Bundi</td>\\n      <td>Rajasthan</td>\\n      <td>61.52</td>\\n      <td>Mumbai</td>\\n      <td>79</td>\\n    </tr>\\n    <tr>\\n      <th>415</th>\\n      <td>416</td>\\n      <td>Idukki</td>\\n      <td>Kerala</td>\\n      <td>91.99</td>\\n      <td>Mumbai</td>\\n      <td>80</td>\\n    </tr>\\n    <tr>\\n      <th>416</th>\\n      <td>417</td>\\n      <td>Hamirpur</td>\\n      <td>Uttar Pradesh</td>\\n      <td>68.77</td>\\n      <td>Mumbai</td>\\n      <td>79</td>\\n    </tr>\\n    <tr>\\n      <th>417</th>\\n      <td>418</td>\\n      <td>Jorhat</td>\\n      <td>Assam</td>\\n      <td>82.15</td>\\n      <td>Mumbai</td>\\n      <td>80</td>\\n    </tr>\\n    <tr>\\n      <th>418</th>\\n      <td>419</td>\\n      <td>Narsimhapur</td>\\n      <td>Madhya Pradesh</td>\\n      <td>75.69</td>\\n      <td>Mumbai</td>\\n      <td>79</td>\\n    </tr>\\n    <tr>\\n      <th>419</th>\\n      <td>420</td>\\n      <td>Mewat</td>\\n      <td>Haryana</td>\\n      <td>54.08</td>\\n      <td>Mumbai</td>\\n      <td>79</td>\\n    </tr>\\n    <tr>\\n      <th>420</th>\\n      <td>421</td>\\n      <td>Ramanagara</td>\\n      <td>Karnataka</td>\\n      <td>69.22</td>\\n      <td>Mumbai</td>\\n      <td>79</td>\\n    </tr>\\n    <tr>\\n      <th>421</th>\\n      <td>422</td>\\n      <td>Anantnag</td>\\n      <td>Jammu and Kashmir</td>\\n      <td>62.69</td>\\n      <td>Mumbai</td>\\n      <td>79</td>\\n    </tr>\\n    <tr>\\n      <th>422</th>\\n      <td>423</td>\\n      <td>Kaithal</td>\\n      <td>Haryana</td>\\n      <td>69.15</td>\\n      <td>Mumbai</td>\\n      <td>79</td>\\n    </tr>\\n    <tr>\\n      <th>423</th>\\n      <td>424</td>\\n      <td>Gadchiroli</td>\\n      <td>Maharashtra</td>\\n      <td>74.36</td>\\n      <td>Mumbai</td>\\n      <td>79</td>\\n    </tr>\\n    <tr>\\n      <th>424</th>\\n      <td>425</td>\\n      <td>Golaghat</td>\\n      <td>Assam</td>\\n      <td>77.43</td>\\n      <td>Mumbai</td>\\n      <td>79</td>\\n    </tr>\\n    <tr>\\n      <th>425</th>\\n      <td>426</td>\\n      <td>Shahdol</td>\\n      <td>Madhya Pradesh</td>\\n      <td>66.67</td>\\n      <td>Mumbai</td>\\n      <td>79</td>\\n    </tr>\\n    <tr>\\n      <th>426</th>\\n      <td>427</td>\\n      <td>Saraikela Kharsawan</td>\\n      <td>Jharkhand</td>\\n      <td>67.70</td>\\n      <td>Mumbai</td>\\n      <td>79</td>\\n    </tr>\\n    <tr>\\n      <th>427</th>\\n      <td>428</td>\\n      <td>Gadag</td>\\n      <td>Karnataka</td>\\n      <td>75.12</td>\\n      <td>Mumbai</td>\\n      <td>79</td>\\n    </tr>\\n    <tr>\\n      <th>428</th>\\n      <td>429</td>\\n      <td>Karur</td>\\n      <td>Tamil Nadu</td>\\n      <td>75.60</td>\\n      <td>Mumbai</td>\\n      <td>79</td>\\n    </tr>\\n    <tr>\\n      <th>429</th>\\n      <td>430</td>\\n      <td>Rohtak</td>\\n      <td>Haryana</td>\\n      <td>80.22</td>\\n      <td>Mumbai</td>\\n      <td>80</td>\\n    </tr>\\n    <tr>\\n      <th>430</th>\\n      <td>431</td>\\n      <td>Chandigarh</td>\\n      <td>Chandigarh</td>\\n      <td>86.05</td>\\n      <td>Mumbai</td>\\n      <td>80</td>\\n    </tr>\\n    <tr>\\n      <th>431</th>\\n      <td>432</td>\\n      <td>Mandla</td>\\n      <td>Madhya Pradesh</td>\\n      <td>66.87</td>\\n      <td>Mumbai</td>\\n      <td>79</td>\\n    </tr>\\n    <tr>\\n      <th>432</th>\\n      <td>433</td>\\n      <td>Chatra</td>\\n      <td>Jharkhand</td>\\n      <td>60.18</td>\\n      <td>Mumbai</td>\\n      <td>79</td>\\n    </tr>\\n    <tr>\\n      <th>433</th>\\n      <td>434</td>\\n      <td>Palwal</td>\\n      <td>Haryana</td>\\n      <td>69.32</td>\\n      <td>Mumbai</td>\\n      <td>79</td>\\n    </tr>\\n    <tr>\\n      <th>434</th>\\n      <td>435</td>\\n      <td>Lakhimpur</td>\\n      <td>Assam</td>\\n      <td>77.20</td>\\n      <td>Mumbai</td>\\n      <td>79</td>\\n    </tr>\\n    <tr>\\n      <th>435</th>\\n      <td>436</td>\\n      <td>Sambalpur</td>\\n      <td>Orissa</td>\\n      <td>76.22</td>\\n      <td>Mumbai</td>\\n      <td>79</td>\\n    </tr>\\n    <tr>\\n      <th>436</th>\\n      <td>437</td>\\n      <td>Sirohi</td>\\n      <td>Rajasthan</td>\\n      <td>55.25</td>\\n      <td>Mumbai</td>\\n      <td>79</td>\\n    </tr>\\n    <tr>\\n      <th>437</th>\\n      <td>438</td>\\n      <td>Mahasamund</td>\\n      <td>Chhattisgarh</td>\\n      <td>71.02</td>\\n      <td>Mumbai</td>\\n      <td>79</td>\\n    </tr>\\n    <tr>\\n      <th>438</th>\\n      <td>439</td>\\n      <td>Gumla</td>\\n      <td>Jharkhand</td>\\n      <td>65.73</td>\\n      <td>Mumbai</td>\\n      <td>79</td>\\n    </tr>\\n    <tr>\\n      <th>439</th>\\n      <td>440</td>\\n      <td>Jhabua</td>\\n      <td>Madhya Pradesh</td>\\n      <td>43.30</td>\\n      <td>Mumbai</td>\\n      <td>79</td>\\n    </tr>\\n    <tr>\\n      <th>440</th>\\n      <td>441</td>\\n      <td>Chamarajanagar</td>\\n      <td>Karnataka</td>\\n      <td>61.43</td>\\n      <td>Mumbai</td>\\n      <td>79</td>\\n    </tr>\\n    <tr>\\n      <th>441</th>\\n      <td>442</td>\\n      <td>Panna</td>\\n      <td>Madhya Pradesh</td>\\n      <td>64.79</td>\\n      <td>Mumbai</td>\\n      <td>79</td>\\n    </tr>\\n    <tr>\\n      <th>442</th>\\n      <td>443</td>\\n      <td>Goalpara</td>\\n      <td>Assam</td>\\n      <td>67.37</td>\\n      <td>Mumbai</td>\\n      <td>79</td>\\n    </tr>\\n    <tr>\\n      <th>443</th>\\n      <td>444</td>\\n      <td>Baramula</td>\\n      <td>Jammu and Kashmir</td>\\n      <td>64.63</td>\\n      <td>Mumbai</td>\\n      <td>79</td>\\n    </tr>\\n    <tr>\\n      <th>444</th>\\n      <td>445</td>\\n      <td>Lakhisarai</td>\\n      <td>Bihar</td>\\n      <td>62.42</td>\\n      <td>Mumbai</td>\\n      <td>79</td>\\n    </tr>\\n    <tr>\\n      <th>445</th>\\n      <td>446</td>\\n      <td>Mandi</td>\\n      <td>Himachal Pradesh</td>\\n      <td>81.53</td>\\n      <td>Mumbai</td>\\n      <td>80</td>\\n    </tr>\\n    <tr>\\n      <th>446</th>\\n      <td>447</td>\\n      <td>Moga</td>\\n      <td>Punjab</td>\\n      <td>70.68</td>\\n      <td>Mumbai</td>\\n      <td>79</td>\\n    </tr>\\n    <tr>\\n      <th>447</th>\\n      <td>448</td>\\n      <td>Mohali</td>\\n      <td>Punjab</td>\\n      <td>83.80</td>\\n      <td>Mumbai</td>\\n      <td>80</td>\\n    </tr>\\n    <tr>\\n      <th>448</th>\\n      <td>449</td>\\n      <td>Chitrakoot</td>\\n      <td>Uttar Pradesh</td>\\n      <td>65.05</td>\\n      <td>Mumbai</td>\\n      <td>79</td>\\n    </tr>\\n    <tr>\\n      <th>449</th>\\n      <td>450</td>\\n      <td>Bangalore Rural</td>\\n      <td>Karnataka</td>\\n      <td>77.93</td>\\n      <td>Mumbai</td>\\n      <td>79</td>\\n    </tr>\\n    <tr>\\n      <th>450</th>\\n      <td>451</td>\\n      <td>Rayagada</td>\\n      <td>Orissa</td>\\n      <td>49.76</td>\\n      <td>Mumbai</td>\\n      <td>79</td>\\n    </tr>\\n    <tr>\\n      <th>451</th>\\n      <td>452</td>\\n      <td>Kurukshetra</td>\\n      <td>Haryana</td>\\n      <td>76.31</td>\\n      <td>Mumbai</td>\\n      <td>79</td>\\n    </tr>\\n    <tr>\\n      <th>452</th>\\n      <td>453</td>\\n      <td>Nayagarh</td>\\n      <td>Orissa</td>\\n      <td>80.42</td>\\n      <td>Mumbai</td>\\n      <td>80</td>\\n    </tr>\\n    <tr>\\n      <th>453</th>\\n      <td>454</td>\\n      <td>Jhajjar</td>\\n      <td>Haryana</td>\\n      <td>80.65</td>\\n      <td>Mumbai</td>\\n      <td>80</td>\\n    </tr>\\n    <tr>\\n      <th>454</th>\\n      <td>455</td>\\n      <td>Morigaon</td>\\n      <td>Assam</td>\\n      <td>68.03</td>\\n      <td>Mumbai</td>\\n      <td>79</td>\\n    </tr>\\n    <tr>\\n      <th>455</th>\\n      <td>456</td>\\n      <td>Karbi Anglong</td>\\n      <td>Assam</td>\\n      <td>69.25</td>\\n      <td>Mumbai</td>\\n      <td>79</td>\\n    </tr>\\n    <tr>\\n      <th>456</th>\\n      <td>457</td>\\n      <td>Nainital</td>\\n      <td>Uttarakhand</td>\\n      <td>83.88</td>\\n      <td>Mumbai</td>\\n      <td>80</td>\\n    </tr>\\n    <tr>\\n      <th>457</th>\\n      <td>458</td>\\n      <td>Puducherry</td>\\n      <td>Puducherry</td>\\n      <td>85.44</td>\\n      <td>Mumbai</td>\\n      <td>80</td>\\n    </tr>\\n    <tr>\\n      <th>458</th>\\n      <td>459</td>\\n      <td>Baksa</td>\\n      <td>Assam</td>\\n      <td>69.25</td>\\n      <td>Mumbai</td>\\n      <td>79</td>\\n    </tr>\\n    <tr>\\n      <th>459</th>\\n      <td>460</td>\\n      <td>Ramgarh</td>\\n      <td>Jharkhand</td>\\n      <td>73.17</td>\\n      <td>Mumbai</td>\\n      <td>79</td>\\n    </tr>\\n    <tr>\\n      <th>460</th>\\n      <td>461</td>\\n      <td>Fatehabad</td>\\n      <td>Haryana</td>\\n      <td>67.92</td>\\n      <td>Mumbai</td>\\n      <td>79</td>\\n    </tr>\\n    <tr>\\n      <th>461</th>\\n      <td>462</td>\\n      <td>Darrang</td>\\n      <td>Assam</td>\\n      <td>63.08</td>\\n      <td>Mumbai</td>\\n      <td>79</td>\\n    </tr>\\n    <tr>\\n      <th>462</th>\\n      <td>463</td>\\n      <td>Mahendragarh</td>\\n      <td>Haryana</td>\\n      <td>77.72</td>\\n      <td>Mumbai</td>\\n      <td>79</td>\\n    </tr>\\n    <tr>\\n      <th>463</th>\\n      <td>464</td>\\n      <td>Muktsar</td>\\n      <td>Punjab</td>\\n      <td>65.81</td>\\n      <td>Mumbai</td>\\n      <td>79</td>\\n    </tr>\\n    <tr>\\n      <th>464</th>\\n      <td>465</td>\\n      <td>Pakur</td>\\n      <td>Jharkhand</td>\\n      <td>48.82</td>\\n      <td>Mumbai</td>\\n      <td>79</td>\\n    </tr>\\n    <tr>\\n      <th>465</th>\\n      <td>466</td>\\n      <td>Rewari</td>\\n      <td>Haryana</td>\\n      <td>80.99</td>\\n      <td>Mumbai</td>\\n      <td>80</td>\\n    </tr>\\n    <tr>\\n      <th>466</th>\\n      <td>467</td>\\n      <td>North Delhi</td>\\n      <td>Delhi</td>\\n      <td>86.85</td>\\n      <td>Mumbai</td>\\n      <td>80</td>\\n    </tr>\\n    <tr>\\n      <th>467</th>\\n      <td>468</td>\\n      <td>Kokrajhar</td>\\n      <td>Assam</td>\\n      <td>65.22</td>\\n      <td>Mumbai</td>\\n      <td>79</td>\\n    </tr>\\n    <tr>\\n      <th>468</th>\\n      <td>469</td>\\n      <td>South Tripura</td>\\n      <td>Tripura</td>\\n      <td>84.66</td>\\n      <td>Mumbai</td>\\n      <td>80</td>\\n    </tr>\\n    <tr>\\n      <th>469</th>\\n      <td>470</td>\\n      <td>Mahoba</td>\\n      <td>Uttar Pradesh</td>\\n      <td>65.27</td>\\n      <td>Mumbai</td>\\n      <td>79</td>\\n    </tr>\\n    <tr>\\n      <th>470</th>\\n      <td>471</td>\\n      <td>Kupwara</td>\\n      <td>Jammu and Kashmir</td>\\n      <td>64.51</td>\\n      <td>Mumbai</td>\\n      <td>79</td>\\n    </tr>\\n    <tr>\\n      <th>471</th>\\n      <td>472</td>\\n      <td>Pratapgarh</td>\\n      <td>Rajasthan</td>\\n      <td>55.97</td>\\n      <td>Mumbai</td>\\n      <td>79</td>\\n    </tr>\\n    <tr>\\n      <th>472</th>\\n      <td>473</td>\\n      <td>Jashpur</td>\\n      <td>Chhattisgarh</td>\\n      <td>67.92</td>\\n      <td>Mumbai</td>\\n      <td>79</td>\\n    </tr>\\n    <tr>\\n      <th>473</th>\\n      <td>474</td>\\n      <td>Sindhudurg</td>\\n      <td>Maharashtra</td>\\n      <td>85.56</td>\\n      <td>Mumbai</td>\\n      <td>80</td>\\n    </tr>\\n    <tr>\\n      <th>474</th>\\n      <td>475</td>\\n      <td>Ashoknagar</td>\\n      <td>Madhya Pradesh</td>\\n      <td>66.42</td>\\n      <td>Mumbai</td>\\n      <td>79</td>\\n    </tr>\\n    <tr>\\n      <th>475</th>\\n      <td>476</td>\\n      <td>Udalguri</td>\\n      <td>Assam</td>\\n      <td>65.41</td>\\n      <td>Mumbai</td>\\n      <td>79</td>\\n    </tr>\\n    <tr>\\n      <th>476</th>\\n      <td>477</td>\\n      <td>Neemuch</td>\\n      <td>Madhya Pradesh</td>\\n      <td>70.80</td>\\n      <td>Mumbai</td>\\n      <td>79</td>\\n    </tr>\\n    <tr>\\n      <th>477</th>\\n      <td>478</td>\\n      <td>East Khasi Hills</td>\\n      <td>Meghalaya</td>\\n      <td>84.15</td>\\n      <td>Mumbai</td>\\n      <td>80</td>\\n    </tr>\\n    <tr>\\n      <th>478</th>\\n      <td>479</td>\\n      <td>Kabirdham</td>\\n      <td>Chhattisgarh</td>\\n      <td>60.85</td>\\n      <td>Mumbai</td>\\n      <td>79</td>\\n    </tr>\\n    <tr>\\n      <th>479</th>\\n      <td>480</td>\\n      <td>North Goa</td>\\n      <td>Goa</td>\\n      <td>89.57</td>\\n      <td>Mumbai</td>\\n      <td>80</td>\\n    </tr>\\n    <tr>\\n      <th>480</th>\\n      <td>481</td>\\n      <td>Wayanad</td>\\n      <td>Kerala</td>\\n      <td>89.03</td>\\n      <td>Mumbai</td>\\n      <td>80</td>\\n    </tr>\\n    <tr>\\n      <th>481</th>\\n      <td>482</td>\\n      <td>Kapurthala</td>\\n      <td>Punjab</td>\\n      <td>79.07</td>\\n      <td>Mumbai</td>\\n      <td>79</td>\\n    </tr>\\n    <tr>\\n      <th>482</th>\\n      <td>483</td>\\n      <td>Shimla</td>\\n      <td>Himachal Pradesh</td>\\n      <td>83.64</td>\\n      <td>Mumbai</td>\\n      <td>80</td>\\n    </tr>\\n    <tr>\\n      <th>483</th>\\n      <td>484</td>\\n      <td>Tapi</td>\\n      <td>Gujarat</td>\\n      <td>68.26</td>\\n      <td>Mumbai</td>\\n      <td>79</td>\\n    </tr>\\n    <tr>\\n      <th>484</th>\\n      <td>485</td>\\n      <td>Dhamtari</td>\\n      <td>Chhattisgarh</td>\\n      <td>78.36</td>\\n      <td>Mumbai</td>\\n      <td>79</td>\\n    </tr>\\n    <tr>\\n      <th>485</th>\\n      <td>486</td>\\n      <td>Jamtara</td>\\n      <td>Jharkhand</td>\\n      <td>64.59</td>\\n      <td>Mumbai</td>\\n      <td>79</td>\\n    </tr>\\n    <tr>\\n      <th>486</th>\\n      <td>487</td>\\n      <td>Datia</td>\\n      <td>Madhya Pradesh</td>\\n      <td>72.63</td>\\n      <td>Mumbai</td>\\n      <td>79</td>\\n    </tr>\\n    <tr>\\n      <th>487</th>\\n      <td>488</td>\\n      <td>Nalbari</td>\\n      <td>Assam</td>\\n      <td>78.63</td>\\n      <td>Mumbai</td>\\n      <td>79</td>\\n    </tr>\\n    <tr>\\n      <th>488</th>\\n      <td>489</td>\\n      <td>Mansa</td>\\n      <td>Punjab</td>\\n      <td>61.83</td>\\n      <td>Mumbai</td>\\n      <td>79</td>\\n    </tr>\\n    <tr>\\n      <th>489</th>\\n      <td>490</td>\\n      <td>Burhanpur</td>\\n      <td>Madhya Pradesh</td>\\n      <td>64.36</td>\\n      <td>Mumbai</td>\\n      <td>79</td>\\n    </tr>\\n    <tr>\\n      <th>490</th>\\n      <td>491</td>\\n      <td>Ariyalur</td>\\n      <td>Tamil Nadu</td>\\n      <td>71.34</td>\\n      <td>Mumbai</td>\\n      <td>79</td>\\n    </tr>\\n    <tr>\\n      <th>491</th>\\n      <td>492</td>\\n      <td>Badgam</td>\\n      <td>Jammu and Kashmir</td>\\n      <td>56.08</td>\\n      <td>Mumbai</td>\\n      <td>79</td>\\n    </tr>\\n    <tr>\\n      <th>492</th>\\n      <td>493</td>\\n      <td>Anuppur</td>\\n      <td>Madhya Pradesh</td>\\n      <td>67.88</td>\\n      <td>Mumbai</td>\\n      <td>79</td>\\n    </tr>\\n    <tr>\\n      <th>493</th>\\n      <td>494</td>\\n      <td>Kanker</td>\\n      <td>Chhattisgarh</td>\\n      <td>70.29</td>\\n      <td>Mumbai</td>\\n      <td>79</td>\\n    </tr>\\n    <tr>\\n      <th>494</th>\\n      <td>495</td>\\n      <td>Bongaigaon</td>\\n      <td>Assam</td>\\n      <td>69.74</td>\\n      <td>Mumbai</td>\\n      <td>79</td>\\n    </tr>\\n    <tr>\\n      <th>495</th>\\n      <td>496</td>\\n      <td>The Nilgiris</td>\\n      <td>Tamil Nadu</td>\\n      <td>85.20</td>\\n      <td>Mumbai</td>\\n      <td>80</td>\\n    </tr>\\n    <tr>\\n      <th>496</th>\\n      <td>497</td>\\n      <td>Kandhamal</td>\\n      <td>Orissa</td>\\n      <td>64.13</td>\\n      <td>Mumbai</td>\\n      <td>79</td>\\n    </tr>\\n    <tr>\\n      <th>497</th>\\n      <td>498</td>\\n      <td>Alirajpur</td>\\n      <td>Madhya Pradesh</td>\\n      <td>36.10</td>\\n      <td>Mumbai</td>\\n      <td>79</td>\\n    </tr>\\n    <tr>\\n      <th>498</th>\\n      <td>499</td>\\n      <td>Latehar</td>\\n      <td>Jharkhand</td>\\n      <td>59.51</td>\\n      <td>Mumbai</td>\\n      <td>79</td>\\n    </tr>\\n    <tr>\\n      <th>499</th>\\n      <td>500</td>\\n      <td>Kodarma</td>\\n      <td>Jharkhand</td>\\n      <td>66.84</td>\\n      <td>Mumbai</td>\\n      <td>79</td>\\n    </tr>\\n    <tr>\\n      <th>500</th>\\n      <td>501</td>\\n      <td>Dindori</td>\\n      <td>Madhya Pradesh</td>\\n      <td>63.90</td>\\n      <td>Mumbai</td>\\n      <td>79</td>\\n    </tr>\\n    <tr>\\n      <th>501</th>\\n      <td>502</td>\\n      <td>Arwal</td>\\n      <td>Bihar</td>\\n      <td>67.43</td>\\n      <td>Mumbai</td>\\n      <td>79</td>\\n    </tr>\\n    <tr>\\n      <th>502</th>\\n      <td>503</td>\\n      <td>North Tripura</td>\\n      <td>Tripura</td>\\n      <td>87.50</td>\\n      <td>Mumbai</td>\\n      <td>80</td>\\n    </tr>\\n    <tr>\\n      <th>503</th>\\n      <td>504</td>\\n      <td>Sheopur</td>\\n      <td>Madhya Pradesh</td>\\n      <td>57.43</td>\\n      <td>Mumbai</td>\\n      <td>79</td>\\n    </tr>\\n    <tr>\\n      <th>504</th>\\n      <td>505</td>\\n      <td>Pauri Garhwal</td>\\n      <td>Uttarakhand</td>\\n      <td>82.02</td>\\n      <td>Mumbai</td>\\n      <td>80</td>\\n    </tr>\\n    <tr>\\n      <th>505</th>\\n      <td>506</td>\\n      <td>Dhemaji</td>\\n      <td>Assam</td>\\n      <td>72.70</td>\\n      <td>Mumbai</td>\\n      <td>79</td>\\n    </tr>\\n    <tr>\\n      <th>506</th>\\n      <td>507</td>\\n      <td>Rupnagar</td>\\n      <td>Punjab</td>\\n      <td>82.19</td>\\n      <td>Mumbai</td>\\n      <td>80</td>\\n    </tr>\\n    <tr>\\n      <th>507</th>\\n      <td>508</td>\\n      <td>Jaisalmer</td>\\n      <td>Rajasthan</td>\\n      <td>57.22</td>\\n      <td>Mumbai</td>\\n      <td>79</td>\\n    </tr>\\n    <tr>\\n      <th>508</th>\\n      <td>509</td>\\n      <td>Hailakandi</td>\\n      <td>Assam</td>\\n      <td>74.33</td>\\n      <td>Mumbai</td>\\n      <td>79</td>\\n    </tr>\\n    <tr>\\n      <th>509</th>\\n      <td>510</td>\\n      <td>Korea</td>\\n      <td>Chhattisgarh</td>\\n      <td>70.64</td>\\n      <td>Mumbai</td>\\n      <td>79</td>\\n    </tr>\\n    <tr>\\n      <th>510</th>\\n      <td>511</td>\\n      <td>Sheohar</td>\\n      <td>Bihar</td>\\n      <td>53.78</td>\\n      <td>Mumbai</td>\\n      <td>79</td>\\n    </tr>\\n    <tr>\\n      <th>511</th>\\n      <td>512</td>\\n      <td>Umaria</td>\\n      <td>Madhya Pradesh</td>\\n      <td>65.89</td>\\n      <td>Mumbai</td>\\n      <td>79</td>\\n    </tr>\\n    <tr>\\n      <th>512</th>\\n      <td>513</td>\\n      <td>West Garo Hills</td>\\n      <td>Meghalaya</td>\\n      <td>67.58</td>\\n      <td>Mumbai</td>\\n      <td>79</td>\\n    </tr>\\n    <tr>\\n      <th>513</th>\\n      <td>514</td>\\n      <td>Rajouri</td>\\n      <td>Jammu and Kashmir</td>\\n      <td>68.17</td>\\n      <td>Mumbai</td>\\n      <td>79</td>\\n    </tr>\\n    <tr>\\n      <th>514</th>\\n      <td>515</td>\\n      <td>South Goa</td>\\n      <td>Goa</td>\\n      <td>87.59</td>\\n      <td>Mumbai</td>\\n      <td>80</td>\\n    </tr>\\n    <tr>\\n      <th>515</th>\\n      <td>516</td>\\n      <td>Sheikhpura</td>\\n      <td>Bihar</td>\\n      <td>63.86</td>\\n      <td>Mumbai</td>\\n      <td>79</td>\\n    </tr>\\n    <tr>\\n      <th>516</th>\\n      <td>517</td>\\n      <td>Almora</td>\\n      <td>Uttarakhand</td>\\n      <td>80.47</td>\\n      <td>Mumbai</td>\\n      <td>80</td>\\n    </tr>\\n    <tr>\\n      <th>517</th>\\n      <td>518</td>\\n      <td>Tehri Garhwal</td>\\n      <td>Uttarakhand</td>\\n      <td>76.36</td>\\n      <td>Mumbai</td>\\n      <td>79</td>\\n    </tr>\\n    <tr>\\n      <th>518</th>\\n      <td>519</td>\\n      <td>Faridkot</td>\\n      <td>Punjab</td>\\n      <td>69.55</td>\\n      <td>Mumbai</td>\\n      <td>79</td>\\n    </tr>\\n    <tr>\\n      <th>519</th>\\n      <td>520</td>\\n      <td>Kathua</td>\\n      <td>Jammu and Kashmir</td>\\n      <td>73.09</td>\\n      <td>Mumbai</td>\\n      <td>79</td>\\n    </tr>\\n    <tr>\\n      <th>520</th>\\n      <td>521</td>\\n      <td>Malkangiri</td>\\n      <td>Orissa</td>\\n      <td>48.54</td>\\n      <td>Mumbai</td>\\n      <td>79</td>\\n    </tr>\\n    <tr>\\n      <th>521</th>\\n      <td>522</td>\\n      <td>Shahid Bhagat Singh Nagar</td>\\n      <td>Punjab</td>\\n      <td>79.78</td>\\n      <td>Mumbai</td>\\n      <td>79</td>\\n    </tr>\\n    <tr>\\n      <th>522</th>\\n      <td>523</td>\\n      <td>Nuapada</td>\\n      <td>Orissa</td>\\n      <td>57.35</td>\\n      <td>Mumbai</td>\\n      <td>79</td>\\n    </tr>\\n    <tr>\\n      <th>523</th>\\n      <td>524</td>\\n      <td>Subarnapur</td>\\n      <td>Orissa</td>\\n      <td>74.42</td>\\n      <td>Mumbai</td>\\n      <td>79</td>\\n    </tr>\\n    <tr>\\n      <th>524</th>\\n      <td>525</td>\\n      <td>Fatehgarh Sahib</td>\\n      <td>Punjab</td>\\n      <td>79.35</td>\\n      <td>Mumbai</td>\\n      <td>79</td>\\n    </tr>\\n    <tr>\\n      <th>525</th>\\n      <td>526</td>\\n      <td>Simdega</td>\\n      <td>Jharkhand</td>\\n      <td>67.99</td>\\n      <td>Mumbai</td>\\n      <td>79</td>\\n    </tr>\\n    <tr>\\n      <th>526</th>\\n      <td>527</td>\\n      <td>Barnala</td>\\n      <td>Punjab</td>\\n      <td>67.82</td>\\n      <td>Mumbai</td>\\n      <td>79</td>\\n    </tr>\\n    <tr>\\n      <th>527</th>\\n      <td>528</td>\\n      <td>Narmada</td>\\n      <td>Gujarat</td>\\n      <td>72.31</td>\\n      <td>Mumbai</td>\\n      <td>79</td>\\n    </tr>\\n    <tr>\\n      <th>528</th>\\n      <td>529</td>\\n      <td>Porbandar</td>\\n      <td>Gujarat</td>\\n      <td>75.78</td>\\n      <td>Mumbai</td>\\n      <td>79</td>\\n    </tr>\\n    <tr>\\n      <th>529</th>\\n      <td>530</td>\\n      <td>Central Delhi</td>\\n      <td>Delhi</td>\\n      <td>85.14</td>\\n      <td>Mumbai</td>\\n      <td>80</td>\\n    </tr>\\n    <tr>\\n      <th>530</th>\\n      <td>531</td>\\n      <td>Solan</td>\\n      <td>Himachal Pradesh</td>\\n      <td>83.68</td>\\n      <td>Mumbai</td>\\n      <td>80</td>\\n    </tr>\\n    <tr>\\n      <th>531</th>\\n      <td>532</td>\\n      <td>Jharsuguda</td>\\n      <td>Orissa</td>\\n      <td>78.86</td>\\n      <td>Mumbai</td>\\n      <td>79</td>\\n    </tr>\\n    <tr>\\n      <th>532</th>\\n      <td>533</td>\\n      <td>Gajapati</td>\\n      <td>Orissa</td>\\n      <td>53.49</td>\\n      <td>Mumbai</td>\\n      <td>79</td>\\n    </tr>\\n    <tr>\\n      <th>533</th>\\n      <td>534</td>\\n      <td>Harda</td>\\n      <td>Madhya Pradesh</td>\\n      <td>72.50</td>\\n      <td>Mumbai</td>\\n      <td>79</td>\\n    </tr>\\n    <tr>\\n      <th>534</th>\\n      <td>535</td>\\n      <td>Perambalur</td>\\n      <td>Tamil Nadu</td>\\n      <td>74.32</td>\\n      <td>Mumbai</td>\\n      <td>79</td>\\n    </tr>\\n    <tr>\\n      <th>535</th>\\n      <td>536</td>\\n      <td>Panchkula</td>\\n      <td>Haryana</td>\\n      <td>81.88</td>\\n      <td>Mumbai</td>\\n      <td>80</td>\\n    </tr>\\n    <tr>\\n      <th>536</th>\\n      <td>537</td>\\n      <td>Pulwama</td>\\n      <td>Jammu and Kashmir</td>\\n      <td>63.48</td>\\n      <td>Mumbai</td>\\n      <td>79</td>\\n    </tr>\\n    <tr>\\n      <th>537</th>\\n      <td>538</td>\\n      <td>Udhampur</td>\\n      <td>Jammu and Kashmir</td>\\n      <td>68.49</td>\\n      <td>Mumbai</td>\\n      <td>79</td>\\n    </tr>\\n    <tr>\\n      <th>538</th>\\n      <td>539</td>\\n      <td>Kodagu</td>\\n      <td>Karnataka</td>\\n      <td>82.61</td>\\n      <td>Mumbai</td>\\n      <td>80</td>\\n    </tr>\\n    <tr>\\n      <th>539</th>\\n      <td>540</td>\\n      <td>Dantewada</td>\\n      <td>Chhattisgarh</td>\\n      <td>42.12</td>\\n      <td>Mumbai</td>\\n      <td>79</td>\\n    </tr>\\n    <tr>\\n      <th>540</th>\\n      <td>541</td>\\n      <td>Khunti</td>\\n      <td>Jharkhand</td>\\n      <td>63.86</td>\\n      <td>Mumbai</td>\\n      <td>79</td>\\n    </tr>\\n    <tr>\\n      <th>541</th>\\n      <td>542</td>\\n      <td>Sirmaur</td>\\n      <td>Himachal Pradesh</td>\\n      <td>78.80</td>\\n      <td>Mumbai</td>\\n      <td>79</td>\\n    </tr>\\n    <tr>\\n      <th>542</th>\\n      <td>543</td>\\n      <td>Una</td>\\n      <td>Himachal Pradesh</td>\\n      <td>86.53</td>\\n      <td>Mumbai</td>\\n      <td>80</td>\\n    </tr>\\n    <tr>\\n      <th>543</th>\\n      <td>544</td>\\n      <td>Chamba</td>\\n      <td>Himachal Pradesh</td>\\n      <td>72.17</td>\\n      <td>Mumbai</td>\\n      <td>79</td>\\n    </tr>\\n    <tr>\\n      <th>544</th>\\n      <td>545</td>\\n      <td>Imphal West</td>\\n      <td>Manipur</td>\\n      <td>86.08</td>\\n      <td>Mumbai</td>\\n      <td>80</td>\\n    </tr>\\n    <tr>\\n      <th>545</th>\\n      <td>546</td>\\n      <td>Pithoragarh</td>\\n      <td>Uttarakhand</td>\\n      <td>82.25</td>\\n      <td>Mumbai</td>\\n      <td>80</td>\\n    </tr>\\n    <tr>\\n      <th>546</th>\\n      <td>547</td>\\n      <td>Chirang</td>\\n      <td>Assam</td>\\n      <td>63.55</td>\\n      <td>Mumbai</td>\\n      <td>79</td>\\n    </tr>\\n    <tr>\\n      <th>547</th>\\n      <td>548</td>\\n      <td>Senapati</td>\\n      <td>Manipur</td>\\n      <td>63.60</td>\\n      <td>Mumbai</td>\\n      <td>79</td>\\n    </tr>\\n    <tr>\\n      <th>548</th>\\n      <td>549</td>\\n      <td>Punch</td>\\n      <td>Jammu and Kashmir</td>\\n      <td>66.74</td>\\n      <td>Mumbai</td>\\n      <td>79</td>\\n    </tr>\\n    <tr>\\n      <th>549</th>\\n      <td>550</td>\\n      <td>Lohardaga</td>\\n      <td>Jharkhand</td>\\n      <td>67.61</td>\\n      <td>Mumbai</td>\\n      <td>79</td>\\n    </tr>\\n    <tr>\\n      <th>550</th>\\n      <td>551</td>\\n      <td>Imphal East</td>\\n      <td>Manipur</td>\\n      <td>81.95</td>\\n      <td>Mumbai</td>\\n      <td>80</td>\\n    </tr>\\n    <tr>\\n      <th>551</th>\\n      <td>552</td>\\n      <td>Hamirpur</td>\\n      <td>Himachal Pradesh</td>\\n      <td>88.15</td>\\n      <td>Mumbai</td>\\n      <td>80</td>\\n    </tr>\\n    <tr>\\n      <th>552</th>\\n      <td>553</td>\\n      <td>Baudh</td>\\n      <td>Orissa</td>\\n      <td>71.61</td>\\n      <td>Mumbai</td>\\n      <td>79</td>\\n    </tr>\\n    <tr>\\n      <th>553</th>\\n      <td>554</td>\\n      <td>Kullu</td>\\n      <td>Himachal Pradesh</td>\\n      <td>79.40</td>\\n      <td>Mumbai</td>\\n      <td>79</td>\\n    </tr>\\n    <tr>\\n      <th>554</th>\\n      <td>555</td>\\n      <td>Kulgam</td>\\n      <td>Jammu and Kashmir</td>\\n      <td>59.23</td>\\n      <td>Mumbai</td>\\n      <td>79</td>\\n    </tr>\\n    <tr>\\n      <th>555</th>\\n      <td>556</td>\\n      <td>Thoubal</td>\\n      <td>Manipur</td>\\n      <td>74.47</td>\\n      <td>Mumbai</td>\\n      <td>79</td>\\n    </tr>\\n    <tr>\\n      <th>556</th>\\n      <td>557</td>\\n      <td>Doda</td>\\n      <td>Jammu and Kashmir</td>\\n      <td>64.68</td>\\n      <td>Mumbai</td>\\n      <td>79</td>\\n    </tr>\\n    <tr>\\n      <th>557</th>\\n      <td>558</td>\\n      <td>Aizawl</td>\\n      <td>Mizoram</td>\\n      <td>97.89</td>\\n      <td>Mumbai</td>\\n      <td>80</td>\\n    </tr>\\n    <tr>\\n      <th>558</th>\\n      <td>559</td>\\n      <td>Jaintia Hills</td>\\n      <td>Meghalaya</td>\\n      <td>61.64</td>\\n      <td>Mumbai</td>\\n      <td>79</td>\\n    </tr>\\n    <tr>\\n      <th>559</th>\\n      <td>560</td>\\n      <td>Bandipora</td>\\n      <td>Jammu and Kashmir</td>\\n      <td>56.28</td>\\n      <td>Mumbai</td>\\n      <td>79</td>\\n    </tr>\\n    <tr>\\n      <th>560</th>\\n      <td>561</td>\\n      <td>Chamoli</td>\\n      <td>Uttarakhand</td>\\n      <td>82.65</td>\\n      <td>Mumbai</td>\\n      <td>80</td>\\n    </tr>\\n    <tr>\\n      <th>561</th>\\n      <td>562</td>\\n      <td>West Khasi Hills</td>\\n      <td>Meghalaya</td>\\n      <td>77.87</td>\\n      <td>Mumbai</td>\\n      <td>79</td>\\n    </tr>\\n    <tr>\\n      <th>562</th>\\n      <td>563</td>\\n      <td>Bilaspur</td>\\n      <td>Himachal Pradesh</td>\\n      <td>84.59</td>\\n      <td>Mumbai</td>\\n      <td>80</td>\\n    </tr>\\n    <tr>\\n      <th>563</th>\\n      <td>564</td>\\n      <td>Dimapur</td>\\n      <td>Nagaland</td>\\n      <td>84.79</td>\\n      <td>Mumbai</td>\\n      <td>80</td>\\n    </tr>\\n    <tr>\\n      <th>564</th>\\n      <td>565</td>\\n      <td>Dhalai</td>\\n      <td>Tripura</td>\\n      <td>85.72</td>\\n      <td>Mumbai</td>\\n      <td>80</td>\\n    </tr>\\n    <tr>\\n      <th>565</th>\\n      <td>566</td>\\n      <td>Dadra and Nagar Haveli</td>\\n      <td>Dadra and Nagar Haveli</td>\\n      <td>76.24</td>\\n      <td>Mumbai</td>\\n      <td>79</td>\\n    </tr>\\n    <tr>\\n      <th>566</th>\\n      <td>567</td>\\n      <td>Uttarkashi</td>\\n      <td>Uttarakhand</td>\\n      <td>75.81</td>\\n      <td>Mumbai</td>\\n      <td>79</td>\\n    </tr>\\n    <tr>\\n      <th>567</th>\\n      <td>568</td>\\n      <td>Samba</td>\\n      <td>Jammu and Kashmir</td>\\n      <td>81.41</td>\\n      <td>Mumbai</td>\\n      <td>80</td>\\n    </tr>\\n    <tr>\\n      <th>568</th>\\n      <td>569</td>\\n      <td>East Garo Hills</td>\\n      <td>Meghalaya</td>\\n      <td>73.95</td>\\n      <td>Mumbai</td>\\n      <td>79</td>\\n    </tr>\\n    <tr>\\n      <th>569</th>\\n      <td>570</td>\\n      <td>Reasi</td>\\n      <td>Jammu and Kashmir</td>\\n      <td>58.15</td>\\n      <td>Mumbai</td>\\n      <td>79</td>\\n    </tr>\\n    <tr>\\n      <th>570</th>\\n      <td>571</td>\\n      <td>Debagarh</td>\\n      <td>Orissa</td>\\n      <td>72.57</td>\\n      <td>Mumbai</td>\\n      <td>79</td>\\n    </tr>\\n    <tr>\\n      <th>571</th>\\n      <td>572</td>\\n      <td>Ganderbal</td>\\n      <td>Jammu and Kashmir</td>\\n      <td>58.04</td>\\n      <td>Mumbai</td>\\n      <td>79</td>\\n    </tr>\\n    <tr>\\n      <th>572</th>\\n      <td>573</td>\\n      <td>Ramban</td>\\n      <td>Jammu and Kashmir</td>\\n      <td>54.27</td>\\n      <td>Mumbai</td>\\n      <td>79</td>\\n    </tr>\\n    <tr>\\n      <th>573</th>\\n      <td>574</td>\\n      <td>East Sikkim</td>\\n      <td>Sikkim</td>\\n      <td>83.85</td>\\n      <td>Mumbai</td>\\n      <td>80</td>\\n    </tr>\\n    <tr>\\n      <th>574</th>\\n      <td>575</td>\\n      <td>Churachandpur</td>\\n      <td>Manipur</td>\\n      <td>82.78</td>\\n      <td>Mumbai</td>\\n      <td>80</td>\\n    </tr>\\n    <tr>\\n      <th>575</th>\\n      <td>576</td>\\n      <td>Kohima</td>\\n      <td>Nagaland</td>\\n      <td>85.23</td>\\n      <td>Mumbai</td>\\n      <td>80</td>\\n    </tr>\\n    <tr>\\n      <th>576</th>\\n      <td>577</td>\\n      <td>Shupiyan</td>\\n      <td>Jammu and Kashmir</td>\\n      <td>60.76</td>\\n      <td>Mumbai</td>\\n      <td>79</td>\\n    </tr>\\n    <tr>\\n      <th>577</th>\\n      <td>578</td>\\n      <td>Bageshwar</td>\\n      <td>Uttarakhand</td>\\n      <td>80.01</td>\\n      <td>Mumbai</td>\\n      <td>80</td>\\n    </tr>\\n    <tr>\\n      <th>578</th>\\n      <td>579</td>\\n      <td>Champawat</td>\\n      <td>Uttarakhand</td>\\n      <td>79.83</td>\\n      <td>Mumbai</td>\\n      <td>79</td>\\n    </tr>\\n    <tr>\\n      <th>579</th>\\n      <td>580</td>\\n      <td>Ri Bhoi</td>\\n      <td>Meghalaya</td>\\n      <td>75.67</td>\\n      <td>Mumbai</td>\\n      <td>79</td>\\n    </tr>\\n    <tr>\\n      <th>580</th>\\n      <td>581</td>\\n      <td>Bijapur</td>\\n      <td>Chhattisgarh</td>\\n      <td>40.86</td>\\n      <td>Mumbai</td>\\n      <td>79</td>\\n    </tr>\\n    <tr>\\n      <th>581</th>\\n      <td>582</td>\\n      <td>Mon</td>\\n      <td>Nagaland</td>\\n      <td>56.99</td>\\n      <td>Mumbai</td>\\n      <td>79</td>\\n    </tr>\\n    <tr>\\n      <th>582</th>\\n      <td>583</td>\\n      <td>Rudraprayag</td>\\n      <td>Uttarakhand</td>\\n      <td>81.30</td>\\n      <td>Mumbai</td>\\n      <td>80</td>\\n    </tr>\\n    <tr>\\n      <th>583</th>\\n      <td>584</td>\\n      <td>South Andaman</td>\\n      <td>Andaman And Nicobar Islands</td>\\n      <td>89.13</td>\\n      <td>Mumbai</td>\\n      <td>80</td>\\n    </tr>\\n    <tr>\\n      <th>584</th>\\n      <td>585</td>\\n      <td>Bishnupur</td>\\n      <td>Manipur</td>\\n      <td>75.85</td>\\n      <td>Mumbai</td>\\n      <td>79</td>\\n    </tr>\\n    <tr>\\n      <th>585</th>\\n      <td>586</td>\\n      <td>Kishtwar</td>\\n      <td>Jammu and Kashmir</td>\\n      <td>56.20</td>\\n      <td>Mumbai</td>\\n      <td>79</td>\\n    </tr>\\n    <tr>\\n      <th>586</th>\\n      <td>587</td>\\n      <td>The Dangs</td>\\n      <td>Gujarat</td>\\n      <td>75.16</td>\\n      <td>Mumbai</td>\\n      <td>79</td>\\n    </tr>\\n    <tr>\\n      <th>587</th>\\n      <td>588</td>\\n      <td>Dima Hasao</td>\\n      <td>Assam</td>\\n      <td>77.54</td>\\n      <td>Mumbai</td>\\n      <td>79</td>\\n    </tr>\\n    <tr>\\n      <th>588</th>\\n      <td>589</td>\\n      <td>Karaikal</td>\\n      <td>Puducherry</td>\\n      <td>87.05</td>\\n      <td>Mumbai</td>\\n      <td>80</td>\\n    </tr>\\n    <tr>\\n      <th>589</th>\\n      <td>590</td>\\n      <td>Tuensang</td>\\n      <td>Nagaland</td>\\n      <td>73.08</td>\\n      <td>Mumbai</td>\\n      <td>79</td>\\n    </tr>\\n    <tr>\\n      <th>590</th>\\n      <td>591</td>\\n      <td>Mokokchung</td>\\n      <td>Nagaland</td>\\n      <td>91.62</td>\\n      <td>Mumbai</td>\\n      <td>80</td>\\n    </tr>\\n    <tr>\\n      <th>591</th>\\n      <td>592</td>\\n      <td>Daman</td>\\n      <td>Daman and Diu</td>\\n      <td>88.07</td>\\n      <td>Mumbai</td>\\n      <td>80</td>\\n    </tr>\\n    <tr>\\n      <th>592</th>\\n      <td>593</td>\\n      <td>Ukhrul</td>\\n      <td>Manipur</td>\\n      <td>81.35</td>\\n      <td>Mumbai</td>\\n      <td>80</td>\\n    </tr>\\n    <tr>\\n      <th>593</th>\\n      <td>594</td>\\n      <td>Papumpare</td>\\n      <td>Arunachal Pradesh</td>\\n      <td>79.95</td>\\n      <td>Mumbai</td>\\n      <td>79</td>\\n    </tr>\\n    <tr>\\n      <th>594</th>\\n      <td>595</td>\\n      <td>Wokha</td>\\n      <td>Nagaland</td>\\n      <td>87.69</td>\\n      <td>Mumbai</td>\\n      <td>80</td>\\n    </tr>\\n    <tr>\\n      <th>595</th>\\n      <td>596</td>\\n      <td>Phek</td>\\n      <td>Nagaland</td>\\n      <td>78.05</td>\\n      <td>Mumbai</td>\\n      <td>79</td>\\n    </tr>\\n    <tr>\\n      <th>596</th>\\n      <td>597</td>\\n      <td>Lunglei</td>\\n      <td>Mizoram</td>\\n      <td>88.86</td>\\n      <td>Mumbai</td>\\n      <td>80</td>\\n    </tr>\\n    <tr>\\n      <th>597</th>\\n      <td>598</td>\\n      <td>Changlang</td>\\n      <td>Arunachal Pradesh</td>\\n      <td>59.80</td>\\n      <td>Mumbai</td>\\n      <td>79</td>\\n    </tr>\\n    <tr>\\n      <th>598</th>\\n      <td>599</td>\\n      <td>South Sikkim</td>\\n      <td>Sikkim</td>\\n      <td>81.42</td>\\n      <td>Mumbai</td>\\n      <td>80</td>\\n    </tr>\\n    <tr>\\n      <th>599</th>\\n      <td>600</td>\\n      <td>Lohit</td>\\n      <td>Arunachal Pradesh</td>\\n      <td>68.18</td>\\n      <td>Mumbai</td>\\n      <td>79</td>\\n    </tr>\\n    <tr>\\n      <th>600</th>\\n      <td>601</td>\\n      <td>Chandel</td>\\n      <td>Manipur</td>\\n      <td>71.11</td>\\n      <td>Mumbai</td>\\n      <td>79</td>\\n    </tr>\\n    <tr>\\n      <th>601</th>\\n      <td>602</td>\\n      <td>South Garo Hills</td>\\n      <td>Meghalaya</td>\\n      <td>71.72</td>\\n      <td>Mumbai</td>\\n      <td>79</td>\\n    </tr>\\n    <tr>\\n      <th>602</th>\\n      <td>603</td>\\n      <td>New Delhi</td>\\n      <td>Delhi</td>\\n      <td>88.34</td>\\n      <td>Mumbai</td>\\n      <td>80</td>\\n    </tr>\\n    <tr>\\n      <th>603</th>\\n      <td>604</td>\\n      <td>Kargil</td>\\n      <td>Jammu and Kashmir</td>\\n      <td>71.34</td>\\n      <td>Mumbai</td>\\n      <td>79</td>\\n    </tr>\\n    <tr>\\n      <th>604</th>\\n      <td>605</td>\\n      <td>Zunheboto</td>\\n      <td>Nagaland</td>\\n      <td>85.26</td>\\n      <td>Mumbai</td>\\n      <td>80</td>\\n    </tr>\\n    <tr>\\n      <th>605</th>\\n      <td>606</td>\\n      <td>Tamenglong</td>\\n      <td>Manipur</td>\\n      <td>70.05</td>\\n      <td>Mumbai</td>\\n      <td>79</td>\\n    </tr>\\n    <tr>\\n      <th>606</th>\\n      <td>607</td>\\n      <td>Narayanpur</td>\\n      <td>Chhattisgarh</td>\\n      <td>48.62</td>\\n      <td>Mumbai</td>\\n      <td>79</td>\\n    </tr>\\n    <tr>\\n      <th>607</th>\\n      <td>608</td>\\n      <td>West Sikkim</td>\\n      <td>Sikkim</td>\\n      <td>77.39</td>\\n      <td>Mumbai</td>\\n      <td>79</td>\\n    </tr>\\n    <tr>\\n      <th>608</th>\\n      <td>609</td>\\n      <td>Leh</td>\\n      <td>Jammu and Kashmir</td>\\n      <td>77.20</td>\\n      <td>Mumbai</td>\\n      <td>79</td>\\n    </tr>\\n    <tr>\\n      <th>609</th>\\n      <td>610</td>\\n      <td>Champhai</td>\\n      <td>Mizoram</td>\\n      <td>95.91</td>\\n      <td>Mumbai</td>\\n      <td>80</td>\\n    </tr>\\n    <tr>\\n      <th>610</th>\\n      <td>611</td>\\n      <td>Lawngtlai</td>\\n      <td>Mizoram</td>\\n      <td>65.88</td>\\n      <td>Mumbai</td>\\n      <td>79</td>\\n    </tr>\\n    <tr>\\n      <th>611</th>\\n      <td>612</td>\\n      <td>West Siang</td>\\n      <td>Arunachal Pradesh</td>\\n      <td>66.46</td>\\n      <td>Mumbai</td>\\n      <td>79</td>\\n    </tr>\\n    <tr>\\n      <th>612</th>\\n      <td>613</td>\\n      <td>Tirap</td>\\n      <td>Arunachal Pradesh</td>\\n      <td>52.19</td>\\n      <td>Mumbai</td>\\n      <td>79</td>\\n    </tr>\\n    <tr>\\n      <th>613</th>\\n      <td>614</td>\\n      <td>North And Middle Andaman</td>\\n      <td>Andaman And Nicobar Islands</td>\\n      <td>83.91</td>\\n      <td>Mumbai</td>\\n      <td>80</td>\\n    </tr>\\n    <tr>\\n      <th>614</th>\\n      <td>615</td>\\n      <td>East Siang</td>\\n      <td>Arunachal Pradesh</td>\\n      <td>72.54</td>\\n      <td>Mumbai</td>\\n      <td>79</td>\\n    </tr>\\n    <tr>\\n      <th>615</th>\\n      <td>616</td>\\n      <td>Peren</td>\\n      <td>Nagaland</td>\\n      <td>77.95</td>\\n      <td>Mumbai</td>\\n      <td>79</td>\\n    </tr>\\n    <tr>\\n      <th>616</th>\\n      <td>617</td>\\n      <td>Kurung Kumey</td>\\n      <td>Arunachal Pradesh</td>\\n      <td>48.75</td>\\n      <td>Mumbai</td>\\n      <td>79</td>\\n    </tr>\\n    <tr>\\n      <th>617</th>\\n      <td>618</td>\\n      <td>Mamit</td>\\n      <td>Mizoram</td>\\n      <td>84.93</td>\\n      <td>Mumbai</td>\\n      <td>80</td>\\n    </tr>\\n    <tr>\\n      <th>618</th>\\n      <td>619</td>\\n      <td>Kinnaur</td>\\n      <td>Himachal Pradesh</td>\\n      <td>80.00</td>\\n      <td>Mumbai</td>\\n      <td>79</td>\\n    </tr>\\n    <tr>\\n      <th>619</th>\\n      <td>620</td>\\n      <td>Kolasib</td>\\n      <td>Mizoram</td>\\n      <td>93.50</td>\\n      <td>Mumbai</td>\\n      <td>80</td>\\n    </tr>\\n    <tr>\\n      <th>620</th>\\n      <td>621</td>\\n      <td>West Kameng</td>\\n      <td>Arunachal Pradesh</td>\\n      <td>67.07</td>\\n      <td>Mumbai</td>\\n      <td>79</td>\\n    </tr>\\n    <tr>\\n      <th>621</th>\\n      <td>622</td>\\n      <td>Upper Subansiri</td>\\n      <td>Arunachal Pradesh</td>\\n      <td>63.80</td>\\n      <td>Mumbai</td>\\n      <td>79</td>\\n    </tr>\\n    <tr>\\n      <th>622</th>\\n      <td>623</td>\\n      <td>Lower Subansiri</td>\\n      <td>Arunachal Pradesh</td>\\n      <td>74.35</td>\\n      <td>Mumbai</td>\\n      <td>79</td>\\n    </tr>\\n    <tr>\\n      <th>623</th>\\n      <td>624</td>\\n      <td>East Kameng</td>\\n      <td>Arunachal Pradesh</td>\\n      <td>60.02</td>\\n      <td>Mumbai</td>\\n      <td>79</td>\\n    </tr>\\n    <tr>\\n      <th>624</th>\\n      <td>625</td>\\n      <td>Kiphire</td>\\n      <td>Nagaland</td>\\n      <td>69.54</td>\\n      <td>Mumbai</td>\\n      <td>79</td>\\n    </tr>\\n    <tr>\\n      <th>625</th>\\n      <td>626</td>\\n      <td>Serchhip</td>\\n      <td>Mizoram</td>\\n      <td>97.91</td>\\n      <td>Mumbai</td>\\n      <td>80</td>\\n    </tr>\\n    <tr>\\n      <th>626</th>\\n      <td>627</td>\\n      <td>Lakshadweep</td>\\n      <td>Lakshadweep</td>\\n      <td>91.85</td>\\n      <td>Mumbai</td>\\n      <td>80</td>\\n    </tr>\\n    <tr>\\n      <th>627</th>\\n      <td>628</td>\\n      <td>Saiha</td>\\n      <td>Mizoram</td>\\n      <td>90.01</td>\\n      <td>Mumbai</td>\\n      <td>80</td>\\n    </tr>\\n    <tr>\\n      <th>628</th>\\n      <td>629</td>\\n      <td>Yanam</td>\\n      <td>Puducherry</td>\\n      <td>79.47</td>\\n      <td>Mumbai</td>\\n      <td>79</td>\\n    </tr>\\n    <tr>\\n      <th>629</th>\\n      <td>630</td>\\n      <td>Lower Dibang Valley</td>\\n      <td>Arunachal Pradesh</td>\\n      <td>69.13</td>\\n      <td>Mumbai</td>\\n      <td>79</td>\\n    </tr>\\n    <tr>\\n      <th>630</th>\\n      <td>631</td>\\n      <td>Diu</td>\\n      <td>Daman and Diu</td>\\n      <td>83.46</td>\\n      <td>Mumbai</td>\\n      <td>80</td>\\n    </tr>\\n    <tr>\\n      <th>631</th>\\n      <td>632</td>\\n      <td>Longleng</td>\\n      <td>Nagaland</td>\\n      <td>72.17</td>\\n      <td>Mumbai</td>\\n      <td>79</td>\\n    </tr>\\n    <tr>\\n      <th>632</th>\\n      <td>633</td>\\n      <td>Tawang</td>\\n      <td>Arunachal Pradesh</td>\\n      <td>59.00</td>\\n      <td>Mumbai</td>\\n      <td>79</td>\\n    </tr>\\n    <tr>\\n      <th>633</th>\\n      <td>634</td>\\n      <td>North Sikkim</td>\\n      <td>Sikkim</td>\\n      <td>78.01</td>\\n      <td>Mumbai</td>\\n      <td>79</td>\\n    </tr>\\n    <tr>\\n      <th>634</th>\\n      <td>635</td>\\n      <td>Mahe</td>\\n      <td>Puducherry</td>\\n      <td>97.87</td>\\n      <td>Mumbai</td>\\n      <td>80</td>\\n    </tr>\\n    <tr>\\n      <th>635</th>\\n      <td>636</td>\\n      <td>Nicobars</td>\\n      <td>Andaman And Nicobar Islands</td>\\n      <td>78.06</td>\\n      <td>Mumbai</td>\\n      <td>79</td>\\n    </tr>\\n    <tr>\\n      <th>636</th>\\n      <td>637</td>\\n      <td>Upper Siang</td>\\n      <td>Arunachal Pradesh</td>\\n      <td>59.99</td>\\n      <td>Mumbai</td>\\n      <td>79</td>\\n    </tr>\\n    <tr>\\n      <th>637</th>\\n      <td>638</td>\\n      <td>Lahul and Spiti</td>\\n      <td>Himachal Pradesh</td>\\n      <td>76.81</td>\\n      <td>Mumbai</td>\\n      <td>79</td>\\n    </tr>\\n    <tr>\\n      <th>638</th>\\n      <td>639</td>\\n      <td>Anjaw</td>\\n      <td>Arunachal Pradesh</td>\\n      <td>56.46</td>\\n      <td>Mumbai</td>\\n      <td>79</td>\\n    </tr>\\n    <tr>\\n      <th>639</th>\\n      <td>640</td>\\n      <td>Dibang Valley</td>\\n      <td>Arunachal Pradesh</td>\\n      <td>64.10</td>\\n      <td>Mumbai</td>\\n      <td>79</td>\\n    </tr>\\n  </tbody>\\n</table>'"
            ]
          },
          "metadata": {},
          "execution_count": 63
        }
      ]
    },
    {
      "cell_type": "code",
      "metadata": {
        "id": "dnUV_NhirFdY"
      },
      "source": [
        "## to deletteth edataframe\n",
        "del df"
      ],
      "execution_count": 64,
      "outputs": []
    },
    {
      "cell_type": "markdown",
      "metadata": {
        "id": "kwKhl4newgDz"
      },
      "source": [
        "# Numpy function"
      ]
    },
    {
      "cell_type": "code",
      "metadata": {
        "id": "xHijjUeFrDdK"
      },
      "source": [
        "import numpy as np\n"
      ],
      "execution_count": 65,
      "outputs": []
    },
    {
      "cell_type": "code",
      "metadata": {
        "id": "pICra0jCwmKb"
      },
      "source": [
        "list1=np.random.rand(10)\n",
        "list2=np.random.rand(10)"
      ],
      "execution_count": 66,
      "outputs": []
    },
    {
      "cell_type": "code",
      "metadata": {
        "colab": {
          "base_uri": "https://localhost:8080/"
        },
        "id": "PB-J-HKbwtXf",
        "outputId": "c0a31163-411c-42c7-f9dd-9cec97000be0"
      },
      "source": [
        "list1"
      ],
      "execution_count": 67,
      "outputs": [
        {
          "output_type": "execute_result",
          "data": {
            "text/plain": [
              "array([0.60583851, 0.83520714, 0.2701934 , 0.62058241, 0.52651967,\n",
              "       0.60392741, 0.67684651, 0.8192405 , 0.93370247, 0.06426275])"
            ]
          },
          "metadata": {},
          "execution_count": 67
        }
      ]
    },
    {
      "cell_type": "code",
      "metadata": {
        "colab": {
          "base_uri": "https://localhost:8080/"
        },
        "id": "fvSDjvyfwuBj",
        "outputId": "759d86d3-5dbe-4722-f7b0-6bca46b4e06b"
      },
      "source": [
        "list2"
      ],
      "execution_count": 68,
      "outputs": [
        {
          "output_type": "execute_result",
          "data": {
            "text/plain": [
              "array([0.37508149, 0.56266707, 0.3675737 , 0.5009613 , 0.89147726,\n",
              "       0.11176021, 0.79551778, 0.63425714, 0.83243295, 0.71754074])"
            ]
          },
          "metadata": {},
          "execution_count": 68
        }
      ]
    },
    {
      "cell_type": "markdown",
      "metadata": {
        "id": "yNusHiPPwwvV"
      },
      "source": [
        "## 1. Create"
      ]
    },
    {
      "cell_type": "code",
      "metadata": {
        "id": "OH6PYXfBw0MD"
      },
      "source": [
        "data=np.random.rand(2,3,4)"
      ],
      "execution_count": 70,
      "outputs": []
    },
    {
      "cell_type": "code",
      "metadata": {
        "colab": {
          "base_uri": "https://localhost:8080/"
        },
        "id": "-JD6k5ESwurP",
        "outputId": "33f75a1d-e57c-42c8-e4fd-be1e16519cfa"
      },
      "source": [
        "data"
      ],
      "execution_count": 71,
      "outputs": [
        {
          "output_type": "execute_result",
          "data": {
            "text/plain": [
              "array([[[0.21840291, 0.86351229, 0.85644857, 0.8930216 ],\n",
              "        [0.26702758, 0.6206514 , 0.43385021, 0.20847685],\n",
              "        [0.50134084, 0.71526991, 0.52759412, 0.05874594]],\n",
              "\n",
              "       [[0.68260798, 0.47161758, 0.4244181 , 0.39687869],\n",
              "        [0.14606007, 0.71058743, 0.54339447, 0.56168861],\n",
              "        [0.96542284, 0.23154522, 0.44767192, 0.96055106]]])"
            ]
          },
          "metadata": {},
          "execution_count": 71
        }
      ]
    },
    {
      "cell_type": "markdown",
      "metadata": {
        "id": "ri9_y0RtzPxm"
      },
      "source": [
        "## Slicing"
      ]
    },
    {
      "cell_type": "code",
      "metadata": {
        "colab": {
          "base_uri": "https://localhost:8080/"
        },
        "id": "V6EXjJKGxAYJ",
        "outputId": "311aebd3-d224-40bc-8e57-71b8569d7bcf"
      },
      "source": [
        "data[0][:2]"
      ],
      "execution_count": 77,
      "outputs": [
        {
          "output_type": "execute_result",
          "data": {
            "text/plain": [
              "array([[0.21840291, 0.86351229, 0.85644857, 0.8930216 ],\n",
              "       [0.26702758, 0.6206514 , 0.43385021, 0.20847685]])"
            ]
          },
          "metadata": {},
          "execution_count": 77
        }
      ]
    },
    {
      "cell_type": "code",
      "metadata": {
        "colab": {
          "base_uri": "https://localhost:8080/"
        },
        "id": "hsjJX_NmxFvR",
        "outputId": "ec634c74-10c6-41e6-d24f-29a0ffd4e859"
      },
      "source": [
        "data[0][:2][-1]"
      ],
      "execution_count": 78,
      "outputs": [
        {
          "output_type": "execute_result",
          "data": {
            "text/plain": [
              "array([0.26702758, 0.6206514 , 0.43385021, 0.20847685])"
            ]
          },
          "metadata": {},
          "execution_count": 78
        }
      ]
    },
    {
      "cell_type": "code",
      "metadata": {
        "colab": {
          "base_uri": "https://localhost:8080/"
        },
        "id": "eMFo--GWxmbO",
        "outputId": "bdf21cb8-2110-4ba3-8511-1642219c23c0"
      },
      "source": [
        "data[:][1][1]"
      ],
      "execution_count": 82,
      "outputs": [
        {
          "output_type": "execute_result",
          "data": {
            "text/plain": [
              "array([0.14606007, 0.71058743, 0.54339447, 0.56168861])"
            ]
          },
          "metadata": {},
          "execution_count": 82
        }
      ]
    },
    {
      "cell_type": "code",
      "metadata": {
        "colab": {
          "base_uri": "https://localhost:8080/"
        },
        "id": "hoZv-ZZ9xxQq",
        "outputId": "b8db9f47-e8e7-4b64-d12c-0832f0144397"
      },
      "source": [
        "data[1][1]"
      ],
      "execution_count": 83,
      "outputs": [
        {
          "output_type": "execute_result",
          "data": {
            "text/plain": [
              "array([0.14606007, 0.71058743, 0.54339447, 0.56168861])"
            ]
          },
          "metadata": {},
          "execution_count": 83
        }
      ]
    },
    {
      "cell_type": "code",
      "metadata": {
        "id": "2h1FIqPvx9TK"
      },
      "source": [
        "zeroes=np.zeros((2,3,4))"
      ],
      "execution_count": 85,
      "outputs": []
    },
    {
      "cell_type": "code",
      "metadata": {
        "colab": {
          "base_uri": "https://localhost:8080/"
        },
        "id": "Jmpeb3ePyGsL",
        "outputId": "630be3ea-29c4-4d5c-e598-d34cf0a364de"
      },
      "source": [
        "zeroes"
      ],
      "execution_count": 86,
      "outputs": [
        {
          "output_type": "execute_result",
          "data": {
            "text/plain": [
              "array([[[0., 0., 0., 0.],\n",
              "        [0., 0., 0., 0.],\n",
              "        [0., 0., 0., 0.]],\n",
              "\n",
              "       [[0., 0., 0., 0.],\n",
              "        [0., 0., 0., 0.],\n",
              "        [0., 0., 0., 0.]]])"
            ]
          },
          "metadata": {},
          "execution_count": 86
        }
      ]
    },
    {
      "cell_type": "code",
      "metadata": {
        "id": "IpI7pLNHyKbb"
      },
      "source": [
        "full=np.full((2,2,2),7)"
      ],
      "execution_count": 87,
      "outputs": []
    },
    {
      "cell_type": "code",
      "metadata": {
        "colab": {
          "base_uri": "https://localhost:8080/"
        },
        "id": "5pMKB_xuyODp",
        "outputId": "e96eeef4-168f-4a91-8435-136a04145bbf"
      },
      "source": [
        "full"
      ],
      "execution_count": 88,
      "outputs": [
        {
          "output_type": "execute_result",
          "data": {
            "text/plain": [
              "array([[[7, 7],\n",
              "        [7, 7]],\n",
              "\n",
              "       [[7, 7],\n",
              "        [7, 7]]])"
            ]
          },
          "metadata": {},
          "execution_count": 88
        }
      ]
    },
    {
      "cell_type": "code",
      "metadata": {
        "id": "00xRqK5LyPHK"
      },
      "source": [
        "one=np.ones((2,2,2))"
      ],
      "execution_count": 89,
      "outputs": []
    },
    {
      "cell_type": "code",
      "metadata": {
        "colab": {
          "base_uri": "https://localhost:8080/"
        },
        "id": "Et3zr7ityUIK",
        "outputId": "e7798103-2b5f-4d06-9213-7525a3af7b86"
      },
      "source": [
        "one"
      ],
      "execution_count": 90,
      "outputs": [
        {
          "output_type": "execute_result",
          "data": {
            "text/plain": [
              "array([[[1., 1.],\n",
              "        [1., 1.]],\n",
              "\n",
              "       [[1., 1.],\n",
              "        [1., 1.]]])"
            ]
          },
          "metadata": {},
          "execution_count": 90
        }
      ]
    },
    {
      "cell_type": "code",
      "metadata": {
        "id": "NET3ijfiyVNU"
      },
      "source": [
        "## create and array in numpy \n",
        "arr=np.array([[1,2,3,4],[2,3,4,5]])"
      ],
      "execution_count": 91,
      "outputs": []
    },
    {
      "cell_type": "code",
      "metadata": {
        "colab": {
          "base_uri": "https://localhost:8080/"
        },
        "id": "OpLKv0N9ym7E",
        "outputId": "38c03f16-f699-4ab8-a2d6-4c581f2529f4"
      },
      "source": [
        "arr"
      ],
      "execution_count": 92,
      "outputs": [
        {
          "output_type": "execute_result",
          "data": {
            "text/plain": [
              "array([[1, 2, 3, 4],\n",
              "       [2, 3, 4, 5]])"
            ]
          },
          "metadata": {},
          "execution_count": 92
        }
      ]
    },
    {
      "cell_type": "code",
      "metadata": {
        "id": "QfPL4X32ynio"
      },
      "source": [
        "size=np.size(arr)"
      ],
      "execution_count": 93,
      "outputs": []
    },
    {
      "cell_type": "code",
      "metadata": {
        "colab": {
          "base_uri": "https://localhost:8080/"
        },
        "id": "A1fjT5KJysom",
        "outputId": "d2f2fa61-233b-436a-c322-50e531a4b300"
      },
      "source": [
        "size\n"
      ],
      "execution_count": 94,
      "outputs": [
        {
          "output_type": "execute_result",
          "data": {
            "text/plain": [
              "8"
            ]
          },
          "metadata": {},
          "execution_count": 94
        }
      ]
    },
    {
      "cell_type": "code",
      "metadata": {
        "colab": {
          "base_uri": "https://localhost:8080/"
        },
        "id": "VZKUpb6Ayt5-",
        "outputId": "6acfb864-7ef4-4540-de23-c05274b69c94"
      },
      "source": [
        "arr.shape"
      ],
      "execution_count": 99,
      "outputs": [
        {
          "output_type": "execute_result",
          "data": {
            "text/plain": [
              "(2, 4)"
            ]
          },
          "metadata": {},
          "execution_count": 99
        }
      ]
    },
    {
      "cell_type": "code",
      "metadata": {
        "colab": {
          "base_uri": "https://localhost:8080/"
        },
        "id": "_N1jIGSqy38A",
        "outputId": "d8aad905-e3d9-45af-f697-89ed626a1301"
      },
      "source": [
        "arr.size\n"
      ],
      "execution_count": 100,
      "outputs": [
        {
          "output_type": "execute_result",
          "data": {
            "text/plain": [
              "8"
            ]
          },
          "metadata": {},
          "execution_count": 100
        }
      ]
    },
    {
      "cell_type": "code",
      "metadata": {
        "colab": {
          "base_uri": "https://localhost:8080/"
        },
        "id": "kqUA8LuAzBfq",
        "outputId": "14a7febd-651a-4fd8-e96e-e6613579b5cb"
      },
      "source": [
        "arr.dtype"
      ],
      "execution_count": 101,
      "outputs": [
        {
          "output_type": "execute_result",
          "data": {
            "text/plain": [
              "dtype('int64')"
            ]
          },
          "metadata": {},
          "execution_count": 101
        }
      ]
    },
    {
      "cell_type": "markdown",
      "metadata": {
        "id": "CGsAq4KczUO8"
      },
      "source": [
        "## Upadate"
      ]
    },
    {
      "cell_type": "code",
      "metadata": {
        "id": "t96RFrUpzCrr"
      },
      "source": [
        "add=np.add(list1,list2)\n",
        "sub=np.subtract(list1,list2)\n",
        "mul=np.multiply(list1,list2)\n",
        "div=np.divide(list1,list2)\n",
        "dot=np.dot(list1,list2)"
      ],
      "execution_count": 102,
      "outputs": []
    },
    {
      "cell_type": "code",
      "metadata": {
        "colab": {
          "base_uri": "https://localhost:8080/"
        },
        "id": "VUTuv3hKzoMm",
        "outputId": "7ace080a-82e9-4533-82d6-bde053df950c"
      },
      "source": [
        "add"
      ],
      "execution_count": 103,
      "outputs": [
        {
          "output_type": "execute_result",
          "data": {
            "text/plain": [
              "array([0.98092001, 1.39787421, 0.6377671 , 1.12154371, 1.41799693,\n",
              "       0.71568762, 1.47236429, 1.45349764, 1.76613543, 0.7818035 ])"
            ]
          },
          "metadata": {},
          "execution_count": 103
        }
      ]
    },
    {
      "cell_type": "code",
      "metadata": {
        "colab": {
          "base_uri": "https://localhost:8080/"
        },
        "id": "leNEly4uzo-W",
        "outputId": "a9317b4c-ffb2-4ef0-8b91-98490a4fc8d4"
      },
      "source": [
        "sub"
      ],
      "execution_count": 104,
      "outputs": [
        {
          "output_type": "execute_result",
          "data": {
            "text/plain": [
              "array([ 0.23075702,  0.27254008, -0.0973803 ,  0.11962111, -0.36495759,\n",
              "        0.4921672 , -0.11867127,  0.18498336,  0.10126952, -0.65327799])"
            ]
          },
          "metadata": {},
          "execution_count": 104
        }
      ]
    },
    {
      "cell_type": "code",
      "metadata": {
        "colab": {
          "base_uri": "https://localhost:8080/"
        },
        "id": "mnsUJJ7fzpm_",
        "outputId": "a326e146-f7fe-4508-aa51-ce6e2b3e8dd3"
      },
      "source": [
        "mul\n"
      ],
      "execution_count": 105,
      "outputs": [
        {
          "output_type": "execute_result",
          "data": {
            "text/plain": [
              "array([0.22723881, 0.46994355, 0.09931599, 0.31088777, 0.46938031,\n",
              "       0.06749505, 0.53844343, 0.51960913, 0.77724471, 0.04611115])"
            ]
          },
          "metadata": {},
          "execution_count": 105
        }
      ]
    },
    {
      "cell_type": "code",
      "metadata": {
        "colab": {
          "base_uri": "https://localhost:8080/"
        },
        "id": "s_St2atqzqmD",
        "outputId": "3d95d999-a1ae-4aab-de7c-b2015be33880"
      },
      "source": [
        "div"
      ],
      "execution_count": 106,
      "outputs": [
        {
          "output_type": "execute_result",
          "data": {
            "text/plain": [
              "array([1.61521835, 1.48437183, 0.73507272, 1.23878313, 0.59061481,\n",
              "       5.40377832, 0.85082512, 1.29165357, 1.12165486, 0.08955973])"
            ]
          },
          "metadata": {},
          "execution_count": 106
        }
      ]
    },
    {
      "cell_type": "code",
      "metadata": {
        "colab": {
          "base_uri": "https://localhost:8080/"
        },
        "id": "eIYTbBMuzrN7",
        "outputId": "0303eca6-1ed8-4677-d3f8-cb900ce5df93"
      },
      "source": [
        "dot"
      ],
      "execution_count": 108,
      "outputs": [
        {
          "output_type": "execute_result",
          "data": {
            "text/plain": [
              "3.5256699104809996"
            ]
          },
          "metadata": {},
          "execution_count": 108
        }
      ]
    },
    {
      "cell_type": "markdown",
      "metadata": {
        "id": "8sORKlwEzy6_"
      },
      "source": [
        "## Now lets look at the statistics function \n",
        "\n",
        "# best way to lear saplim"
      ]
    },
    {
      "cell_type": "code",
      "metadata": {
        "id": "1TAPv6eQzsBY"
      },
      "source": [
        "sqrt=np.sqrt(25)"
      ],
      "execution_count": 109,
      "outputs": []
    },
    {
      "cell_type": "code",
      "metadata": {
        "colab": {
          "base_uri": "https://localhost:8080/"
        },
        "id": "DspEpFad0DRE",
        "outputId": "93fd81c8-e302-41d9-a1ba-7d76ba953f1c"
      },
      "source": [
        "sqrt"
      ],
      "execution_count": 110,
      "outputs": [
        {
          "output_type": "execute_result",
          "data": {
            "text/plain": [
              "5.0"
            ]
          },
          "metadata": {},
          "execution_count": 110
        }
      ]
    },
    {
      "cell_type": "code",
      "metadata": {
        "id": "pSQWtcQE0EDz"
      },
      "source": [
        "ab=np.abs(-2)\n",
        "exp=np.power(2,3)"
      ],
      "execution_count": 112,
      "outputs": []
    },
    {
      "cell_type": "code",
      "metadata": {
        "colab": {
          "base_uri": "https://localhost:8080/"
        },
        "id": "xDI_lfOM0NSo",
        "outputId": "bf3e0609-1d21-4af9-c366-906bad5896c5"
      },
      "source": [
        "exp"
      ],
      "execution_count": 113,
      "outputs": [
        {
          "output_type": "execute_result",
          "data": {
            "text/plain": [
              "8"
            ]
          },
          "metadata": {},
          "execution_count": 113
        }
      ]
    },
    {
      "cell_type": "code",
      "metadata": {
        "id": "F_nEEt6G0Pbf"
      },
      "source": [
        " log=np.log(56)"
      ],
      "execution_count": 114,
      "outputs": []
    },
    {
      "cell_type": "code",
      "metadata": {
        "colab": {
          "base_uri": "https://localhost:8080/"
        },
        "id": "74ygUW_Q0Unz",
        "outputId": "d227a3f7-b77e-4785-bb53-bbfc2b2c1cc7"
      },
      "source": [
        "log"
      ],
      "execution_count": 115,
      "outputs": [
        {
          "output_type": "execute_result",
          "data": {
            "text/plain": [
              "4.02535169073515"
            ]
          },
          "metadata": {},
          "execution_count": 115
        }
      ]
    },
    {
      "cell_type": "code",
      "metadata": {
        "id": "g1iK7qAO0VVf"
      },
      "source": [
        "exp=np.exp([10,7])"
      ],
      "execution_count": 117,
      "outputs": []
    },
    {
      "cell_type": "code",
      "metadata": {
        "colab": {
          "base_uri": "https://localhost:8080/"
        },
        "id": "yZW9xhbW0Y9z",
        "outputId": "1a1c402b-6d6d-4633-accc-acca806df6a7"
      },
      "source": [
        "exp"
      ],
      "execution_count": 118,
      "outputs": [
        {
          "output_type": "execute_result",
          "data": {
            "text/plain": [
              "array([22026.46579481,  1096.63315843])"
            ]
          },
          "metadata": {},
          "execution_count": 118
        }
      ]
    },
    {
      "cell_type": "code",
      "metadata": {
        "id": "QrkMnC-q0deH"
      },
      "source": [
        "min=np.min(list1)"
      ],
      "execution_count": 119,
      "outputs": []
    },
    {
      "cell_type": "code",
      "metadata": {
        "id": "BNpZ7mzX0iKK"
      },
      "source": [
        "max=np.max(list2)"
      ],
      "execution_count": 120,
      "outputs": []
    },
    {
      "cell_type": "code",
      "metadata": {
        "colab": {
          "base_uri": "https://localhost:8080/"
        },
        "id": "fldxGJ560ko0",
        "outputId": "77a613f6-bd57-4091-dbe2-b3ec48276421"
      },
      "source": [
        "min,max"
      ],
      "execution_count": 121,
      "outputs": [
        {
          "output_type": "execute_result",
          "data": {
            "text/plain": [
              "(0.06426275495812306, 0.8914772612536496)"
            ]
          },
          "metadata": {},
          "execution_count": 121
        }
      ]
    },
    {
      "cell_type": "markdown",
      "metadata": {
        "id": "lPi1WGw50r_8"
      },
      "source": [
        "## Update value in array"
      ]
    },
    {
      "cell_type": "code",
      "metadata": {
        "colab": {
          "base_uri": "https://localhost:8080/"
        },
        "id": "qC87VV_W0mAf",
        "outputId": "842013ab-91ae-42db-d299-a0a3089cd3bf"
      },
      "source": [
        "data"
      ],
      "execution_count": 122,
      "outputs": [
        {
          "output_type": "execute_result",
          "data": {
            "text/plain": [
              "array([[[0.21840291, 0.86351229, 0.85644857, 0.8930216 ],\n",
              "        [0.26702758, 0.6206514 , 0.43385021, 0.20847685],\n",
              "        [0.50134084, 0.71526991, 0.52759412, 0.05874594]],\n",
              "\n",
              "       [[0.68260798, 0.47161758, 0.4244181 , 0.39687869],\n",
              "        [0.14606007, 0.71058743, 0.54339447, 0.56168861],\n",
              "        [0.96542284, 0.23154522, 0.44767192, 0.96055106]]])"
            ]
          },
          "metadata": {},
          "execution_count": 122
        }
      ]
    },
    {
      "cell_type": "code",
      "metadata": {
        "id": "rNGyO6b901jq"
      },
      "source": [
        "data[0][0][0]=100"
      ],
      "execution_count": 123,
      "outputs": []
    },
    {
      "cell_type": "code",
      "metadata": {
        "colab": {
          "base_uri": "https://localhost:8080/"
        },
        "id": "qGWuW8B507Lj",
        "outputId": "4bd16302-e565-45f6-8de3-ebb15a57b096"
      },
      "source": [
        "data"
      ],
      "execution_count": 124,
      "outputs": [
        {
          "output_type": "execute_result",
          "data": {
            "text/plain": [
              "array([[[1.00000000e+02, 8.63512294e-01, 8.56448567e-01, 8.93021600e-01],\n",
              "        [2.67027577e-01, 6.20651401e-01, 4.33850212e-01, 2.08476852e-01],\n",
              "        [5.01340837e-01, 7.15269914e-01, 5.27594121e-01, 5.87459414e-02]],\n",
              "\n",
              "       [[6.82607983e-01, 4.71617583e-01, 4.24418105e-01, 3.96878695e-01],\n",
              "        [1.46060069e-01, 7.10587430e-01, 5.43394466e-01, 5.61688615e-01],\n",
              "        [9.65422843e-01, 2.31545223e-01, 4.47671919e-01, 9.60551055e-01]]])"
            ]
          },
          "metadata": {},
          "execution_count": 124
        }
      ]
    },
    {
      "cell_type": "code",
      "metadata": {
        "id": "cULJYitW08e5"
      },
      "source": [
        "## Now we can use sort function\n",
        "data.sort()"
      ],
      "execution_count": 126,
      "outputs": []
    },
    {
      "cell_type": "code",
      "metadata": {
        "colab": {
          "base_uri": "https://localhost:8080/"
        },
        "id": "XluPE6Zd1AYo",
        "outputId": "f145dfa2-adca-4d3a-bb99-3fe2e2c53e34"
      },
      "source": [
        "data"
      ],
      "execution_count": 127,
      "outputs": [
        {
          "output_type": "execute_result",
          "data": {
            "text/plain": [
              "array([[[8.56448567e-01, 8.63512294e-01, 8.93021600e-01, 1.00000000e+02],\n",
              "        [2.08476852e-01, 2.67027577e-01, 4.33850212e-01, 6.20651401e-01],\n",
              "        [5.87459414e-02, 5.01340837e-01, 5.27594121e-01, 7.15269914e-01]],\n",
              "\n",
              "       [[3.96878695e-01, 4.24418105e-01, 4.71617583e-01, 6.82607983e-01],\n",
              "        [1.46060069e-01, 5.43394466e-01, 5.61688615e-01, 7.10587430e-01],\n",
              "        [2.31545223e-01, 4.47671919e-01, 9.60551055e-01, 9.65422843e-01]]])"
            ]
          },
          "metadata": {},
          "execution_count": 127
        }
      ]
    },
    {
      "cell_type": "markdown",
      "metadata": {
        "id": "JQDC2JiT1LUZ"
      },
      "source": [
        "### Reshape fucntion"
      ]
    },
    {
      "cell_type": "code",
      "metadata": {
        "colab": {
          "base_uri": "https://localhost:8080/"
        },
        "id": "eKZuOmXY1D9A",
        "outputId": "8a3e8acc-2054-400f-bb76-0fcec37c23db"
      },
      "source": [
        "data.shape "
      ],
      "execution_count": 128,
      "outputs": [
        {
          "output_type": "execute_result",
          "data": {
            "text/plain": [
              "(2, 3, 4)"
            ]
          },
          "metadata": {},
          "execution_count": 128
        }
      ]
    },
    {
      "cell_type": "code",
      "metadata": {
        "colab": {
          "base_uri": "https://localhost:8080/"
        },
        "id": "UFEb_8hr4hcZ",
        "outputId": "6ac73f69-76f9-408b-b10c-800a80b1f525"
      },
      "source": [
        "data.reshape((2,2,-1))"
      ],
      "execution_count": 129,
      "outputs": [
        {
          "output_type": "execute_result",
          "data": {
            "text/plain": [
              "array([[[8.56448567e-01, 8.63512294e-01, 8.93021600e-01, 1.00000000e+02,\n",
              "         2.08476852e-01, 2.67027577e-01],\n",
              "        [4.33850212e-01, 6.20651401e-01, 5.87459414e-02, 5.01340837e-01,\n",
              "         5.27594121e-01, 7.15269914e-01]],\n",
              "\n",
              "       [[3.96878695e-01, 4.24418105e-01, 4.71617583e-01, 6.82607983e-01,\n",
              "         1.46060069e-01, 5.43394466e-01],\n",
              "        [5.61688615e-01, 7.10587430e-01, 2.31545223e-01, 4.47671919e-01,\n",
              "         9.60551055e-01, 9.65422843e-01]]])"
            ]
          },
          "metadata": {},
          "execution_count": 129
        }
      ]
    },
    {
      "cell_type": "code",
      "metadata": {
        "id": "OhekXxCQ4kxP"
      },
      "source": [
        "## Lets add\n",
        "zeros=np.zeros((10))"
      ],
      "execution_count": 132,
      "outputs": []
    },
    {
      "cell_type": "code",
      "metadata": {
        "colab": {
          "base_uri": "https://localhost:8080/"
        },
        "id": "mpUYG9eO4sYj",
        "outputId": "d4f1fdf2-ba6b-43c2-bf27-9e588fca05af"
      },
      "source": [
        "zeros"
      ],
      "execution_count": 133,
      "outputs": [
        {
          "output_type": "execute_result",
          "data": {
            "text/plain": [
              "array([0., 0., 0., 0., 0., 0., 0., 0., 0., 0.])"
            ]
          },
          "metadata": {},
          "execution_count": 133
        }
      ]
    },
    {
      "cell_type": "code",
      "metadata": {
        "id": "cEJQxJAd4tdn"
      },
      "source": [
        "zeroes=np.append(zeros,np.random.rand(12)) ## 2 specify the position and 100 specify the "
      ],
      "execution_count": 136,
      "outputs": []
    },
    {
      "cell_type": "markdown",
      "metadata": {
        "id": "cKUeG0g-5JgJ"
      },
      "source": [
        "### to include some values in array"
      ]
    },
    {
      "cell_type": "code",
      "metadata": {
        "colab": {
          "base_uri": "https://localhost:8080/"
        },
        "id": "UxX-soPy46nQ",
        "outputId": "6198c866-e27c-41b9-8c84-16b7aaec731b"
      },
      "source": [
        "zeroes"
      ],
      "execution_count": 137,
      "outputs": [
        {
          "output_type": "execute_result",
          "data": {
            "text/plain": [
              "array([0.        , 0.        , 0.        , 0.        , 0.        ,\n",
              "       0.        , 0.        , 0.        , 0.        , 0.        ,\n",
              "       0.55705897, 0.52773408, 0.72209513, 0.44983357, 0.82524997,\n",
              "       0.28876315, 0.23663663, 0.78085443, 0.2367889 , 0.5973722 ,\n",
              "       0.11687208, 0.4383655 ])"
            ]
          },
          "metadata": {},
          "execution_count": 137
        }
      ]
    },
    {
      "cell_type": "markdown",
      "metadata": {
        "id": "CJq0SSb65I_-"
      },
      "source": [
        "### Now to insert the values in teh specific places we have the to use `insert method of numpy`"
      ]
    },
    {
      "cell_type": "code",
      "metadata": {
        "id": "iwSwZTvg4_Jo"
      },
      "source": [
        "## inserting the 1000 in 2 place\n",
        "insert=np.insert(zeroes,2,1000)"
      ],
      "execution_count": 138,
      "outputs": []
    },
    {
      "cell_type": "code",
      "metadata": {
        "colab": {
          "base_uri": "https://localhost:8080/"
        },
        "id": "DQDI6O2v56C2",
        "outputId": "70b6359d-836b-4284-f8fe-95adb773a232"
      },
      "source": [
        "insert"
      ],
      "execution_count": 139,
      "outputs": [
        {
          "output_type": "execute_result",
          "data": {
            "text/plain": [
              "array([0.00000000e+00, 0.00000000e+00, 1.00000000e+03, 0.00000000e+00,\n",
              "       0.00000000e+00, 0.00000000e+00, 0.00000000e+00, 0.00000000e+00,\n",
              "       0.00000000e+00, 0.00000000e+00, 0.00000000e+00, 5.57058967e-01,\n",
              "       5.27734076e-01, 7.22095127e-01, 4.49833570e-01, 8.25249967e-01,\n",
              "       2.88763146e-01, 2.36636634e-01, 7.80854432e-01, 2.36788904e-01,\n",
              "       5.97372198e-01, 1.16872080e-01, 4.38365500e-01])"
            ]
          },
          "metadata": {},
          "execution_count": 139
        }
      ]
    },
    {
      "cell_type": "markdown",
      "metadata": {
        "id": "gYy7klUk6BUP"
      },
      "source": [
        "## Delete"
      ]
    },
    {
      "cell_type": "code",
      "metadata": {
        "colab": {
          "base_uri": "https://localhost:8080/"
        },
        "id": "0_JfSxs057CM",
        "outputId": "51efc794-5574-4cf6-e6fa-820852fd7625"
      },
      "source": [
        "data"
      ],
      "execution_count": 140,
      "outputs": [
        {
          "output_type": "execute_result",
          "data": {
            "text/plain": [
              "array([[[8.56448567e-01, 8.63512294e-01, 8.93021600e-01, 1.00000000e+02],\n",
              "        [2.08476852e-01, 2.67027577e-01, 4.33850212e-01, 6.20651401e-01],\n",
              "        [5.87459414e-02, 5.01340837e-01, 5.27594121e-01, 7.15269914e-01]],\n",
              "\n",
              "       [[3.96878695e-01, 4.24418105e-01, 4.71617583e-01, 6.82607983e-01],\n",
              "        [1.46060069e-01, 5.43394466e-01, 5.61688615e-01, 7.10587430e-01],\n",
              "        [2.31545223e-01, 4.47671919e-01, 9.60551055e-01, 9.65422843e-01]]])"
            ]
          },
          "metadata": {},
          "execution_count": 140
        }
      ]
    },
    {
      "cell_type": "code",
      "metadata": {
        "colab": {
          "base_uri": "https://localhost:8080/"
        },
        "id": "Q52VU2Uh6INa",
        "outputId": "a95681e7-3c21-4f31-fb6b-bfd3f1aa0abf"
      },
      "source": [
        "np.delete(data,0,axis=1)"
      ],
      "execution_count": 141,
      "outputs": [
        {
          "output_type": "execute_result",
          "data": {
            "text/plain": [
              "array([[[0.20847685, 0.26702758, 0.43385021, 0.6206514 ],\n",
              "        [0.05874594, 0.50134084, 0.52759412, 0.71526991]],\n",
              "\n",
              "       [[0.14606007, 0.54339447, 0.56168861, 0.71058743],\n",
              "        [0.23154522, 0.44767192, 0.96055106, 0.96542284]]])"
            ]
          },
          "metadata": {},
          "execution_count": 141
        }
      ]
    },
    {
      "cell_type": "code",
      "metadata": {
        "colab": {
          "base_uri": "https://localhost:8080/"
        },
        "id": "sHMdp_0x6RgO",
        "outputId": "dcc39b15-7f60-41f0-cdc6-71bc198f1744"
      },
      "source": [
        "data"
      ],
      "execution_count": 142,
      "outputs": [
        {
          "output_type": "execute_result",
          "data": {
            "text/plain": [
              "array([[[8.56448567e-01, 8.63512294e-01, 8.93021600e-01, 1.00000000e+02],\n",
              "        [2.08476852e-01, 2.67027577e-01, 4.33850212e-01, 6.20651401e-01],\n",
              "        [5.87459414e-02, 5.01340837e-01, 5.27594121e-01, 7.15269914e-01]],\n",
              "\n",
              "       [[3.96878695e-01, 4.24418105e-01, 4.71617583e-01, 6.82607983e-01],\n",
              "        [1.46060069e-01, 5.43394466e-01, 5.61688615e-01, 7.10587430e-01],\n",
              "        [2.31545223e-01, 4.47671919e-01, 9.60551055e-01, 9.65422843e-01]]])"
            ]
          },
          "metadata": {},
          "execution_count": 142
        }
      ]
    },
    {
      "cell_type": "markdown",
      "metadata": {
        "id": "Rg2QNMbj6aJe"
      },
      "source": [
        "## Now to save this fucntion we have "
      ]
    },
    {
      "cell_type": "code",
      "metadata": {
        "id": "O7289SEj6SqC"
      },
      "source": [
        "np.save('newtext.np',data)"
      ],
      "execution_count": 143,
      "outputs": []
    },
    {
      "cell_type": "markdown",
      "metadata": {
        "id": "xERDCvhU7MJX"
      },
      "source": [
        "### Now to reload the file we have "
      ]
    },
    {
      "cell_type": "code",
      "metadata": {
        "id": "KAlYPULg7HsN"
      },
      "source": [
        "data1=np.load('newtext.np.npy')"
      ],
      "execution_count": 146,
      "outputs": []
    },
    {
      "cell_type": "code",
      "metadata": {
        "colab": {
          "base_uri": "https://localhost:8080/"
        },
        "id": "cEg3UWDf7ZNd",
        "outputId": "3ad3d97f-6ac9-4c5f-84bc-ba5c6557a198"
      },
      "source": [
        "data1"
      ],
      "execution_count": 147,
      "outputs": [
        {
          "output_type": "execute_result",
          "data": {
            "text/plain": [
              "array([[[8.56448567e-01, 8.63512294e-01, 8.93021600e-01, 1.00000000e+02],\n",
              "        [2.08476852e-01, 2.67027577e-01, 4.33850212e-01, 6.20651401e-01],\n",
              "        [5.87459414e-02, 5.01340837e-01, 5.27594121e-01, 7.15269914e-01]],\n",
              "\n",
              "       [[3.96878695e-01, 4.24418105e-01, 4.71617583e-01, 6.82607983e-01],\n",
              "        [1.46060069e-01, 5.43394466e-01, 5.61688615e-01, 7.10587430e-01],\n",
              "        [2.31545223e-01, 4.47671919e-01, 9.60551055e-01, 9.65422843e-01]]])"
            ]
          },
          "metadata": {},
          "execution_count": 147
        }
      ]
    },
    {
      "cell_type": "code",
      "metadata": {
        "colab": {
          "base_uri": "https://localhost:8080/",
          "height": 104
        },
        "id": "_o8474WN7fJw",
        "outputId": "bae08b49-a1eb-4dfe-b886-f8726c176638"
      },
      "source": [
        "jovian.commit(project='pandas-numpy-basics-for-datascience',outputs='newtext.np.npy')"
      ],
      "execution_count": 149,
      "outputs": [
        {
          "output_type": "stream",
          "text": [
            "[jovian] Detected Colab notebook...\u001b[0m\n",
            "[jovian] Uploading colab notebook to Jovian...\u001b[0m\n",
            "[jovian] Uploading additional outputs...\u001b[0m\n",
            "Committed successfully! https://jovian.ai/akkikadwe/pandas-numpy-basics-for-datascience\n"
          ],
          "name": "stdout"
        },
        {
          "output_type": "execute_result",
          "data": {
            "application/vnd.google.colaboratory.intrinsic+json": {
              "type": "string"
            },
            "text/plain": [
              "'https://jovian.ai/akkikadwe/pandas-numpy-basics-for-datascience'"
            ]
          },
          "metadata": {},
          "execution_count": 149
        }
      ]
    },
    {
      "cell_type": "code",
      "metadata": {
        "id": "xA_zawXD-sCa"
      },
      "source": [
        ""
      ],
      "execution_count": null,
      "outputs": []
    }
  ]
}